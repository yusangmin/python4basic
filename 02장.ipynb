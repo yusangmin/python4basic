{
  "nbformat": 4,
  "nbformat_minor": 0,
  "metadata": {
    "colab": {
      "provenance": [],
      "authorship_tag": "ABX9TyM1r07bqMPgdWZ+aO5XgCcu"
    },
    "kernelspec": {
      "name": "python3",
      "display_name": "Python 3"
    },
    "language_info": {
      "name": "python"
    }
  },
  "cells": [
    {
      "cell_type": "markdown",
      "source": [
        "<table align=\"left\"><tr><td>\n",
        "<a href=\"https://colab.research.google.com/github/rickiepark/python4daml/blob/main/02장.ipynb\" target=\"_parent\"><img src=\"https://colab.research.google.com/assets/colab-badge.svg\" alt=\"코랩에서 실행하기\"/></a>\n",
        "</td></tr></table>"
      ],
      "metadata": {
        "id": "_muEA3Y8uWEZ"
      }
    },
    {
      "cell_type": "markdown",
      "source": [
        "# 2장 파이썬 소개"
      ],
      "metadata": {
        "id": "_Xw8DhHUuREj"
      }
    },
    {
      "cell_type": "markdown",
      "source": [
        "## 2.1 파이썬과 파이썬 IDE 설치하기"
      ],
      "metadata": {
        "id": "Oyn8AYCZvVCv"
      }
    },
    {
      "cell_type": "markdown",
      "source": [
        "## 2.2 파이썬의 기본 요소"
      ],
      "metadata": {
        "id": "yEvU-qkWuKKu"
      }
    },
    {
      "cell_type": "code",
      "source": [
        "print('Yankees rule!')\n",
        "print('But not in Boston!')\n",
        "print('Yankees rule,', 'but not in Boston!')"
      ],
      "metadata": {
        "colab": {
          "base_uri": "https://localhost:8080/"
        },
        "id": "ukNL1NrQvdox",
        "outputId": "3b2258e3-e4c9-4d0c-de51-9cdd3def2c6c"
      },
      "execution_count": null,
      "outputs": [
        {
          "output_type": "stream",
          "name": "stdout",
          "text": [
            "Yankees rule!\n",
            "But not in Boston!\n",
            "Yankees rule, but not in Boston!\n"
          ]
        }
      ]
    },
    {
      "cell_type": "markdown",
      "source": [
        "### 2.2.1 객체, 표현, 수치 타입"
      ],
      "metadata": {
        "id": "W5UOfjLLvgO-"
      }
    },
    {
      "cell_type": "code",
      "source": [
        "3"
      ],
      "metadata": {
        "colab": {
          "base_uri": "https://localhost:8080/"
        },
        "id": "vcDSAeiYvwBE",
        "outputId": "9a531f9d-2a87-4402-f011-2f6a8e8952c4"
      },
      "execution_count": null,
      "outputs": [
        {
          "output_type": "execute_result",
          "data": {
            "text/plain": [
              "3"
            ]
          },
          "metadata": {},
          "execution_count": 2
        }
      ]
    },
    {
      "cell_type": "code",
      "source": [
        "3+2"
      ],
      "metadata": {
        "colab": {
          "base_uri": "https://localhost:8080/"
        },
        "id": "WLGVj9vPvw2J",
        "outputId": "8031b8dd-263a-4666-f02e-dabdff99f971"
      },
      "execution_count": null,
      "outputs": [
        {
          "output_type": "execute_result",
          "data": {
            "text/plain": [
              "5"
            ]
          },
          "metadata": {},
          "execution_count": 3
        }
      ]
    },
    {
      "cell_type": "code",
      "source": [
        "3.0+2.0"
      ],
      "metadata": {
        "colab": {
          "base_uri": "https://localhost:8080/"
        },
        "id": "NNI-VjujvyDU",
        "outputId": "87306ac9-4273-4547-a687-ab3e97132c99"
      },
      "execution_count": null,
      "outputs": [
        {
          "output_type": "execute_result",
          "data": {
            "text/plain": [
              "5.0"
            ]
          },
          "metadata": {},
          "execution_count": 4
        }
      ]
    },
    {
      "cell_type": "code",
      "source": [
        "3!=2"
      ],
      "metadata": {
        "colab": {
          "base_uri": "https://localhost:8080/"
        },
        "id": "43Uxj17Cv0iD",
        "outputId": "cf161142-cf29-48c3-a287-1d80b26a1c2e"
      },
      "execution_count": null,
      "outputs": [
        {
          "output_type": "execute_result",
          "data": {
            "text/plain": [
              "True"
            ]
          },
          "metadata": {},
          "execution_count": 5
        }
      ]
    },
    {
      "cell_type": "code",
      "source": [
        "type(3)"
      ],
      "metadata": {
        "colab": {
          "base_uri": "https://localhost:8080/"
        },
        "id": "yH_2gPcmv1jy",
        "outputId": "954a9195-7206-463f-dada-48fa2f2d730f"
      },
      "execution_count": null,
      "outputs": [
        {
          "output_type": "execute_result",
          "data": {
            "text/plain": [
              "int"
            ]
          },
          "metadata": {},
          "execution_count": 6
        }
      ]
    },
    {
      "cell_type": "code",
      "source": [
        "type(3.0)"
      ],
      "metadata": {
        "colab": {
          "base_uri": "https://localhost:8080/"
        },
        "id": "V48B5uo1v3Ko",
        "outputId": "1f621298-ed6a-42ef-f173-e8ad439f0f85"
      },
      "execution_count": null,
      "outputs": [
        {
          "output_type": "execute_result",
          "data": {
            "text/plain": [
              "float"
            ]
          },
          "metadata": {},
          "execution_count": 7
        }
      ]
    },
    {
      "cell_type": "markdown",
      "source": [
        "### 2.2.2 변수와 할당"
      ],
      "metadata": {
        "id": "vdw5VMGdv4jC"
      }
    },
    {
      "cell_type": "code",
      "source": [
        "pi = 3\n",
        "radius = 11\n",
        "area = pi * (radius**2)\n",
        "radius = 14"
      ],
      "metadata": {
        "id": "9TsuVI5AwAKe"
      },
      "execution_count": null,
      "outputs": []
    },
    {
      "cell_type": "code",
      "source": [
        "a = 3.14159\n",
        "b = 11.2\n",
        "c = a*(b**2)"
      ],
      "metadata": {
        "id": "M3BHZUUJN2WK"
      },
      "execution_count": null,
      "outputs": []
    },
    {
      "cell_type": "code",
      "source": [
        "pi = 3.14159\n",
        "diameter = 11.2\n",
        "area = pi*(diameter**2)"
      ],
      "metadata": {
        "id": "OqD45sOiN37a"
      },
      "execution_count": null,
      "outputs": []
    },
    {
      "cell_type": "code",
      "source": [
        "import keyword\n",
        "print(keyword.kwlist)"
      ],
      "metadata": {
        "colab": {
          "base_uri": "https://localhost:8080/"
        },
        "id": "jfW8mnJTwCC5",
        "outputId": "85e3586e-3a9a-4e58-b167-42f2e3a52c68"
      },
      "execution_count": null,
      "outputs": [
        {
          "output_type": "stream",
          "name": "stdout",
          "text": [
            "['False', 'None', 'True', 'and', 'as', 'assert', 'async', 'await', 'break', 'class', 'continue', 'def', 'del', 'elif', 'else', 'except', 'finally', 'for', 'from', 'global', 'if', 'import', 'in', 'is', 'lambda', 'nonlocal', 'not', 'or', 'pass', 'raise', 'return', 'try', 'while', 'with', 'yield']\n"
          ]
        }
      ]
    },
    {
      "cell_type": "code",
      "source": [
        "side = 1 #단위 정사각형에서 한 변 길이\n",
        "radius = 1 #단위 원의 반지름\n",
        "#단위 정사각형의 면서에서 단위 원의 면적을 뺍니다\n",
        "area_circle = pi*radius**2\n",
        "area_square = side*side\n",
        "difference = area_square - area_circle"
      ],
      "metadata": {
        "id": "SLwr2Wp4wNzw"
      },
      "execution_count": null,
      "outputs": []
    },
    {
      "cell_type": "code",
      "source": [
        "x, y = 2, 3"
      ],
      "metadata": {
        "id": "VQh1RLpwwWCC"
      },
      "execution_count": null,
      "outputs": []
    },
    {
      "cell_type": "code",
      "source": [
        "x, y = 2, 3\n",
        "x, y = y, x\n",
        "print('x =', x)\n",
        "print('y =', y)"
      ],
      "metadata": {
        "colab": {
          "base_uri": "https://localhost:8080/"
        },
        "id": "TdzW6tWcwauq",
        "outputId": "bed16b8a-e991-44b0-f182-c0a8e18d4fa0"
      },
      "execution_count": null,
      "outputs": [
        {
          "output_type": "stream",
          "name": "stdout",
          "text": [
            "x = 3\n",
            "y = 2\n"
          ]
        }
      ]
    },
    {
      "cell_type": "markdown",
      "source": [
        "## 2.3 분기 프로그램"
      ],
      "metadata": {
        "id": "ghYOm9VhwcJr"
      }
    },
    {
      "cell_type": "code",
      "source": [
        "if x%2 == 0:\n",
        "    print('짝수')\n",
        "else:\n",
        "    print('홀수')\n",
        "print('조건문 종료')"
      ],
      "metadata": {
        "colab": {
          "base_uri": "https://localhost:8080/"
        },
        "id": "1R0JVIkPwllf",
        "outputId": "03079c9c-d862-4cab-8974-e4758346443c"
      },
      "execution_count": null,
      "outputs": [
        {
          "output_type": "stream",
          "name": "stdout",
          "text": [
            "홀수\n",
            "조건문 종료\n"
          ]
        }
      ]
    },
    {
      "cell_type": "code",
      "source": [
        "x = 1111111111111111111111111111111 + 222222222222333222222222 +\\\n",
        "3333333333333333333333333333333"
      ],
      "metadata": {
        "id": "8-jcPhftwmIS"
      },
      "execution_count": null,
      "outputs": []
    },
    {
      "cell_type": "code",
      "source": [
        "x = 1111111111111111111111111111111 + 222222222222333222222222 +\n",
        "3333333333333333333333333333333"
      ],
      "metadata": {
        "colab": {
          "base_uri": "https://localhost:8080/",
          "height": 137
        },
        "id": "k-g6Emyd1VS7",
        "outputId": "8fd4e452-f5b4-4f38-c9de-498aa19f7060"
      },
      "execution_count": null,
      "outputs": [
        {
          "output_type": "error",
          "ename": "SyntaxError",
          "evalue": "ignored",
          "traceback": [
            "\u001b[0;36m  File \u001b[0;32m\"<ipython-input-17-1238a62ea081>\"\u001b[0;36m, line \u001b[0;32m1\u001b[0m\n\u001b[0;31m    x = 1111111111111111111111111111111 + 222222222222333222222222 +\u001b[0m\n\u001b[0m                                                                    ^\u001b[0m\n\u001b[0;31mSyntaxError\u001b[0m\u001b[0;31m:\u001b[0m invalid syntax\n"
          ]
        }
      ]
    },
    {
      "cell_type": "code",
      "source": [
        "x = (1111111111111111111111111111111 + 222222222222333222222222 +\n",
        "3333333333333333333333333333333)"
      ],
      "metadata": {
        "id": "7IDGTnGI1Yny"
      },
      "execution_count": null,
      "outputs": []
    },
    {
      "cell_type": "code",
      "source": [
        "if x%2 == 0:\n",
        "    if x%3 == 0:\n",
        "        print('2와 3으로 나누어 떨어집니다')\n",
        "    else:\n",
        "        print('2로 나누어 떨어지지만 3으로 나누어 떨어지지 않습니다')\n",
        "elif x%3 == 0:\n",
        "    print('3으로 나누어 떨어지지만 2로 나누어 떨어지지 않습니다')"
      ],
      "metadata": {
        "colab": {
          "base_uri": "https://localhost:8080/"
        },
        "id": "n5tV3Gl3YaYl",
        "outputId": "a597c479-7ac3-40b3-d7c5-33025a14de9a"
      },
      "execution_count": null,
      "outputs": [
        {
          "output_type": "stream",
          "name": "stdout",
          "text": [
            "2로 나누어 떨어지지만 3으로 나누어 떨어지지 않습니다\n"
          ]
        }
      ]
    },
    {
      "cell_type": "code",
      "source": [
        "x = 1\n",
        "y = 2\n",
        "z = 3\n",
        "\n",
        "if x < y and x < z:\n",
        "    print('x가 가장 작습니다')\n",
        "elif y < z:\n",
        "    print('y가 가장 작습니다')\n",
        "else:\n",
        "    print('z가 가장 작습니다')"
      ],
      "metadata": {
        "colab": {
          "base_uri": "https://localhost:8080/"
        },
        "id": "h-3boiQ8Yc5D",
        "outputId": "a7584e80-fcf5-42ad-a45c-6bfb99dfb318"
      },
      "execution_count": null,
      "outputs": [
        {
          "output_type": "stream",
          "name": "stdout",
          "text": [
            "x가 가장 작습니다\n"
          ]
        }
      ]
    },
    {
      "cell_type": "markdown",
      "source": [
        "**뇌풀기 문제**"
      ],
      "metadata": {
        "id": "8k1i81jsaKSw"
      }
    },
    {
      "cell_type": "code",
      "source": [
        "if x%2 != 0 and y%2 != 0 and z%2 != 0:\n",
        "    print(max(x, y, z))\n",
        "if x%2 != 0 and y%2 != 0 and z%2 == 0:\n",
        "    print(max(x, y))\n",
        "if x%2 != 0 and y%2 == 0 and z%2 != 0:\n",
        "    print(max(x, z))\n",
        "if x%2 == 0 and y%2 != 0 and z%2 != 0:\n",
        "    print(max(y, z))\n",
        "if x%2 != 0 and y%2 == 0 and z%2 == 0:\n",
        "    print(x)\n",
        "if x%2 == 0 and y%2 != 0 and z%2 == 0:\n",
        "    print(y)\n",
        "if x%2 == 0 and y%2 == 0 and z%2 != 0:\n",
        "    print(z)\n",
        "if x%2 == 0 and y%2 == 0 and z%2 == 0:\n",
        "    print(min(x, y, z))"
      ],
      "metadata": {
        "colab": {
          "base_uri": "https://localhost:8080/"
        },
        "id": "YJkXW0I81LGs",
        "outputId": "ad313c29-57af-4bee-98f3-d02813220f7f"
      },
      "execution_count": null,
      "outputs": [
        {
          "output_type": "stream",
          "name": "stdout",
          "text": [
            "3\n"
          ]
        }
      ]
    },
    {
      "cell_type": "code",
      "source": [
        "answer = min(x, y, z)\n",
        "if x%2 != 0:\n",
        "    answer = x\n",
        "if y%2 != 0 and y > answer:\n",
        "    answer = y\n",
        "if z%2 != 0 and z > answer:\n",
        "    answer = z\n",
        "print(answer)"
      ],
      "metadata": {
        "colab": {
          "base_uri": "https://localhost:8080/"
        },
        "id": "ItnCSegO346g",
        "outputId": "00c1f451-00d4-4f8c-e87d-89ebb83fc692"
      },
      "execution_count": null,
      "outputs": [
        {
          "output_type": "stream",
          "name": "stdout",
          "text": [
            "3\n"
          ]
        }
      ]
    },
    {
      "cell_type": "code",
      "source": [
        "x = y if y > z else z"
      ],
      "metadata": {
        "id": "Aha1fhCK3_Mt"
      },
      "execution_count": null,
      "outputs": []
    },
    {
      "cell_type": "code",
      "source": [
        "print((x if x > z else z) if x > y else (y if y > z else z))"
      ],
      "metadata": {
        "colab": {
          "base_uri": "https://localhost:8080/"
        },
        "id": "4u_cSNWCXeU8",
        "outputId": "05b53e9b-a963-475a-de25-8defc6ab9cb4"
      },
      "execution_count": null,
      "outputs": [
        {
          "output_type": "stream",
          "name": "stdout",
          "text": [
            "3\n"
          ]
        }
      ]
    },
    {
      "cell_type": "markdown",
      "source": [
        "## 2.4 문자열과 입력"
      ],
      "metadata": {
        "id": "dEGplEPiXgGV"
      }
    },
    {
      "cell_type": "code",
      "source": [
        "'a'\n",
        "3*4\n",
        "3*'a'\n",
        "3+4\n",
        "'a'+'a'"
      ],
      "metadata": {
        "colab": {
          "base_uri": "https://localhost:8080/",
          "height": 36
        },
        "id": "d0iN-lWfk1Tn",
        "outputId": "9a36fd57-8bfd-47bf-a2ec-572d807c7b1c"
      },
      "execution_count": null,
      "outputs": [
        {
          "output_type": "execute_result",
          "data": {
            "text/plain": [
              "'aa'"
            ],
            "application/vnd.google.colaboratory.intrinsic+json": {
              "type": "string"
            }
          },
          "metadata": {},
          "execution_count": 25
        }
      ]
    },
    {
      "cell_type": "code",
      "source": [
        "new_id"
      ],
      "metadata": {
        "colab": {
          "base_uri": "https://localhost:8080/",
          "height": 173
        },
        "id": "ZEFTIm-Sk13Z",
        "outputId": "13439713-0268-42c0-f548-aa3dcfcd8e0d"
      },
      "execution_count": null,
      "outputs": [
        {
          "output_type": "error",
          "ename": "NameError",
          "evalue": "ignored",
          "traceback": [
            "\u001b[0;31m---------------------------------------------------------------------------\u001b[0m",
            "\u001b[0;31mNameError\u001b[0m                                 Traceback (most recent call last)",
            "\u001b[0;32m<ipython-input-26-fcb9bb302ff9>\u001b[0m in \u001b[0;36m<module>\u001b[0;34m\u001b[0m\n\u001b[0;32m----> 1\u001b[0;31m \u001b[0mnew_id\u001b[0m\u001b[0;34m\u001b[0m\u001b[0;34m\u001b[0m\u001b[0m\n\u001b[0m",
            "\u001b[0;31mNameError\u001b[0m: name 'new_id' is not defined"
          ]
        }
      ]
    },
    {
      "cell_type": "code",
      "source": [
        "'a'*'a'"
      ],
      "metadata": {
        "colab": {
          "base_uri": "https://localhost:8080/",
          "height": 173
        },
        "id": "NMt3MfqqNLAc",
        "outputId": "b4efcbf9-d50f-4059-ae44-74374387f880"
      },
      "execution_count": null,
      "outputs": [
        {
          "output_type": "error",
          "ename": "TypeError",
          "evalue": "ignored",
          "traceback": [
            "\u001b[0;31m---------------------------------------------------------------------------\u001b[0m",
            "\u001b[0;31mTypeError\u001b[0m                                 Traceback (most recent call last)",
            "\u001b[0;32m<ipython-input-27-16c4cba560f9>\u001b[0m in \u001b[0;36m<module>\u001b[0;34m\u001b[0m\n\u001b[0;32m----> 1\u001b[0;31m \u001b[0;34m'a'\u001b[0m\u001b[0;34m*\u001b[0m\u001b[0;34m'a'\u001b[0m\u001b[0;34m\u001b[0m\u001b[0;34m\u001b[0m\u001b[0m\n\u001b[0m",
            "\u001b[0;31mTypeError\u001b[0m: can't multiply sequence by non-int of type 'str'"
          ]
        }
      ]
    },
    {
      "cell_type": "code",
      "source": [
        "'4' < 3"
      ],
      "metadata": {
        "colab": {
          "base_uri": "https://localhost:8080/",
          "height": 173
        },
        "id": "gHz-zutkNMYU",
        "outputId": "7ebfc7b3-af75-4108-d58f-0ae259f34bc5"
      },
      "execution_count": null,
      "outputs": [
        {
          "output_type": "error",
          "ename": "TypeError",
          "evalue": "ignored",
          "traceback": [
            "\u001b[0;31m---------------------------------------------------------------------------\u001b[0m",
            "\u001b[0;31mTypeError\u001b[0m                                 Traceback (most recent call last)",
            "\u001b[0;32m<ipython-input-32-e31106604891>\u001b[0m in \u001b[0;36m<module>\u001b[0;34m\u001b[0m\n\u001b[0;32m----> 1\u001b[0;31m \u001b[0;34m'4'\u001b[0m \u001b[0;34m<\u001b[0m \u001b[0;36m3\u001b[0m\u001b[0;34m\u001b[0m\u001b[0;34m\u001b[0m\u001b[0m\n\u001b[0m",
            "\u001b[0;31mTypeError\u001b[0m: '<' not supported between instances of 'str' and 'int'"
          ]
        }
      ]
    },
    {
      "cell_type": "code",
      "source": [
        "len('abc')"
      ],
      "metadata": {
        "colab": {
          "base_uri": "https://localhost:8080/"
        },
        "id": "y3kxoyd0Jcl_",
        "outputId": "f09d2c9e-fbd3-4a3d-f850-a9cb9dd5b39d"
      },
      "execution_count": null,
      "outputs": [
        {
          "output_type": "execute_result",
          "data": {
            "text/plain": [
              "3"
            ]
          },
          "metadata": {},
          "execution_count": 33
        }
      ]
    },
    {
      "cell_type": "code",
      "source": [
        "'abc'[0]"
      ],
      "metadata": {
        "colab": {
          "base_uri": "https://localhost:8080/",
          "height": 36
        },
        "id": "t9w5zsdLJfns",
        "outputId": "ebac97da-fa87-4ab9-fbd2-fedb85c89380"
      },
      "execution_count": null,
      "outputs": [
        {
          "output_type": "execute_result",
          "data": {
            "text/plain": [
              "'a'"
            ],
            "application/vnd.google.colaboratory.intrinsic+json": {
              "type": "string"
            }
          },
          "metadata": {},
          "execution_count": 34
        }
      ]
    },
    {
      "cell_type": "code",
      "source": [
        "'abc'[3]"
      ],
      "metadata": {
        "colab": {
          "base_uri": "https://localhost:8080/",
          "height": 173
        },
        "id": "Wh502yBHJhOt",
        "outputId": "ec5c08e9-e9d6-402c-84c3-35344d070d23"
      },
      "execution_count": null,
      "outputs": [
        {
          "output_type": "error",
          "ename": "IndexError",
          "evalue": "ignored",
          "traceback": [
            "\u001b[0;31m---------------------------------------------------------------------------\u001b[0m",
            "\u001b[0;31mIndexError\u001b[0m                                Traceback (most recent call last)",
            "\u001b[0;32m<ipython-input-36-6509258b4f38>\u001b[0m in \u001b[0;36m<module>\u001b[0;34m\u001b[0m\n\u001b[0;32m----> 1\u001b[0;31m \u001b[0;34m'abc'\u001b[0m\u001b[0;34m[\u001b[0m\u001b[0;36m3\u001b[0m\u001b[0;34m]\u001b[0m\u001b[0;34m\u001b[0m\u001b[0;34m\u001b[0m\u001b[0m\n\u001b[0m",
            "\u001b[0;31mIndexError\u001b[0m: string index out of range"
          ]
        }
      ]
    },
    {
      "cell_type": "code",
      "source": [
        "'abc'[-1]"
      ],
      "metadata": {
        "colab": {
          "base_uri": "https://localhost:8080/",
          "height": 36
        },
        "id": "5FE-6bkDJjPX",
        "outputId": "f499c98a-cf07-4564-c07d-458a82d4612c"
      },
      "execution_count": null,
      "outputs": [
        {
          "output_type": "execute_result",
          "data": {
            "text/plain": [
              "'c'"
            ],
            "application/vnd.google.colaboratory.intrinsic+json": {
              "type": "string"
            }
          },
          "metadata": {},
          "execution_count": 37
        }
      ]
    },
    {
      "cell_type": "code",
      "source": [
        "'abc'[1:3]"
      ],
      "metadata": {
        "colab": {
          "base_uri": "https://localhost:8080/",
          "height": 36
        },
        "id": "rB5ryeaYJlZL",
        "outputId": "6fd39061-926d-460c-a1dd-1f419114b587"
      },
      "execution_count": null,
      "outputs": [
        {
          "output_type": "execute_result",
          "data": {
            "text/plain": [
              "'bc'"
            ],
            "application/vnd.google.colaboratory.intrinsic+json": {
              "type": "string"
            }
          },
          "metadata": {},
          "execution_count": 38
        }
      ]
    },
    {
      "cell_type": "code",
      "source": [
        "'abc'[0:len('abc')]"
      ],
      "metadata": {
        "colab": {
          "base_uri": "https://localhost:8080/",
          "height": 36
        },
        "id": "-IjTdKLmLFPj",
        "outputId": "775ccf7d-c10f-4c1a-a8a6-1a21eab7613a"
      },
      "execution_count": null,
      "outputs": [
        {
          "output_type": "execute_result",
          "data": {
            "text/plain": [
              "'abc'"
            ],
            "application/vnd.google.colaboratory.intrinsic+json": {
              "type": "string"
            }
          },
          "metadata": {},
          "execution_count": 39
        }
      ]
    },
    {
      "cell_type": "code",
      "source": [
        "'abc'[:]"
      ],
      "metadata": {
        "colab": {
          "base_uri": "https://localhost:8080/",
          "height": 36
        },
        "id": "LXY5ryOfLHWj",
        "outputId": "2c88ea11-9f1c-4e8f-cbca-6c0e932cebe4"
      },
      "execution_count": null,
      "outputs": [
        {
          "output_type": "execute_result",
          "data": {
            "text/plain": [
              "'abc'"
            ],
            "application/vnd.google.colaboratory.intrinsic+json": {
              "type": "string"
            }
          },
          "metadata": {},
          "execution_count": 40
        }
      ]
    },
    {
      "cell_type": "code",
      "source": [
        "'123456789'[0:8:2]"
      ],
      "metadata": {
        "colab": {
          "base_uri": "https://localhost:8080/",
          "height": 36
        },
        "id": "k4NPVn3ZL9of",
        "outputId": "658eaade-0493-419c-b434-4dbba7a0b2dc"
      },
      "execution_count": null,
      "outputs": [
        {
          "output_type": "execute_result",
          "data": {
            "text/plain": [
              "'1357'"
            ],
            "application/vnd.google.colaboratory.intrinsic+json": {
              "type": "string"
            }
          },
          "metadata": {},
          "execution_count": 41
        }
      ]
    },
    {
      "cell_type": "code",
      "source": [
        "num = 30000000\n",
        "fraction = 1/2\n",
        "print(num*fraction, '은', num, '의', fraction*100, '%', '입니다')\n",
        "print(str(num*fraction) + '은', str(num) + '의', str(fraction*100) + '%', '입니다')"
      ],
      "metadata": {
        "colab": {
          "base_uri": "https://localhost:8080/"
        },
        "id": "1tmktHrSL-kx",
        "outputId": "62945ba7-e593-43bf-aa66-1bb6e3339fd3"
      },
      "execution_count": null,
      "outputs": [
        {
          "output_type": "stream",
          "name": "stdout",
          "text": [
            "15000000.0 은 30000000 의 50.0 % 입니다\n",
            "15000000.0은 30000000의 50.0% 입니다\n"
          ]
        }
      ]
    },
    {
      "cell_type": "code",
      "source": [
        "print(str(int(num*fraction)) + '은', str(num) + '의', str(fraction*100) + '%', '입니다')"
      ],
      "metadata": {
        "colab": {
          "base_uri": "https://localhost:8080/"
        },
        "id": "Wt-uifOuM6LX",
        "outputId": "8b0a4445-663f-477d-b23a-8d4a6efed8dc"
      },
      "execution_count": null,
      "outputs": [
        {
          "output_type": "stream",
          "name": "stdout",
          "text": [
            "15000000은 30000000의 50.0% 입니다\n"
          ]
        }
      ]
    },
    {
      "cell_type": "code",
      "source": [
        "print(f'{int(num*fraction)}은 {num}의 {fraction*100}% 입니다')"
      ],
      "metadata": {
        "colab": {
          "base_uri": "https://localhost:8080/"
        },
        "id": "F2b07gIQQt7a",
        "outputId": "413ffc47-76e8-4ce6-f0b7-032d04702e90"
      },
      "execution_count": null,
      "outputs": [
        {
          "output_type": "stream",
          "name": "stdout",
          "text": [
            "15000000은 30000000의 50.0% 입니다\n"
          ]
        }
      ]
    },
    {
      "cell_type": "code",
      "source": [
        "print(f'{{{3*5}}}')"
      ],
      "metadata": {
        "colab": {
          "base_uri": "https://localhost:8080/"
        },
        "id": "Zv9b0ulXFZb9",
        "outputId": "d882a6d9-ebb8-4b66-a12d-eea10a76847e"
      },
      "execution_count": null,
      "outputs": [
        {
          "output_type": "stream",
          "name": "stdout",
          "text": [
            "{15}\n"
          ]
        }
      ]
    },
    {
      "cell_type": "code",
      "source": [
        "f'{3.14159:.2f}'"
      ],
      "metadata": {
        "colab": {
          "base_uri": "https://localhost:8080/",
          "height": 36
        },
        "id": "6Pa_cYjFFkRy",
        "outputId": "a34b8db5-0979-44b7-ff60-11c06e300588"
      },
      "execution_count": null,
      "outputs": [
        {
          "output_type": "execute_result",
          "data": {
            "text/plain": [
              "'3.14'"
            ],
            "application/vnd.google.colaboratory.intrinsic+json": {
              "type": "string"
            }
          },
          "metadata": {},
          "execution_count": 46
        }
      ]
    },
    {
      "cell_type": "code",
      "source": [
        "print(f'{num*fraction:,.0f}은 {num:,}의 {fraction*100}% 입니다')"
      ],
      "metadata": {
        "colab": {
          "base_uri": "https://localhost:8080/"
        },
        "id": "78FD2z7kNvhS",
        "outputId": "45e51b1b-0995-4c67-83e2-260093b99092"
      },
      "execution_count": null,
      "outputs": [
        {
          "output_type": "stream",
          "name": "stdout",
          "text": [
            "15,000,000은 30,000,000의 50.0% 입니다\n"
          ]
        }
      ]
    },
    {
      "cell_type": "markdown",
      "source": [
        "### 2.4.1 입력"
      ],
      "metadata": {
        "id": "tL9UpVg8XucL"
      }
    },
    {
      "cell_type": "code",
      "source": [
        "name = input('이름을 입력하세요: ')"
      ],
      "metadata": {
        "colab": {
          "base_uri": "https://localhost:8080/"
        },
        "id": "lV9LUmtQNv0c",
        "outputId": "89cc0e20-5887-4172-a504-923f10e10ee8"
      },
      "execution_count": null,
      "outputs": [
        {
          "name": "stdout",
          "output_type": "stream",
          "text": [
            "이름을 입력하세요: 홍길동\n"
          ]
        }
      ]
    },
    {
      "cell_type": "code",
      "source": [
        "print('정말 이름이', name, '인가요?')"
      ],
      "metadata": {
        "colab": {
          "base_uri": "https://localhost:8080/"
        },
        "id": "aRZV23AEPViu",
        "outputId": "9383229f-d626-4c26-bfb2-490c60cde7da"
      },
      "execution_count": null,
      "outputs": [
        {
          "output_type": "stream",
          "name": "stdout",
          "text": [
            "정말 이름이 홍길동 인가요?\n"
          ]
        }
      ]
    },
    {
      "cell_type": "code",
      "source": [
        "print('정말 이름이 ' + name + '인가요?')"
      ],
      "metadata": {
        "colab": {
          "base_uri": "https://localhost:8080/"
        },
        "id": "x2Cg6XwfBbPE",
        "outputId": "3d4ff2a8-e8bb-4c7c-adf0-5718da822f34"
      },
      "execution_count": null,
      "outputs": [
        {
          "output_type": "stream",
          "name": "stdout",
          "text": [
            "정말 이름이 홍길동인가요?\n"
          ]
        }
      ]
    },
    {
      "cell_type": "code",
      "source": [
        "print(f'정말 이름이 {name}인가요?')"
      ],
      "metadata": {
        "colab": {
          "base_uri": "https://localhost:8080/"
        },
        "id": "EM1gdShyCpRW",
        "outputId": "a8565d83-4be9-42d1-d363-6fb20dbc2e03"
      },
      "execution_count": null,
      "outputs": [
        {
          "output_type": "stream",
          "name": "stdout",
          "text": [
            "정말 이름이 홍길동인가요?\n"
          ]
        }
      ]
    },
    {
      "cell_type": "code",
      "source": [
        "n = input('정수를 입력하세요: ')\n",
        "print(type(n))"
      ],
      "metadata": {
        "colab": {
          "base_uri": "https://localhost:8080/"
        },
        "id": "-WOhPa1NCtHF",
        "outputId": "865fac80-95ce-4fb7-b3af-8203f8bc75ad"
      },
      "execution_count": null,
      "outputs": [
        {
          "output_type": "stream",
          "name": "stdout",
          "text": [
            "정수를 입력하세요: 3\n",
            "<class 'str'>\n"
          ]
        }
      ]
    },
    {
      "cell_type": "code",
      "source": [
        "n*4"
      ],
      "metadata": {
        "colab": {
          "base_uri": "https://localhost:8080/",
          "height": 36
        },
        "id": "8TB1a6-MDK0Q",
        "outputId": "27646843-5993-43ea-f085-e54e77f4c84b"
      },
      "execution_count": null,
      "outputs": [
        {
          "output_type": "execute_result",
          "data": {
            "text/plain": [
              "'3333'"
            ],
            "application/vnd.google.colaboratory.intrinsic+json": {
              "type": "string"
            }
          },
          "metadata": {},
          "execution_count": 53
        }
      ]
    },
    {
      "cell_type": "markdown",
      "source": [
        "**뇌풀기 문제**"
      ],
      "metadata": {
        "id": "v-BDdJX9FCpf"
      }
    },
    {
      "cell_type": "code",
      "source": [
        "birthday = input('생년월일을 입력하세요(mm/dd/yyyy): ')\n",
        "print(f'당신은 {birthday[-4:]}년에 태어났습니다')"
      ],
      "metadata": {
        "colab": {
          "base_uri": "https://localhost:8080/"
        },
        "id": "HPnQ1AcOEMof",
        "outputId": "0a3058e3-e6a3-4c8b-b4f0-f25db89a019f"
      },
      "execution_count": null,
      "outputs": [
        {
          "output_type": "stream",
          "name": "stdout",
          "text": [
            "생년월일을 입력하세요(mm/dd/yyyy): 08/08/1971\n",
            "당신은 1971년에 태어났습니다\n"
          ]
        }
      ]
    },
    {
      "cell_type": "markdown",
      "source": [
        "### 2.4.2 문자 인코딩에 대한 여담"
      ],
      "metadata": {
        "id": "hJEe2E39Xh4h"
      }
    },
    {
      "cell_type": "code",
      "source": [
        "print('Mluvíš anglicky?')\n",
        "print('क्या आप अंग्रेज़ी बोलते हैं?')"
      ],
      "metadata": {
        "colab": {
          "base_uri": "https://localhost:8080/"
        },
        "id": "ehRCyU04E74Y",
        "outputId": "339eb73f-31da-4f27-dfbd-3d0c93e1942a"
      },
      "execution_count": null,
      "outputs": [
        {
          "output_type": "stream",
          "name": "stdout",
          "text": [
            "Mluvíš anglicky?\n",
            "क्या आप अंग्रेज़ी बोलते हैं?\n"
          ]
        }
      ]
    },
    {
      "cell_type": "markdown",
      "source": [
        "### 2.5 while 루프"
      ],
      "metadata": {
        "id": "QMR1t5axXzSu"
      }
    },
    {
      "cell_type": "code",
      "source": [
        "num_x = int(input('문자 X를 몇 번이나 출력할까요? '))\n",
        "to_print = ''\n",
        "if num_x == 1:\n",
        "    to_print = 'X'\n",
        "elif num_x == 2:\n",
        "    to_print = 'XX'\n",
        "elif num_x == 3:\n",
        "    to_print = 'XXX'\n",
        "#...\n",
        "print(to_print)"
      ],
      "metadata": {
        "colab": {
          "base_uri": "https://localhost:8080/"
        },
        "id": "BgS0Dnhfa9gx",
        "outputId": "1c6f1e28-8328-4296-915a-8f71ffe1e2d4"
      },
      "execution_count": null,
      "outputs": [
        {
          "output_type": "stream",
          "name": "stdout",
          "text": [
            "문자 X를 몇 번이나 출력할까요? 3\n",
            "XXX\n"
          ]
        }
      ]
    },
    {
      "cell_type": "markdown",
      "source": [
        "예제 2-1 (힘든 방법으로) 정수 제곱하기"
      ],
      "metadata": {
        "id": "Hk8p-SBgisgx"
      }
    },
    {
      "cell_type": "code",
      "source": [
        "x = 3\n",
        "ans = 0\n",
        "num_iterations = 0\n",
        "while (x != num_iterations):\n",
        "    ans = ans + x\n",
        "    num_iterations = num_iterations + 1\n",
        "print(f'{x}*{x} = {ans}')"
      ],
      "metadata": {
        "colab": {
          "base_uri": "https://localhost:8080/"
        },
        "id": "JN8oVHS7a_TT",
        "outputId": "4cd9828c-b7f4-41fc-ef7c-63d18cd24a16"
      },
      "execution_count": null,
      "outputs": [
        {
          "output_type": "stream",
          "name": "stdout",
          "text": [
            "3*3 = 9\n"
          ]
        }
      ]
    },
    {
      "cell_type": "code",
      "source": [
        "x = -3\n",
        "ans = 0\n",
        "num_iterations = 0\n",
        "while (abs(x) != num_iterations):\n",
        "    ans = ans + abs(x)\n",
        "    num_iterations = num_iterations + 1\n",
        "print(f'{x}*{x} = {ans}')"
      ],
      "metadata": {
        "colab": {
          "base_uri": "https://localhost:8080/"
        },
        "id": "-v418kBscPR8",
        "outputId": "4842245a-ec95-46a0-a123-7e0b9829b65d"
      },
      "execution_count": null,
      "outputs": [
        {
          "output_type": "stream",
          "name": "stdout",
          "text": [
            "-3*-3 = 9\n"
          ]
        }
      ]
    },
    {
      "cell_type": "markdown",
      "source": [
        "**뇌풀기 문제**"
      ],
      "metadata": {
        "id": "c9xhOakomyQz"
      }
    },
    {
      "cell_type": "code",
      "source": [
        "num_x = int(input('문자 X를 몇 번이나 출력할까요? '))\n",
        "to_print = ''\n",
        "i = 0\n",
        "while (i < num_x):\n",
        "    to_print = to_print + 'X'\n",
        "    i = i + 1\n",
        "print(to_print)"
      ],
      "metadata": {
        "colab": {
          "base_uri": "https://localhost:8080/"
        },
        "id": "QwWBc1Etlfim",
        "outputId": "d326a32a-deb3-4936-d069-8d8a484ba32d"
      },
      "execution_count": null,
      "outputs": [
        {
          "output_type": "stream",
          "name": "stdout",
          "text": [
            "문자 X를 몇 번이나 출력할까요? 3\n",
            "XXX\n"
          ]
        }
      ]
    },
    {
      "cell_type": "code",
      "source": [
        "#11과 12로 나눌 수 있는 양의 정수 찾기\n",
        "x = 1\n",
        "while True:\n",
        "    if x%11 == 0 and x%12 == 0:\n",
        "        break\n",
        "    x = x + 1\n",
        "print(x, '는 11과 12로 나눌 수 있습니다')"
      ],
      "metadata": {
        "colab": {
          "base_uri": "https://localhost:8080/"
        },
        "id": "nduQ2rIHnY1i",
        "outputId": "f21c9b1f-c854-4fd1-fb9c-79872827cac8"
      },
      "execution_count": null,
      "outputs": [
        {
          "output_type": "stream",
          "name": "stdout",
          "text": [
            "132 는 11과 12로 나눌 수 있습니다\n"
          ]
        }
      ]
    },
    {
      "cell_type": "markdown",
      "source": [
        "**뇌풀기 문제**"
      ],
      "metadata": {
        "id": "tqjyMRwb3eeJ"
      }
    },
    {
      "cell_type": "code",
      "source": [
        "i = 0\n",
        "max_odd = 0\n",
        "while (i < 10):\n",
        "    num = int(input(f'{i+1}번째 양의 정수를 입력해 주세요: '))\n",
        "    if num%2 != 0 and num > max_odd:\n",
        "        max_odd = num\n",
        "    i = i + 1\n",
        "if max_odd == 0:\n",
        "    print('입력된 숫자 중에 홀수가 없습니다')\n",
        "else:\n",
        "    print(f'입력된 숫자 중에 가장 큰 홀수는 {max_odd}입니다')"
      ],
      "metadata": {
        "colab": {
          "base_uri": "https://localhost:8080/"
        },
        "id": "alpnlPUQnxi6",
        "outputId": "ab82a648-24f7-4b47-a9ad-70adfa40f14f"
      },
      "execution_count": null,
      "outputs": [
        {
          "output_type": "stream",
          "name": "stdout",
          "text": [
            "1번째 양의 정수를 입력해 주세요: 1\n",
            "2번째 양의 정수를 입력해 주세요: 2\n",
            "3번째 양의 정수를 입력해 주세요: 3\n",
            "4번째 양의 정수를 입력해 주세요: 4\n",
            "5번째 양의 정수를 입력해 주세요: 5\n",
            "6번째 양의 정수를 입력해 주세요: 6\n",
            "7번째 양의 정수를 입력해 주세요: 7\n",
            "8번째 양의 정수를 입력해 주세요: 8\n",
            "9번째 양의 정수를 입력해 주세요: 9\n",
            "10번째 양의 정수를 입력해 주세요: 10\n",
            "입력된 숫자 중에 가장 큰 홀수는 9입니다\n"
          ]
        }
      ]
    },
    {
      "cell_type": "markdown",
      "source": [
        "## 2.6 for 루프와 range"
      ],
      "metadata": {
        "id": "jyIJg6GrJNp6"
      }
    },
    {
      "cell_type": "code",
      "source": [
        "total = 0\n",
        "for num in (77, 11, 3):\n",
        "    total = total + num\n",
        "print(total)"
      ],
      "metadata": {
        "id": "r9KeLxOtJ5Pf",
        "outputId": "371ff5cc-27ae-4c6e-fe5b-63fb305969a1",
        "colab": {
          "base_uri": "https://localhost:8080/"
        }
      },
      "execution_count": null,
      "outputs": [
        {
          "output_type": "stream",
          "name": "stdout",
          "text": [
            "91\n"
          ]
        }
      ]
    },
    {
      "cell_type": "code",
      "source": [
        "x = 4\n",
        "for i in range(x):\n",
        "    print(i)"
      ],
      "metadata": {
        "id": "uS1cierr87ei",
        "outputId": "71b178af-8a16-4480-c318-95f8589903c1",
        "colab": {
          "base_uri": "https://localhost:8080/"
        }
      },
      "execution_count": null,
      "outputs": [
        {
          "output_type": "stream",
          "name": "stdout",
          "text": [
            "0\n",
            "1\n",
            "2\n",
            "3\n"
          ]
        }
      ]
    },
    {
      "cell_type": "markdown",
      "source": [
        "예제 2-2 `for` 문장 사용하기"
      ],
      "metadata": {
        "id": "BtaJavdUi7Fj"
      }
    },
    {
      "cell_type": "code",
      "source": [
        "x = 3\n",
        "ans = 0\n",
        "for num_iterations in range(abs(x)):\n",
        "    ans = ans + abs(x)\n",
        "print(f'{x}*{x} = {ans}')"
      ],
      "metadata": {
        "id": "expzR8DJQkNM",
        "outputId": "c3ac3edf-4aa0-4947-a58e-dca12a42849f",
        "colab": {
          "base_uri": "https://localhost:8080/"
        }
      },
      "execution_count": null,
      "outputs": [
        {
          "output_type": "stream",
          "name": "stdout",
          "text": [
            "3*3 = 9\n"
          ]
        }
      ]
    },
    {
      "cell_type": "code",
      "source": [
        "for i in range(2):\n",
        "    print(i)\n",
        "    i = 0\n",
        "    print(i)"
      ],
      "metadata": {
        "id": "4eq_8j0GQnEi",
        "outputId": "3555fa27-2cd2-4856-812d-0f153f72bfe2",
        "colab": {
          "base_uri": "https://localhost:8080/"
        }
      },
      "execution_count": null,
      "outputs": [
        {
          "output_type": "stream",
          "name": "stdout",
          "text": [
            "0\n",
            "0\n",
            "1\n",
            "0\n"
          ]
        }
      ]
    },
    {
      "cell_type": "code",
      "source": [
        "index = 0\n",
        "last_index = 1\n",
        "while index <= last_index:\n",
        "    i = index\n",
        "    print(i)\n",
        "    i = 0\n",
        "    print(i)\n",
        "    index = index + 1"
      ],
      "metadata": {
        "id": "lUBoudSKS8lJ",
        "outputId": "9cecd8c5-a3e5-4b17-8ec0-6a7d8efdfce7",
        "colab": {
          "base_uri": "https://localhost:8080/"
        }
      },
      "execution_count": null,
      "outputs": [
        {
          "output_type": "stream",
          "name": "stdout",
          "text": [
            "0\n",
            "0\n",
            "1\n",
            "0\n"
          ]
        }
      ]
    },
    {
      "cell_type": "code",
      "source": [
        "x = 1\n",
        "for i in range(x):\n",
        "    print(i)\n",
        "    x = 4"
      ],
      "metadata": {
        "id": "N3WThOk5T-Kl",
        "outputId": "425f24d7-388f-46b1-fe74-991dd004a355",
        "colab": {
          "base_uri": "https://localhost:8080/"
        }
      },
      "execution_count": null,
      "outputs": [
        {
          "output_type": "stream",
          "name": "stdout",
          "text": [
            "0\n"
          ]
        }
      ]
    },
    {
      "cell_type": "code",
      "source": [
        "x = 3\n",
        "for j in range(x):\n",
        "    print('바깥쪽 루프 반복')\n",
        "    for i in range(x):\n",
        "        print('    안쪽 루프 반복')\n",
        "        x = 2"
      ],
      "metadata": {
        "id": "yskqMCRCUpIV",
        "outputId": "640054f8-1a60-43b7-de15-80d35b6aacd7",
        "colab": {
          "base_uri": "https://localhost:8080/"
        }
      },
      "execution_count": null,
      "outputs": [
        {
          "output_type": "stream",
          "name": "stdout",
          "text": [
            "바깥쪽 루프 반복\n",
            "    안쪽 루프 반복\n",
            "    안쪽 루프 반복\n",
            "    안쪽 루프 반복\n",
            "바깥쪽 루프 반복\n",
            "    안쪽 루프 반복\n",
            "    안쪽 루프 반복\n",
            "바깥쪽 루프 반복\n",
            "    안쪽 루프 반복\n",
            "    안쪽 루프 반복\n"
          ]
        }
      ]
    },
    {
      "cell_type": "code",
      "source": [
        "total = 0\n",
        "for c in '12345678':\n",
        "    total = total + int(c)\n",
        "print(total)"
      ],
      "metadata": {
        "id": "JH03q80GXEe6",
        "outputId": "6fdc0216-d0af-4ce9-9e9b-8b2492162947",
        "colab": {
          "base_uri": "https://localhost:8080/"
        }
      },
      "execution_count": null,
      "outputs": [
        {
          "output_type": "stream",
          "name": "stdout",
          "text": [
            "36\n"
          ]
        }
      ]
    },
    {
      "cell_type": "markdown",
      "source": [
        "**뇌풀기 문제**"
      ],
      "metadata": {
        "id": "DGlovpIiXX1U"
      }
    },
    {
      "cell_type": "code",
      "source": [
        "sum = 0\n",
        "# 3~1000 사이의 홀수를 반복합니다.\n",
        "for odd in range(3, 1000, 2):\n",
        "    sum = sum + odd\n",
        "    for n in range(3, odd, 2):\n",
        "        if odd%n == 0:  # 다른 홀수로 나누어 떨어지면 소수가 아닙니다.\n",
        "            sum = sum - odd\n",
        "            break\n",
        "print(sum)"
      ],
      "metadata": {
        "id": "Jdgnl5IrXdxi",
        "outputId": "d6303daa-77f9-45dc-aada-9c975cdf6212",
        "colab": {
          "base_uri": "https://localhost:8080/"
        }
      },
      "execution_count": null,
      "outputs": [
        {
          "output_type": "stream",
          "name": "stdout",
          "text": [
            "76125\n"
          ]
        }
      ]
    }
  ]
}