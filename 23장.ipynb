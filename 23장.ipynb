{
 "cells": [
  {
   "cell_type": "markdown",
   "id": "063e0de6-662b-424b-9c62-644f09f1ffda",
   "metadata": {
    "id": "063e0de6-662b-424b-9c62-644f09f1ffda"
   },
   "source": [
    "# 23장 판다스로 데이터 탐험하기"
   ]
  },
  {
   "cell_type": "markdown",
   "id": "91d75e5e-9635-44cd-a182-00b9e3350e38",
   "metadata": {
    "id": "91d75e5e-9635-44cd-a182-00b9e3350e38"
   },
   "source": [
    "<table align=\"left\"><tr><td>\n",
    "<a href=\"https://colab.research.google.com/github/rickiepark/python4daml/blob/main/23장.ipynb\" target=\"_parent\"><img src=\"https://colab.research.google.com/assets/colab-badge.svg\" alt=\"코랩에서 실행하기\"/></a>\n",
    "</td></tr></table>"
   ]
  },
  {
   "cell_type": "code",
   "execution_count": 1,
   "id": "5ca796ae-6e47-448d-a7ed-c4207e5d8c65",
   "metadata": {
    "colab": {
     "base_uri": "https://localhost:8080/"
    },
    "id": "5ca796ae-6e47-448d-a7ed-c4207e5d8c65",
    "outputId": "756782b9-7754-4744-8942-7bab6b633099"
   },
   "outputs": [
    {
     "name": "stderr",
     "output_type": "stream",
     "text": [
      "Downloading...\n",
      "From: https://raw.githubusercontent.com/rickiepark/python4daml/main/wwc2019_q-f.csv\n",
      "To: /content/wwc2019_q-f.csv\n",
      "259B [00:00, 285kB/s]                    \n",
      "Downloading...\n",
      "From: https://raw.githubusercontent.com/rickiepark/python4daml/main/global-fossil-fuel-consumption.csv\n",
      "To: /content/global-fossil-fuel-consumption.csv\n",
      "2.25kB [00:00, 2.46MB/s]                   \n",
      "Downloading...\n",
      "From: https://raw.githubusercontent.com/rickiepark/python4daml/main/US_temperatures.csv\n",
      "To: /content/US_temperatures.csv\n",
      "2.42MB [00:00, 48.4MB/s]                  \n"
     ]
    }
   ],
   "source": [
    "import matplotlib.pyplot as plt\n",
    "\n",
    "#선 두께\n",
    "plt.rcParams['lines.linewidth'] = 4\n",
    "#제목 폰트 크기\n",
    "plt.rcParams['axes.titlesize'] = 16\n",
    "#축 레이블 폰트 크기\n",
    "plt.rcParams['axes.labelsize'] = 16\n",
    "#x 축 텍스트 크기\n",
    "plt.rcParams['xtick.labelsize'] = 16\n",
    "#y 축 텍스트 크기\n",
    "plt.rcParams['ytick.labelsize'] = 16\n",
    "#x 축 눈금 크기\n",
    "plt.rcParams['xtick.major.size'] = 7\n",
    "#y 축 눈금 크기\n",
    "plt.rcParams['ytick.major.size'] = 7\n",
    "#마커 크기\n",
    "plt.rcParams['lines.markersize'] = 10\n",
    "#범례를 표시할 때 마커 표시 개수\n",
    "plt.rcParams['legend.numpoints'] = 1\n",
    "#범례 텍스트 크기\n",
    "plt.rcParams['legend.fontsize'] = 14\n",
    "\n",
    "# 한글 폰트 사용을 위한 코드입니다.\n",
    "import sys\n",
    "# 코랩의 경우 나눔 폰트를 설치합니다.\n",
    "if 'google.colab' in sys.modules:\n",
    "    !sudo apt-get -qq -y install fonts-nanum\n",
    "    import matplotlib.font_manager as fm\n",
    "    font_files = fm.findSystemFonts(fontpaths=['/usr/share/fonts/truetype/nanum'])\n",
    "    for fpath in font_files:\n",
    "        fm.fontManager.addfont(fpath)\n",
    "\n",
    "# 나눔 폰트를 사용합니다.\n",
    "import matplotlib \n",
    "\n",
    "matplotlib.rc('font', family='NanumBarunGothic')\n",
    "matplotlib.rcParams['axes.unicode_minus'] = False\n",
    "\n",
    "# 코랩의 경우 필요한 데이터를 깃허브에서 다운로드합니다.\n",
    "if 'google.colab' in sys.modules:\n",
    "    import gdown\n",
    "    gdown.download('https://raw.githubusercontent.com/rickiepark/python4daml/main/wwc2019_q-f.csv', quiet=False)\n",
    "    gdown.download('https://raw.githubusercontent.com/rickiepark/python4daml/main/global-fossil-fuel-consumption.csv', quiet=False)\n",
    "    gdown.download('https://raw.githubusercontent.com/rickiepark/python4daml/main/US_temperatures.csv', quiet=False)"
   ]
  },
  {
   "cell_type": "markdown",
   "id": "0b344262-4639-4547-adef-081cfa93282b",
   "metadata": {
    "id": "0b344262-4639-4547-adef-081cfa93282b"
   },
   "source": [
    "## 23.1 데이터프레임과 CSV 파일"
   ]
  },
  {
   "cell_type": "code",
   "execution_count": 2,
   "id": "b446cc32-8d78-4ac9-9bb4-5484f0abffce",
   "metadata": {
    "colab": {
     "base_uri": "https://localhost:8080/"
    },
    "id": "b446cc32-8d78-4ac9-9bb4-5484f0abffce",
    "outputId": "af0950d1-4588-48e2-83ec-5bc4b307baa0",
    "scrolled": true
   },
   "outputs": [
    {
     "name": "stdout",
     "output_type": "stream",
     "text": [
      "          Round       Winner  W Goals        Loser  L Goals\n",
      "0      Quarters      England        3       Norway        0\n",
      "1      Quarters          USA        2       France        1\n",
      "2      Quarters  Netherlands        2        Italy        0\n",
      "3      Quarters       Sweden        2      Germany        1\n",
      "4         Semis          USA        2      England        1\n",
      "5         Semis  Netherlands        1       Sweden        0\n",
      "6     3rd Place       Sweden        2      England        1\n",
      "7  Championship          USA        2  Netherlands        0\n"
     ]
    }
   ],
   "source": [
    "import pandas as pd \n",
    "wwc = pd.read_csv('wwc2019_q-f.csv') \n",
    "print(wwc)"
   ]
  },
  {
   "cell_type": "code",
   "execution_count": 3,
   "id": "7b54ea4c-fe18-496c-9fee-94ae542cd93b",
   "metadata": {
    "colab": {
     "base_uri": "https://localhost:8080/"
    },
    "id": "7b54ea4c-fe18-496c-9fee-94ae542cd93b",
    "outputId": "badf105c-633c-48c8-ee49-cfadabb31811"
   },
   "outputs": [
    {
     "name": "stdout",
     "output_type": "stream",
     "text": [
      "0\n",
      "1\n",
      "2\n",
      "3\n",
      "4\n",
      "5\n",
      "6\n",
      "7\n"
     ]
    }
   ],
   "source": [
    "for i in wwc.index: \n",
    "    print(i)"
   ]
  },
  {
   "cell_type": "code",
   "execution_count": 4,
   "id": "7c89495b-0b52-4d6d-8313-25e14cc73380",
   "metadata": {
    "colab": {
     "base_uri": "https://localhost:8080/"
    },
    "id": "7c89495b-0b52-4d6d-8313-25e14cc73380",
    "outputId": "eafb5f62-5dc7-4030-edeb-8111bdbb9a65"
   },
   "outputs": [
    {
     "name": "stdout",
     "output_type": "stream",
     "text": [
      "Round\n",
      "Winner\n",
      "W Goals\n",
      "Loser\n",
      "L Goals\n"
     ]
    }
   ],
   "source": [
    "for c in wwc.columns: \n",
    "    print(c) "
   ]
  },
  {
   "cell_type": "code",
   "execution_count": 5,
   "id": "472db16c-0fc7-4f50-b17b-f67ba4106af7",
   "metadata": {
    "colab": {
     "base_uri": "https://localhost:8080/"
    },
    "id": "472db16c-0fc7-4f50-b17b-f67ba4106af7",
    "outputId": "a1034523-0520-40ed-a185-1eafa593fda4"
   },
   "outputs": [
    {
     "name": "stdout",
     "output_type": "stream",
     "text": [
      "[['Quarters' 'England' 3 'Norway' 0]\n",
      " ['Quarters' 'USA' 2 'France' 1]\n",
      " ['Quarters' 'Netherlands' 2 'Italy' 0]\n",
      " ['Quarters' 'Sweden' 2 'Germany' 1]\n",
      " ['Semis' 'USA' 2 'England' 1]\n",
      " ['Semis' 'Netherlands' 1 'Sweden' 0]\n",
      " ['3rd Place' 'Sweden' 2 'England' 1]\n",
      " ['Championship' 'USA' 2 'Netherlands' 0]]\n"
     ]
    }
   ],
   "source": [
    "print(wwc.values)"
   ]
  },
  {
   "cell_type": "code",
   "execution_count": 6,
   "id": "ffe20efc-6120-4268-b1e1-7905ad38aba2",
   "metadata": {
    "colab": {
     "base_uri": "https://localhost:8080/"
    },
    "id": "ffe20efc-6120-4268-b1e1-7905ad38aba2",
    "outputId": "38c042f1-0507-402b-c436-34504164ea66"
   },
   "outputs": [
    {
     "data": {
      "text/plain": [
       "(8, 5)"
      ]
     },
     "execution_count": 6,
     "metadata": {},
     "output_type": "execute_result"
    }
   ],
   "source": [
    "wwc.shape"
   ]
  },
  {
   "cell_type": "markdown",
   "id": "d837308d-258e-45b4-812b-9c810b32b476",
   "metadata": {
    "id": "d837308d-258e-45b4-812b-9c810b32b476"
   },
   "source": [
    "## 23.2 시리즈와 데이터프레임 만들기"
   ]
  },
  {
   "cell_type": "code",
   "execution_count": 7,
   "id": "ba1049d8-42e2-424a-9cb5-bc47759f176e",
   "metadata": {
    "colab": {
     "base_uri": "https://localhost:8080/"
    },
    "id": "ba1049d8-42e2-424a-9cb5-bc47759f176e",
    "outputId": "d57ad4a8-c9c7-459c-f907-c8371f426537"
   },
   "outputs": [
    {
     "name": "stdout",
     "output_type": "stream",
     "text": [
      "Empty DataFrame\n",
      "Columns: []\n",
      "Index: []\n"
     ]
    }
   ],
   "source": [
    "print(pd.DataFrame())"
   ]
  },
  {
   "cell_type": "code",
   "execution_count": 8,
   "id": "485dcc23-3679-426c-a5f8-171f30f90fd9",
   "metadata": {
    "colab": {
     "base_uri": "https://localhost:8080/"
    },
    "id": "485dcc23-3679-426c-a5f8-171f30f90fd9",
    "outputId": "acfbf8cf-9e48-4932-c0dd-1c70ea6d0f8c"
   },
   "outputs": [
    {
     "name": "stdout",
     "output_type": "stream",
     "text": [
      "              0\n",
      "0         Semis\n",
      "1         Semis\n",
      "2     3rd Place\n",
      "3  Championship\n"
     ]
    }
   ],
   "source": [
    "rounds = ['Semis', 'Semis', '3rd Place', 'Championship'] \n",
    "print(pd.DataFrame(rounds)) "
   ]
  },
  {
   "cell_type": "code",
   "execution_count": 9,
   "id": "13d734c5-c42a-46f2-bce4-b583fa2b1c68",
   "metadata": {
    "colab": {
     "base_uri": "https://localhost:8080/"
    },
    "id": "13d734c5-c42a-46f2-bce4-b583fa2b1c68",
    "outputId": "07e15aaa-d457-445e-8bea-40a95dde9bd3"
   },
   "outputs": [
    {
     "name": "stdout",
     "output_type": "stream",
     "text": [
      "          Round\n",
      "0         Semis\n",
      "1         Semis\n",
      "2     3rd Place\n",
      "3  Championship\n"
     ]
    }
   ],
   "source": [
    "print(pd.DataFrame({'Round': rounds}))"
   ]
  },
  {
   "cell_type": "code",
   "execution_count": 10,
   "id": "7ae835d8-ed10-4c2c-98e1-be0ca4177ddb",
   "metadata": {
    "colab": {
     "base_uri": "https://localhost:8080/"
    },
    "id": "7ae835d8-ed10-4c2c-98e1-be0ca4177ddb",
    "outputId": "594b2096-7702-4d87-c594-943b13947995"
   },
   "outputs": [
    {
     "name": "stdout",
     "output_type": "stream",
     "text": [
      "          Round       Winner\n",
      "0         Semis          USA\n",
      "1         Semis  Netherlands\n",
      "2     3rd Place       Sweden\n",
      "3  Championship          USA\n"
     ]
    }
   ],
   "source": [
    "rounds = ['Semis', 'Semis', '3rd Place', 'Championship'] \n",
    "teams = ['USA', 'Netherlands', 'Sweden', 'USA'] \n",
    "df = pd.DataFrame({'Round': rounds, 'Winner': teams}) \n",
    "print(df) "
   ]
  },
  {
   "cell_type": "code",
   "execution_count": 11,
   "id": "d5590988-5dfc-4001-8261-6c97aab3a7a0",
   "metadata": {
    "colab": {
     "base_uri": "https://localhost:8080/"
    },
    "id": "d5590988-5dfc-4001-8261-6c97aab3a7a0",
    "outputId": "a8592569-b896-45e6-9568-ec7779982c2f"
   },
   "outputs": [
    {
     "name": "stdout",
     "output_type": "stream",
     "text": [
      "          Round       Winner  W Goals\n",
      "0         Semis          USA        2\n",
      "1         Semis  Netherlands        1\n",
      "2     3rd Place       Sweden        0\n",
      "3  Championship          USA        0\n"
     ]
    }
   ],
   "source": [
    "df['W Goals'] = [2, 1, 0, 0]\n",
    "print(df)"
   ]
  },
  {
   "cell_type": "code",
   "execution_count": 12,
   "id": "d93af671-64b0-4e75-be52-031c63bca0ac",
   "metadata": {
    "colab": {
     "base_uri": "https://localhost:8080/"
    },
    "id": "d93af671-64b0-4e75-be52-031c63bca0ac",
    "outputId": "7936e7f3-1b51-47fb-bfb3-c51ca53f6a4d"
   },
   "outputs": [
    {
     "name": "stdout",
     "output_type": "stream",
     "text": [
      "          Round       Winner  W Goals\n",
      "0         Semis          USA        2\n",
      "1         Semis  Netherlands        1\n",
      "2     3rd Place       Sweden        2\n",
      "3  Championship          USA        2\n"
     ]
    }
   ],
   "source": [
    "df['W Goals'] = [2, 1, 2, 2]\n",
    "print(df)"
   ]
  },
  {
   "cell_type": "code",
   "execution_count": 13,
   "id": "56b11e60-a9d5-476b-9d66-d0c10fbd4a07",
   "metadata": {
    "colab": {
     "base_uri": "https://localhost:8080/"
    },
    "id": "56b11e60-a9d5-476b-9d66-d0c10fbd4a07",
    "outputId": "93c37316-1868-4cd4-9dc1-78f39611c323"
   },
   "outputs": [
    {
     "name": "stdout",
     "output_type": "stream",
     "text": [
      "          Round  W Goals\n",
      "0         Semis        2\n",
      "1         Semis        1\n",
      "2     3rd Place        2\n",
      "3  Championship        2\n"
     ]
    }
   ],
   "source": [
    "print(df.drop('Winner', axis = 'columns'))"
   ]
  },
  {
   "cell_type": "code",
   "execution_count": 14,
   "id": "983f57cf-98a9-4878-8e3b-5745f861b8dc",
   "metadata": {
    "colab": {
     "base_uri": "https://localhost:8080/"
    },
    "id": "983f57cf-98a9-4878-8e3b-5745f861b8dc",
    "outputId": "a86148f2-03da-49f4-bdbb-75565ae6ae20"
   },
   "outputs": [
    {
     "name": "stdout",
     "output_type": "stream",
     "text": [
      "          Round       Winner  W Goals\n",
      "0      Quarters      England        3\n",
      "1      Quarters          USA        2\n",
      "2      Quarters  Netherlands        2\n",
      "3      Quarters       Sweden        2\n",
      "0         Semis          USA        2\n",
      "1         Semis  Netherlands        1\n",
      "2     3rd Place       Sweden        2\n",
      "3  Championship          USA        2\n"
     ]
    }
   ],
   "source": [
    "quarters_dict = {'Round': ['Quarters']*4, \n",
    "                 'Winner': ['England', 'USA', 'Netherlands', 'Sweden'], \n",
    "                 'W Goals': [3, 2, 2, 2]} \n",
    "df = pd.concat([pd.DataFrame(quarters_dict), df], sort = False) \n",
    "print(df)"
   ]
  },
  {
   "cell_type": "code",
   "execution_count": 15,
   "id": "095d26d1-749a-4ecc-acb0-eb161d6cdfba",
   "metadata": {
    "colab": {
     "base_uri": "https://localhost:8080/",
     "height": 425
    },
    "id": "095d26d1-749a-4ecc-acb0-eb161d6cdfba",
    "outputId": "ed3e21f9-7269-4efa-be9d-cb49443f78f2"
   },
   "outputs": [
    {
     "data": {
      "text/html": [
       "\n",
       "  <div id=\"df-acec40af-cf4a-4a3f-b406-4ff78d5b2218\">\n",
       "    <div class=\"colab-df-container\">\n",
       "      <div>\n",
       "<style scoped>\n",
       "    .dataframe tbody tr th:only-of-type {\n",
       "        vertical-align: middle;\n",
       "    }\n",
       "\n",
       "    .dataframe tbody tr th {\n",
       "        vertical-align: top;\n",
       "    }\n",
       "\n",
       "    .dataframe thead th {\n",
       "        text-align: right;\n",
       "    }\n",
       "</style>\n",
       "<table border=\"1\" class=\"dataframe\">\n",
       "  <thead>\n",
       "    <tr style=\"text-align: right;\">\n",
       "      <th></th>\n",
       "      <th>Round</th>\n",
       "      <th>W Goals</th>\n",
       "      <th>Winner</th>\n",
       "    </tr>\n",
       "  </thead>\n",
       "  <tbody>\n",
       "    <tr>\n",
       "      <th>0</th>\n",
       "      <td>Quarters</td>\n",
       "      <td>3</td>\n",
       "      <td>England</td>\n",
       "    </tr>\n",
       "    <tr>\n",
       "      <th>1</th>\n",
       "      <td>Quarters</td>\n",
       "      <td>2</td>\n",
       "      <td>USA</td>\n",
       "    </tr>\n",
       "    <tr>\n",
       "      <th>2</th>\n",
       "      <td>Quarters</td>\n",
       "      <td>2</td>\n",
       "      <td>Netherlands</td>\n",
       "    </tr>\n",
       "    <tr>\n",
       "      <th>3</th>\n",
       "      <td>Quarters</td>\n",
       "      <td>2</td>\n",
       "      <td>Sweden</td>\n",
       "    </tr>\n",
       "    <tr>\n",
       "      <th>0</th>\n",
       "      <td>Quarters</td>\n",
       "      <td>3</td>\n",
       "      <td>England</td>\n",
       "    </tr>\n",
       "    <tr>\n",
       "      <th>1</th>\n",
       "      <td>Quarters</td>\n",
       "      <td>2</td>\n",
       "      <td>USA</td>\n",
       "    </tr>\n",
       "    <tr>\n",
       "      <th>2</th>\n",
       "      <td>Quarters</td>\n",
       "      <td>2</td>\n",
       "      <td>Netherlands</td>\n",
       "    </tr>\n",
       "    <tr>\n",
       "      <th>3</th>\n",
       "      <td>Quarters</td>\n",
       "      <td>2</td>\n",
       "      <td>Sweden</td>\n",
       "    </tr>\n",
       "    <tr>\n",
       "      <th>0</th>\n",
       "      <td>Semis</td>\n",
       "      <td>2</td>\n",
       "      <td>USA</td>\n",
       "    </tr>\n",
       "    <tr>\n",
       "      <th>1</th>\n",
       "      <td>Semis</td>\n",
       "      <td>1</td>\n",
       "      <td>Netherlands</td>\n",
       "    </tr>\n",
       "    <tr>\n",
       "      <th>2</th>\n",
       "      <td>3rd Place</td>\n",
       "      <td>2</td>\n",
       "      <td>Sweden</td>\n",
       "    </tr>\n",
       "    <tr>\n",
       "      <th>3</th>\n",
       "      <td>Championship</td>\n",
       "      <td>2</td>\n",
       "      <td>USA</td>\n",
       "    </tr>\n",
       "  </tbody>\n",
       "</table>\n",
       "</div>\n",
       "      <button class=\"colab-df-convert\" onclick=\"convertToInteractive('df-acec40af-cf4a-4a3f-b406-4ff78d5b2218')\"\n",
       "              title=\"Convert this dataframe to an interactive table.\"\n",
       "              style=\"display:none;\">\n",
       "        \n",
       "  <svg xmlns=\"http://www.w3.org/2000/svg\" height=\"24px\"viewBox=\"0 0 24 24\"\n",
       "       width=\"24px\">\n",
       "    <path d=\"M0 0h24v24H0V0z\" fill=\"none\"/>\n",
       "    <path d=\"M18.56 5.44l.94 2.06.94-2.06 2.06-.94-2.06-.94-.94-2.06-.94 2.06-2.06.94zm-11 1L8.5 8.5l.94-2.06 2.06-.94-2.06-.94L8.5 2.5l-.94 2.06-2.06.94zm10 10l.94 2.06.94-2.06 2.06-.94-2.06-.94-.94-2.06-.94 2.06-2.06.94z\"/><path d=\"M17.41 7.96l-1.37-1.37c-.4-.4-.92-.59-1.43-.59-.52 0-1.04.2-1.43.59L10.3 9.45l-7.72 7.72c-.78.78-.78 2.05 0 2.83L4 21.41c.39.39.9.59 1.41.59.51 0 1.02-.2 1.41-.59l7.78-7.78 2.81-2.81c.8-.78.8-2.07 0-2.86zM5.41 20L4 18.59l7.72-7.72 1.47 1.35L5.41 20z\"/>\n",
       "  </svg>\n",
       "      </button>\n",
       "      \n",
       "  <style>\n",
       "    .colab-df-container {\n",
       "      display:flex;\n",
       "      flex-wrap:wrap;\n",
       "      gap: 12px;\n",
       "    }\n",
       "\n",
       "    .colab-df-convert {\n",
       "      background-color: #E8F0FE;\n",
       "      border: none;\n",
       "      border-radius: 50%;\n",
       "      cursor: pointer;\n",
       "      display: none;\n",
       "      fill: #1967D2;\n",
       "      height: 32px;\n",
       "      padding: 0 0 0 0;\n",
       "      width: 32px;\n",
       "    }\n",
       "\n",
       "    .colab-df-convert:hover {\n",
       "      background-color: #E2EBFA;\n",
       "      box-shadow: 0px 1px 2px rgba(60, 64, 67, 0.3), 0px 1px 3px 1px rgba(60, 64, 67, 0.15);\n",
       "      fill: #174EA6;\n",
       "    }\n",
       "\n",
       "    [theme=dark] .colab-df-convert {\n",
       "      background-color: #3B4455;\n",
       "      fill: #D2E3FC;\n",
       "    }\n",
       "\n",
       "    [theme=dark] .colab-df-convert:hover {\n",
       "      background-color: #434B5C;\n",
       "      box-shadow: 0px 1px 3px 1px rgba(0, 0, 0, 0.15);\n",
       "      filter: drop-shadow(0px 1px 2px rgba(0, 0, 0, 0.3));\n",
       "      fill: #FFFFFF;\n",
       "    }\n",
       "  </style>\n",
       "\n",
       "      <script>\n",
       "        const buttonEl =\n",
       "          document.querySelector('#df-acec40af-cf4a-4a3f-b406-4ff78d5b2218 button.colab-df-convert');\n",
       "        buttonEl.style.display =\n",
       "          google.colab.kernel.accessAllowed ? 'block' : 'none';\n",
       "\n",
       "        async function convertToInteractive(key) {\n",
       "          const element = document.querySelector('#df-acec40af-cf4a-4a3f-b406-4ff78d5b2218');\n",
       "          const dataTable =\n",
       "            await google.colab.kernel.invokeFunction('convertToInteractive',\n",
       "                                                     [key], {});\n",
       "          if (!dataTable) return;\n",
       "\n",
       "          const docLinkHtml = 'Like what you see? Visit the ' +\n",
       "            '<a target=\"_blank\" href=https://colab.research.google.com/notebooks/data_table.ipynb>data table notebook</a>'\n",
       "            + ' to learn more about interactive tables.';\n",
       "          element.innerHTML = '';\n",
       "          dataTable['output_type'] = 'display_data';\n",
       "          await google.colab.output.renderOutput(dataTable, element);\n",
       "          const docLink = document.createElement('div');\n",
       "          docLink.innerHTML = docLinkHtml;\n",
       "          element.appendChild(docLink);\n",
       "        }\n",
       "      </script>\n",
       "    </div>\n",
       "  </div>\n",
       "  "
      ],
      "text/plain": [
       "          Round  W Goals       Winner\n",
       "0      Quarters        3      England\n",
       "1      Quarters        2          USA\n",
       "2      Quarters        2  Netherlands\n",
       "3      Quarters        2       Sweden\n",
       "0      Quarters        3      England\n",
       "1      Quarters        2          USA\n",
       "2      Quarters        2  Netherlands\n",
       "3      Quarters        2       Sweden\n",
       "0         Semis        2          USA\n",
       "1         Semis        1  Netherlands\n",
       "2     3rd Place        2       Sweden\n",
       "3  Championship        2          USA"
      ]
     },
     "execution_count": 15,
     "metadata": {},
     "output_type": "execute_result"
    }
   ],
   "source": [
    "pd.concat([pd.DataFrame(quarters_dict), df], sort = True)"
   ]
  },
  {
   "cell_type": "code",
   "execution_count": 16,
   "id": "efb64fc2-ba9e-4579-a4b7-4a87f75f04f6",
   "metadata": {
    "colab": {
     "base_uri": "https://localhost:8080/",
     "height": 300
    },
    "id": "efb64fc2-ba9e-4579-a4b7-4a87f75f04f6",
    "outputId": "3e0d8937-9190-4671-8b19-a2729f8555de"
   },
   "outputs": [
    {
     "data": {
      "text/html": [
       "\n",
       "  <div id=\"df-9bc7bbee-7953-48e2-ad60-611f79436ba9\">\n",
       "    <div class=\"colab-df-container\">\n",
       "      <div>\n",
       "<style scoped>\n",
       "    .dataframe tbody tr th:only-of-type {\n",
       "        vertical-align: middle;\n",
       "    }\n",
       "\n",
       "    .dataframe tbody tr th {\n",
       "        vertical-align: top;\n",
       "    }\n",
       "\n",
       "    .dataframe thead th {\n",
       "        text-align: right;\n",
       "    }\n",
       "</style>\n",
       "<table border=\"1\" class=\"dataframe\">\n",
       "  <thead>\n",
       "    <tr style=\"text-align: right;\">\n",
       "      <th></th>\n",
       "      <th>Round</th>\n",
       "      <th>Winner</th>\n",
       "      <th>W Goals</th>\n",
       "    </tr>\n",
       "  </thead>\n",
       "  <tbody>\n",
       "    <tr>\n",
       "      <th>0</th>\n",
       "      <td>Quarters</td>\n",
       "      <td>England</td>\n",
       "      <td>3</td>\n",
       "    </tr>\n",
       "    <tr>\n",
       "      <th>1</th>\n",
       "      <td>Quarters</td>\n",
       "      <td>USA</td>\n",
       "      <td>2</td>\n",
       "    </tr>\n",
       "    <tr>\n",
       "      <th>2</th>\n",
       "      <td>Quarters</td>\n",
       "      <td>Netherlands</td>\n",
       "      <td>2</td>\n",
       "    </tr>\n",
       "    <tr>\n",
       "      <th>3</th>\n",
       "      <td>Quarters</td>\n",
       "      <td>Sweden</td>\n",
       "      <td>2</td>\n",
       "    </tr>\n",
       "    <tr>\n",
       "      <th>4</th>\n",
       "      <td>Semis</td>\n",
       "      <td>USA</td>\n",
       "      <td>2</td>\n",
       "    </tr>\n",
       "    <tr>\n",
       "      <th>5</th>\n",
       "      <td>Semis</td>\n",
       "      <td>Netherlands</td>\n",
       "      <td>1</td>\n",
       "    </tr>\n",
       "    <tr>\n",
       "      <th>6</th>\n",
       "      <td>3rd Place</td>\n",
       "      <td>Sweden</td>\n",
       "      <td>2</td>\n",
       "    </tr>\n",
       "    <tr>\n",
       "      <th>7</th>\n",
       "      <td>Championship</td>\n",
       "      <td>USA</td>\n",
       "      <td>2</td>\n",
       "    </tr>\n",
       "  </tbody>\n",
       "</table>\n",
       "</div>\n",
       "      <button class=\"colab-df-convert\" onclick=\"convertToInteractive('df-9bc7bbee-7953-48e2-ad60-611f79436ba9')\"\n",
       "              title=\"Convert this dataframe to an interactive table.\"\n",
       "              style=\"display:none;\">\n",
       "        \n",
       "  <svg xmlns=\"http://www.w3.org/2000/svg\" height=\"24px\"viewBox=\"0 0 24 24\"\n",
       "       width=\"24px\">\n",
       "    <path d=\"M0 0h24v24H0V0z\" fill=\"none\"/>\n",
       "    <path d=\"M18.56 5.44l.94 2.06.94-2.06 2.06-.94-2.06-.94-.94-2.06-.94 2.06-2.06.94zm-11 1L8.5 8.5l.94-2.06 2.06-.94-2.06-.94L8.5 2.5l-.94 2.06-2.06.94zm10 10l.94 2.06.94-2.06 2.06-.94-2.06-.94-.94-2.06-.94 2.06-2.06.94z\"/><path d=\"M17.41 7.96l-1.37-1.37c-.4-.4-.92-.59-1.43-.59-.52 0-1.04.2-1.43.59L10.3 9.45l-7.72 7.72c-.78.78-.78 2.05 0 2.83L4 21.41c.39.39.9.59 1.41.59.51 0 1.02-.2 1.41-.59l7.78-7.78 2.81-2.81c.8-.78.8-2.07 0-2.86zM5.41 20L4 18.59l7.72-7.72 1.47 1.35L5.41 20z\"/>\n",
       "  </svg>\n",
       "      </button>\n",
       "      \n",
       "  <style>\n",
       "    .colab-df-container {\n",
       "      display:flex;\n",
       "      flex-wrap:wrap;\n",
       "      gap: 12px;\n",
       "    }\n",
       "\n",
       "    .colab-df-convert {\n",
       "      background-color: #E8F0FE;\n",
       "      border: none;\n",
       "      border-radius: 50%;\n",
       "      cursor: pointer;\n",
       "      display: none;\n",
       "      fill: #1967D2;\n",
       "      height: 32px;\n",
       "      padding: 0 0 0 0;\n",
       "      width: 32px;\n",
       "    }\n",
       "\n",
       "    .colab-df-convert:hover {\n",
       "      background-color: #E2EBFA;\n",
       "      box-shadow: 0px 1px 2px rgba(60, 64, 67, 0.3), 0px 1px 3px 1px rgba(60, 64, 67, 0.15);\n",
       "      fill: #174EA6;\n",
       "    }\n",
       "\n",
       "    [theme=dark] .colab-df-convert {\n",
       "      background-color: #3B4455;\n",
       "      fill: #D2E3FC;\n",
       "    }\n",
       "\n",
       "    [theme=dark] .colab-df-convert:hover {\n",
       "      background-color: #434B5C;\n",
       "      box-shadow: 0px 1px 3px 1px rgba(0, 0, 0, 0.15);\n",
       "      filter: drop-shadow(0px 1px 2px rgba(0, 0, 0, 0.3));\n",
       "      fill: #FFFFFF;\n",
       "    }\n",
       "  </style>\n",
       "\n",
       "      <script>\n",
       "        const buttonEl =\n",
       "          document.querySelector('#df-9bc7bbee-7953-48e2-ad60-611f79436ba9 button.colab-df-convert');\n",
       "        buttonEl.style.display =\n",
       "          google.colab.kernel.accessAllowed ? 'block' : 'none';\n",
       "\n",
       "        async function convertToInteractive(key) {\n",
       "          const element = document.querySelector('#df-9bc7bbee-7953-48e2-ad60-611f79436ba9');\n",
       "          const dataTable =\n",
       "            await google.colab.kernel.invokeFunction('convertToInteractive',\n",
       "                                                     [key], {});\n",
       "          if (!dataTable) return;\n",
       "\n",
       "          const docLinkHtml = 'Like what you see? Visit the ' +\n",
       "            '<a target=\"_blank\" href=https://colab.research.google.com/notebooks/data_table.ipynb>data table notebook</a>'\n",
       "            + ' to learn more about interactive tables.';\n",
       "          element.innerHTML = '';\n",
       "          dataTable['output_type'] = 'display_data';\n",
       "          await google.colab.output.renderOutput(dataTable, element);\n",
       "          const docLink = document.createElement('div');\n",
       "          docLink.innerHTML = docLinkHtml;\n",
       "          element.appendChild(docLink);\n",
       "        }\n",
       "      </script>\n",
       "    </div>\n",
       "  </div>\n",
       "  "
      ],
      "text/plain": [
       "          Round       Winner  W Goals\n",
       "0      Quarters      England        3\n",
       "1      Quarters          USA        2\n",
       "2      Quarters  Netherlands        2\n",
       "3      Quarters       Sweden        2\n",
       "4         Semis          USA        2\n",
       "5         Semis  Netherlands        1\n",
       "6     3rd Place       Sweden        2\n",
       "7  Championship          USA        2"
      ]
     },
     "execution_count": 16,
     "metadata": {},
     "output_type": "execute_result"
    }
   ],
   "source": [
    "df.reset_index(drop = True)"
   ]
  },
  {
   "cell_type": "code",
   "execution_count": 17,
   "id": "6a6e0033-9b64-4d15-9403-998c2544ec22",
   "metadata": {
    "colab": {
     "base_uri": "https://localhost:8080/",
     "height": 300
    },
    "id": "6a6e0033-9b64-4d15-9403-998c2544ec22",
    "outputId": "68541f35-7d81-4b2e-9081-27f1d4f1beaf"
   },
   "outputs": [
    {
     "data": {
      "text/html": [
       "\n",
       "  <div id=\"df-88e025b3-347e-4ba6-a77b-d27b7a837ae0\">\n",
       "    <div class=\"colab-df-container\">\n",
       "      <div>\n",
       "<style scoped>\n",
       "    .dataframe tbody tr th:only-of-type {\n",
       "        vertical-align: middle;\n",
       "    }\n",
       "\n",
       "    .dataframe tbody tr th {\n",
       "        vertical-align: top;\n",
       "    }\n",
       "\n",
       "    .dataframe thead th {\n",
       "        text-align: right;\n",
       "    }\n",
       "</style>\n",
       "<table border=\"1\" class=\"dataframe\">\n",
       "  <thead>\n",
       "    <tr style=\"text-align: right;\">\n",
       "      <th></th>\n",
       "      <th>index</th>\n",
       "      <th>Round</th>\n",
       "      <th>Winner</th>\n",
       "      <th>W Goals</th>\n",
       "    </tr>\n",
       "  </thead>\n",
       "  <tbody>\n",
       "    <tr>\n",
       "      <th>0</th>\n",
       "      <td>0</td>\n",
       "      <td>Quarters</td>\n",
       "      <td>England</td>\n",
       "      <td>3</td>\n",
       "    </tr>\n",
       "    <tr>\n",
       "      <th>1</th>\n",
       "      <td>1</td>\n",
       "      <td>Quarters</td>\n",
       "      <td>USA</td>\n",
       "      <td>2</td>\n",
       "    </tr>\n",
       "    <tr>\n",
       "      <th>2</th>\n",
       "      <td>2</td>\n",
       "      <td>Quarters</td>\n",
       "      <td>Netherlands</td>\n",
       "      <td>2</td>\n",
       "    </tr>\n",
       "    <tr>\n",
       "      <th>3</th>\n",
       "      <td>3</td>\n",
       "      <td>Quarters</td>\n",
       "      <td>Sweden</td>\n",
       "      <td>2</td>\n",
       "    </tr>\n",
       "    <tr>\n",
       "      <th>4</th>\n",
       "      <td>0</td>\n",
       "      <td>Semis</td>\n",
       "      <td>USA</td>\n",
       "      <td>2</td>\n",
       "    </tr>\n",
       "    <tr>\n",
       "      <th>5</th>\n",
       "      <td>1</td>\n",
       "      <td>Semis</td>\n",
       "      <td>Netherlands</td>\n",
       "      <td>1</td>\n",
       "    </tr>\n",
       "    <tr>\n",
       "      <th>6</th>\n",
       "      <td>2</td>\n",
       "      <td>3rd Place</td>\n",
       "      <td>Sweden</td>\n",
       "      <td>2</td>\n",
       "    </tr>\n",
       "    <tr>\n",
       "      <th>7</th>\n",
       "      <td>3</td>\n",
       "      <td>Championship</td>\n",
       "      <td>USA</td>\n",
       "      <td>2</td>\n",
       "    </tr>\n",
       "  </tbody>\n",
       "</table>\n",
       "</div>\n",
       "      <button class=\"colab-df-convert\" onclick=\"convertToInteractive('df-88e025b3-347e-4ba6-a77b-d27b7a837ae0')\"\n",
       "              title=\"Convert this dataframe to an interactive table.\"\n",
       "              style=\"display:none;\">\n",
       "        \n",
       "  <svg xmlns=\"http://www.w3.org/2000/svg\" height=\"24px\"viewBox=\"0 0 24 24\"\n",
       "       width=\"24px\">\n",
       "    <path d=\"M0 0h24v24H0V0z\" fill=\"none\"/>\n",
       "    <path d=\"M18.56 5.44l.94 2.06.94-2.06 2.06-.94-2.06-.94-.94-2.06-.94 2.06-2.06.94zm-11 1L8.5 8.5l.94-2.06 2.06-.94-2.06-.94L8.5 2.5l-.94 2.06-2.06.94zm10 10l.94 2.06.94-2.06 2.06-.94-2.06-.94-.94-2.06-.94 2.06-2.06.94z\"/><path d=\"M17.41 7.96l-1.37-1.37c-.4-.4-.92-.59-1.43-.59-.52 0-1.04.2-1.43.59L10.3 9.45l-7.72 7.72c-.78.78-.78 2.05 0 2.83L4 21.41c.39.39.9.59 1.41.59.51 0 1.02-.2 1.41-.59l7.78-7.78 2.81-2.81c.8-.78.8-2.07 0-2.86zM5.41 20L4 18.59l7.72-7.72 1.47 1.35L5.41 20z\"/>\n",
       "  </svg>\n",
       "      </button>\n",
       "      \n",
       "  <style>\n",
       "    .colab-df-container {\n",
       "      display:flex;\n",
       "      flex-wrap:wrap;\n",
       "      gap: 12px;\n",
       "    }\n",
       "\n",
       "    .colab-df-convert {\n",
       "      background-color: #E8F0FE;\n",
       "      border: none;\n",
       "      border-radius: 50%;\n",
       "      cursor: pointer;\n",
       "      display: none;\n",
       "      fill: #1967D2;\n",
       "      height: 32px;\n",
       "      padding: 0 0 0 0;\n",
       "      width: 32px;\n",
       "    }\n",
       "\n",
       "    .colab-df-convert:hover {\n",
       "      background-color: #E2EBFA;\n",
       "      box-shadow: 0px 1px 2px rgba(60, 64, 67, 0.3), 0px 1px 3px 1px rgba(60, 64, 67, 0.15);\n",
       "      fill: #174EA6;\n",
       "    }\n",
       "\n",
       "    [theme=dark] .colab-df-convert {\n",
       "      background-color: #3B4455;\n",
       "      fill: #D2E3FC;\n",
       "    }\n",
       "\n",
       "    [theme=dark] .colab-df-convert:hover {\n",
       "      background-color: #434B5C;\n",
       "      box-shadow: 0px 1px 3px 1px rgba(0, 0, 0, 0.15);\n",
       "      filter: drop-shadow(0px 1px 2px rgba(0, 0, 0, 0.3));\n",
       "      fill: #FFFFFF;\n",
       "    }\n",
       "  </style>\n",
       "\n",
       "      <script>\n",
       "        const buttonEl =\n",
       "          document.querySelector('#df-88e025b3-347e-4ba6-a77b-d27b7a837ae0 button.colab-df-convert');\n",
       "        buttonEl.style.display =\n",
       "          google.colab.kernel.accessAllowed ? 'block' : 'none';\n",
       "\n",
       "        async function convertToInteractive(key) {\n",
       "          const element = document.querySelector('#df-88e025b3-347e-4ba6-a77b-d27b7a837ae0');\n",
       "          const dataTable =\n",
       "            await google.colab.kernel.invokeFunction('convertToInteractive',\n",
       "                                                     [key], {});\n",
       "          if (!dataTable) return;\n",
       "\n",
       "          const docLinkHtml = 'Like what you see? Visit the ' +\n",
       "            '<a target=\"_blank\" href=https://colab.research.google.com/notebooks/data_table.ipynb>data table notebook</a>'\n",
       "            + ' to learn more about interactive tables.';\n",
       "          element.innerHTML = '';\n",
       "          dataTable['output_type'] = 'display_data';\n",
       "          await google.colab.output.renderOutput(dataTable, element);\n",
       "          const docLink = document.createElement('div');\n",
       "          docLink.innerHTML = docLinkHtml;\n",
       "          element.appendChild(docLink);\n",
       "        }\n",
       "      </script>\n",
       "    </div>\n",
       "  </div>\n",
       "  "
      ],
      "text/plain": [
       "   index         Round       Winner  W Goals\n",
       "0      0      Quarters      England        3\n",
       "1      1      Quarters          USA        2\n",
       "2      2      Quarters  Netherlands        2\n",
       "3      3      Quarters       Sweden        2\n",
       "4      0         Semis          USA        2\n",
       "5      1         Semis  Netherlands        1\n",
       "6      2     3rd Place       Sweden        2\n",
       "7      3  Championship          USA        2"
      ]
     },
     "execution_count": 17,
     "metadata": {},
     "output_type": "execute_result"
    }
   ],
   "source": [
    "df.reset_index(drop = False)"
   ]
  },
  {
   "cell_type": "code",
   "execution_count": 18,
   "id": "4f933f90-002c-440d-a736-839dab3ce260",
   "metadata": {
    "colab": {
     "base_uri": "https://localhost:8080/",
     "height": 331
    },
    "id": "4f933f90-002c-440d-a736-839dab3ce260",
    "outputId": "e206996a-b6ba-4f27-82ad-1c0ebc9b33dc"
   },
   "outputs": [
    {
     "data": {
      "text/html": [
       "\n",
       "  <div id=\"df-1ebfef97-790c-479e-9191-17137e3f4640\">\n",
       "    <div class=\"colab-df-container\">\n",
       "      <div>\n",
       "<style scoped>\n",
       "    .dataframe tbody tr th:only-of-type {\n",
       "        vertical-align: middle;\n",
       "    }\n",
       "\n",
       "    .dataframe tbody tr th {\n",
       "        vertical-align: top;\n",
       "    }\n",
       "\n",
       "    .dataframe thead th {\n",
       "        text-align: right;\n",
       "    }\n",
       "</style>\n",
       "<table border=\"1\" class=\"dataframe\">\n",
       "  <thead>\n",
       "    <tr style=\"text-align: right;\">\n",
       "      <th></th>\n",
       "      <th>Winner</th>\n",
       "      <th>W Goals</th>\n",
       "    </tr>\n",
       "    <tr>\n",
       "      <th>Round</th>\n",
       "      <th></th>\n",
       "      <th></th>\n",
       "    </tr>\n",
       "  </thead>\n",
       "  <tbody>\n",
       "    <tr>\n",
       "      <th>Quarters</th>\n",
       "      <td>England</td>\n",
       "      <td>3</td>\n",
       "    </tr>\n",
       "    <tr>\n",
       "      <th>Quarters</th>\n",
       "      <td>USA</td>\n",
       "      <td>2</td>\n",
       "    </tr>\n",
       "    <tr>\n",
       "      <th>Quarters</th>\n",
       "      <td>Netherlands</td>\n",
       "      <td>2</td>\n",
       "    </tr>\n",
       "    <tr>\n",
       "      <th>Quarters</th>\n",
       "      <td>Sweden</td>\n",
       "      <td>2</td>\n",
       "    </tr>\n",
       "    <tr>\n",
       "      <th>Semis</th>\n",
       "      <td>USA</td>\n",
       "      <td>2</td>\n",
       "    </tr>\n",
       "    <tr>\n",
       "      <th>Semis</th>\n",
       "      <td>Netherlands</td>\n",
       "      <td>1</td>\n",
       "    </tr>\n",
       "    <tr>\n",
       "      <th>3rd Place</th>\n",
       "      <td>Sweden</td>\n",
       "      <td>2</td>\n",
       "    </tr>\n",
       "    <tr>\n",
       "      <th>Championship</th>\n",
       "      <td>USA</td>\n",
       "      <td>2</td>\n",
       "    </tr>\n",
       "  </tbody>\n",
       "</table>\n",
       "</div>\n",
       "      <button class=\"colab-df-convert\" onclick=\"convertToInteractive('df-1ebfef97-790c-479e-9191-17137e3f4640')\"\n",
       "              title=\"Convert this dataframe to an interactive table.\"\n",
       "              style=\"display:none;\">\n",
       "        \n",
       "  <svg xmlns=\"http://www.w3.org/2000/svg\" height=\"24px\"viewBox=\"0 0 24 24\"\n",
       "       width=\"24px\">\n",
       "    <path d=\"M0 0h24v24H0V0z\" fill=\"none\"/>\n",
       "    <path d=\"M18.56 5.44l.94 2.06.94-2.06 2.06-.94-2.06-.94-.94-2.06-.94 2.06-2.06.94zm-11 1L8.5 8.5l.94-2.06 2.06-.94-2.06-.94L8.5 2.5l-.94 2.06-2.06.94zm10 10l.94 2.06.94-2.06 2.06-.94-2.06-.94-.94-2.06-.94 2.06-2.06.94z\"/><path d=\"M17.41 7.96l-1.37-1.37c-.4-.4-.92-.59-1.43-.59-.52 0-1.04.2-1.43.59L10.3 9.45l-7.72 7.72c-.78.78-.78 2.05 0 2.83L4 21.41c.39.39.9.59 1.41.59.51 0 1.02-.2 1.41-.59l7.78-7.78 2.81-2.81c.8-.78.8-2.07 0-2.86zM5.41 20L4 18.59l7.72-7.72 1.47 1.35L5.41 20z\"/>\n",
       "  </svg>\n",
       "      </button>\n",
       "      \n",
       "  <style>\n",
       "    .colab-df-container {\n",
       "      display:flex;\n",
       "      flex-wrap:wrap;\n",
       "      gap: 12px;\n",
       "    }\n",
       "\n",
       "    .colab-df-convert {\n",
       "      background-color: #E8F0FE;\n",
       "      border: none;\n",
       "      border-radius: 50%;\n",
       "      cursor: pointer;\n",
       "      display: none;\n",
       "      fill: #1967D2;\n",
       "      height: 32px;\n",
       "      padding: 0 0 0 0;\n",
       "      width: 32px;\n",
       "    }\n",
       "\n",
       "    .colab-df-convert:hover {\n",
       "      background-color: #E2EBFA;\n",
       "      box-shadow: 0px 1px 2px rgba(60, 64, 67, 0.3), 0px 1px 3px 1px rgba(60, 64, 67, 0.15);\n",
       "      fill: #174EA6;\n",
       "    }\n",
       "\n",
       "    [theme=dark] .colab-df-convert {\n",
       "      background-color: #3B4455;\n",
       "      fill: #D2E3FC;\n",
       "    }\n",
       "\n",
       "    [theme=dark] .colab-df-convert:hover {\n",
       "      background-color: #434B5C;\n",
       "      box-shadow: 0px 1px 3px 1px rgba(0, 0, 0, 0.15);\n",
       "      filter: drop-shadow(0px 1px 2px rgba(0, 0, 0, 0.3));\n",
       "      fill: #FFFFFF;\n",
       "    }\n",
       "  </style>\n",
       "\n",
       "      <script>\n",
       "        const buttonEl =\n",
       "          document.querySelector('#df-1ebfef97-790c-479e-9191-17137e3f4640 button.colab-df-convert');\n",
       "        buttonEl.style.display =\n",
       "          google.colab.kernel.accessAllowed ? 'block' : 'none';\n",
       "\n",
       "        async function convertToInteractive(key) {\n",
       "          const element = document.querySelector('#df-1ebfef97-790c-479e-9191-17137e3f4640');\n",
       "          const dataTable =\n",
       "            await google.colab.kernel.invokeFunction('convertToInteractive',\n",
       "                                                     [key], {});\n",
       "          if (!dataTable) return;\n",
       "\n",
       "          const docLinkHtml = 'Like what you see? Visit the ' +\n",
       "            '<a target=\"_blank\" href=https://colab.research.google.com/notebooks/data_table.ipynb>data table notebook</a>'\n",
       "            + ' to learn more about interactive tables.';\n",
       "          element.innerHTML = '';\n",
       "          dataTable['output_type'] = 'display_data';\n",
       "          await google.colab.output.renderOutput(dataTable, element);\n",
       "          const docLink = document.createElement('div');\n",
       "          docLink.innerHTML = docLinkHtml;\n",
       "          element.appendChild(docLink);\n",
       "        }\n",
       "      </script>\n",
       "    </div>\n",
       "  </div>\n",
       "  "
      ],
      "text/plain": [
       "                   Winner  W Goals\n",
       "Round                             \n",
       "Quarters          England        3\n",
       "Quarters              USA        2\n",
       "Quarters      Netherlands        2\n",
       "Quarters           Sweden        2\n",
       "Semis                 USA        2\n",
       "Semis         Netherlands        1\n",
       "3rd Place          Sweden        2\n",
       "Championship          USA        2"
      ]
     },
     "execution_count": 18,
     "metadata": {},
     "output_type": "execute_result"
    }
   ],
   "source": [
    "df.set_index('Round')"
   ]
  },
  {
   "cell_type": "markdown",
   "id": "6f591226-a618-4f8c-9817-ea92f3d0d87f",
   "metadata": {
    "id": "6f591226-a618-4f8c-9817-ea92f3d0d87f"
   },
   "source": [
    "## 23.3 열과 행 선택하기"
   ]
  },
  {
   "cell_type": "code",
   "execution_count": 19,
   "id": "ae657285-7225-4d5f-8d69-f96d748a2ae8",
   "metadata": {
    "colab": {
     "base_uri": "https://localhost:8080/"
    },
    "id": "ae657285-7225-4d5f-8d69-f96d748a2ae8",
    "outputId": "3cc13663-a917-4689-8289-4987de6630d1"
   },
   "outputs": [
    {
     "data": {
      "text/plain": [
       "0        England\n",
       "1            USA\n",
       "2    Netherlands\n",
       "3         Sweden\n",
       "4            USA\n",
       "5    Netherlands\n",
       "6         Sweden\n",
       "7            USA\n",
       "Name: Winner, dtype: object"
      ]
     },
     "execution_count": 19,
     "metadata": {},
     "output_type": "execute_result"
    }
   ],
   "source": [
    "wwc['Winner']"
   ]
  },
  {
   "cell_type": "code",
   "execution_count": 20,
   "id": "8ba9ec53-8337-4812-a704-20de6a9d91b1",
   "metadata": {
    "colab": {
     "base_uri": "https://localhost:8080/"
    },
    "id": "8ba9ec53-8337-4812-a704-20de6a9d91b1",
    "outputId": "519dde98-3ba9-4ecf-de39-3aa606d2b6dd"
   },
   "outputs": [
    {
     "name": "stdout",
     "output_type": "stream",
     "text": [
      "England,USA,Netherlands,Sweden,USA,Netherlands,Sweden,USA\n"
     ]
    }
   ],
   "source": [
    "winners = '' \n",
    "for w in wwc['Winner']: \n",
    "    winners += w + ',' \n",
    "print(winners[:-1]) "
   ]
  },
  {
   "cell_type": "markdown",
   "id": "7e92cd65-15d9-41df-82cf-f022c323810a",
   "metadata": {
    "id": "7e92cd65-15d9-41df-82cf-f022c323810a"
   },
   "source": [
    "**뇌풀기 문제**"
   ]
  },
  {
   "cell_type": "code",
   "execution_count": 21,
   "id": "8c20b625-b094-4ee8-888b-db7ca75101f0",
   "metadata": {
    "colab": {
     "base_uri": "https://localhost:8080/"
    },
    "id": "8c20b625-b094-4ee8-888b-db7ca75101f0",
    "outputId": "210cd46e-8f6a-4aa4-8736-cbb0d75c0d96"
   },
   "outputs": [
    {
     "data": {
      "text/plain": [
       "16"
      ]
     },
     "execution_count": 21,
     "metadata": {},
     "output_type": "execute_result"
    }
   ],
   "source": [
    "def sum_of_columns(df, col_label):\n",
    "    \"\"\"df는 데이터프레임이고 col_label은 정수 타입 열의 레이블이라고 가정합니다.\n",
    "       col_label 열 값의 합을 반환합니다\"\"\"\n",
    "    sum = 0\n",
    "    for v in df[col_label]:\n",
    "        sum += v\n",
    "    return sum\n",
    "\n",
    "sum_of_columns(df, 'W Goals')"
   ]
  },
  {
   "cell_type": "code",
   "execution_count": 22,
   "id": "f71f8075-aa09-4c6a-9c5c-34dd08eb7a2f",
   "metadata": {
    "colab": {
     "base_uri": "https://localhost:8080/",
     "height": 300
    },
    "id": "f71f8075-aa09-4c6a-9c5c-34dd08eb7a2f",
    "outputId": "3b80938f-0d42-45f4-eb03-d625b174d99e"
   },
   "outputs": [
    {
     "data": {
      "text/html": [
       "\n",
       "  <div id=\"df-d98593f4-10e2-4006-bbcf-924ead563310\">\n",
       "    <div class=\"colab-df-container\">\n",
       "      <div>\n",
       "<style scoped>\n",
       "    .dataframe tbody tr th:only-of-type {\n",
       "        vertical-align: middle;\n",
       "    }\n",
       "\n",
       "    .dataframe tbody tr th {\n",
       "        vertical-align: top;\n",
       "    }\n",
       "\n",
       "    .dataframe thead th {\n",
       "        text-align: right;\n",
       "    }\n",
       "</style>\n",
       "<table border=\"1\" class=\"dataframe\">\n",
       "  <thead>\n",
       "    <tr style=\"text-align: right;\">\n",
       "      <th></th>\n",
       "      <th>Winner</th>\n",
       "      <th>Loser</th>\n",
       "    </tr>\n",
       "  </thead>\n",
       "  <tbody>\n",
       "    <tr>\n",
       "      <th>0</th>\n",
       "      <td>England</td>\n",
       "      <td>Norway</td>\n",
       "    </tr>\n",
       "    <tr>\n",
       "      <th>1</th>\n",
       "      <td>USA</td>\n",
       "      <td>France</td>\n",
       "    </tr>\n",
       "    <tr>\n",
       "      <th>2</th>\n",
       "      <td>Netherlands</td>\n",
       "      <td>Italy</td>\n",
       "    </tr>\n",
       "    <tr>\n",
       "      <th>3</th>\n",
       "      <td>Sweden</td>\n",
       "      <td>Germany</td>\n",
       "    </tr>\n",
       "    <tr>\n",
       "      <th>4</th>\n",
       "      <td>USA</td>\n",
       "      <td>England</td>\n",
       "    </tr>\n",
       "    <tr>\n",
       "      <th>5</th>\n",
       "      <td>Netherlands</td>\n",
       "      <td>Sweden</td>\n",
       "    </tr>\n",
       "    <tr>\n",
       "      <th>6</th>\n",
       "      <td>Sweden</td>\n",
       "      <td>England</td>\n",
       "    </tr>\n",
       "    <tr>\n",
       "      <th>7</th>\n",
       "      <td>USA</td>\n",
       "      <td>Netherlands</td>\n",
       "    </tr>\n",
       "  </tbody>\n",
       "</table>\n",
       "</div>\n",
       "      <button class=\"colab-df-convert\" onclick=\"convertToInteractive('df-d98593f4-10e2-4006-bbcf-924ead563310')\"\n",
       "              title=\"Convert this dataframe to an interactive table.\"\n",
       "              style=\"display:none;\">\n",
       "        \n",
       "  <svg xmlns=\"http://www.w3.org/2000/svg\" height=\"24px\"viewBox=\"0 0 24 24\"\n",
       "       width=\"24px\">\n",
       "    <path d=\"M0 0h24v24H0V0z\" fill=\"none\"/>\n",
       "    <path d=\"M18.56 5.44l.94 2.06.94-2.06 2.06-.94-2.06-.94-.94-2.06-.94 2.06-2.06.94zm-11 1L8.5 8.5l.94-2.06 2.06-.94-2.06-.94L8.5 2.5l-.94 2.06-2.06.94zm10 10l.94 2.06.94-2.06 2.06-.94-2.06-.94-.94-2.06-.94 2.06-2.06.94z\"/><path d=\"M17.41 7.96l-1.37-1.37c-.4-.4-.92-.59-1.43-.59-.52 0-1.04.2-1.43.59L10.3 9.45l-7.72 7.72c-.78.78-.78 2.05 0 2.83L4 21.41c.39.39.9.59 1.41.59.51 0 1.02-.2 1.41-.59l7.78-7.78 2.81-2.81c.8-.78.8-2.07 0-2.86zM5.41 20L4 18.59l7.72-7.72 1.47 1.35L5.41 20z\"/>\n",
       "  </svg>\n",
       "      </button>\n",
       "      \n",
       "  <style>\n",
       "    .colab-df-container {\n",
       "      display:flex;\n",
       "      flex-wrap:wrap;\n",
       "      gap: 12px;\n",
       "    }\n",
       "\n",
       "    .colab-df-convert {\n",
       "      background-color: #E8F0FE;\n",
       "      border: none;\n",
       "      border-radius: 50%;\n",
       "      cursor: pointer;\n",
       "      display: none;\n",
       "      fill: #1967D2;\n",
       "      height: 32px;\n",
       "      padding: 0 0 0 0;\n",
       "      width: 32px;\n",
       "    }\n",
       "\n",
       "    .colab-df-convert:hover {\n",
       "      background-color: #E2EBFA;\n",
       "      box-shadow: 0px 1px 2px rgba(60, 64, 67, 0.3), 0px 1px 3px 1px rgba(60, 64, 67, 0.15);\n",
       "      fill: #174EA6;\n",
       "    }\n",
       "\n",
       "    [theme=dark] .colab-df-convert {\n",
       "      background-color: #3B4455;\n",
       "      fill: #D2E3FC;\n",
       "    }\n",
       "\n",
       "    [theme=dark] .colab-df-convert:hover {\n",
       "      background-color: #434B5C;\n",
       "      box-shadow: 0px 1px 3px 1px rgba(0, 0, 0, 0.15);\n",
       "      filter: drop-shadow(0px 1px 2px rgba(0, 0, 0, 0.3));\n",
       "      fill: #FFFFFF;\n",
       "    }\n",
       "  </style>\n",
       "\n",
       "      <script>\n",
       "        const buttonEl =\n",
       "          document.querySelector('#df-d98593f4-10e2-4006-bbcf-924ead563310 button.colab-df-convert');\n",
       "        buttonEl.style.display =\n",
       "          google.colab.kernel.accessAllowed ? 'block' : 'none';\n",
       "\n",
       "        async function convertToInteractive(key) {\n",
       "          const element = document.querySelector('#df-d98593f4-10e2-4006-bbcf-924ead563310');\n",
       "          const dataTable =\n",
       "            await google.colab.kernel.invokeFunction('convertToInteractive',\n",
       "                                                     [key], {});\n",
       "          if (!dataTable) return;\n",
       "\n",
       "          const docLinkHtml = 'Like what you see? Visit the ' +\n",
       "            '<a target=\"_blank\" href=https://colab.research.google.com/notebooks/data_table.ipynb>data table notebook</a>'\n",
       "            + ' to learn more about interactive tables.';\n",
       "          element.innerHTML = '';\n",
       "          dataTable['output_type'] = 'display_data';\n",
       "          await google.colab.output.renderOutput(dataTable, element);\n",
       "          const docLink = document.createElement('div');\n",
       "          docLink.innerHTML = docLinkHtml;\n",
       "          element.appendChild(docLink);\n",
       "        }\n",
       "      </script>\n",
       "    </div>\n",
       "  </div>\n",
       "  "
      ],
      "text/plain": [
       "        Winner        Loser\n",
       "0      England       Norway\n",
       "1          USA       France\n",
       "2  Netherlands        Italy\n",
       "3       Sweden      Germany\n",
       "4          USA      England\n",
       "5  Netherlands       Sweden\n",
       "6       Sweden      England\n",
       "7          USA  Netherlands"
      ]
     },
     "execution_count": 22,
     "metadata": {},
     "output_type": "execute_result"
    }
   ],
   "source": [
    "wwc[['Winner', 'Loser']]"
   ]
  },
  {
   "cell_type": "code",
   "execution_count": 23,
   "id": "31a1c3bd-10f6-4fc8-b37f-488ac63a1104",
   "metadata": {
    "colab": {
     "base_uri": "https://localhost:8080/",
     "height": 300
    },
    "id": "31a1c3bd-10f6-4fc8-b37f-488ac63a1104",
    "outputId": "0edb93b7-6199-410c-f264-877412dc99d8"
   },
   "outputs": [
    {
     "data": {
      "text/html": [
       "\n",
       "  <div id=\"df-3721590a-1e1f-48ec-8509-d3267c989819\">\n",
       "    <div class=\"colab-df-container\">\n",
       "      <div>\n",
       "<style scoped>\n",
       "    .dataframe tbody tr th:only-of-type {\n",
       "        vertical-align: middle;\n",
       "    }\n",
       "\n",
       "    .dataframe tbody tr th {\n",
       "        vertical-align: top;\n",
       "    }\n",
       "\n",
       "    .dataframe thead th {\n",
       "        text-align: right;\n",
       "    }\n",
       "</style>\n",
       "<table border=\"1\" class=\"dataframe\">\n",
       "  <thead>\n",
       "    <tr style=\"text-align: right;\">\n",
       "      <th></th>\n",
       "      <th>Round</th>\n",
       "      <th>Winner</th>\n",
       "      <th>Loser</th>\n",
       "      <th>W Goals</th>\n",
       "      <th>L Goals</th>\n",
       "    </tr>\n",
       "  </thead>\n",
       "  <tbody>\n",
       "    <tr>\n",
       "      <th>0</th>\n",
       "      <td>Quarters</td>\n",
       "      <td>England</td>\n",
       "      <td>Norway</td>\n",
       "      <td>3</td>\n",
       "      <td>0</td>\n",
       "    </tr>\n",
       "    <tr>\n",
       "      <th>1</th>\n",
       "      <td>Quarters</td>\n",
       "      <td>USA</td>\n",
       "      <td>France</td>\n",
       "      <td>2</td>\n",
       "      <td>1</td>\n",
       "    </tr>\n",
       "    <tr>\n",
       "      <th>2</th>\n",
       "      <td>Quarters</td>\n",
       "      <td>Netherlands</td>\n",
       "      <td>Italy</td>\n",
       "      <td>2</td>\n",
       "      <td>0</td>\n",
       "    </tr>\n",
       "    <tr>\n",
       "      <th>3</th>\n",
       "      <td>Quarters</td>\n",
       "      <td>Sweden</td>\n",
       "      <td>Germany</td>\n",
       "      <td>2</td>\n",
       "      <td>1</td>\n",
       "    </tr>\n",
       "    <tr>\n",
       "      <th>4</th>\n",
       "      <td>Semis</td>\n",
       "      <td>USA</td>\n",
       "      <td>England</td>\n",
       "      <td>2</td>\n",
       "      <td>1</td>\n",
       "    </tr>\n",
       "    <tr>\n",
       "      <th>5</th>\n",
       "      <td>Semis</td>\n",
       "      <td>Netherlands</td>\n",
       "      <td>Sweden</td>\n",
       "      <td>1</td>\n",
       "      <td>0</td>\n",
       "    </tr>\n",
       "    <tr>\n",
       "      <th>6</th>\n",
       "      <td>3rd Place</td>\n",
       "      <td>Sweden</td>\n",
       "      <td>England</td>\n",
       "      <td>2</td>\n",
       "      <td>1</td>\n",
       "    </tr>\n",
       "    <tr>\n",
       "      <th>7</th>\n",
       "      <td>Championship</td>\n",
       "      <td>USA</td>\n",
       "      <td>Netherlands</td>\n",
       "      <td>2</td>\n",
       "      <td>0</td>\n",
       "    </tr>\n",
       "  </tbody>\n",
       "</table>\n",
       "</div>\n",
       "      <button class=\"colab-df-convert\" onclick=\"convertToInteractive('df-3721590a-1e1f-48ec-8509-d3267c989819')\"\n",
       "              title=\"Convert this dataframe to an interactive table.\"\n",
       "              style=\"display:none;\">\n",
       "        \n",
       "  <svg xmlns=\"http://www.w3.org/2000/svg\" height=\"24px\"viewBox=\"0 0 24 24\"\n",
       "       width=\"24px\">\n",
       "    <path d=\"M0 0h24v24H0V0z\" fill=\"none\"/>\n",
       "    <path d=\"M18.56 5.44l.94 2.06.94-2.06 2.06-.94-2.06-.94-.94-2.06-.94 2.06-2.06.94zm-11 1L8.5 8.5l.94-2.06 2.06-.94-2.06-.94L8.5 2.5l-.94 2.06-2.06.94zm10 10l.94 2.06.94-2.06 2.06-.94-2.06-.94-.94-2.06-.94 2.06-2.06.94z\"/><path d=\"M17.41 7.96l-1.37-1.37c-.4-.4-.92-.59-1.43-.59-.52 0-1.04.2-1.43.59L10.3 9.45l-7.72 7.72c-.78.78-.78 2.05 0 2.83L4 21.41c.39.39.9.59 1.41.59.51 0 1.02-.2 1.41-.59l7.78-7.78 2.81-2.81c.8-.78.8-2.07 0-2.86zM5.41 20L4 18.59l7.72-7.72 1.47 1.35L5.41 20z\"/>\n",
       "  </svg>\n",
       "      </button>\n",
       "      \n",
       "  <style>\n",
       "    .colab-df-container {\n",
       "      display:flex;\n",
       "      flex-wrap:wrap;\n",
       "      gap: 12px;\n",
       "    }\n",
       "\n",
       "    .colab-df-convert {\n",
       "      background-color: #E8F0FE;\n",
       "      border: none;\n",
       "      border-radius: 50%;\n",
       "      cursor: pointer;\n",
       "      display: none;\n",
       "      fill: #1967D2;\n",
       "      height: 32px;\n",
       "      padding: 0 0 0 0;\n",
       "      width: 32px;\n",
       "    }\n",
       "\n",
       "    .colab-df-convert:hover {\n",
       "      background-color: #E2EBFA;\n",
       "      box-shadow: 0px 1px 2px rgba(60, 64, 67, 0.3), 0px 1px 3px 1px rgba(60, 64, 67, 0.15);\n",
       "      fill: #174EA6;\n",
       "    }\n",
       "\n",
       "    [theme=dark] .colab-df-convert {\n",
       "      background-color: #3B4455;\n",
       "      fill: #D2E3FC;\n",
       "    }\n",
       "\n",
       "    [theme=dark] .colab-df-convert:hover {\n",
       "      background-color: #434B5C;\n",
       "      box-shadow: 0px 1px 3px 1px rgba(0, 0, 0, 0.15);\n",
       "      filter: drop-shadow(0px 1px 2px rgba(0, 0, 0, 0.3));\n",
       "      fill: #FFFFFF;\n",
       "    }\n",
       "  </style>\n",
       "\n",
       "      <script>\n",
       "        const buttonEl =\n",
       "          document.querySelector('#df-3721590a-1e1f-48ec-8509-d3267c989819 button.colab-df-convert');\n",
       "        buttonEl.style.display =\n",
       "          google.colab.kernel.accessAllowed ? 'block' : 'none';\n",
       "\n",
       "        async function convertToInteractive(key) {\n",
       "          const element = document.querySelector('#df-3721590a-1e1f-48ec-8509-d3267c989819');\n",
       "          const dataTable =\n",
       "            await google.colab.kernel.invokeFunction('convertToInteractive',\n",
       "                                                     [key], {});\n",
       "          if (!dataTable) return;\n",
       "\n",
       "          const docLinkHtml = 'Like what you see? Visit the ' +\n",
       "            '<a target=\"_blank\" href=https://colab.research.google.com/notebooks/data_table.ipynb>data table notebook</a>'\n",
       "            + ' to learn more about interactive tables.';\n",
       "          element.innerHTML = '';\n",
       "          dataTable['output_type'] = 'display_data';\n",
       "          await google.colab.output.renderOutput(dataTable, element);\n",
       "          const docLink = document.createElement('div');\n",
       "          docLink.innerHTML = docLinkHtml;\n",
       "          element.appendChild(docLink);\n",
       "        }\n",
       "      </script>\n",
       "    </div>\n",
       "  </div>\n",
       "  "
      ],
      "text/plain": [
       "          Round       Winner        Loser  W Goals  L Goals\n",
       "0      Quarters      England       Norway        3        0\n",
       "1      Quarters          USA       France        2        1\n",
       "2      Quarters  Netherlands        Italy        2        0\n",
       "3      Quarters       Sweden      Germany        2        1\n",
       "4         Semis          USA      England        2        1\n",
       "5         Semis  Netherlands       Sweden        1        0\n",
       "6     3rd Place       Sweden      England        2        1\n",
       "7  Championship          USA  Netherlands        2        0"
      ]
     },
     "execution_count": 23,
     "metadata": {},
     "output_type": "execute_result"
    }
   ],
   "source": [
    "wwc[['Round','Winner','Loser','W Goals','L Goals']]"
   ]
  },
  {
   "cell_type": "code",
   "execution_count": 24,
   "id": "0d0b9b2f-1856-4fdb-8708-1778313036a6",
   "metadata": {
    "colab": {
     "base_uri": "https://localhost:8080/",
     "height": 81
    },
    "id": "0d0b9b2f-1856-4fdb-8708-1778313036a6",
    "outputId": "3e89ce27-2ed2-4c97-8e15-d5fbd39c7393"
   },
   "outputs": [
    {
     "data": {
      "text/html": [
       "\n",
       "  <div id=\"df-c4ceb1be-4918-4ba7-8a6f-47df9d8335f6\">\n",
       "    <div class=\"colab-df-container\">\n",
       "      <div>\n",
       "<style scoped>\n",
       "    .dataframe tbody tr th:only-of-type {\n",
       "        vertical-align: middle;\n",
       "    }\n",
       "\n",
       "    .dataframe tbody tr th {\n",
       "        vertical-align: top;\n",
       "    }\n",
       "\n",
       "    .dataframe thead th {\n",
       "        text-align: right;\n",
       "    }\n",
       "</style>\n",
       "<table border=\"1\" class=\"dataframe\">\n",
       "  <thead>\n",
       "    <tr style=\"text-align: right;\">\n",
       "      <th></th>\n",
       "      <th>Round</th>\n",
       "      <th>Winner</th>\n",
       "      <th>W Goals</th>\n",
       "      <th>Loser</th>\n",
       "      <th>L Goals</th>\n",
       "    </tr>\n",
       "  </thead>\n",
       "  <tbody>\n",
       "    <tr>\n",
       "      <th>1</th>\n",
       "      <td>Quarters</td>\n",
       "      <td>USA</td>\n",
       "      <td>2</td>\n",
       "      <td>France</td>\n",
       "      <td>1</td>\n",
       "    </tr>\n",
       "  </tbody>\n",
       "</table>\n",
       "</div>\n",
       "      <button class=\"colab-df-convert\" onclick=\"convertToInteractive('df-c4ceb1be-4918-4ba7-8a6f-47df9d8335f6')\"\n",
       "              title=\"Convert this dataframe to an interactive table.\"\n",
       "              style=\"display:none;\">\n",
       "        \n",
       "  <svg xmlns=\"http://www.w3.org/2000/svg\" height=\"24px\"viewBox=\"0 0 24 24\"\n",
       "       width=\"24px\">\n",
       "    <path d=\"M0 0h24v24H0V0z\" fill=\"none\"/>\n",
       "    <path d=\"M18.56 5.44l.94 2.06.94-2.06 2.06-.94-2.06-.94-.94-2.06-.94 2.06-2.06.94zm-11 1L8.5 8.5l.94-2.06 2.06-.94-2.06-.94L8.5 2.5l-.94 2.06-2.06.94zm10 10l.94 2.06.94-2.06 2.06-.94-2.06-.94-.94-2.06-.94 2.06-2.06.94z\"/><path d=\"M17.41 7.96l-1.37-1.37c-.4-.4-.92-.59-1.43-.59-.52 0-1.04.2-1.43.59L10.3 9.45l-7.72 7.72c-.78.78-.78 2.05 0 2.83L4 21.41c.39.39.9.59 1.41.59.51 0 1.02-.2 1.41-.59l7.78-7.78 2.81-2.81c.8-.78.8-2.07 0-2.86zM5.41 20L4 18.59l7.72-7.72 1.47 1.35L5.41 20z\"/>\n",
       "  </svg>\n",
       "      </button>\n",
       "      \n",
       "  <style>\n",
       "    .colab-df-container {\n",
       "      display:flex;\n",
       "      flex-wrap:wrap;\n",
       "      gap: 12px;\n",
       "    }\n",
       "\n",
       "    .colab-df-convert {\n",
       "      background-color: #E8F0FE;\n",
       "      border: none;\n",
       "      border-radius: 50%;\n",
       "      cursor: pointer;\n",
       "      display: none;\n",
       "      fill: #1967D2;\n",
       "      height: 32px;\n",
       "      padding: 0 0 0 0;\n",
       "      width: 32px;\n",
       "    }\n",
       "\n",
       "    .colab-df-convert:hover {\n",
       "      background-color: #E2EBFA;\n",
       "      box-shadow: 0px 1px 2px rgba(60, 64, 67, 0.3), 0px 1px 3px 1px rgba(60, 64, 67, 0.15);\n",
       "      fill: #174EA6;\n",
       "    }\n",
       "\n",
       "    [theme=dark] .colab-df-convert {\n",
       "      background-color: #3B4455;\n",
       "      fill: #D2E3FC;\n",
       "    }\n",
       "\n",
       "    [theme=dark] .colab-df-convert:hover {\n",
       "      background-color: #434B5C;\n",
       "      box-shadow: 0px 1px 3px 1px rgba(0, 0, 0, 0.15);\n",
       "      filter: drop-shadow(0px 1px 2px rgba(0, 0, 0, 0.3));\n",
       "      fill: #FFFFFF;\n",
       "    }\n",
       "  </style>\n",
       "\n",
       "      <script>\n",
       "        const buttonEl =\n",
       "          document.querySelector('#df-c4ceb1be-4918-4ba7-8a6f-47df9d8335f6 button.colab-df-convert');\n",
       "        buttonEl.style.display =\n",
       "          google.colab.kernel.accessAllowed ? 'block' : 'none';\n",
       "\n",
       "        async function convertToInteractive(key) {\n",
       "          const element = document.querySelector('#df-c4ceb1be-4918-4ba7-8a6f-47df9d8335f6');\n",
       "          const dataTable =\n",
       "            await google.colab.kernel.invokeFunction('convertToInteractive',\n",
       "                                                     [key], {});\n",
       "          if (!dataTable) return;\n",
       "\n",
       "          const docLinkHtml = 'Like what you see? Visit the ' +\n",
       "            '<a target=\"_blank\" href=https://colab.research.google.com/notebooks/data_table.ipynb>data table notebook</a>'\n",
       "            + ' to learn more about interactive tables.';\n",
       "          element.innerHTML = '';\n",
       "          dataTable['output_type'] = 'display_data';\n",
       "          await google.colab.output.renderOutput(dataTable, element);\n",
       "          const docLink = document.createElement('div');\n",
       "          docLink.innerHTML = docLinkHtml;\n",
       "          element.appendChild(docLink);\n",
       "        }\n",
       "      </script>\n",
       "    </div>\n",
       "  </div>\n",
       "  "
      ],
      "text/plain": [
       "      Round Winner  W Goals   Loser  L Goals\n",
       "1  Quarters    USA        2  France        1"
      ]
     },
     "execution_count": 24,
     "metadata": {},
     "output_type": "execute_result"
    }
   ],
   "source": [
    "wwc[1:2]"
   ]
  },
  {
   "cell_type": "code",
   "execution_count": 25,
   "id": "05fad238-eac0-4930-bb63-5b9abb2b32a7",
   "metadata": {
    "colab": {
     "base_uri": "https://localhost:8080/"
    },
    "id": "05fad238-eac0-4930-bb63-5b9abb2b32a7",
    "outputId": "9034b747-8d3b-443d-f0b0-06d6d5c4d179"
   },
   "outputs": [
    {
     "name": "stdout",
     "output_type": "stream",
     "text": [
      "      Round Winner  W Goals   Loser  L Goals\n",
      "1  Quarters    USA        2  France        1\n"
     ]
    }
   ],
   "source": [
    "print(wwc[1:2])"
   ]
  },
  {
   "cell_type": "markdown",
   "id": "6fb39865-a366-408c-8fda-4b48e6da25b5",
   "metadata": {
    "id": "6fb39865-a366-408c-8fda-4b48e6da25b5"
   },
   "source": [
    "### 23.3.1 loc와 iloc를 사용하여 선택하기"
   ]
  },
  {
   "cell_type": "code",
   "execution_count": 26,
   "id": "5675b980-be5e-42ac-af4e-ea955a01e611",
   "metadata": {
    "colab": {
     "base_uri": "https://localhost:8080/"
    },
    "id": "5675b980-be5e-42ac-af4e-ea955a01e611",
    "outputId": "76759f39-7c25-4a32-d9f0-cb9c07f54680"
   },
   "outputs": [
    {
     "name": "stdout",
     "output_type": "stream",
     "text": [
      "Round      Quarters\n",
      "Winner       Sweden\n",
      "W Goals           2\n",
      "Loser       Germany\n",
      "L Goals           1\n",
      "Name: 3, dtype: object\n"
     ]
    }
   ],
   "source": [
    "print(wwc.loc[3])"
   ]
  },
  {
   "cell_type": "code",
   "execution_count": 27,
   "id": "77d18e0c-c51c-4e65-b613-be5a55463bf2",
   "metadata": {
    "colab": {
     "base_uri": "https://localhost:8080/"
    },
    "id": "77d18e0c-c51c-4e65-b613-be5a55463bf2",
    "outputId": "26223be0-0c51-47bb-dd49-d791b65b3270"
   },
   "outputs": [
    {
     "name": "stdout",
     "output_type": "stream",
     "text": [
      "      Round       Winner  W Goals    Loser  L Goals\n",
      "1  Quarters          USA        2   France        1\n",
      "3  Quarters       Sweden        2  Germany        1\n",
      "5     Semis  Netherlands        1   Sweden        0\n"
     ]
    }
   ],
   "source": [
    "print(wwc.loc[[1,3,5]])"
   ]
  },
  {
   "cell_type": "code",
   "execution_count": 28,
   "id": "d80457ca-5005-48d7-aab7-af82e89592fa",
   "metadata": {
    "colab": {
     "base_uri": "https://localhost:8080/"
    },
    "id": "d80457ca-5005-48d7-aab7-af82e89592fa",
    "outputId": "aa6f88ff-fe9e-4afe-9e36-4a9a52ca2ad8"
   },
   "outputs": [
    {
     "name": "stdout",
     "output_type": "stream",
     "text": [
      "          Round       Winner  W Goals        Loser  L Goals\n",
      "3      Quarters       Sweden        2      Germany        1\n",
      "5         Semis  Netherlands        1       Sweden        0\n",
      "7  Championship          USA        2  Netherlands        0\n"
     ]
    }
   ],
   "source": [
    "print(wwc.loc[3:7:2])"
   ]
  },
  {
   "cell_type": "code",
   "execution_count": 29,
   "id": "1f398f0c-1bce-4b10-94ba-6b6e5567935b",
   "metadata": {
    "colab": {
     "base_uri": "https://localhost:8080/"
    },
    "id": "1f398f0c-1bce-4b10-94ba-6b6e5567935b",
    "outputId": "90a8d842-9458-4dbc-e568-79e8ecb74181"
   },
   "outputs": [
    {
     "name": "stdout",
     "output_type": "stream",
     "text": [
      "          Round  Winner  W Goals        Loser  L Goals\n",
      "6     3rd Place  Sweden        2      England        1\n",
      "7  Championship     USA        2  Netherlands        0\n"
     ]
    }
   ],
   "source": [
    "print(wwc.loc[6:])"
   ]
  },
  {
   "cell_type": "code",
   "execution_count": 30,
   "id": "0cdffc7c-6e53-46e7-a994-8cf465a23938",
   "metadata": {
    "colab": {
     "base_uri": "https://localhost:8080/"
    },
    "id": "0cdffc7c-6e53-46e7-a994-8cf465a23938",
    "outputId": "9f9d9989-f9dd-473e-84b5-64306d58ab80"
   },
   "outputs": [
    {
     "name": "stdout",
     "output_type": "stream",
     "text": [
      "      Round       Winner  W Goals   Loser  L Goals\n",
      "0  Quarters      England        3  Norway        0\n",
      "1  Quarters          USA        2  France        1\n",
      "2  Quarters  Netherlands        2   Italy        0\n"
     ]
    }
   ],
   "source": [
    "print(wwc.loc[:2])"
   ]
  },
  {
   "cell_type": "markdown",
   "id": "0a471331-ead2-4145-b598-bbb3c571ef96",
   "metadata": {
    "id": "0a471331-ead2-4145-b598-bbb3c571ef96"
   },
   "source": [
    "**뇌풀기 문제**"
   ]
  },
  {
   "cell_type": "code",
   "execution_count": 31,
   "id": "9e0f37d3-464c-4940-bc8d-38d056a967da",
   "metadata": {
    "colab": {
     "base_uri": "https://localhost:8080/",
     "height": 175
    },
    "id": "9e0f37d3-464c-4940-bc8d-38d056a967da",
    "outputId": "03dc8fdb-db2c-4a0c-ead7-ce1edef9763a"
   },
   "outputs": [
    {
     "data": {
      "text/html": [
       "\n",
       "  <div id=\"df-f17fe530-3781-4a3f-be1c-f2ba2c2187a9\">\n",
       "    <div class=\"colab-df-container\">\n",
       "      <div>\n",
       "<style scoped>\n",
       "    .dataframe tbody tr th:only-of-type {\n",
       "        vertical-align: middle;\n",
       "    }\n",
       "\n",
       "    .dataframe tbody tr th {\n",
       "        vertical-align: top;\n",
       "    }\n",
       "\n",
       "    .dataframe thead th {\n",
       "        text-align: right;\n",
       "    }\n",
       "</style>\n",
       "<table border=\"1\" class=\"dataframe\">\n",
       "  <thead>\n",
       "    <tr style=\"text-align: right;\">\n",
       "      <th></th>\n",
       "      <th>Round</th>\n",
       "      <th>Winner</th>\n",
       "      <th>W Goals</th>\n",
       "      <th>Loser</th>\n",
       "      <th>L Goals</th>\n",
       "    </tr>\n",
       "  </thead>\n",
       "  <tbody>\n",
       "    <tr>\n",
       "      <th>0</th>\n",
       "      <td>Quarters</td>\n",
       "      <td>England</td>\n",
       "      <td>3</td>\n",
       "      <td>Norway</td>\n",
       "      <td>0</td>\n",
       "    </tr>\n",
       "    <tr>\n",
       "      <th>2</th>\n",
       "      <td>Quarters</td>\n",
       "      <td>Netherlands</td>\n",
       "      <td>2</td>\n",
       "      <td>Italy</td>\n",
       "      <td>0</td>\n",
       "    </tr>\n",
       "    <tr>\n",
       "      <th>4</th>\n",
       "      <td>Semis</td>\n",
       "      <td>USA</td>\n",
       "      <td>2</td>\n",
       "      <td>England</td>\n",
       "      <td>1</td>\n",
       "    </tr>\n",
       "    <tr>\n",
       "      <th>6</th>\n",
       "      <td>3rd Place</td>\n",
       "      <td>Sweden</td>\n",
       "      <td>2</td>\n",
       "      <td>England</td>\n",
       "      <td>1</td>\n",
       "    </tr>\n",
       "  </tbody>\n",
       "</table>\n",
       "</div>\n",
       "      <button class=\"colab-df-convert\" onclick=\"convertToInteractive('df-f17fe530-3781-4a3f-be1c-f2ba2c2187a9')\"\n",
       "              title=\"Convert this dataframe to an interactive table.\"\n",
       "              style=\"display:none;\">\n",
       "        \n",
       "  <svg xmlns=\"http://www.w3.org/2000/svg\" height=\"24px\"viewBox=\"0 0 24 24\"\n",
       "       width=\"24px\">\n",
       "    <path d=\"M0 0h24v24H0V0z\" fill=\"none\"/>\n",
       "    <path d=\"M18.56 5.44l.94 2.06.94-2.06 2.06-.94-2.06-.94-.94-2.06-.94 2.06-2.06.94zm-11 1L8.5 8.5l.94-2.06 2.06-.94-2.06-.94L8.5 2.5l-.94 2.06-2.06.94zm10 10l.94 2.06.94-2.06 2.06-.94-2.06-.94-.94-2.06-.94 2.06-2.06.94z\"/><path d=\"M17.41 7.96l-1.37-1.37c-.4-.4-.92-.59-1.43-.59-.52 0-1.04.2-1.43.59L10.3 9.45l-7.72 7.72c-.78.78-.78 2.05 0 2.83L4 21.41c.39.39.9.59 1.41.59.51 0 1.02-.2 1.41-.59l7.78-7.78 2.81-2.81c.8-.78.8-2.07 0-2.86zM5.41 20L4 18.59l7.72-7.72 1.47 1.35L5.41 20z\"/>\n",
       "  </svg>\n",
       "      </button>\n",
       "      \n",
       "  <style>\n",
       "    .colab-df-container {\n",
       "      display:flex;\n",
       "      flex-wrap:wrap;\n",
       "      gap: 12px;\n",
       "    }\n",
       "\n",
       "    .colab-df-convert {\n",
       "      background-color: #E8F0FE;\n",
       "      border: none;\n",
       "      border-radius: 50%;\n",
       "      cursor: pointer;\n",
       "      display: none;\n",
       "      fill: #1967D2;\n",
       "      height: 32px;\n",
       "      padding: 0 0 0 0;\n",
       "      width: 32px;\n",
       "    }\n",
       "\n",
       "    .colab-df-convert:hover {\n",
       "      background-color: #E2EBFA;\n",
       "      box-shadow: 0px 1px 2px rgba(60, 64, 67, 0.3), 0px 1px 3px 1px rgba(60, 64, 67, 0.15);\n",
       "      fill: #174EA6;\n",
       "    }\n",
       "\n",
       "    [theme=dark] .colab-df-convert {\n",
       "      background-color: #3B4455;\n",
       "      fill: #D2E3FC;\n",
       "    }\n",
       "\n",
       "    [theme=dark] .colab-df-convert:hover {\n",
       "      background-color: #434B5C;\n",
       "      box-shadow: 0px 1px 3px 1px rgba(0, 0, 0, 0.15);\n",
       "      filter: drop-shadow(0px 1px 2px rgba(0, 0, 0, 0.3));\n",
       "      fill: #FFFFFF;\n",
       "    }\n",
       "  </style>\n",
       "\n",
       "      <script>\n",
       "        const buttonEl =\n",
       "          document.querySelector('#df-f17fe530-3781-4a3f-be1c-f2ba2c2187a9 button.colab-df-convert');\n",
       "        buttonEl.style.display =\n",
       "          google.colab.kernel.accessAllowed ? 'block' : 'none';\n",
       "\n",
       "        async function convertToInteractive(key) {\n",
       "          const element = document.querySelector('#df-f17fe530-3781-4a3f-be1c-f2ba2c2187a9');\n",
       "          const dataTable =\n",
       "            await google.colab.kernel.invokeFunction('convertToInteractive',\n",
       "                                                     [key], {});\n",
       "          if (!dataTable) return;\n",
       "\n",
       "          const docLinkHtml = 'Like what you see? Visit the ' +\n",
       "            '<a target=\"_blank\" href=https://colab.research.google.com/notebooks/data_table.ipynb>data table notebook</a>'\n",
       "            + ' to learn more about interactive tables.';\n",
       "          element.innerHTML = '';\n",
       "          dataTable['output_type'] = 'display_data';\n",
       "          await google.colab.output.renderOutput(dataTable, element);\n",
       "          const docLink = document.createElement('div');\n",
       "          docLink.innerHTML = docLinkHtml;\n",
       "          element.appendChild(docLink);\n",
       "        }\n",
       "      </script>\n",
       "    </div>\n",
       "  </div>\n",
       "  "
      ],
      "text/plain": [
       "       Round       Winner  W Goals    Loser  L Goals\n",
       "0   Quarters      England        3   Norway        0\n",
       "2   Quarters  Netherlands        2    Italy        0\n",
       "4      Semis          USA        2  England        1\n",
       "6  3rd Place       Sweden        2  England        1"
      ]
     },
     "execution_count": 31,
     "metadata": {},
     "output_type": "execute_result"
    }
   ],
   "source": [
    "wwc.loc[::2]"
   ]
  },
  {
   "cell_type": "code",
   "execution_count": 32,
   "id": "618be8d3-ecb0-4b46-92bf-f428e4d745d4",
   "metadata": {
    "colab": {
     "base_uri": "https://localhost:8080/"
    },
    "id": "618be8d3-ecb0-4b46-92bf-f428e4d745d4",
    "outputId": "cc77e59e-e14e-4925-9f69-a0ae9ad32c12"
   },
   "outputs": [
    {
     "name": "stdout",
     "output_type": "stream",
     "text": [
      "      Round  W Goals  L Goals\n",
      "0  Quarters        3        0\n",
      "1  Quarters        2        1\n",
      "2  Quarters        2        0\n"
     ]
    }
   ],
   "source": [
    "print(wwc.loc[0:2, 'Round':'L Goals':2])"
   ]
  },
  {
   "cell_type": "markdown",
   "id": "fe35caf4-030d-46f7-bae0-6c368030f2a9",
   "metadata": {
    "id": "fe35caf4-030d-46f7-bae0-6c368030f2a9"
   },
   "source": [
    "**뇌풀기 문제**"
   ]
  },
  {
   "cell_type": "code",
   "execution_count": 33,
   "id": "ab382601-afb9-46ea-a679-f150d6febf1c",
   "metadata": {
    "colab": {
     "base_uri": "https://localhost:8080/"
    },
    "id": "ab382601-afb9-46ea-a679-f150d6febf1c",
    "outputId": "53782bf2-cad5-439e-9006-3e9f63de2dfa"
   },
   "outputs": [
    {
     "name": "stdout",
     "output_type": "stream",
     "text": [
      "      Round       Winner  W Goals   Loser  L Goals\n",
      "1  Quarters          USA        2  France        1\n",
      "2  Quarters  Netherlands        2   Italy        0\n"
     ]
    }
   ],
   "source": [
    "print(wwc.loc[1:2])"
   ]
  },
  {
   "cell_type": "code",
   "execution_count": 34,
   "id": "d0246265-bff3-4d9a-9384-8dcc2dbd600e",
   "metadata": {
    "colab": {
     "base_uri": "https://localhost:8080/"
    },
    "id": "d0246265-bff3-4d9a-9384-8dcc2dbd600e",
    "outputId": "16460488-a9a0-4708-f2cd-d11ca6c6c95c"
   },
   "outputs": [
    {
     "name": "stdout",
     "output_type": "stream",
     "text": [
      "                   Winner  W Goals        Loser  L Goals\n",
      "Round                                                   \n",
      "Quarters          England        3       Norway        0\n",
      "Quarters              USA        2       France        1\n",
      "Quarters      Netherlands        2        Italy        0\n",
      "Quarters           Sweden        2      Germany        1\n",
      "Semis                 USA        2      England        1\n",
      "Semis         Netherlands        1       Sweden        0\n",
      "3rd Place          Sweden        2      England        1\n",
      "Championship          USA        2  Netherlands        0\n"
     ]
    }
   ],
   "source": [
    "wwc_by_round = wwc.set_index('Round')\n",
    "print(wwc_by_round)"
   ]
  },
  {
   "cell_type": "code",
   "execution_count": 35,
   "id": "46bbb6ea-76f0-4fd1-9e13-7c2a8c7faacb",
   "metadata": {
    "colab": {
     "base_uri": "https://localhost:8080/"
    },
    "id": "46bbb6ea-76f0-4fd1-9e13-7c2a8c7faacb",
    "outputId": "ff55aa64-c417-4d93-9541-24b889266f1b"
   },
   "outputs": [
    {
     "name": "stdout",
     "output_type": "stream",
     "text": [
      "            Winner  W Goals    Loser  L Goals\n",
      "Round                                        \n",
      "Semis          USA        2  England        1\n",
      "Semis  Netherlands        1   Sweden        0\n"
     ]
    }
   ],
   "source": [
    "print(wwc_by_round.loc['Semis'])"
   ]
  },
  {
   "cell_type": "code",
   "execution_count": 36,
   "id": "46618209-32bf-471c-bbf3-be047698e340",
   "metadata": {
    "colab": {
     "base_uri": "https://localhost:8080/"
    },
    "id": "46618209-32bf-471c-bbf3-be047698e340",
    "outputId": "2e03eb65-66c3-4f89-b1fc-cdf86ba5051c"
   },
   "outputs": [
    {
     "name": "stdout",
     "output_type": "stream",
     "text": [
      "                   Winner  W Goals        Loser  L Goals\n",
      "Round                                                   \n",
      "Semis                 USA        2      England        1\n",
      "Semis         Netherlands        1       Sweden        0\n",
      "Championship          USA        2  Netherlands        0\n"
     ]
    }
   ],
   "source": [
    "print(wwc_by_round.loc[['Semis', 'Championship']])"
   ]
  },
  {
   "cell_type": "code",
   "execution_count": 37,
   "id": "e31a7a88-a9cc-408e-a006-15343dafe788",
   "metadata": {
    "colab": {
     "base_uri": "https://localhost:8080/"
    },
    "id": "e31a7a88-a9cc-408e-a006-15343dafe788",
    "outputId": "6da037e9-c20c-4a41-8f66-caf38a3b1f29"
   },
   "outputs": [
    {
     "name": "stdout",
     "output_type": "stream",
     "text": [
      "               Winner  W Goals    Loser  L Goals\n",
      "Round                                           \n",
      "Quarters      England        3   Norway        0\n",
      "Quarters  Netherlands        2    Italy        0\n",
      "Semis             USA        2  England        1\n"
     ]
    }
   ],
   "source": [
    "print(wwc_by_round.loc['Quarters':'Semis':2])"
   ]
  },
  {
   "cell_type": "markdown",
   "id": "b6e9b480-0af4-40e5-aa9b-47a6b732aa1b",
   "metadata": {
    "id": "b6e9b480-0af4-40e5-aa9b-47a6b732aa1b"
   },
   "source": [
    "### 23.3.2 그룹 선택하기"
   ]
  },
  {
   "cell_type": "code",
   "execution_count": 38,
   "id": "55905b87-cf68-4bb1-9397-d5751c796523",
   "metadata": {
    "colab": {
     "base_uri": "https://localhost:8080/"
    },
    "id": "55905b87-cf68-4bb1-9397-d5751c796523",
    "outputId": "7490a627-ce55-4dd0-88d3-6583d6c4e028"
   },
   "outputs": [
    {
     "name": "stdout",
     "output_type": "stream",
     "text": [
      "              W Goals  L Goals\n",
      "Round                         \n",
      "3rd Place           2        1\n",
      "Championship        2        0\n",
      "Quarters            9        2\n",
      "Semis               3        1\n"
     ]
    },
    {
     "name": "stderr",
     "output_type": "stream",
     "text": [
      "<ipython-input-38-00aac78ece1f>:2: FutureWarning: The default value of numeric_only in DataFrameGroupBy.sum is deprecated. In a future version, numeric_only will default to False. Either specify numeric_only or select only columns which should be valid for the function.\n",
      "  print(grouped_by_round.sum())\n"
     ]
    }
   ],
   "source": [
    "grouped_by_round = wwc.groupby('Round') \n",
    "print(grouped_by_round.sum()) "
   ]
  },
  {
   "cell_type": "code",
   "execution_count": 39,
   "id": "bff171ff-0052-459c-bf87-d8fd1ac8761e",
   "metadata": {
    "colab": {
     "base_uri": "https://localhost:8080/"
    },
    "id": "bff171ff-0052-459c-bf87-d8fd1ac8761e",
    "outputId": "130506c6-3535-4e49-b103-d28d84d39387"
   },
   "outputs": [
    {
     "name": "stdout",
     "output_type": "stream",
     "text": [
      "             W Goals   L Goals\n",
      "Winner                        \n",
      "England          3.0  0.000000\n",
      "Netherlands      1.5  0.000000\n",
      "Sweden           2.0  1.000000\n",
      "USA              2.0  0.666667\n"
     ]
    },
    {
     "name": "stderr",
     "output_type": "stream",
     "text": [
      "<ipython-input-39-19e4b105dfd8>:1: FutureWarning: The default value of numeric_only in DataFrameGroupBy.mean is deprecated. In a future version, numeric_only will default to False. Either specify numeric_only or select only columns which should be valid for the function.\n",
      "  print(wwc.groupby('Winner').mean())\n"
     ]
    }
   ],
   "source": [
    "print(wwc.groupby('Winner').mean())"
   ]
  },
  {
   "cell_type": "code",
   "execution_count": 40,
   "id": "c7bfeb7e-e14b-4b31-a4d4-ab63c230ac42",
   "metadata": {
    "colab": {
     "base_uri": "https://localhost:8080/"
    },
    "id": "c7bfeb7e-e14b-4b31-a4d4-ab63c230ac42",
    "outputId": "2dc767c0-814f-47e9-ce18-6fbeee2273ac"
   },
   "outputs": [
    {
     "name": "stdout",
     "output_type": "stream",
     "text": [
      "                          W Goals  L Goals\n",
      "Loser       Round                         \n",
      "England     3rd Place         2.0      1.0\n",
      "            Semis             2.0      1.0\n",
      "France      Quarters          2.0      1.0\n",
      "Germany     Quarters          2.0      1.0\n",
      "Italy       Quarters          2.0      0.0\n",
      "Netherlands Championship      2.0      0.0\n",
      "Norway      Quarters          3.0      0.0\n",
      "Sweden      Semis             1.0      0.0\n"
     ]
    },
    {
     "name": "stderr",
     "output_type": "stream",
     "text": [
      "<ipython-input-40-1816d8a8e3b8>:1: FutureWarning: The default value of numeric_only in DataFrameGroupBy.mean is deprecated. In a future version, numeric_only will default to False. Either specify numeric_only or select only columns which should be valid for the function.\n",
      "  print(wwc.groupby(['Loser', 'Round']).mean())\n"
     ]
    }
   ],
   "source": [
    "print(wwc.groupby(['Loser', 'Round']).mean())"
   ]
  },
  {
   "cell_type": "markdown",
   "id": "a8156981-a707-4dcb-bb0e-a82aed3643f2",
   "metadata": {
    "id": "a8156981-a707-4dcb-bb0e-a82aed3643f2"
   },
   "source": [
    "### 23.3.3 내용으로 선택하기"
   ]
  },
  {
   "cell_type": "code",
   "execution_count": 41,
   "id": "2735d9c8-8cd5-45d4-b97b-2c4037b114d2",
   "metadata": {
    "colab": {
     "base_uri": "https://localhost:8080/"
    },
    "id": "2735d9c8-8cd5-45d4-b97b-2c4037b114d2",
    "outputId": "efb9c8e0-0ac7-4c14-8fd3-a1c3e079bd36"
   },
   "outputs": [
    {
     "name": "stdout",
     "output_type": "stream",
     "text": [
      "       Round  Winner  W Goals    Loser  L Goals\n",
      "3   Quarters  Sweden        2  Germany        1\n",
      "6  3rd Place  Sweden        2  England        1\n"
     ]
    }
   ],
   "source": [
    "print(wwc.loc[wwc['Winner'] == 'Sweden'])"
   ]
  },
  {
   "cell_type": "code",
   "execution_count": 42,
   "id": "6633def3-decd-4dd0-b6a7-2c52e0a2fc5b",
   "metadata": {
    "colab": {
     "base_uri": "https://localhost:8080/"
    },
    "id": "6633def3-decd-4dd0-b6a7-2c52e0a2fc5b",
    "outputId": "655b65e8-eda0-4fbb-8782-742ccfe80393"
   },
   "outputs": [
    {
     "name": "stdout",
     "output_type": "stream",
     "text": [
      "       Round       Winner  W Goals    Loser  L Goals\n",
      "3   Quarters       Sweden        2  Germany        1\n",
      "5      Semis  Netherlands        1   Sweden        0\n",
      "6  3rd Place       Sweden        2  England        1\n"
     ]
    }
   ],
   "source": [
    "print(wwc.loc[(wwc['Winner'] == 'Sweden') | (wwc['Loser'] == 'Sweden')])"
   ]
  },
  {
   "cell_type": "markdown",
   "id": "fc2bf3c3-fa2c-4fff-9e30-a84fa644de79",
   "metadata": {
    "id": "fc2bf3c3-fa2c-4fff-9e30-a84fa644de79"
   },
   "source": [
    "**뇌풀기 문제**"
   ]
  },
  {
   "cell_type": "code",
   "execution_count": 43,
   "id": "79beee62-1109-4802-9eb4-8c2fc7f80f4a",
   "metadata": {
    "colab": {
     "base_uri": "https://localhost:8080/",
     "height": 112
    },
    "id": "79beee62-1109-4802-9eb4-8c2fc7f80f4a",
    "outputId": "fc0f04d2-9af1-4b59-dceb-16d2d01507ea"
   },
   "outputs": [
    {
     "data": {
      "text/html": [
       "\n",
       "  <div id=\"df-83777233-1775-4efd-aac6-63c684cf0af9\">\n",
       "    <div class=\"colab-df-container\">\n",
       "      <div>\n",
       "<style scoped>\n",
       "    .dataframe tbody tr th:only-of-type {\n",
       "        vertical-align: middle;\n",
       "    }\n",
       "\n",
       "    .dataframe tbody tr th {\n",
       "        vertical-align: top;\n",
       "    }\n",
       "\n",
       "    .dataframe thead th {\n",
       "        text-align: right;\n",
       "    }\n",
       "</style>\n",
       "<table border=\"1\" class=\"dataframe\">\n",
       "  <thead>\n",
       "    <tr style=\"text-align: right;\">\n",
       "      <th></th>\n",
       "      <th>Round</th>\n",
       "      <th>Winner</th>\n",
       "      <th>W Goals</th>\n",
       "      <th>Loser</th>\n",
       "      <th>L Goals</th>\n",
       "    </tr>\n",
       "  </thead>\n",
       "  <tbody>\n",
       "    <tr>\n",
       "      <th>4</th>\n",
       "      <td>Semis</td>\n",
       "      <td>USA</td>\n",
       "      <td>2</td>\n",
       "      <td>England</td>\n",
       "      <td>1</td>\n",
       "    </tr>\n",
       "    <tr>\n",
       "      <th>7</th>\n",
       "      <td>Championship</td>\n",
       "      <td>USA</td>\n",
       "      <td>2</td>\n",
       "      <td>Netherlands</td>\n",
       "      <td>0</td>\n",
       "    </tr>\n",
       "  </tbody>\n",
       "</table>\n",
       "</div>\n",
       "      <button class=\"colab-df-convert\" onclick=\"convertToInteractive('df-83777233-1775-4efd-aac6-63c684cf0af9')\"\n",
       "              title=\"Convert this dataframe to an interactive table.\"\n",
       "              style=\"display:none;\">\n",
       "        \n",
       "  <svg xmlns=\"http://www.w3.org/2000/svg\" height=\"24px\"viewBox=\"0 0 24 24\"\n",
       "       width=\"24px\">\n",
       "    <path d=\"M0 0h24v24H0V0z\" fill=\"none\"/>\n",
       "    <path d=\"M18.56 5.44l.94 2.06.94-2.06 2.06-.94-2.06-.94-.94-2.06-.94 2.06-2.06.94zm-11 1L8.5 8.5l.94-2.06 2.06-.94-2.06-.94L8.5 2.5l-.94 2.06-2.06.94zm10 10l.94 2.06.94-2.06 2.06-.94-2.06-.94-.94-2.06-.94 2.06-2.06.94z\"/><path d=\"M17.41 7.96l-1.37-1.37c-.4-.4-.92-.59-1.43-.59-.52 0-1.04.2-1.43.59L10.3 9.45l-7.72 7.72c-.78.78-.78 2.05 0 2.83L4 21.41c.39.39.9.59 1.41.59.51 0 1.02-.2 1.41-.59l7.78-7.78 2.81-2.81c.8-.78.8-2.07 0-2.86zM5.41 20L4 18.59l7.72-7.72 1.47 1.35L5.41 20z\"/>\n",
       "  </svg>\n",
       "      </button>\n",
       "      \n",
       "  <style>\n",
       "    .colab-df-container {\n",
       "      display:flex;\n",
       "      flex-wrap:wrap;\n",
       "      gap: 12px;\n",
       "    }\n",
       "\n",
       "    .colab-df-convert {\n",
       "      background-color: #E8F0FE;\n",
       "      border: none;\n",
       "      border-radius: 50%;\n",
       "      cursor: pointer;\n",
       "      display: none;\n",
       "      fill: #1967D2;\n",
       "      height: 32px;\n",
       "      padding: 0 0 0 0;\n",
       "      width: 32px;\n",
       "    }\n",
       "\n",
       "    .colab-df-convert:hover {\n",
       "      background-color: #E2EBFA;\n",
       "      box-shadow: 0px 1px 2px rgba(60, 64, 67, 0.3), 0px 1px 3px 1px rgba(60, 64, 67, 0.15);\n",
       "      fill: #174EA6;\n",
       "    }\n",
       "\n",
       "    [theme=dark] .colab-df-convert {\n",
       "      background-color: #3B4455;\n",
       "      fill: #D2E3FC;\n",
       "    }\n",
       "\n",
       "    [theme=dark] .colab-df-convert:hover {\n",
       "      background-color: #434B5C;\n",
       "      box-shadow: 0px 1px 3px 1px rgba(0, 0, 0, 0.15);\n",
       "      filter: drop-shadow(0px 1px 2px rgba(0, 0, 0, 0.3));\n",
       "      fill: #FFFFFF;\n",
       "    }\n",
       "  </style>\n",
       "\n",
       "      <script>\n",
       "        const buttonEl =\n",
       "          document.querySelector('#df-83777233-1775-4efd-aac6-63c684cf0af9 button.colab-df-convert');\n",
       "        buttonEl.style.display =\n",
       "          google.colab.kernel.accessAllowed ? 'block' : 'none';\n",
       "\n",
       "        async function convertToInteractive(key) {\n",
       "          const element = document.querySelector('#df-83777233-1775-4efd-aac6-63c684cf0af9');\n",
       "          const dataTable =\n",
       "            await google.colab.kernel.invokeFunction('convertToInteractive',\n",
       "                                                     [key], {});\n",
       "          if (!dataTable) return;\n",
       "\n",
       "          const docLinkHtml = 'Like what you see? Visit the ' +\n",
       "            '<a target=\"_blank\" href=https://colab.research.google.com/notebooks/data_table.ipynb>data table notebook</a>'\n",
       "            + ' to learn more about interactive tables.';\n",
       "          element.innerHTML = '';\n",
       "          dataTable['output_type'] = 'display_data';\n",
       "          await google.colab.output.renderOutput(dataTable, element);\n",
       "          const docLink = document.createElement('div');\n",
       "          docLink.innerHTML = docLinkHtml;\n",
       "          element.appendChild(docLink);\n",
       "        }\n",
       "      </script>\n",
       "    </div>\n",
       "  </div>\n",
       "  "
      ],
      "text/plain": [
       "          Round Winner  W Goals        Loser  L Goals\n",
       "4         Semis    USA        2      England        1\n",
       "7  Championship    USA        2  Netherlands        0"
      ]
     },
     "execution_count": 43,
     "metadata": {},
     "output_type": "execute_result"
    }
   ],
   "source": [
    "wwc.loc[((wwc['Winner'] == 'USA') & (wwc['Loser'] != 'France')) |\n",
    "        ((wwc['Winner'] == 'France') & (wwc['Loser'] != 'USA'))]"
   ]
  },
  {
   "cell_type": "code",
   "execution_count": 44,
   "id": "6e2276eb-0de4-4800-9524-6555d728cc45",
   "metadata": {
    "id": "6e2276eb-0de4-4800-9524-6555d728cc45"
   },
   "outputs": [],
   "source": [
    "def get_country(df, country): \n",
    "    \"\"\"df는 Winner와 Loser 열을 가진 데이터프레임이고, country는 문자열입니다.\n",
    "       Winner나 Loser 열에 country가 나타난 행을 모두 담은 데이터프레임을 반환합니다\"\"\"\n",
    "    return df.loc[(df['Winner'] == country) | (df['Loser'] == country)] "
   ]
  },
  {
   "cell_type": "code",
   "execution_count": 45,
   "id": "d8dd955e-8703-4897-9311-448c7c3b5874",
   "metadata": {
    "colab": {
     "base_uri": "https://localhost:8080/",
     "height": 81
    },
    "id": "d8dd955e-8703-4897-9311-448c7c3b5874",
    "outputId": "fafa9494-5bb3-4c82-a60a-8d6ea4e518a1"
   },
   "outputs": [
    {
     "data": {
      "text/html": [
       "\n",
       "  <div id=\"df-e18fa211-fb71-4166-bdd1-c72516393993\">\n",
       "    <div class=\"colab-df-container\">\n",
       "      <div>\n",
       "<style scoped>\n",
       "    .dataframe tbody tr th:only-of-type {\n",
       "        vertical-align: middle;\n",
       "    }\n",
       "\n",
       "    .dataframe tbody tr th {\n",
       "        vertical-align: top;\n",
       "    }\n",
       "\n",
       "    .dataframe thead th {\n",
       "        text-align: right;\n",
       "    }\n",
       "</style>\n",
       "<table border=\"1\" class=\"dataframe\">\n",
       "  <thead>\n",
       "    <tr style=\"text-align: right;\">\n",
       "      <th></th>\n",
       "      <th>Round</th>\n",
       "      <th>Winner</th>\n",
       "      <th>W Goals</th>\n",
       "      <th>Loser</th>\n",
       "      <th>L Goals</th>\n",
       "    </tr>\n",
       "  </thead>\n",
       "  <tbody>\n",
       "    <tr>\n",
       "      <th>3</th>\n",
       "      <td>Quarters</td>\n",
       "      <td>Sweden</td>\n",
       "      <td>2</td>\n",
       "      <td>Germany</td>\n",
       "      <td>1</td>\n",
       "    </tr>\n",
       "  </tbody>\n",
       "</table>\n",
       "</div>\n",
       "      <button class=\"colab-df-convert\" onclick=\"convertToInteractive('df-e18fa211-fb71-4166-bdd1-c72516393993')\"\n",
       "              title=\"Convert this dataframe to an interactive table.\"\n",
       "              style=\"display:none;\">\n",
       "        \n",
       "  <svg xmlns=\"http://www.w3.org/2000/svg\" height=\"24px\"viewBox=\"0 0 24 24\"\n",
       "       width=\"24px\">\n",
       "    <path d=\"M0 0h24v24H0V0z\" fill=\"none\"/>\n",
       "    <path d=\"M18.56 5.44l.94 2.06.94-2.06 2.06-.94-2.06-.94-.94-2.06-.94 2.06-2.06.94zm-11 1L8.5 8.5l.94-2.06 2.06-.94-2.06-.94L8.5 2.5l-.94 2.06-2.06.94zm10 10l.94 2.06.94-2.06 2.06-.94-2.06-.94-.94-2.06-.94 2.06-2.06.94z\"/><path d=\"M17.41 7.96l-1.37-1.37c-.4-.4-.92-.59-1.43-.59-.52 0-1.04.2-1.43.59L10.3 9.45l-7.72 7.72c-.78.78-.78 2.05 0 2.83L4 21.41c.39.39.9.59 1.41.59.51 0 1.02-.2 1.41-.59l7.78-7.78 2.81-2.81c.8-.78.8-2.07 0-2.86zM5.41 20L4 18.59l7.72-7.72 1.47 1.35L5.41 20z\"/>\n",
       "  </svg>\n",
       "      </button>\n",
       "      \n",
       "  <style>\n",
       "    .colab-df-container {\n",
       "      display:flex;\n",
       "      flex-wrap:wrap;\n",
       "      gap: 12px;\n",
       "    }\n",
       "\n",
       "    .colab-df-convert {\n",
       "      background-color: #E8F0FE;\n",
       "      border: none;\n",
       "      border-radius: 50%;\n",
       "      cursor: pointer;\n",
       "      display: none;\n",
       "      fill: #1967D2;\n",
       "      height: 32px;\n",
       "      padding: 0 0 0 0;\n",
       "      width: 32px;\n",
       "    }\n",
       "\n",
       "    .colab-df-convert:hover {\n",
       "      background-color: #E2EBFA;\n",
       "      box-shadow: 0px 1px 2px rgba(60, 64, 67, 0.3), 0px 1px 3px 1px rgba(60, 64, 67, 0.15);\n",
       "      fill: #174EA6;\n",
       "    }\n",
       "\n",
       "    [theme=dark] .colab-df-convert {\n",
       "      background-color: #3B4455;\n",
       "      fill: #D2E3FC;\n",
       "    }\n",
       "\n",
       "    [theme=dark] .colab-df-convert:hover {\n",
       "      background-color: #434B5C;\n",
       "      box-shadow: 0px 1px 3px 1px rgba(0, 0, 0, 0.15);\n",
       "      filter: drop-shadow(0px 1px 2px rgba(0, 0, 0, 0.3));\n",
       "      fill: #FFFFFF;\n",
       "    }\n",
       "  </style>\n",
       "\n",
       "      <script>\n",
       "        const buttonEl =\n",
       "          document.querySelector('#df-e18fa211-fb71-4166-bdd1-c72516393993 button.colab-df-convert');\n",
       "        buttonEl.style.display =\n",
       "          google.colab.kernel.accessAllowed ? 'block' : 'none';\n",
       "\n",
       "        async function convertToInteractive(key) {\n",
       "          const element = document.querySelector('#df-e18fa211-fb71-4166-bdd1-c72516393993');\n",
       "          const dataTable =\n",
       "            await google.colab.kernel.invokeFunction('convertToInteractive',\n",
       "                                                     [key], {});\n",
       "          if (!dataTable) return;\n",
       "\n",
       "          const docLinkHtml = 'Like what you see? Visit the ' +\n",
       "            '<a target=\"_blank\" href=https://colab.research.google.com/notebooks/data_table.ipynb>data table notebook</a>'\n",
       "            + ' to learn more about interactive tables.';\n",
       "          element.innerHTML = '';\n",
       "          dataTable['output_type'] = 'display_data';\n",
       "          await google.colab.output.renderOutput(dataTable, element);\n",
       "          const docLink = document.createElement('div');\n",
       "          docLink.innerHTML = docLinkHtml;\n",
       "          element.appendChild(docLink);\n",
       "        }\n",
       "      </script>\n",
       "    </div>\n",
       "  </div>\n",
       "  "
      ],
      "text/plain": [
       "      Round  Winner  W Goals    Loser  L Goals\n",
       "3  Quarters  Sweden        2  Germany        1"
      ]
     },
     "execution_count": 45,
     "metadata": {},
     "output_type": "execute_result"
    }
   ],
   "source": [
    "get_country(get_country(wwc, 'Sweden'),'Germany')"
   ]
  },
  {
   "cell_type": "code",
   "execution_count": 46,
   "id": "bcbe09d2-4d37-4ea4-9b24-9098b0f92005",
   "metadata": {
    "id": "bcbe09d2-4d37-4ea4-9b24-9098b0f92005"
   },
   "outputs": [],
   "source": [
    "def get_games(df, countries): \n",
    "    return df[(df['Winner'].isin(countries)) | \n",
    "              (df['Loser'].isin(countries))] "
   ]
  },
  {
   "cell_type": "markdown",
   "id": "e12f647f-f983-4e8e-9a9b-afda71a7bbe0",
   "metadata": {
    "id": "e12f647f-f983-4e8e-9a9b-afda71a7bbe0"
   },
   "source": [
    "**뇌풀기 문제**"
   ]
  },
  {
   "cell_type": "code",
   "execution_count": 47,
   "id": "1e10dee0-080d-4426-938d-78697c42215b",
   "metadata": {
    "colab": {
     "base_uri": "https://localhost:8080/",
     "height": 112
    },
    "id": "1e10dee0-080d-4426-938d-78697c42215b",
    "outputId": "1ad0df7d-da5a-4409-de5f-0f0a49fc79ac"
   },
   "outputs": [
    {
     "data": {
      "text/html": [
       "\n",
       "  <div id=\"df-c7475c3e-0599-471d-9a80-9a43e9b1a6fb\">\n",
       "    <div class=\"colab-df-container\">\n",
       "      <div>\n",
       "<style scoped>\n",
       "    .dataframe tbody tr th:only-of-type {\n",
       "        vertical-align: middle;\n",
       "    }\n",
       "\n",
       "    .dataframe tbody tr th {\n",
       "        vertical-align: top;\n",
       "    }\n",
       "\n",
       "    .dataframe thead th {\n",
       "        text-align: right;\n",
       "    }\n",
       "</style>\n",
       "<table border=\"1\" class=\"dataframe\">\n",
       "  <thead>\n",
       "    <tr style=\"text-align: right;\">\n",
       "      <th></th>\n",
       "      <th>Round</th>\n",
       "      <th>Winner</th>\n",
       "      <th>W Goals</th>\n",
       "      <th>Loser</th>\n",
       "      <th>L Goals</th>\n",
       "    </tr>\n",
       "  </thead>\n",
       "  <tbody>\n",
       "    <tr>\n",
       "      <th>3</th>\n",
       "      <td>Quarters</td>\n",
       "      <td>Sweden</td>\n",
       "      <td>2</td>\n",
       "      <td>Germany</td>\n",
       "      <td>1</td>\n",
       "    </tr>\n",
       "    <tr>\n",
       "      <th>5</th>\n",
       "      <td>Semis</td>\n",
       "      <td>Netherlands</td>\n",
       "      <td>1</td>\n",
       "      <td>Sweden</td>\n",
       "      <td>0</td>\n",
       "    </tr>\n",
       "  </tbody>\n",
       "</table>\n",
       "</div>\n",
       "      <button class=\"colab-df-convert\" onclick=\"convertToInteractive('df-c7475c3e-0599-471d-9a80-9a43e9b1a6fb')\"\n",
       "              title=\"Convert this dataframe to an interactive table.\"\n",
       "              style=\"display:none;\">\n",
       "        \n",
       "  <svg xmlns=\"http://www.w3.org/2000/svg\" height=\"24px\"viewBox=\"0 0 24 24\"\n",
       "       width=\"24px\">\n",
       "    <path d=\"M0 0h24v24H0V0z\" fill=\"none\"/>\n",
       "    <path d=\"M18.56 5.44l.94 2.06.94-2.06 2.06-.94-2.06-.94-.94-2.06-.94 2.06-2.06.94zm-11 1L8.5 8.5l.94-2.06 2.06-.94-2.06-.94L8.5 2.5l-.94 2.06-2.06.94zm10 10l.94 2.06.94-2.06 2.06-.94-2.06-.94-.94-2.06-.94 2.06-2.06.94z\"/><path d=\"M17.41 7.96l-1.37-1.37c-.4-.4-.92-.59-1.43-.59-.52 0-1.04.2-1.43.59L10.3 9.45l-7.72 7.72c-.78.78-.78 2.05 0 2.83L4 21.41c.39.39.9.59 1.41.59.51 0 1.02-.2 1.41-.59l7.78-7.78 2.81-2.81c.8-.78.8-2.07 0-2.86zM5.41 20L4 18.59l7.72-7.72 1.47 1.35L5.41 20z\"/>\n",
       "  </svg>\n",
       "      </button>\n",
       "      \n",
       "  <style>\n",
       "    .colab-df-container {\n",
       "      display:flex;\n",
       "      flex-wrap:wrap;\n",
       "      gap: 12px;\n",
       "    }\n",
       "\n",
       "    .colab-df-convert {\n",
       "      background-color: #E8F0FE;\n",
       "      border: none;\n",
       "      border-radius: 50%;\n",
       "      cursor: pointer;\n",
       "      display: none;\n",
       "      fill: #1967D2;\n",
       "      height: 32px;\n",
       "      padding: 0 0 0 0;\n",
       "      width: 32px;\n",
       "    }\n",
       "\n",
       "    .colab-df-convert:hover {\n",
       "      background-color: #E2EBFA;\n",
       "      box-shadow: 0px 1px 2px rgba(60, 64, 67, 0.3), 0px 1px 3px 1px rgba(60, 64, 67, 0.15);\n",
       "      fill: #174EA6;\n",
       "    }\n",
       "\n",
       "    [theme=dark] .colab-df-convert {\n",
       "      background-color: #3B4455;\n",
       "      fill: #D2E3FC;\n",
       "    }\n",
       "\n",
       "    [theme=dark] .colab-df-convert:hover {\n",
       "      background-color: #434B5C;\n",
       "      box-shadow: 0px 1px 3px 1px rgba(0, 0, 0, 0.15);\n",
       "      filter: drop-shadow(0px 1px 2px rgba(0, 0, 0, 0.3));\n",
       "      fill: #FFFFFF;\n",
       "    }\n",
       "  </style>\n",
       "\n",
       "      <script>\n",
       "        const buttonEl =\n",
       "          document.querySelector('#df-c7475c3e-0599-471d-9a80-9a43e9b1a6fb button.colab-df-convert');\n",
       "        buttonEl.style.display =\n",
       "          google.colab.kernel.accessAllowed ? 'block' : 'none';\n",
       "\n",
       "        async function convertToInteractive(key) {\n",
       "          const element = document.querySelector('#df-c7475c3e-0599-471d-9a80-9a43e9b1a6fb');\n",
       "          const dataTable =\n",
       "            await google.colab.kernel.invokeFunction('convertToInteractive',\n",
       "                                                     [key], {});\n",
       "          if (!dataTable) return;\n",
       "\n",
       "          const docLinkHtml = 'Like what you see? Visit the ' +\n",
       "            '<a target=\"_blank\" href=https://colab.research.google.com/notebooks/data_table.ipynb>data table notebook</a>'\n",
       "            + ' to learn more about interactive tables.';\n",
       "          element.innerHTML = '';\n",
       "          dataTable['output_type'] = 'display_data';\n",
       "          await google.colab.output.renderOutput(dataTable, element);\n",
       "          const docLink = document.createElement('div');\n",
       "          docLink.innerHTML = docLinkHtml;\n",
       "          element.appendChild(docLink);\n",
       "        }\n",
       "      </script>\n",
       "    </div>\n",
       "  </div>\n",
       "  "
      ],
      "text/plain": [
       "      Round       Winner  W Goals    Loser  L Goals\n",
       "3  Quarters       Sweden        2  Germany        1\n",
       "5     Semis  Netherlands        1   Sweden        0"
      ]
     },
     "execution_count": 47,
     "metadata": {},
     "output_type": "execute_result"
    }
   ],
   "source": [
    "wwc[((wwc['Winner'] == 'Sweden') & (wwc['Loser'].isin(['Germany', 'Netherlands']))) |\n",
    "    ((wwc['Loser'] == 'Sweden') & (wwc['Winner'].isin(['Germany', 'Netherlands'])))]"
   ]
  },
  {
   "cell_type": "markdown",
   "id": "033c1a4a-7ad2-4661-adf2-8eeebe1050b4",
   "metadata": {
    "id": "033c1a4a-7ad2-4661-adf2-8eeebe1050b4"
   },
   "source": [
    "## 데이터프레임 조작하기"
   ]
  },
  {
   "cell_type": "code",
   "execution_count": 48,
   "id": "e03fbe10-f007-4501-8265-071062edaf47",
   "metadata": {
    "colab": {
     "base_uri": "https://localhost:8080/"
    },
    "id": "e03fbe10-f007-4501-8265-071062edaf47",
    "outputId": "49d5a90f-974b-4e89-d624-1fc5aa6eb159"
   },
   "outputs": [
    {
     "data": {
      "text/plain": [
       "0    6\n",
       "1    4\n",
       "2    4\n",
       "3    4\n",
       "4    4\n",
       "5    2\n",
       "6    4\n",
       "7    4\n",
       "Name: W Goals, dtype: int64"
      ]
     },
     "execution_count": 48,
     "metadata": {},
     "output_type": "execute_result"
    }
   ],
   "source": [
    "2*wwc['W Goals']"
   ]
  },
  {
   "cell_type": "code",
   "execution_count": 49,
   "id": "741a1a27-1d7b-4535-a0b4-f20870bb3433",
   "metadata": {
    "colab": {
     "base_uri": "https://localhost:8080/"
    },
    "id": "741a1a27-1d7b-4535-a0b4-f20870bb3433",
    "outputId": "c233f047-5b03-48e1-9a48-2b714fa51864"
   },
   "outputs": [
    {
     "data": {
      "text/plain": [
       "4"
      ]
     },
     "execution_count": 49,
     "metadata": {},
     "output_type": "execute_result"
    }
   ],
   "source": [
    "(wwc[wwc['Winner'] == 'Sweden']['W Goals'].sum() + \n",
    " wwc[wwc['Loser'] == 'Sweden']['L Goals'].sum()) "
   ]
  },
  {
   "cell_type": "code",
   "execution_count": 50,
   "id": "b702905b-284a-4cb5-a67e-9f6257e6a73e",
   "metadata": {
    "colab": {
     "base_uri": "https://localhost:8080/"
    },
    "id": "b702905b-284a-4cb5-a67e-9f6257e6a73e",
    "outputId": "2c733462-327f-4b4c-bf17-05e80c224981"
   },
   "outputs": [
    {
     "data": {
      "text/plain": [
       "1.5"
      ]
     },
     "execution_count": 50,
     "metadata": {},
     "output_type": "execute_result"
    }
   ],
   "source": [
    "(wwc['W Goals'].sum() - wwc['L Goals'].sum())/len(wwc['W Goals']) "
   ]
  },
  {
   "cell_type": "markdown",
   "id": "10a43dbc-8d3e-48fa-ab23-f65f14728ab6",
   "metadata": {
    "id": "10a43dbc-8d3e-48fa-ab23-f65f14728ab6"
   },
   "source": [
    "**뇌풀기 문제**"
   ]
  },
  {
   "cell_type": "code",
   "execution_count": 51,
   "id": "c48eeb39-6837-4a02-bfed-5ca9abd690f2",
   "metadata": {
    "colab": {
     "base_uri": "https://localhost:8080/"
    },
    "id": "c48eeb39-6837-4a02-bfed-5ca9abd690f2",
    "outputId": "b51bbc24-6605-490b-d0f4-46d09a3eb800"
   },
   "outputs": [
    {
     "data": {
      "text/plain": [
       "20"
      ]
     },
     "execution_count": 51,
     "metadata": {},
     "output_type": "execute_result"
    }
   ],
   "source": [
    "wwc['W Goals'].sum() + wwc['L Goals'].sum()"
   ]
  },
  {
   "cell_type": "markdown",
   "id": "4326868d-0b98-4e95-8e01-ccc7288462e5",
   "metadata": {
    "id": "4326868d-0b98-4e95-8e01-ccc7288462e5"
   },
   "source": [
    "**뇌풀기 문제**"
   ]
  },
  {
   "cell_type": "code",
   "execution_count": 52,
   "id": "5eeaae64-4e57-44d1-a905-ce23615a08ca",
   "metadata": {
    "colab": {
     "base_uri": "https://localhost:8080/"
    },
    "id": "5eeaae64-4e57-44d1-a905-ce23615a08ca",
    "outputId": "ad43b777-c5ed-428f-dd34-44fe21340cb9"
   },
   "outputs": [
    {
     "data": {
      "text/plain": [
       "2"
      ]
     },
     "execution_count": 52,
     "metadata": {},
     "output_type": "execute_result"
    }
   ],
   "source": [
    "wwc[wwc['Round'] == 'Quarters']['L Goals'].sum()"
   ]
  },
  {
   "cell_type": "code",
   "execution_count": 53,
   "id": "de346774-5464-4c61-90cb-f81e26c9b565",
   "metadata": {
    "colab": {
     "base_uri": "https://localhost:8080/"
    },
    "id": "de346774-5464-4c61-90cb-f81e26c9b565",
    "outputId": "609d0694-e543-4634-db78-290a68a33353"
   },
   "outputs": [
    {
     "name": "stdout",
     "output_type": "stream",
     "text": [
      "          Round       Winner  W Goals        Loser  L Goals  G Diff\n",
      "0      Quarters      England        3       Norway        0       3\n",
      "1      Quarters          USA        2       France        1       1\n",
      "2      Quarters  Netherlands        2        Italy        0       2\n",
      "3      Quarters       Sweden        2      Germany        1       1\n",
      "4         Semis          USA        2      England        1       1\n",
      "5         Semis  Netherlands        1       Sweden        0       1\n",
      "6     3rd Place       Sweden        2      England        1       1\n",
      "7  Championship          USA        2  Netherlands        0       2\n",
      "8         Total          NaN       16          NaN        4      12\n"
     ]
    }
   ],
   "source": [
    "#wwc에 새로운 열 추가\n",
    "wwc['G Diff'] = wwc['W Goals'] - wwc['L Goals'] \n",
    "#새로운 행을 위한 딕셔너리 만들기\n",
    "new_row_dict = {'Round': ['Total'], \n",
    "                'W Goals': [wwc['W Goals'].sum()], \n",
    "                'L Goals': [wwc['L Goals'].sum()], \n",
    "                'G Diff': [wwc['G Diff'].sum()]} \n",
    "#딕셔너리로 데이터프레임을 만들고 wwc와 합치기\n",
    "new_row = pd.DataFrame(new_row_dict) \n",
    "wwc = pd.concat([wwc, new_row], sort = False).reset_index(drop = True) \n",
    "print(wwc)"
   ]
  },
  {
   "cell_type": "code",
   "execution_count": 54,
   "id": "a5cada4b-372d-4b4f-9c73-f171d40caae3",
   "metadata": {
    "colab": {
     "base_uri": "https://localhost:8080/"
    },
    "id": "a5cada4b-372d-4b4f-9c73-f171d40caae3",
    "outputId": "66d389d7-2b9f-4b25-b7a1-8e194941031b"
   },
   "outputs": [
    {
     "name": "stdout",
     "output_type": "stream",
     "text": [
      "              W Goals       L Goals    G Diff\n",
      "W Goals  1.000000e+00  5.551115e-17  0.707107\n",
      "L Goals  5.551115e-17  1.000000e+00 -0.707107\n",
      "G Diff   7.071068e-01 -7.071068e-01  1.000000\n"
     ]
    },
    {
     "name": "stderr",
     "output_type": "stream",
     "text": [
      "<ipython-input-54-690fc9119663>:1: FutureWarning: The default value of numeric_only in DataFrame.corr is deprecated. In a future version, it will default to False. Select only valid columns or specify the value of numeric_only to silence this warning.\n",
      "  print(wwc.loc[wwc['Round'] != 'Total'].corr(method = 'pearson'))\n"
     ]
    }
   ],
   "source": [
    "print(wwc.loc[wwc['Round'] != 'Total'].corr(method = 'pearson')) "
   ]
  },
  {
   "cell_type": "markdown",
   "id": "e567f2d8-1e98-4c1b-9d61-7989e6945919",
   "metadata": {
    "id": "e567f2d8-1e98-4c1b-9d61-7989e6945919"
   },
   "source": [
    "## 23.5 확장 예제"
   ]
  },
  {
   "cell_type": "markdown",
   "id": "30dfce3c-550d-4815-b7d1-c5048093a350",
   "metadata": {
    "id": "30dfce3c-550d-4815-b7d1-c5048093a350"
   },
   "source": [
    "### 23.5.1 온도 데이터"
   ]
  },
  {
   "cell_type": "code",
   "execution_count": 55,
   "id": "1dc63615-6a6a-414e-ba14-d288058f58ae",
   "metadata": {
    "colab": {
     "base_uri": "https://localhost:8080/"
    },
    "id": "1dc63615-6a6a-414e-ba14-d288058f58ae",
    "outputId": "f65e3a75-47f3-4047-f9f3-ab361c5f17bf"
   },
   "outputs": [
    {
     "name": "stdout",
     "output_type": "stream",
     "text": [
      "           Date  Albuquerque  ...  St Louis  Tampa\n",
      "0      19610101        -0.55  ...     -0.55  15.00\n",
      "1      19610102        -2.50  ...     -0.55  13.60\n",
      "2      19610103        -2.50  ...      0.30  11.95\n",
      "...         ...          ...  ...       ...    ...\n",
      "20085  20151229        -2.15  ...      1.40  26.10\n",
      "20086  20151230        -2.75  ...      0.60  25.55\n",
      "20087  20151231        -0.75  ...     -0.25  25.55\n",
      "\n",
      "[20088 rows x 22 columns]\n"
     ]
    }
   ],
   "source": [
    "pd.set_option('display.max_rows', 6) \n",
    "pd.set_option('display.max_columns', 5) \n",
    "temperatures = pd.read_csv('US_temperatures.csv') \n",
    "print(temperatures) "
   ]
  },
  {
   "cell_type": "code",
   "execution_count": 56,
   "id": "a0e51ab3-a871-4ae1-b6bb-db2681174504",
   "metadata": {
    "colab": {
     "base_uri": "https://localhost:8080/",
     "height": 81
    },
    "id": "a0e51ab3-a871-4ae1-b6bb-db2681174504",
    "outputId": "efa5a38c-fcd6-422e-da38-8b3021563d91"
   },
   "outputs": [
    {
     "data": {
      "text/html": [
       "\n",
       "  <div id=\"df-a5dd4b83-ff3a-4aa6-a722-990049e6bb63\">\n",
       "    <div class=\"colab-df-container\">\n",
       "      <div>\n",
       "<style scoped>\n",
       "    .dataframe tbody tr th:only-of-type {\n",
       "        vertical-align: middle;\n",
       "    }\n",
       "\n",
       "    .dataframe tbody tr th {\n",
       "        vertical-align: top;\n",
       "    }\n",
       "\n",
       "    .dataframe thead th {\n",
       "        text-align: right;\n",
       "    }\n",
       "</style>\n",
       "<table border=\"1\" class=\"dataframe\">\n",
       "  <thead>\n",
       "    <tr style=\"text-align: right;\">\n",
       "      <th></th>\n",
       "      <th>New York</th>\n",
       "      <th>Tampa</th>\n",
       "    </tr>\n",
       "  </thead>\n",
       "  <tbody>\n",
       "    <tr>\n",
       "      <th>6797</th>\n",
       "      <td>15.0</td>\n",
       "      <td>25.55</td>\n",
       "    </tr>\n",
       "  </tbody>\n",
       "</table>\n",
       "</div>\n",
       "      <button class=\"colab-df-convert\" onclick=\"convertToInteractive('df-a5dd4b83-ff3a-4aa6-a722-990049e6bb63')\"\n",
       "              title=\"Convert this dataframe to an interactive table.\"\n",
       "              style=\"display:none;\">\n",
       "        \n",
       "  <svg xmlns=\"http://www.w3.org/2000/svg\" height=\"24px\"viewBox=\"0 0 24 24\"\n",
       "       width=\"24px\">\n",
       "    <path d=\"M0 0h24v24H0V0z\" fill=\"none\"/>\n",
       "    <path d=\"M18.56 5.44l.94 2.06.94-2.06 2.06-.94-2.06-.94-.94-2.06-.94 2.06-2.06.94zm-11 1L8.5 8.5l.94-2.06 2.06-.94-2.06-.94L8.5 2.5l-.94 2.06-2.06.94zm10 10l.94 2.06.94-2.06 2.06-.94-2.06-.94-.94-2.06-.94 2.06-2.06.94z\"/><path d=\"M17.41 7.96l-1.37-1.37c-.4-.4-.92-.59-1.43-.59-.52 0-1.04.2-1.43.59L10.3 9.45l-7.72 7.72c-.78.78-.78 2.05 0 2.83L4 21.41c.39.39.9.59 1.41.59.51 0 1.02-.2 1.41-.59l7.78-7.78 2.81-2.81c.8-.78.8-2.07 0-2.86zM5.41 20L4 18.59l7.72-7.72 1.47 1.35L5.41 20z\"/>\n",
       "  </svg>\n",
       "      </button>\n",
       "      \n",
       "  <style>\n",
       "    .colab-df-container {\n",
       "      display:flex;\n",
       "      flex-wrap:wrap;\n",
       "      gap: 12px;\n",
       "    }\n",
       "\n",
       "    .colab-df-convert {\n",
       "      background-color: #E8F0FE;\n",
       "      border: none;\n",
       "      border-radius: 50%;\n",
       "      cursor: pointer;\n",
       "      display: none;\n",
       "      fill: #1967D2;\n",
       "      height: 32px;\n",
       "      padding: 0 0 0 0;\n",
       "      width: 32px;\n",
       "    }\n",
       "\n",
       "    .colab-df-convert:hover {\n",
       "      background-color: #E2EBFA;\n",
       "      box-shadow: 0px 1px 2px rgba(60, 64, 67, 0.3), 0px 1px 3px 1px rgba(60, 64, 67, 0.15);\n",
       "      fill: #174EA6;\n",
       "    }\n",
       "\n",
       "    [theme=dark] .colab-df-convert {\n",
       "      background-color: #3B4455;\n",
       "      fill: #D2E3FC;\n",
       "    }\n",
       "\n",
       "    [theme=dark] .colab-df-convert:hover {\n",
       "      background-color: #434B5C;\n",
       "      box-shadow: 0px 1px 3px 1px rgba(0, 0, 0, 0.15);\n",
       "      filter: drop-shadow(0px 1px 2px rgba(0, 0, 0, 0.3));\n",
       "      fill: #FFFFFF;\n",
       "    }\n",
       "  </style>\n",
       "\n",
       "      <script>\n",
       "        const buttonEl =\n",
       "          document.querySelector('#df-a5dd4b83-ff3a-4aa6-a722-990049e6bb63 button.colab-df-convert');\n",
       "        buttonEl.style.display =\n",
       "          google.colab.kernel.accessAllowed ? 'block' : 'none';\n",
       "\n",
       "        async function convertToInteractive(key) {\n",
       "          const element = document.querySelector('#df-a5dd4b83-ff3a-4aa6-a722-990049e6bb63');\n",
       "          const dataTable =\n",
       "            await google.colab.kernel.invokeFunction('convertToInteractive',\n",
       "                                                     [key], {});\n",
       "          if (!dataTable) return;\n",
       "\n",
       "          const docLinkHtml = 'Like what you see? Visit the ' +\n",
       "            '<a target=\"_blank\" href=https://colab.research.google.com/notebooks/data_table.ipynb>data table notebook</a>'\n",
       "            + ' to learn more about interactive tables.';\n",
       "          element.innerHTML = '';\n",
       "          dataTable['output_type'] = 'display_data';\n",
       "          await google.colab.output.renderOutput(dataTable, element);\n",
       "          const docLink = document.createElement('div');\n",
       "          docLink.innerHTML = docLinkHtml;\n",
       "          element.appendChild(docLink);\n",
       "        }\n",
       "      </script>\n",
       "    </div>\n",
       "  </div>\n",
       "  "
      ],
      "text/plain": [
       "      New York  Tampa\n",
       "6797      15.0  25.55"
      ]
     },
     "execution_count": 56,
     "metadata": {},
     "output_type": "execute_result"
    }
   ],
   "source": [
    "temperatures.loc[temperatures['Date']==19790812][['New York','Tampa']]"
   ]
  },
  {
   "cell_type": "markdown",
   "id": "41f35bcb-b85c-4d28-964a-7033270f7a5e",
   "metadata": {
    "id": "41f35bcb-b85c-4d28-964a-7033270f7a5e"
   },
   "source": [
    "**뇌풀기 문제**"
   ]
  },
  {
   "cell_type": "code",
   "execution_count": 57,
   "id": "a45db80e-0f8e-4bc4-a200-9da92f954665",
   "metadata": {
    "colab": {
     "base_uri": "https://localhost:8080/"
    },
    "id": "a45db80e-0f8e-4bc4-a200-9da92f954665",
    "outputId": "3114bff5-b486-4a80-b1db-290b23203b48"
   },
   "outputs": [
    {
     "data": {
      "text/plain": [
       "6797    False\n",
       "dtype: bool"
      ]
     },
     "execution_count": 57,
     "metadata": {},
     "output_type": "execute_result"
    }
   ],
   "source": [
    "temperatures.loc[temperatures['Date']==19790812]['Phoenix'] > \\\n",
    "temperatures.loc[temperatures['Date']==19790812]['Tampa']"
   ]
  },
  {
   "cell_type": "markdown",
   "id": "26a40ee5-4418-4da1-80a9-f0b32d8f397b",
   "metadata": {
    "id": "26a40ee5-4418-4da1-80a9-f0b32d8f397b"
   },
   "source": [
    "**뇌풀기 문제**"
   ]
  },
  {
   "cell_type": "code",
   "execution_count": 58,
   "id": "622a9e9e-99c0-44bb-bce3-e897af0822d3",
   "metadata": {
    "colab": {
     "base_uri": "https://localhost:8080/"
    },
    "id": "622a9e9e-99c0-44bb-bce3-e897af0822d3",
    "outputId": "5fcd5730-020a-4097-99af-aebb5ae81921"
   },
   "outputs": [
    {
     "data": {
      "text/plain": [
       "10768    19900626\n",
       "Name: Date, dtype: int64"
      ]
     },
     "execution_count": 58,
     "metadata": {},
     "output_type": "execute_result"
    }
   ],
   "source": [
    "temperatures.loc[temperatures['Phoenix'] == 41.4]['Date']"
   ]
  },
  {
   "cell_type": "code",
   "execution_count": 59,
   "id": "b11392bc-6492-4fd4-b1f6-37ddf75a03b6",
   "metadata": {
    "colab": {
     "base_uri": "https://localhost:8080/"
    },
    "id": "b11392bc-6492-4fd4-b1f6-37ddf75a03b6",
    "outputId": "f6f42214-db68-418b-9307-1a765c296e58"
   },
   "outputs": [
    {
     "name": "stdout",
     "output_type": "stream",
     "text": [
      "           Date  Albuquerque  ...  Min T      Mean T\n",
      "14429  20000704        26.65  ...  15.25  1666747.37\n",
      "\n",
      "[1 rows x 25 columns]\n"
     ]
    }
   ],
   "source": [
    "temperatures['Max T'] = temperatures.max(axis = 'columns') \n",
    "temperatures['Min T'] = temperatures.min(axis = 'columns') \n",
    "temperatures['Mean T'] = round(temperatures.mean(axis = 'columns'), 2) \n",
    "print(temperatures.loc[temperatures['Date']==20000704]) "
   ]
  },
  {
   "cell_type": "code",
   "execution_count": 60,
   "id": "8b7c4b66-46fd-4509-890a-c0fea3c6b4eb",
   "metadata": {
    "colab": {
     "base_uri": "https://localhost:8080/"
    },
    "id": "8b7c4b66-46fd-4509-890a-c0fea3c6b4eb",
    "outputId": "cb87bdb0-fe24-4232-cc96-e149dc08ff45"
   },
   "outputs": [
    {
     "name": "stdout",
     "output_type": "stream",
     "text": [
      "          Albuquerque  Baltimore  ...  Min T  Mean T\n",
      "Date                              ...               \n",
      "20000704        26.65      25.55  ...  15.25   24.42\n",
      "\n",
      "[1 rows x 24 columns]\n"
     ]
    }
   ],
   "source": [
    "temperatures = temperatures.drop(['Max T', 'Min T', 'Mean T'], axis='columns')\n",
    "temperatures.set_index('Date', drop = True, inplace = True) \n",
    "temperatures['Max T'] = temperatures.max(axis = 'columns') \n",
    "temperatures['Min T'] = temperatures.min(axis = 'columns') \n",
    "temperatures['Mean T'] = round(temperatures.mean(axis = 'columns'), 2) \n",
    "print(temperatures.loc[20000704:20000704])"
   ]
  },
  {
   "cell_type": "code",
   "execution_count": 61,
   "id": "64a5cfc9-0bad-4373-87cc-7317c929668a",
   "metadata": {
    "colab": {
     "base_uri": "https://localhost:8080/",
     "height": 362
    },
    "id": "64a5cfc9-0bad-4373-87cc-7317c929668a",
    "outputId": "bec3b13d-de0a-4db7-b414-cc2fd7b6f537"
   },
   "outputs": [
    {
     "data": {
      "image/png": "[encoded data removed]",
      "text/plain": [
       "<Figure size 1400x300 with 1 Axes>"
      ]
     },
     "metadata": {},
     "output_type": "display_data"
    }
   ],
   "source": [
    "plt.figure(figsize = (14, 3)) #피겨 크기 지정\n",
    "plt.plot(list(temperatures['Mean T'])) \n",
    "plt.title('미국 21개 도시의 평균 온도') \n",
    "plt.xlabel('1961/1/1부터 날짜') \n",
    "plt.ylabel('온도 (C)') \n",
    "plt.show()"
   ]
  },
  {
   "cell_type": "code",
   "execution_count": 62,
   "id": "90a433d8-4668-49f5-bb9b-d8d3632a88a9",
   "metadata": {
    "colab": {
     "base_uri": "https://localhost:8080/",
     "height": 362
    },
    "id": "90a433d8-4668-49f5-bb9b-d8d3632a88a9",
    "outputId": "f190dc8a-5eb7-43ac-8a21-8bc3714c677c"
   },
   "outputs": [
    {
     "data": {
      "image/png": "[encoded data removed]",
      "text/plain": [
       "<Figure size 1400x300 with 1 Axes>"
      ]
     },
     "metadata": {},
     "output_type": "display_data"
    }
   ],
   "source": [
    "plt.figure(figsize = (14, 3)) #피겨 크기 지정\n",
    "plt.plot(list(temperatures['Mean T'])[0:3*365])\n",
    "plt.title('미국 21개 도시의 평균 온도') \n",
    "plt.xlabel('1961/1/1부터 날짜') \n",
    "plt.ylabel('온도 (C)') \n",
    "plt.show()"
   ]
  },
  {
   "cell_type": "markdown",
   "id": "d44862e5-154d-4351-be86-21ac51c93d90",
   "metadata": {
    "id": "d44862e5-154d-4351-be86-21ac51c93d90"
   },
   "source": [
    "예제 23-2 연도와 온도 데이터를 매핑한 딕셔너리 만들기"
   ]
  },
  {
   "cell_type": "code",
   "execution_count": 63,
   "id": "b4821e8d-5371-4fba-b9dc-4b34b00b471c",
   "metadata": {
    "id": "b4821e8d-5371-4fba-b9dc-4b34b00b471c"
   },
   "outputs": [],
   "source": [
    "def get_dict(temperatures, labels): \n",
    "    \"\"\"temperatures는 데이터프레임입니다. 인덱스는 yyyymmdd 형태의 날짜를 나타내는 정수입니다.\n",
    "       labels은 열 레이블의 리스트입니다.\n",
    "       연도가 키이고, 값은 딕셔너리입니다.\n",
    "       이 딕셔너리는 열 레이블이 키이고 각 열의 일자별 온도 리스트가 값입니다\"\"\" \n",
    "    year_dict = {} \n",
    "    for index, row in temperatures.iterrows(): \n",
    "        year = str(index)[0:4] \n",
    "        try: \n",
    "            for col in labels: \n",
    "                year_dict[year][col].append(row[col]) \n",
    "        except: \n",
    "            year_dict[year] = {col:[] for col in labels} \n",
    "            for col in labels: \n",
    "                year_dict[year][col].append(row[col]) \n",
    "    return year_dict "
   ]
  },
  {
   "cell_type": "markdown",
   "id": "75486658-01a9-42f3-87fa-85a6164c9f60",
   "metadata": {
    "id": "75486658-01a9-42f3-87fa-85a6164c9f60"
   },
   "source": [
    "예제 23-3 연도별 데이터프레임 만들기"
   ]
  },
  {
   "cell_type": "code",
   "execution_count": 64,
   "id": "a964f81f-7d75-4add-946b-c22a1e50f144",
   "metadata": {
    "colab": {
     "base_uri": "https://localhost:8080/"
    },
    "id": "a964f81f-7d75-4add-946b-c22a1e50f144",
    "outputId": "d89c068f-d657-4991-9322-95da97f662e9"
   },
   "outputs": [
    {
     "name": "stdout",
     "output_type": "stream",
     "text": [
      "    Year  Min T  Max T  Mean T\n",
      "0   1961 -17.25  38.05   15.64\n",
      "1   1962 -21.65  36.95   15.39\n",
      "2   1963 -24.70  36.10   15.50\n",
      "..   ...    ...    ...     ...\n",
      "52  2013 -15.00  40.55   16.66\n",
      "53  2014 -22.70  40.30   16.85\n",
      "54  2015 -18.80  40.55   17.54\n",
      "\n",
      "[55 rows x 4 columns]\n"
     ]
    }
   ],
   "source": [
    "import numpy as np \n",
    "\n",
    "temperatures = pd.read_csv('US_temperatures.csv') \n",
    "temperatures.set_index('Date', drop = True, inplace = True) \n",
    "temperatures['Mean T'] = round(temperatures.mean(axis = 'columns'), 2) \n",
    "temperatures['Max T'] = temperatures.max(axis = 'columns') \n",
    "temperatures['Min T'] = temperatures.min(axis = 'columns') \n",
    "yearly_dict = get_dict(temperatures, ['Max T', 'Min T', 'Mean T']) \n",
    "years, mins, maxes, means = [], [], [], [] \n",
    "for y in yearly_dict: \n",
    "    years.append(y) \n",
    "    mins.append(min(yearly_dict[y]['Min T'])) \n",
    "    maxes.append(max(yearly_dict[y]['Max T'])) \n",
    "    means.append(round(np.mean(yearly_dict[y]['Mean T']), 2)) \n",
    "\n",
    "yearly_temps = pd.DataFrame({'Year': years, 'Min T': mins, \n",
    "                             'Max T': maxes, 'Mean T': means}) \n",
    "print(yearly_temps) "
   ]
  },
  {
   "cell_type": "markdown",
   "id": "75edf91c-1503-484a-8883-9679fdc3143a",
   "metadata": {
    "id": "75edf91c-1503-484a-8883-9679fdc3143a"
   },
   "source": [
    "예제 23-4 연도별 온도 그래프 그리기\n",
    "\n",
    "그림 23-2 평균 연간 온도와 최소 연간 온도"
   ]
  },
  {
   "cell_type": "code",
   "execution_count": 65,
   "id": "d1338551-7f22-4a39-8796-e01dd4dc6771",
   "metadata": {
    "colab": {
     "base_uri": "https://localhost:8080/",
     "height": 955
    },
    "id": "d1338551-7f22-4a39-8796-e01dd4dc6771",
    "outputId": "8cf647d1-1fc2-412f-c87c-92c1da6c5159"
   },
   "outputs": [
    {
     "data": {
      "image/png": "[encoded data removed]",
      "text/plain": [
       "<Figure size 640x480 with 1 Axes>"
      ]
     },
     "metadata": {},
     "output_type": "display_data"
    },
    {
     "data": {
      "image/png": "[encoded data removed]",
      "text/plain": [
       "<Figure size 640x480 with 1 Axes>"
      ]
     },
     "metadata": {},
     "output_type": "display_data"
    }
   ],
   "source": [
    "plt.figure(0) \n",
    "plt.plot(yearly_temps['Year'], yearly_temps['Mean T']) \n",
    "plt.title('미국 21개 도시의 연간 평균 온도') \n",
    "plt.figure(1) \n",
    "plt.plot(yearly_temps['Year'], yearly_temps['Min T']) \n",
    "plt.title('미국 21개 도시의 연간 최저 온도') \n",
    "for i in range(2): \n",
    "    plt.figure(i) \n",
    "    plt.xticks(range(0, len(yearly_temps), 4), \n",
    "               rotation = 'vertical', size = 'large') \n",
    "    plt.ylabel('온도 (C)') "
   ]
  },
  {
   "cell_type": "markdown",
   "id": "a0645ea8",
   "metadata": {},
   "source": [
    "그림 23-3 최소 온도의 이동 평균"
   ]
  },
  {
   "cell_type": "code",
   "execution_count": 66,
   "id": "4767667f-8281-490d-87ae-5e9df3a8243b",
   "metadata": {
    "colab": {
     "base_uri": "https://localhost:8080/",
     "height": 486
    },
    "id": "4767667f-8281-490d-87ae-5e9df3a8243b",
    "outputId": "1d7db50c-f1cb-4340-9831-5a9bdd74d2d0"
   },
   "outputs": [
    {
     "data": {
      "image/png": "[encoded data removed]",
      "text/plain": [
       "<Figure size 640x480 with 1 Axes>"
      ]
     },
     "metadata": {},
     "output_type": "display_data"
    }
   ],
   "source": [
    "plt.plot(yearly_temps['Year'], yearly_temps['Min T'].rolling(7).mean()) \n",
    "plt.title('미국 21개 도시의 연간 최소 온도의 이동평균') \n",
    "plt.xticks(range(0, len(yearly_temps), 4), \n",
    "           rotation = 'vertical', size = 'large') \n",
    "plt.ylabel('온도 (C)') \n",
    "plt.show()"
   ]
  },
  {
   "cell_type": "code",
   "execution_count": 67,
   "id": "aea74738-a04d-44d2-b7e4-a8234855b54c",
   "metadata": {
    "colab": {
     "base_uri": "https://localhost:8080/"
    },
    "id": "aea74738-a04d-44d2-b7e4-a8234855b54c",
    "outputId": "09eb053b-e11d-4811-fbfb-8c2d2468e301"
   },
   "outputs": [
    {
     "name": "stdout",
     "output_type": "stream",
     "text": [
      "            Year     Min T     Max T    Mean T\n",
      "Year    1.000000  0.713382  0.918975  0.969475\n",
      "Min T   0.713382  1.000000  0.629268  0.680766\n",
      "Max T   0.918975  0.629268  1.000000  0.942378\n",
      "Mean T  0.969475  0.680766  0.942378  1.000000\n"
     ]
    }
   ],
   "source": [
    "num_years = 7 \n",
    "for label in ['Min T', 'Max T', 'Mean T']: \n",
    "    yearly_temps[label] = yearly_temps[label].rolling(num_years).mean() \n",
    "yearly_temps['Year'] = yearly_temps['Year'].apply(int) \n",
    "print(yearly_temps.corr()) "
   ]
  },
  {
   "cell_type": "code",
   "execution_count": 68,
   "id": "ccff46ba-5ffc-4354-ad82-7d5c0aea45db",
   "metadata": {
    "id": "ccff46ba-5ffc-4354-ad82-7d5c0aea45db"
   },
   "outputs": [],
   "source": [
    "def r_squared(measured, predicted):\n",
    "    \"\"\"measured는 측정 값을 담은 1차원 배열이고\n",
    "       predicted는 예측 값을 담은 1차원 배열이라고 가정합니다.\n",
    "       결정 계수를 반환합니다\"\"\"\n",
    "    estimated_error = ((predicted - measured)**2).sum()\n",
    "    mean_of_measured = measured.sum()/len(measured)\n",
    "    variability = ((measured - mean_of_measured)**2).sum()\n",
    "    return 1 - estimated_error/variability"
   ]
  },
  {
   "cell_type": "code",
   "execution_count": 69,
   "id": "59cb4b10-b519-427f-a4d2-62bf17fa38c9",
   "metadata": {
    "colab": {
     "base_uri": "https://localhost:8080/"
    },
    "id": "59cb4b10-b519-427f-a4d2-62bf17fa38c9",
    "outputId": "5f786a1b-a4ec-4eb3-95c4-6db64721ab27"
   },
   "outputs": [
    {
     "name": "stdout",
     "output_type": "stream",
     "text": [
      "0.9398819402644781\n"
     ]
    }
   ],
   "source": [
    "indices = np.isfinite(yearly_temps['Mean T']) \n",
    "model = np.polyfit(list(yearly_temps['Year'][indices]), \n",
    "                   list(yearly_temps['Mean T'][indices]), 1) \n",
    "print(r_squared(yearly_temps['Mean T'][indices], \n",
    "                np.polyval(model, yearly_temps['Year'][indices]))) "
   ]
  },
  {
   "cell_type": "markdown",
   "id": "492f4409-1feb-416a-985d-98463e03ba77",
   "metadata": {
    "id": "492f4409-1feb-416a-985d-98463e03ba77"
   },
   "source": [
    "**뇌풀기 문제**"
   ]
  },
  {
   "cell_type": "code",
   "execution_count": 70,
   "id": "95a2cf9a-ceff-4e2c-acbd-b17d37325113",
   "metadata": {
    "colab": {
     "base_uri": "https://localhost:8080/"
    },
    "id": "95a2cf9a-ceff-4e2c-acbd-b17d37325113",
    "outputId": "ce88ae52-1903-4b39-efa7-70a4715448c2"
   },
   "outputs": [
    {
     "name": "stdout",
     "output_type": "stream",
     "text": [
      "0.7738865414633711\n"
     ]
    }
   ],
   "source": [
    "years_arr = np.array(years).astype(int)\n",
    "yr_means_arr = np.array(means)\n",
    "model = np.polyfit(years_arr, yr_means_arr, 1)\n",
    "print(r_squared(yr_means_arr, np.polyval(model, years_arr)))"
   ]
  },
  {
   "cell_type": "markdown",
   "id": "e642545c",
   "metadata": {},
   "source": [
    "예제 23-5 도시별 평균 온도"
   ]
  },
  {
   "cell_type": "code",
   "execution_count": 71,
   "id": "ce282034-de09-4290-a849-06f21190f53c",
   "metadata": {
    "colab": {
     "base_uri": "https://localhost:8080/"
    },
    "id": "ce282034-de09-4290-a849-06f21190f53c",
    "outputId": "6d799b2d-af96-42f8-8c8f-f9a4b3a8d6a2"
   },
   "outputs": [
    {
     "name": "stdout",
     "output_type": "stream",
     "text": [
      "               Min T   Max T  Mean T  Max-Min\n",
      "San Juan       68.99   88.97  80.492    19.98\n",
      "Miami          37.94   90.05  76.604    52.11\n",
      "Phoenix        32.45  106.52  73.904    74.07\n",
      "Tampa          28.94   89.06  72.878    60.12\n",
      "New Orleans    18.95   90.95  68.882    72.00\n",
      "Las Vegas      19.49  105.98  67.964    86.49\n",
      "Dallas          8.51   97.52  66.092    89.01\n",
      "San Diego      43.07   92.03  64.130    48.96\n",
      "Los Angeles    42.98   94.01  63.158    51.03\n",
      "Charlotte       9.50   90.50  60.512    81.00\n",
      "San Francisco  30.56   86.00  57.632    55.44\n",
      "Albuquerque    -3.46   89.96  57.110    93.42\n",
      "St Louis       -8.50   96.98  56.408   105.48\n",
      "Baltimore      -0.04   93.47  55.562    93.51\n",
      "Philadelphia    0.50   92.48  55.364    91.98\n",
      "New York        3.56   91.04  54.194    87.48\n",
      "Portland       11.03   89.96  54.068    78.93\n",
      "Seattle        12.02   86.99  52.376    74.97\n",
      "Boston          1.04   92.48  51.620    91.44\n",
      "Chicago       -18.04   92.48  49.622   110.52\n",
      "Detroit       -12.01   89.51  49.550   101.52\n"
     ]
    }
   ],
   "source": [
    "temperatures = pd.read_csv('US_temperatures.csv') \n",
    "temperatures.drop('Date', axis = 'columns', inplace = True) \n",
    "means = round(temperatures.mean(), 2) \n",
    "maxes = temperatures.max() \n",
    "mins = temperatures.min() \n",
    "city_temps = pd.DataFrame({'Min T':mins, 'Max T':maxes, \n",
    "                           'Mean T':means}) \n",
    "city_temps = city_temps.apply(lambda x: 1.8*x + 32) \n",
    "city_temps['Max-Min'] = city_temps['Max T'] -city_temps['Min T'] \n",
    "print(city_temps.sort_values('Mean T', ascending = False).to_string()) "
   ]
  },
  {
   "cell_type": "markdown",
   "id": "c5aa0c05",
   "metadata": {},
   "source": [
    "그림 23-4 도시별 온도 차이"
   ]
  },
  {
   "cell_type": "code",
   "execution_count": 72,
   "id": "f93c33ba-08cd-47f6-8233-848db677f135",
   "metadata": {
    "colab": {
     "base_uri": "https://localhost:8080/",
     "height": 585
    },
    "id": "f93c33ba-08cd-47f6-8233-848db677f135",
    "outputId": "ff3785bc-0bea-4aee-a2a3-37ca94ecc55a"
   },
   "outputs": [
    {
     "data": {
      "image/png": "[encoded data removed]",
      "text/plain": [
       "<Figure size 640x480 with 1 Axes>"
      ]
     },
     "metadata": {},
     "output_type": "display_data"
    }
   ],
   "source": [
    "plt.plot(city_temps.sort_values('Max-Min', ascending=False)['Min T'], \n",
    "         'b^', label = 'Min T') \n",
    "plt.plot(city_temps.sort_values('Max-Min', ascending=False)['Max T'], \n",
    "         'kx', label = 'Max T') \n",
    "plt.plot(city_temps.sort_values('Max-Min', ascending=False)['Mean T'], \n",
    "         'ro', label = 'Mean T') \n",
    "plt.xticks(rotation = 'vertical') \n",
    "plt.legend() \n",
    "plt.title('1961-2015년 사이의 최대/최저 온도') \n",
    "plt.ylabel('온도 (F)') \n",
    "plt.show()"
   ]
  },
  {
   "cell_type": "markdown",
   "id": "4fb00f59-b926-45ac-8c42-991fb246bc85",
   "metadata": {
    "id": "4fb00f59-b926-45ac-8c42-991fb246bc85"
   },
   "source": [
    "### 23.5.2 화석 연료 소비량"
   ]
  },
  {
   "cell_type": "code",
   "execution_count": 73,
   "id": "cc72cd24-4d7e-4444-98a0-96ebea272e3d",
   "metadata": {
    "colab": {
     "base_uri": "https://localhost:8080/"
    },
    "id": "cc72cd24-4d7e-4444-98a0-96ebea272e3d",
    "outputId": "41251227-4887-47e7-a3c1-06d3b5da9282"
   },
   "outputs": [
    {
     "name": "stdout",
     "output_type": "stream",
     "text": [
      "    Year         Coal    Crude Oil   Natural Gas\n",
      "0   1965  16151.96017  18054.69004   6306.370076\n",
      "1   1966  16332.01679  19442.23715   6871.686791\n",
      "2   1967  16071.18119  20830.13575   7377.525476\n",
      "..   ...          ...          ...           ...\n",
      "50  2015  43786.84580  52053.27008  34741.883490\n",
      "51  2016  43101.23216  53001.86598  35741.829870\n",
      "52  2017  43397.13549  53752.27638  36703.965870\n",
      "\n",
      "[53 rows x 4 columns]\n"
     ]
    }
   ],
   "source": [
    "emissions = pd.read_csv('global-fossil-fuel-consumption.csv') \n",
    "print(emissions) "
   ]
  },
  {
   "cell_type": "code",
   "execution_count": 74,
   "id": "552d08c3-f61c-4b89-b038-51b25ea672fe",
   "metadata": {
    "id": "552d08c3-f61c-4b89-b038-51b25ea672fe"
   },
   "outputs": [],
   "source": [
    "emissions['Fuels'] = emissions.sum(axis = 'columns') \n",
    "emissions.drop(['Coal', 'Crude Oil', 'Natural Gas'], axis = 'columns', \n",
    "               inplace = True) \n",
    "num_years = 5 \n",
    "emissions['Roll F'] = emissions['Fuels'].rolling(num_years).mean() \n",
    "emissions = emissions.round() "
   ]
  },
  {
   "cell_type": "markdown",
   "id": "51fa71fd",
   "metadata": {},
   "source": [
    "그림 23-5 전 세계 화석 연료 소비량"
   ]
  },
  {
   "cell_type": "code",
   "execution_count": 75,
   "id": "cdc04ca6-1f39-4bc6-bb0a-3c1e125de016",
   "metadata": {
    "colab": {
     "base_uri": "https://localhost:8080/",
     "height": 501
    },
    "id": "cdc04ca6-1f39-4bc6-bb0a-3c1e125de016",
    "outputId": "391f1fa1-72e2-4619-dfe6-da029b5d9513"
   },
   "outputs": [
    {
     "data": {
      "image/png": "[encoded data removed]",
      "text/plain": [
       "<Figure size 640x480 with 1 Axes>"
      ]
     },
     "metadata": {},
     "output_type": "display_data"
    }
   ],
   "source": [
    "plt.plot(emissions['Year'], emissions['Fuels'], \n",
    "         label = 'Consumption') \n",
    "plt.plot(emissions['Year'], emissions['Roll F'], \n",
    "         label = str(num_years) + ' Year Rolling Ave.') \n",
    "plt.legend() \n",
    "plt.title('화석 연료 소비량') \n",
    "plt.xlabel('연도') \n",
    "plt.ylabel('소비량') \n",
    "plt.show()"
   ]
  },
  {
   "cell_type": "code",
   "execution_count": 76,
   "id": "c3e0b714-c657-4a8a-9cf3-ab1c31edd866",
   "metadata": {
    "colab": {
     "base_uri": "https://localhost:8080/"
    },
    "id": "c3e0b714-c657-4a8a-9cf3-ab1c31edd866",
    "outputId": "0e24594c-41c1-48f8-afc2-ee9ea80a5596"
   },
   "outputs": [
    {
     "name": "stdout",
     "output_type": "stream",
     "text": [
      "    Year  Min T  Max T  Mean T\n",
      "0   1961 -17.25  38.05   15.64\n",
      "1   1962 -21.65  36.95   15.39\n",
      "2   1963 -24.70  36.10   15.50\n",
      "..   ...    ...    ...     ...\n",
      "52  2013 -15.00  40.55   16.66\n",
      "53  2014 -22.70  40.30   16.85\n",
      "54  2015 -18.80  40.55   17.54\n",
      "\n",
      "[55 rows x 4 columns]\n"
     ]
    }
   ],
   "source": [
    "temperatures = pd.read_csv('US_temperatures.csv') \n",
    "temperatures.set_index('Date', drop = True, inplace = True) \n",
    "temperatures['Mean T'] = round(temperatures.mean(axis = 'columns'), 2) \n",
    "temperatures['Max T'] = temperatures.max(axis = 'columns') \n",
    "temperatures['Min T'] = temperatures.min(axis = 'columns') \n",
    "yearly_dict = get_dict(temperatures, ['Max T', 'Min T', 'Mean T']) \n",
    "years, mins, maxes, means = [], [], [], [] \n",
    "for y in yearly_dict: \n",
    "    years.append(y) \n",
    "    mins.append(min(yearly_dict[y]['Min T'])) \n",
    "    maxes.append(max(yearly_dict[y]['Max T'])) \n",
    "    means.append(round(np.mean(yearly_dict[y]['Mean T']), 2)) \n",
    "\n",
    "yearly_temps = pd.DataFrame({'Year': years, 'Min T': mins, \n",
    "                             'Max T': maxes, 'Mean T': means}) \n",
    "print(yearly_temps) "
   ]
  },
  {
   "cell_type": "code",
   "execution_count": 77,
   "id": "4f2cec13-d239-43c2-8fa5-d00c91768627",
   "metadata": {
    "colab": {
     "base_uri": "https://localhost:8080/"
    },
    "id": "4f2cec13-d239-43c2-8fa5-d00c91768627",
    "outputId": "46a7b47e-b11b-4874-9464-798601608b12"
   },
   "outputs": [
    {
     "name": "stdout",
     "output_type": "stream",
     "text": [
      "    Year  Min T  ...     Fuels    Roll F\n",
      "0   1965  -21.7  ...   42478.0       NaN\n",
      "1   1966  -25.0  ...   44612.0       NaN\n",
      "2   1967  -17.8  ...   46246.0       NaN\n",
      "..   ...    ...  ...       ...       ...\n",
      "48  2013  -15.0  ...  131379.0  126466.0\n",
      "49  2014  -22.7  ...  132028.0  129072.0\n",
      "50  2015  -18.8  ...  132597.0  130662.0\n",
      "\n",
      "[51 rows x 6 columns]\n"
     ]
    }
   ],
   "source": [
    "yearly_temps['Year'] = yearly_temps['Year'].astype(int) \n",
    "merged_df = pd.merge(yearly_temps, emissions, \n",
    "                     left_on = 'Year', right_on = 'Year') \n",
    "print(merged_df) "
   ]
  },
  {
   "cell_type": "code",
   "execution_count": 78,
   "id": "1dee8a54-122e-418b-bb94-41de282c22fd",
   "metadata": {
    "colab": {
     "base_uri": "https://localhost:8080/"
    },
    "id": "1dee8a54-122e-418b-bb94-41de282c22fd",
    "outputId": "54c7f5fd-4f81-46fd-92d1-8aeefd34c3b6"
   },
   "outputs": [
    {
     "name": "stdout",
     "output_type": "stream",
     "text": [
      "        Year  Min T  Max T  Mean T  Fuels  Roll F\n",
      "Year    1.00   0.37   0.72    0.85   0.99    0.98\n",
      "Min T   0.37   1.00   0.22    0.49   0.37    0.33\n",
      "Max T   0.72   0.22   1.00    0.70   0.75    0.66\n",
      "Mean T  0.85   0.49   0.70    1.00   0.85    0.81\n",
      "Fuels   0.99   0.37   0.75    0.85   1.00    1.00\n",
      "Roll F  0.98   0.33   0.66    0.81   1.00    1.00\n"
     ]
    }
   ],
   "source": [
    "print(merged_df.corr().round(2).to_string())"
   ]
  }
 ],
 "metadata": {
  "colab": {
   "provenance": []
  },
  "environment": {
   "kernel": "python3",
   "name": "common-cpu.m102",
   "type": "gcloud",
   "uri": "gcr.io/deeplearning-platform-release/base-cpu:m102"
  },
  "kernelspec": {
   "display_name": "Python 3 (ipykernel)",
   "language": "python",
   "name": "python3"
  },
  "language_info": {
   "codemirror_mode": {
    "name": "ipython",
    "version": 3
   },
   "file_extension": ".py",
   "mimetype": "text/x-python",
   "name": "python",
   "nbconvert_exporter": "python",
   "pygments_lexer": "ipython3",
   "version": "3.8.2"
  }
 },
 "nbformat": 4,
 "nbformat_minor": 5
}
