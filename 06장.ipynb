{
 "cells": [
  {
   "cell_type": "markdown",
   "metadata": {
    "id": "x_DA7MhnPJMn"
   },
   "source": [
    "<table align=\"left\"><tr><td>\n",
    "<a href=\"https://colab.research.google.com/github/rickiepark/python4daml/blob/main/06장.ipynb\" target=\"_parent\"><img src=\"https://colab.research.google.com/assets/colab-badge.svg\" alt=\"코랩에서 실행하기\"/></a>\n",
    "</td></tr></table>"
   ]
  },
  {
   "cell_type": "markdown",
   "metadata": {
    "id": "GojwnblnPOn7"
   },
   "source": [
    "# 6장 재귀와 전역 변수"
   ]
  },
  {
   "cell_type": "markdown",
   "metadata": {
    "id": "owatuASEruyt"
   },
   "source": [
    "예제 6-1 팩토리얼의 반복 구현과 재귀 구현"
   ]
  },
  {
   "cell_type": "code",
   "execution_count": null,
   "metadata": {
    "id": "KfRbgwesO-ym"
   },
   "outputs": [],
   "source": [
    "def fact_iter(n):\n",
    "    \"\"\"n은 0보다 큰 정수로 가정합니다\n",
    "       n!을 반환합니다\"\"\"\n",
    "    result = 1\n",
    "    for i in range(1, n+1):\n",
    "        result *= i\n",
    "    return result\n",
    "\n",
    "def fact_rec(n):\n",
    "    \"\"\"n은 0보다 큰 정수로 가정합니다\n",
    "       n!을 반환합니다\"\"\"\n",
    "    if n == 1:\n",
    "        return n\n",
    "    else:\n",
    "        return n*fact_rec(n - 1)"
   ]
  },
  {
   "cell_type": "code",
   "execution_count": null,
   "metadata": {
    "colab": {
     "base_uri": "https://localhost:8080/"
    },
    "id": "TnBefYE1PYA7",
    "outputId": "eacb48d3-b7f4-4a79-e94f-8910770e93df"
   },
   "outputs": [
    {
     "data": {
      "text/plain": [
       "120"
      ]
     },
     "execution_count": 2,
     "metadata": {},
     "output_type": "execute_result"
    }
   ],
   "source": [
    "fact_iter(5)"
   ]
  },
  {
   "cell_type": "code",
   "execution_count": null,
   "metadata": {
    "colab": {
     "base_uri": "https://localhost:8080/"
    },
    "id": "Y0qqKreUPaOC",
    "outputId": "f9fbecfe-0696-49f2-e424-8f7642914b9d"
   },
   "outputs": [
    {
     "data": {
      "text/plain": [
       "120"
      ]
     },
     "execution_count": 3,
     "metadata": {},
     "output_type": "execute_result"
    }
   ],
   "source": [
    "fact_rec(5)"
   ]
  },
  {
   "cell_type": "markdown",
   "metadata": {
    "id": "3WXM9T5gfdBs"
   },
   "source": [
    "**뇌풀기 문제**"
   ]
  },
  {
   "cell_type": "code",
   "execution_count": null,
   "metadata": {
    "colab": {
     "base_uri": "https://localhost:8080/"
    },
    "id": "KxkpwRfJfeud",
    "outputId": "636b3710-f064-42d9-b299-85e18f57078a"
   },
   "outputs": [
    {
     "data": {
      "text/plain": [
       "2.9289682539682538"
      ]
     },
     "execution_count": 4,
     "metadata": {},
     "output_type": "execute_result"
    }
   ],
   "source": [
    "def harmonic_sum(n):\n",
    "    if n == 1:\n",
    "        return n\n",
    "    else:\n",
    "        return 1/n + harmonic_sum(n - 1)\n",
    "\n",
    "harmonic_sum(10)"
   ]
  },
  {
   "cell_type": "markdown",
   "metadata": {
    "id": "Dc5W5ZqLPdY7"
   },
   "source": [
    "## 6.1 피보나치 수열"
   ]
  },
  {
   "cell_type": "markdown",
   "metadata": {
    "id": "00c_y2_Lrz8H"
   },
   "source": [
    "예제 6-3 피보나치 수열의 재귀 구현"
   ]
  },
  {
   "cell_type": "code",
   "execution_count": null,
   "metadata": {
    "id": "lzXseW7UPf6p"
   },
   "outputs": [],
   "source": [
    "def fib(n):\n",
    "    \"\"\"n은 정수이고 n >= 0이라고 가정합니다.\n",
    "       n의 피보나치 수열 값을 반환합니다\"\"\"\n",
    "    if n == 0 or n == 1:\n",
    "        return 1\n",
    "    else:\n",
    "        return fib(n-1) + fib(n-2)\n",
    "\n",
    "def test_fib(n):\n",
    "    for i in range(n+1):\n",
    "        print(f'fib({i}) =', fib(i))"
   ]
  },
  {
   "cell_type": "code",
   "execution_count": null,
   "metadata": {
    "colab": {
     "base_uri": "https://localhost:8080/"
    },
    "id": "x0DKD1xvur2W",
    "outputId": "b283bdf5-da37-4248-b200-e556f831d4c1"
   },
   "outputs": [
    {
     "name": "stdout",
     "output_type": "stream",
     "text": [
      "fib(0) = 1\n",
      "fib(1) = 1\n",
      "fib(2) = 2\n",
      "fib(3) = 3\n",
      "fib(4) = 5\n",
      "fib(5) = 8\n"
     ]
    }
   ],
   "source": [
    "test_fib(5)"
   ]
  },
  {
   "cell_type": "code",
   "execution_count": null,
   "metadata": {
    "id": "0lSLUL4dux_u"
   },
   "outputs": [],
   "source": [
    "def fib2(n):\n",
    "    \"\"\"n은 정수이고 n >= 0이라고 가정합니다.\n",
    "       n의 피보나치 수열을 반환합니다\"\"\"\n",
    "    fs = [1, 1]\n",
    "    if n < 2:\n",
    "        return fs[n]\n",
    "    for i in range(1, n):\n",
    "        fs.append(fs[i-1] + fs[i])\n",
    "    return fs"
   ]
  },
  {
   "cell_type": "code",
   "execution_count": null,
   "metadata": {
    "colab": {
     "base_uri": "https://localhost:8080/"
    },
    "id": "F0w2eIHpwfS-",
    "outputId": "59f150a9-fe8a-4f29-8245-f56b2dd39fb8"
   },
   "outputs": [
    {
     "data": {
      "text/plain": [
       "[1, 1, 2, 3, 5, 8]"
      ]
     },
     "execution_count": 8,
     "metadata": {},
     "output_type": "execute_result"
    }
   ],
   "source": [
    "fib2(5)"
   ]
  },
  {
   "cell_type": "markdown",
   "metadata": {
    "id": "s6jNSE91_9ue"
   },
   "source": [
    "**뇌풀기 문제**"
   ]
  },
  {
   "cell_type": "code",
   "execution_count": null,
   "metadata": {
    "colab": {
     "base_uri": "https://localhost:8080/"
    },
    "id": "jhzft9xU__Tj",
    "outputId": "8aa74a1b-fdc1-4449-a5dc-c266cbb618e8"
   },
   "outputs": [
    {
     "name": "stdout",
     "output_type": "stream",
     "text": [
      "fib(2) 계산\n",
      "fib(2) 계산\n",
      "fib(2) 계산\n"
     ]
    },
    {
     "data": {
      "text/plain": [
       "8"
      ]
     },
     "execution_count": 9,
     "metadata": {},
     "output_type": "execute_result"
    }
   ],
   "source": [
    "def fib3(n):\n",
    "    \"\"\"n은 정수이고 n >= 0이라고 가정합니다.\n",
    "       n의 피보나치 수열 값을 반환합니다\"\"\"\n",
    "    if n == 2:\n",
    "        print('fib(2) 계산')\n",
    "    if n == 0 or n == 1:\n",
    "        return 1\n",
    "    else:\n",
    "        return fib3(n-1) + fib3(n-2)\n",
    "\n",
    "fib3(5)"
   ]
  },
  {
   "cell_type": "markdown",
   "metadata": {
    "id": "4Kn5TbBsALOt"
   },
   "source": [
    "## 6.2 팰린드롬"
   ]
  },
  {
   "cell_type": "markdown",
   "metadata": {
    "id": "22XGDZl5r7rV"
   },
   "source": [
    "예제 6-3 팰린드롬 테스트"
   ]
  },
  {
   "cell_type": "code",
   "execution_count": null,
   "metadata": {
    "id": "It2zBDpHHmo_"
   },
   "outputs": [],
   "source": [
    "def is_palindrome(s):\n",
    "    \"\"\"s는 문자열이라 가정합니다.\n",
    "       s에 있는 문자가 팰린드롬이면 True, 그렇지 않으면 False를 반환합니다.\n",
    "       알파벳 이외의 문자와 대소문자는 무시합니다\"\"\"\n",
    "\n",
    "    def to_chars(s):\n",
    "        s = s.lower()\n",
    "        letters = ''\n",
    "        for c in s:\n",
    "            if c in 'abcdefghijklmnopqrstuvwxyz':\n",
    "                letters = letters + c\n",
    "        return letters\n",
    "\n",
    "    def is_pal(s):\n",
    "        if len(s) <= 1:\n",
    "            return True\n",
    "        else:\n",
    "            return s[0] == s[-1] and is_pal(s[1:-1])\n",
    "\n",
    "    return is_pal(to_chars(s))"
   ]
  },
  {
   "cell_type": "code",
   "execution_count": null,
   "metadata": {
    "colab": {
     "base_uri": "https://localhost:8080/"
    },
    "id": "229cCfqEH-yj",
    "outputId": "7c79decd-da60-4942-b34f-af11a90c24a3"
   },
   "outputs": [
    {
     "data": {
      "text/plain": [
       "True"
      ]
     },
     "execution_count": 11,
     "metadata": {},
     "output_type": "execute_result"
    }
   ],
   "source": [
    "is_palindrome('abccba')"
   ]
  },
  {
   "cell_type": "markdown",
   "metadata": {
    "id": "n95gzqRuOcrH"
   },
   "source": [
    "예제 6-4 팰린드롬 테스트 시각화 코드"
   ]
  },
  {
   "cell_type": "code",
   "execution_count": null,
   "metadata": {
    "id": "NXl_ah5dICCn"
   },
   "outputs": [],
   "source": [
    "def is_palindrome(s):\n",
    "    \"\"\"s는 문자열이라 가정합니다.\n",
    "       s에 있는 문자가 팰린드롬이면 True, 그렇지 않으면 False를 반환합니다.\n",
    "       알파벳 이외의 문자와 대소문자는 무시합니다\"\"\"\n",
    "\n",
    "    def to_chars(s):\n",
    "        s = s.lower()\n",
    "        letters = ''\n",
    "        for c in s:\n",
    "            if c in 'abcdefghijklmnopqrstuvwxyz':\n",
    "                letters = letters + c\n",
    "        return letters\n",
    "\n",
    "    def is_pal(s):\n",
    "        print(' is_pal 호출:', s)\n",
    "        if len(s) <= 1:\n",
    "            print(' True 반환: 베이스 케이스')\n",
    "            return True\n",
    "        else:\n",
    "            answer = s[0] == s[-1] and is_pal(s[1:-1])\n",
    "            print('', answer, '반환:', s)\n",
    "            return answer\n",
    "\n",
    "    return is_pal(to_chars(s))"
   ]
  },
  {
   "cell_type": "code",
   "execution_count": null,
   "metadata": {
    "colab": {
     "base_uri": "https://localhost:8080/"
    },
    "id": "DA9VyvcCOBZe",
    "outputId": "e242ed1b-e410-4d86-c8c4-8d116b163aa4"
   },
   "outputs": [
    {
     "name": "stdout",
     "output_type": "stream",
     "text": [
      "dogGod 시도\n",
      " is_pal 호출: doggod\n",
      " is_pal 호출: oggo\n",
      " is_pal 호출: gg\n",
      " is_pal 호출: \n",
      " True 반환: 베이스 케이스\n",
      " True 반환: gg\n",
      " True 반환: oggo\n",
      " True 반환: doggod\n",
      "True\n",
      "doGood 시도\n",
      " is_pal 호출: dogood\n",
      " is_pal 호출: ogoo\n",
      " is_pal 호출: go\n",
      " False 반환: go\n",
      " False 반환: ogoo\n",
      " False 반환: dogood\n",
      "False\n"
     ]
    }
   ],
   "source": [
    "print('dogGod 시도')\n",
    "print(is_palindrome('dogGod'))\n",
    "print('doGood 시도')\n",
    "print(is_palindrome('doGood'))"
   ]
  },
  {
   "cell_type": "markdown",
   "metadata": {
    "id": "wmtumeSLOv7E"
   },
   "source": [
    "## 6.3 전역 변수"
   ]
  },
  {
   "cell_type": "markdown",
   "metadata": {
    "id": "ewJSRtZEsCaA"
   },
   "source": [
    "예제 6-5 전역 변수 사용하기"
   ]
  },
  {
   "cell_type": "code",
   "execution_count": null,
   "metadata": {
    "id": "dDZp8LYvOMvr"
   },
   "outputs": [],
   "source": [
    "def fib(x):\n",
    "    \"\"\"x는 정수이고 x >= 0이라고 가정합니다.\n",
    "       x의 피보나치 수열 값을 반환합니다\"\"\"\n",
    "    global num_fib_calls\n",
    "    num_fib_calls += 1\n",
    "    if x == 0 or x == 1:\n",
    "        return 1\n",
    "    else:\n",
    "        return fib(x-1) + fib(x-2)\n",
    "\n",
    "def test_fib(n):\n",
    "    for i in range(n+1):\n",
    "        global num_fib_calls\n",
    "        num_fib_calls = 0\n",
    "        print(f'fib({i})', '=', fib(i))\n",
    "        print('fib 호출 횟수:', num_fib_calls, '번')"
   ]
  },
  {
   "cell_type": "code",
   "execution_count": null,
   "metadata": {
    "colab": {
     "base_uri": "https://localhost:8080/"
    },
    "id": "IQMt-N9RoBL9",
    "outputId": "3c12a43a-a410-4e5d-c854-dc1abe4aeb40"
   },
   "outputs": [
    {
     "name": "stdout",
     "output_type": "stream",
     "text": [
      "fib(0) = 1\n",
      "fib 호출 횟수: 1 번\n",
      "fib(1) = 1\n",
      "fib 호출 횟수: 1 번\n",
      "fib(2) = 2\n",
      "fib 호출 횟수: 3 번\n",
      "fib(3) = 3\n",
      "fib 호출 횟수: 5 번\n",
      "fib(4) = 5\n",
      "fib 호출 횟수: 9 번\n",
      "fib(5) = 8\n",
      "fib 호출 횟수: 15 번\n",
      "fib(6) = 13\n",
      "fib 호출 횟수: 25 번\n"
     ]
    }
   ],
   "source": [
    "test_fib(6)"
   ]
  }
 ],
 "metadata": {
  "colab": {
   "provenance": []
  },
  "kernelspec": {
   "display_name": "Python 3 (ipykernel)",
   "language": "python",
   "name": "python3"
  },
  "language_info": {
   "codemirror_mode": {
    "name": "ipython",
    "version": 3
   },
   "file_extension": ".py",
   "mimetype": "text/x-python",
   "name": "python",
   "nbconvert_exporter": "python",
   "pygments_lexer": "ipython3",
   "version": "3.8.2"
  }
 },
 "nbformat": 4,
 "nbformat_minor": 1
}
