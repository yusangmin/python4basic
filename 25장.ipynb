{
 "cells": [
  {
   "cell_type": "markdown",
   "id": "6e9d69d0-d499-4a6d-b8cf-29ec6caab299",
   "metadata": {
    "id": "6e9d69d0-d499-4a6d-b8cf-29ec6caab299"
   },
   "source": [
    "# 25장 군집"
   ]
  },
  {
   "cell_type": "markdown",
   "id": "f96d5713-795d-4b67-a3fa-6cc06c951475",
   "metadata": {
    "id": "f96d5713-795d-4b67-a3fa-6cc06c951475"
   },
   "source": [
    "<table align=\"left\"><tr><td>\n",
    "<a href=\"https://colab.research.google.com/github/rickiepark/python4daml/blob/main/25장.ipynb\" target=\"_parent\"><img src=\"https://colab.research.google.com/assets/colab-badge.svg\" alt=\"코랩에서 실행하기\"/></a>\n",
    "</td></tr></table>"
   ]
  },
  {
   "cell_type": "code",
   "execution_count": 7,
   "id": "33f3dd2f-92b5-43fe-b1cb-44fbbb74f81a",
   "metadata": {
    "colab": {
     "base_uri": "https://localhost:8080/"
    },
    "id": "33f3dd2f-92b5-43fe-b1cb-44fbbb74f81a",
    "outputId": "6dafb2c8-245d-48f6-debe-827601c34196"
   },
   "outputs": [
    {
     "name": "stderr",
     "output_type": "stream",
     "text": [
      "Downloading...\n",
      "From: https://raw.githubusercontent.com/rickiepark/python4daml/main/dentalFormulas.csv\n",
      "To: /content/dentalFormulas.csv\n",
      "1.07kB [00:00, 874kB/s]                  \n",
      "Downloading...\n",
      "From: https://raw.githubusercontent.com/rickiepark/python4daml/main/diet.csv\n",
      "To: /content/diet.csv\n",
      "372B [00:00, 309kB/s]                    \n"
     ]
    }
   ],
   "source": [
    "import matplotlib.pyplot as plt\n",
    "\n",
    "#선 두께\n",
    "plt.rcParams['lines.linewidth'] = 4\n",
    "#제목 폰트 크기\n",
    "plt.rcParams['axes.titlesize'] = 16\n",
    "#축 레이블 폰트 크기\n",
    "plt.rcParams['axes.labelsize'] = 16\n",
    "#x 축 텍스트 크기\n",
    "plt.rcParams['xtick.labelsize'] = 16\n",
    "#y 축 텍스트 크기\n",
    "plt.rcParams['ytick.labelsize'] = 16\n",
    "#x 축 눈금 크기\n",
    "plt.rcParams['xtick.major.size'] = 7\n",
    "#y 축 눈금 크기\n",
    "plt.rcParams['ytick.major.size'] = 7\n",
    "#마커 크기\n",
    "plt.rcParams['lines.markersize'] = 10\n",
    "#범례를 표시할 때 마커 표시 개수\n",
    "plt.rcParams['legend.numpoints'] = 1\n",
    "#범례 텍스트 크기\n",
    "plt.rcParams['legend.fontsize'] = 14\n",
    "\n",
    "# 코랩의 경우 필요한 데이터를 깃허브에서 다운로드합니다.\n",
    "import sys\n",
    "if 'google.colab' in sys.modules:\n",
    "    import gdown\n",
    "    gdown.download('https://raw.githubusercontent.com/rickiepark/python4daml/main/dentalFormulas.csv', quiet=False)\n",
    "    gdown.download('https://raw.githubusercontent.com/rickiepark/python4daml/main/diet.csv', quiet=False)"
   ]
  },
  {
   "cell_type": "markdown",
   "id": "4f70d783-5225-4887-9b11-28c2a52cccf4",
   "metadata": {
    "id": "4f70d783-5225-4887-9b11-28c2a52cccf4"
   },
   "source": [
    "## 25.1 `Cluster` 클래스"
   ]
  },
  {
   "cell_type": "code",
   "execution_count": 8,
   "id": "9b7753d2-9bdc-4bac-8ab2-b733d6fc8723",
   "metadata": {
    "id": "9b7753d2-9bdc-4bac-8ab2-b733d6fc8723"
   },
   "outputs": [],
   "source": [
    "def minkowski_dist(v1, v2, p): \n",
    "    \"\"\"v1는 v2 길이가 같은 숫자 배열이라고 가정합니다.\n",
    "       v1과 v3 사이의 민코프스키 거리를 반환합니다\"\"\" \n",
    "    dist = 0.0 \n",
    "    for i in range(len(v1)): \n",
    "        dist += abs(v1[i] -v2[i])**p \n",
    "    return dist**(1/p) "
   ]
  },
  {
   "cell_type": "markdown",
   "id": "f5f59175-67ad-4a82-9bbb-55f92c48c483",
   "metadata": {
    "id": "f5f59175-67ad-4a82-9bbb-55f92c48c483"
   },
   "source": [
    "예제 25-1 `Example` 클래스"
   ]
  },
  {
   "cell_type": "code",
   "execution_count": 9,
   "id": "369e6c9b-dd35-4277-9592-5dad61c67615",
   "metadata": {
    "id": "369e6c9b-dd35-4277-9592-5dad61c67615"
   },
   "outputs": [],
   "source": [
    "class Example(object): \n",
    "\n",
    "    def __init__(self, name, features, label = None): \n",
    "        #features는 실수 배열이라고 가정합니다\n",
    "        self.name = name \n",
    "        self.features = features \n",
    "        self.label = label \n",
    "\n",
    "    def dimensionality(self): \n",
    "        return len(self.features) \n",
    "\n",
    "    def set_label(self, label): \n",
    "        self.label = label \n",
    "\n",
    "    def get_features(self): \n",
    "        return self.features[:] \n",
    "\n",
    "    def get_label(self): \n",
    "        return self.label \n",
    "\n",
    "    def get_name(self): \n",
    "        return self.name \n",
    "\n",
    "    def distance(self, other): \n",
    "        return minkowski_dist(self.features, other.get_features(), 2) \n",
    "\n",
    "    def __str__(self): \n",
    "        return '{}:{}:{}'.format(self.name, self.features, self.label) "
   ]
  },
  {
   "cell_type": "markdown",
   "id": "e49488a5-68e1-42c1-9167-191867b601de",
   "metadata": {
    "id": "e49488a5-68e1-42c1-9167-191867b601de"
   },
   "source": [
    "예제 25-2 `Cluster` 클래스"
   ]
  },
  {
   "cell_type": "code",
   "execution_count": 10,
   "id": "28b0dcfd-94b9-4075-bc25-74310705bfb2",
   "metadata": {
    "id": "28b0dcfd-94b9-4075-bc25-74310705bfb2"
   },
   "outputs": [],
   "source": [
    "class Cluster(object): \n",
    "\n",
    "    def __init__(self, examples): \n",
    "        \"\"\"examples은 Example 클래스 객체의 리스트이며 비어있지 않다고 가정합니다\"\"\" \n",
    "        self.examples = examples \n",
    "        self.centroid = self.compute_centroid() \n",
    "\n",
    "    def update(self, examples): \n",
    "        \"\"\"examples은 Example 클래스 객체의 리스트이며 비어있지 않다고 가정합니다\n",
    "           샘플을 변경하고 센트로이드가 옮겨진 거리를 반환합니다\"\"\" \n",
    "        old_centroid = self.centroid \n",
    "        self.examples = examples \n",
    "        self.centroid = self.compute_centroid() \n",
    "        return old_centroid.distance(self.centroid) \n",
    "\n",
    "    def compute_centroid(self): \n",
    "        vals = np.array([0.0]*self.examples[0].dimensionality()) \n",
    "        for e in self.examples: #평균을 계산합니다 \n",
    "            vals += e.get_features() \n",
    "        centroid = Example('centroid', vals/len(self.examples)) \n",
    "        return centroid \n",
    "\n",
    "    def get_centroid(self): \n",
    "        return self.centroid \n",
    "\n",
    "    def variability(self): \n",
    "        tot_dist = 0.0 \n",
    "        for e in self.examples: \n",
    "            tot_dist += (e.distance(self.centroid))**2 \n",
    "        return tot_dist \n",
    "\n",
    "    def members(self): \n",
    "        for e in self.examples: \n",
    "            yield e \n",
    "\n",
    "    def __str__(self): \n",
    "        names = [] \n",
    "        for e in self.examples: \n",
    "            names.append(e.get_name()) \n",
    "        names.sort() \n",
    "        result = ('클러스터의 센트로이드:' \n",
    "                  + str(self.centroid.get_features()) + ', 클러스터에 속한 샘플:\\n')\n",
    "        for e in names:\n",
    "            result = result + e + ', ' \n",
    "        return result[:-2] #마지막 쉼표와 공백을 삭제합니다"
   ]
  },
  {
   "cell_type": "markdown",
   "id": "5b67ec9f-3fa4-4f8b-97e4-c9af44e03775",
   "metadata": {
    "id": "5b67ec9f-3fa4-4f8b-97e4-c9af44e03775"
   },
   "source": [
    "## 25.2 k-평균 군집"
   ]
  },
  {
   "cell_type": "markdown",
   "id": "530c83b1-0128-44cf-8cf2-a95cf57fce99",
   "metadata": {
    "id": "530c83b1-0128-44cf-8cf2-a95cf57fce99"
   },
   "source": [
    "예제 25-3 k-평균 군집"
   ]
  },
  {
   "cell_type": "code",
   "execution_count": 11,
   "id": "5eec3da3-a0b4-43ce-bba7-76bfcf61c37b",
   "metadata": {
    "id": "5eec3da3-a0b4-43ce-bba7-76bfcf61c37b"
   },
   "outputs": [],
   "source": [
    "def k_means(examples, k, verbose = False): \n",
    "    #k 개의 초기 센트 로이드를 랜덤하게 선택하고 각각에 대해 클러스터를 만듭니다\n",
    "    initial_centroids = random.sample(examples, k) \n",
    "    clusters = [] \n",
    "    for e in initial_centroids: \n",
    "        clusters.append(Cluster([e])) \n",
    "\n",
    "    #센트로이드가 변경되지 않을 때까지 반복합니다\n",
    "    converged = False \n",
    "    num_iterations = 0 \n",
    "    while not converged: \n",
    "\n",
    "        num_iterations += 1 \n",
    "        #k개의 빈 리스트가 담긴 리스트를 만듭니다\n",
    "        new_clusters = [] \n",
    "        for i in range(k):\n",
    "            new_clusters.append([]) \n",
    "\n",
    "        #샘플을 가장 가까운 센트로이드에 할당합니다\n",
    "        for e in examples: \n",
    "            # e에 가장 가까운 센트로이드를 찾습니다\n",
    "            smallest_distance = e.distance(clusters[0].get_centroid()) \n",
    "            index = 0 \n",
    "            for i in range(1, k):\n",
    "                distance = e.distance(clusters[i].get_centroid())\n",
    "                if distance < smallest_distance: \n",
    "                    smallest_distance = distance \n",
    "                    index = i\n",
    "            # e를 적절한 클러스터의 샘플 리스트에 추가합니다\n",
    "            new_clusters[index].append(e) \n",
    "\n",
    "        for c in new_clusters: #빈 리스트가 생성되는 것을 피합니다\n",
    "            if len(c) == 0: \n",
    "                raise ValueError('Empty Cluster') \n",
    "\n",
    "        #클러스터를 업데이트하고 센트로이드가 바뀌었는지 체크합니다\n",
    "        converged = True \n",
    "        for i in range(k):\n",
    "            if clusters[i].update(new_clusters[i]) > 0.0: \n",
    "                converged = False \n",
    "        if verbose: \n",
    "            print('반복 #' + str(num_iterations)) \n",
    "            for c in clusters: \n",
    "                print(c) \n",
    "            print('') #빈 라인을 추가합니다\n",
    "    return clusters "
   ]
  },
  {
   "cell_type": "markdown",
   "id": "9726855b-ab9f-421a-a1b4-0a1fa7c7f89e",
   "metadata": {
    "id": "9726855b-ab9f-421a-a1b4-0a1fa7c7f89e"
   },
   "source": [
    "예제 25-4 최상의 k-평균 군집 찾기"
   ]
  },
  {
   "cell_type": "code",
   "execution_count": 12,
   "id": "93dded62-eafc-4422-9c84-4bc13a0e2e9a",
   "metadata": {
    "id": "93dded62-eafc-4422-9c84-4bc13a0e2e9a"
   },
   "outputs": [],
   "source": [
    "def dissimilarity(clusters): \n",
    "    tot_dist = 0.0 \n",
    "    for c in clusters: \n",
    "        tot_dist += c.variability() \n",
    "    return tot_dist \n",
    "\n",
    "def try_k_means(examples, num_clusters, num_trials, verbose = False): \n",
    "    \"\"\"k_means를 num_trials번 호출하고 이질성이 가장 낮은 결과를 반환합니다\"\"\" \n",
    "    best = k_means(examples, num_clusters, verbose) \n",
    "    min_dissimilarity = dissimilarity(best) \n",
    "    trial = 1 \n",
    "    while trial < num_trials: \n",
    "        try: \n",
    "            clusters = k_means(examples, num_clusters, verbose) \n",
    "        except ValueError: \n",
    "            continue #실패하면 다시 시도합니다\n",
    "        curr_dissimilarity = dissimilarity(clusters) \n",
    "        if curr_dissimilarity < min_dissimilarity: \n",
    "            best = clusters \n",
    "            min_dissimilarity = curr_dissimilarity \n",
    "        trial += 1 \n",
    "    return best "
   ]
  },
  {
   "cell_type": "markdown",
   "id": "2efd7ba4-61b6-40a7-a281-a7810b150da9",
   "metadata": {
    "id": "2efd7ba4-61b6-40a7-a281-a7810b150da9"
   },
   "source": [
    "## 25.3 가상의 예제"
   ]
  },
  {
   "cell_type": "markdown",
   "id": "44f5f5ef-190f-4ac4-9244-cb29c4c7ea29",
   "metadata": {
    "id": "44f5f5ef-190f-4ac4-9244-cb29c4c7ea29"
   },
   "source": [
    "예제 25-5 k-평균 테스트"
   ]
  },
  {
   "cell_type": "code",
   "execution_count": 13,
   "id": "abf996b6-6fd7-4103-bb5e-412dd6a924f1",
   "metadata": {
    "id": "abf996b6-6fd7-4103-bb5e-412dd6a924f1"
   },
   "outputs": [],
   "source": [
    "import random\n",
    "import numpy as np\n",
    "import matplotlib.pyplot as plt\n",
    "\n",
    "def gen_distribution(x_mean, x_sd, y_mean, y_sd, n, name_prefix): \n",
    "    samples = [] \n",
    "    for s in range(n): \n",
    "        x = random.gauss(x_mean, x_sd) \n",
    "        y = random.gauss(y_mean, y_sd) \n",
    "        samples.append(Example(name_prefix+str(s), [x, y])) \n",
    "    return samples \n",
    "\n",
    "def plot_samples(samples, marker): \n",
    "    x_vals, y_vals = [], [] \n",
    "    for s in samples: \n",
    "        x = s.get_features()[0] \n",
    "        y = s.get_features()[1] \n",
    "        plt.annotate(s.get_name(), xy = (x, y), \n",
    "                     xytext = (x+0.13, y-0.07), \n",
    "                     fontsize = 'x-large') \n",
    "        x_vals.append(x) \n",
    "        y_vals.append(y) \n",
    "    plt.plot(x_vals, y_vals, marker) \n",
    "\n",
    "def contrived_test(num_trials, k, verbose = False): \n",
    "    x_mean = 3 \n",
    "    x_sd = 1 \n",
    "    y_mean = 5 \n",
    "    y_sd = 1 \n",
    "    n = 10 \n",
    "    d1_samples = gen_distribution(x_mean, x_sd, y_mean, y_sd, n, 'A') \n",
    "    plot_samples(d1_samples, 'k^') \n",
    "    d2_samples = gen_distribution(x_mean+3, x_sd, y_mean+1, \n",
    "                                  y_sd, n, 'B') \n",
    "    plot_samples(d2_samples, 'ko') \n",
    "    clusters = try_k_means(d1_samples+d2_samples, k, num_trials, \n",
    "                           verbose) \n",
    "    print('최종 결과') \n",
    "    for c in clusters: \n",
    "        print('', c) "
   ]
  },
  {
   "cell_type": "markdown",
   "id": "f4a1a85e",
   "metadata": {},
   "source": [
    "그림 25-2 두 분포에서 뽑은 샘플\n",
    "\n",
    "예제 25-6 `contrived_test(1, 2, True)`를 호출해 출력된 결과"
   ]
  },
  {
   "cell_type": "code",
   "execution_count": 14,
   "id": "aa030531-5b6a-4a6d-a76b-75cc75238570",
   "metadata": {
    "colab": {
     "base_uri": "https://localhost:8080/",
     "height": 958
    },
    "id": "aa030531-5b6a-4a6d-a76b-75cc75238570",
    "outputId": "a38f4678-98fa-4cdc-a573-6c1a12ba5062"
   },
   "outputs": [
    {
     "name": "stdout",
     "output_type": "stream",
     "text": [
      "반복 #1\n",
      "클러스터의 센트로이드:[4.71113345 5.76359152], 클러스터에 속한 샘플:\n",
      "A0, A1, A2, A4, A5, A6, A7, A8, A9, B0, B1, B2, B3, B4, B5, B6, B7, B8, B9\n",
      "클러스터의 센트로이드:[1.97789683 3.56317055], 클러스터에 속한 샘플:\n",
      "A3\n",
      "\n",
      "반복 #2\n",
      "클러스터의 센트로이드:[5.46369488 6.12015454], 클러스터에 속한 샘플:\n",
      "A0, A4, A8, A9, B0, B1, B2, B3, B4, B5, B6, B7, B8, B9\n",
      "클러스터의 센트로이드:[2.49961733 4.56487432], 클러스터에 속한 샘플:\n",
      "A1, A2, A3, A5, A6, A7\n",
      "\n",
      "반복 #3\n",
      "클러스터의 센트로이드:[5.84078727 6.30779094], 클러스터에 속한 샘플:\n",
      "A0, A8, B0, B1, B2, B3, B4, B5, B6, B7, B8, B9\n",
      "클러스터의 센트로이드:[2.67499815 4.67223977], 클러스터에 속한 샘플:\n",
      "A1, A2, A3, A4, A5, A6, A7, A9\n",
      "\n",
      "반복 #4\n",
      "클러스터의 센트로이드:[5.84078727 6.30779094], 클러스터에 속한 샘플:\n",
      "A0, A8, B0, B1, B2, B3, B4, B5, B6, B7, B8, B9\n",
      "클러스터의 센트로이드:[2.67499815 4.67223977], 클러스터에 속한 샘플:\n",
      "A1, A2, A3, A4, A5, A6, A7, A9\n",
      "\n",
      "최종 결과\n",
      " 클러스터의 센트로이드:[5.84078727 6.30779094], 클러스터에 속한 샘플:\n",
      "A0, A8, B0, B1, B2, B3, B4, B5, B6, B7, B8, B9\n",
      " 클러스터의 센트로이드:[2.67499815 4.67223977], 클러스터에 속한 샘플:\n",
      "A1, A2, A3, A4, A5, A6, A7, A9\n"
     ]
    },
    {
     "data": {
      "image/png": "[encoded data removed]",
      "text/plain": [
       "<Figure size 640x480 with 1 Axes>"
      ]
     },
     "metadata": {},
     "output_type": "display_data"
    }
   ],
   "source": [
    "random.seed(1)\n",
    "contrived_test(1, 2, True)"
   ]
  },
  {
   "cell_type": "code",
   "execution_count": 15,
   "id": "7f6fd675-f375-4524-be75-177a42dd7434",
   "metadata": {
    "colab": {
     "base_uri": "https://localhost:8080/",
     "height": 530
    },
    "id": "7f6fd675-f375-4524-be75-177a42dd7434",
    "outputId": "37caa344-1c58-47a7-cc9f-40e2a6a1d286"
   },
   "outputs": [
    {
     "name": "stdout",
     "output_type": "stream",
     "text": [
      "최종 결과\n",
      " 클러스터의 센트로이드:[2.74674403 4.97411447], 클러스터에 속한 샘플:\n",
      "A1, A2, A3, A4, A5, A6, A7, A8, A9\n",
      " 클러스터의 센트로이드:[6.0698851  6.20948902], 클러스터에 속한 샘플:\n",
      "A0, B0, B1, B2, B3, B4, B5, B6, B7, B8, B9\n"
     ]
    },
    {
     "data": {
      "image/png": "[encoded data removed]",
      "text/plain": [
       "<Figure size 640x480 with 1 Axes>"
      ]
     },
     "metadata": {},
     "output_type": "display_data"
    }
   ],
   "source": [
    "random.seed(1)\n",
    "contrived_test(50, 2, False)"
   ]
  },
  {
   "cell_type": "markdown",
   "id": "3ba6cf48-77aa-4069-a21e-7b86029f3094",
   "metadata": {
    "id": "3ba6cf48-77aa-4069-a21e-7b86029f3094"
   },
   "source": [
    "예제 25-7 세 개 에 분포에서 데이터 포인트 생성하기"
   ]
  },
  {
   "cell_type": "code",
   "execution_count": 16,
   "id": "eaa9ff8a-c4ce-4a4f-be7b-4724a8c6aaa2",
   "metadata": {
    "id": "eaa9ff8a-c4ce-4a4f-be7b-4724a8c6aaa2"
   },
   "outputs": [],
   "source": [
    "def contrived_test2(num_trials, k, verbose = False): \n",
    "    x_mean = 3 \n",
    "    x_sd = 1 \n",
    "    y_mean = 5 \n",
    "    y_sd = 1 \n",
    "    n = 8 \n",
    "    d1_samples = gen_distribution(x_mean,x_sd, y_mean, y_sd, n, 'A') \n",
    "    plot_samples(d1_samples, 'k^') \n",
    "    d2_samples = gen_distribution(x_mean+3,x_sd,y_mean, y_sd, n, 'B') \n",
    "    plot_samples(d2_samples, 'ko') \n",
    "    d3Samples = gen_distribution(x_mean, x_sd, y_mean+3, y_sd, n, 'C') \n",
    "    plot_samples(d3Samples, 'kx') \n",
    "    clusters = try_k_means(d1_samples + d2_samples + d3Samples, \n",
    "                           k, num_trials, verbose) \n",
    "    plt.ylim(0, 12) \n",
    "    print('최종 결과의 이질성:', \n",
    "          round(dissimilarity(clusters), 3)) \n",
    "    for c in clusters: \n",
    "        print('', c) "
   ]
  },
  {
   "cell_type": "code",
   "execution_count": 17,
   "id": "5f0c5c20-99fa-4d1b-81ed-47df963a88be",
   "metadata": {
    "colab": {
     "base_uri": "https://localhost:8080/",
     "height": 538
    },
    "id": "5f0c5c20-99fa-4d1b-81ed-47df963a88be",
    "outputId": "f0866cb5-cc6f-49fa-93ae-f07c854bf5a7"
   },
   "outputs": [
    {
     "name": "stdout",
     "output_type": "stream",
     "text": [
      "최종 결과의 이질성: 90.128\n",
      " 클러스터의 센트로이드:[5.5884966  4.43260236], 클러스터에 속한 샘플:\n",
      "A0, A3, A5, B0, B1, B2, B3, B4, B5, B6, B7\n",
      " 클러스터의 센트로이드:[2.80949911 7.11735738], 클러스터에 속한 샘플:\n",
      "A1, A2, A4, A6, A7, C0, C1, C2, C3, C4, C5, C6, C7\n"
     ]
    },
    {
     "data": {
      "image/png": "[encoded data removed]",
      "text/plain": [
       "<Figure size 640x480 with 1 Axes>"
      ]
     },
     "metadata": {},
     "output_type": "display_data"
    }
   ],
   "source": [
    "random.seed(0)\n",
    "contrived_test2(40, 2)"
   ]
  },
  {
   "cell_type": "code",
   "execution_count": 18,
   "id": "ef7bb4ab-8198-4f5a-99e6-8d873a7b0a4e",
   "metadata": {
    "colab": {
     "base_uri": "https://localhost:8080/",
     "height": 574
    },
    "id": "ef7bb4ab-8198-4f5a-99e6-8d873a7b0a4e",
    "outputId": "50fd3f17-369b-4ee8-915f-16afae1d42ac"
   },
   "outputs": [
    {
     "name": "stdout",
     "output_type": "stream",
     "text": [
      "최종 결과의 이질성: 42.757\n",
      " 클러스터의 센트로이드:[7.66239972 3.55222681], 클러스터에 속한 샘플:\n",
      "B0, B1, B3, B6\n",
      " 클러스터의 센트로이드:[3.56907939 4.95707576], 클러스터에 속한 샘플:\n",
      "A0, A1, A2, A3, A4, A5, A7, B2, B4, B5, B7\n",
      " 클러스터의 센트로이드:[3.12083099 8.06083681], 클러스터에 속한 샘플:\n",
      "A6, C0, C1, C2, C3, C4, C5, C6, C7\n"
     ]
    },
    {
     "data": {
      "image/png": "[encoded data removed]",
      "text/plain": [
       "<Figure size 640x480 with 1 Axes>"
      ]
     },
     "metadata": {},
     "output_type": "display_data"
    }
   ],
   "source": [
    "random.seed(0)\n",
    "contrived_test2(40, 3)"
   ]
  },
  {
   "cell_type": "code",
   "execution_count": 19,
   "id": "1f80cb2d-44a4-4c06-93a8-988db6fc08c6",
   "metadata": {
    "colab": {
     "base_uri": "https://localhost:8080/",
     "height": 681
    },
    "id": "1f80cb2d-44a4-4c06-93a8-988db6fc08c6",
    "outputId": "5d6c1031-f481-4f3c-887f-d0545b4b6350"
   },
   "outputs": [
    {
     "name": "stdout",
     "output_type": "stream",
     "text": [
      "최종 결과의 이질성: 11.441\n",
      " 클러스터의 센트로이드:[2.10900238 4.99452866], 클러스터에 속한 샘플:\n",
      "A1, A2, A4, A7\n",
      " 클러스터의 센트로이드:[4.92742554 5.60609442], 클러스터에 속한 샘플:\n",
      "B2, B4, B5, B7\n",
      " 클러스터의 센트로이드:[2.80974427 9.60386549], 클러스터에 속한 샘플:\n",
      "C0, C6, C7\n",
      " 클러스터의 센트로이드:[3.27637435 7.28932247], 클러스터에 속한 샘플:\n",
      "A6, C1, C2, C3, C4, C5\n",
      " 클러스터의 센트로이드:[3.70472053 4.04178035], 클러스터에 속한 샘플:\n",
      "A0, A3, A5\n",
      " 클러스터의 센트로이드:[7.66239972 3.55222681], 클러스터에 속한 샘플:\n",
      "B0, B1, B3, B6\n"
     ]
    },
    {
     "data": {
      "image/png": "[encoded data removed]",
      "text/plain": [
       "<Figure size 640x480 with 1 Axes>"
      ]
     },
     "metadata": {},
     "output_type": "display_data"
    }
   ],
   "source": [
    "random.seed(0)\n",
    "contrived_test2(40, 6)"
   ]
  },
  {
   "cell_type": "markdown",
   "id": "ce59cd90-14d8-4aed-8399-a1028b27926a",
   "metadata": {
    "id": "ce59cd90-14d8-4aed-8399-a1028b27926a"
   },
   "source": [
    "## 25.4 실전 예제"
   ]
  },
  {
   "cell_type": "markdown",
   "id": "f72bdb05-198a-4b83-ab03-fd2d00f25664",
   "metadata": {
    "id": "f72bdb05-198a-4b83-ab03-fd2d00f25664"
   },
   "source": [
    "예제 25-9 CSV 파일을 읽고 처리하기"
   ]
  },
  {
   "cell_type": "code",
   "execution_count": 20,
   "id": "7823fdc3-3e1d-4200-85fc-f5082b7e9b27",
   "metadata": {
    "id": "7823fdc3-3e1d-4200-85fc-f5082b7e9b27"
   },
   "outputs": [],
   "source": [
    "import pandas as pd\n",
    "\n",
    "def read_mammal_data(fName, scale_method = None): \n",
    "    \"\"\"fName은 포유류의 치아 정보를 담은 CSV 파일입니다.\n",
    "       종과 특성 벡터를 매핑한 딕셔너리를 반환합니다.\n",
    "    \"\"\" \n",
    "    df = pd.read_csv('dentalFormulas.csv', comment = '#') \n",
    "    df = df.set_index('Name') \n",
    "    if scale_method != None: \n",
    "        for c in df.columns: \n",
    "            df[c] = scale_method(df[c]) \n",
    "    feature_vector_list = [np.array(df.loc[i].values) \n",
    "                           for i in df.index] \n",
    "    species_names = list(df.index) \n",
    "    return {species_names[i]: feature_vector_list[i] \n",
    "            for i in range(len(species_names))} \n",
    "\n",
    "def build_mammal_examples(species_dict): \n",
    "    examples = [] \n",
    "    for i in species_dict: \n",
    "        example = Example(i, species_dict[i]) \n",
    "        examples.append(example) \n",
    "    return examples \n",
    "\n",
    "def test_teeth(file_name, num_clusters, num_trials, \n",
    "               scale_method = None): \n",
    "    def print_clustering(clustering): \n",
    "        for c in clustering: \n",
    "            names = '' \n",
    "            for p in c.members(): \n",
    "                names += p.get_name() + ', ' \n",
    "            print('\\n' + names[:-2]) #마지막 쉼표과 공백을 삭제합니다\n",
    "    species_dict = read_mammal_data(file_name, scale_method) \n",
    "    examples = build_mammal_examples(species_dict) \n",
    "    print_clustering(try_k_means(examples, num_clusters, num_trials)) "
   ]
  },
  {
   "cell_type": "code",
   "execution_count": 21,
   "id": "8feeddf8-8963-4d62-b2ef-6d3dba09fe91",
   "metadata": {
    "colab": {
     "base_uri": "https://localhost:8080/"
    },
    "id": "8feeddf8-8963-4d62-b2ef-6d3dba09fe91",
    "outputId": "97284663-11d9-45b3-afe9-64ebc33e6044"
   },
   "outputs": [
    {
     "name": "stdout",
     "output_type": "stream",
     "text": [
      "\n",
      "곰, 소, 사슴, 엘크, 물개, 회색물범, 사자, 바다사자\n",
      "\n",
      "오소리, 퓨마, 개, 여우, 기니피그, 사람, 재규어, 캥커루, 밍크, 두더지, 생쥐, 돼지, 호저, 토끼, 너구리, 쥐, 붉은나무박쥐, 스컹크, 다람쥐, 늑대, 그라운드호그\n",
      "\n",
      "무스\n"
     ]
    }
   ],
   "source": [
    "random.seed(0)\n",
    "test_teeth('dentalFormulas.csv', 3, 40)"
   ]
  },
  {
   "cell_type": "markdown",
   "id": "ff5467a4-efff-4ae6-8ee3-2be536469793",
   "metadata": {
    "id": "ff5467a4-efff-4ae6-8ee3-2be536469793"
   },
   "source": [
    "예제 25-10 스케일링 함수 "
   ]
  },
  {
   "cell_type": "code",
   "execution_count": 22,
   "id": "26e7bd66-8135-47da-acb6-714c8084a30b",
   "metadata": {
    "id": "26e7bd66-8135-47da-acb6-714c8084a30b"
   },
   "outputs": [],
   "source": [
    "def z_scale(vals): \n",
    "    \"\"\"vals은 실수 시퀀스라고 가정합니다\"\"\" \n",
    "    result = np.array(vals) - np.array(vals).mean() \n",
    "    return (result/np.std(result)).round(4) \n",
    "\n",
    "def linear_scale(vals): \n",
    "    \"\"\"vals은 실수 시퀀스라고 가정합니다\"\"\"\n",
    "    vals = np.array(vals) \n",
    "    vals -= vals.min() \n",
    "    return (vals/vals.max()).round(4) "
   ]
  },
  {
   "cell_type": "code",
   "execution_count": 23,
   "id": "b2bd46df-e045-4d4d-83ee-6510be85fd8b",
   "metadata": {
    "colab": {
     "base_uri": "https://localhost:8080/"
    },
    "id": "b2bd46df-e045-4d4d-83ee-6510be85fd8b",
    "outputId": "b563c225-4b04-4601-906b-87eba26b5c7f"
   },
   "outputs": [
    {
     "name": "stdout",
     "output_type": "stream",
     "text": [
      "\n",
      "오소리, 곰, 퓨마, 개, 여우, 물개, 회색물범, 사람, 재규어, 사자, 밍크, 두더지, 돼지, 너구리, 붉은나무박쥐, 바다사자, 스컹크, 늑대\n",
      "\n",
      "기니피그, 캥커루, 생쥐, 호저, 토끼, 쥐, 다람쥐, 그라운드호그\n",
      "\n",
      "소, 사슴, 엘크, 무스\n"
     ]
    }
   ],
   "source": [
    "random.seed(0)\n",
    "test_teeth('dentalFormulas.txt', 3, 40, z_scale)"
   ]
  },
  {
   "cell_type": "markdown",
   "id": "5d976e43-c0ec-46bc-97c9-15044cd7b486",
   "metadata": {
    "id": "5d976e43-c0ec-46bc-97c9-15044cd7b486"
   },
   "source": [
    "예제 25-12 군집 결과에 레이블 부여하기"
   ]
  },
  {
   "cell_type": "code",
   "execution_count": 24,
   "id": "8ee62014-5507-4d44-8f9c-c5141a8e1f42",
   "metadata": {
    "id": "8ee62014-5507-4d44-8f9c-c5141a8e1f42"
   },
   "outputs": [],
   "source": [
    "def add_labels(examples, label_file): \n",
    "    df = pd.read_csv(label_file, comment = '#') \n",
    "    df = df.set_index('Name') \n",
    "    for e in examples: \n",
    "        if e.get_name() in df.index: \n",
    "            e.set_label(df.loc[e.get_name()]['Diet']) \n",
    "\n",
    "def check_diet(cluster): \n",
    "    herbivores, carnivores, omnivores = 0, 0, 0 \n",
    "    for m in cluster.members(): \n",
    "        if m.get_label() == 0: \n",
    "            herbivores += 1 \n",
    "        elif m.get_label() == 1: \n",
    "            carnivores += 1 \n",
    "        else: \n",
    "            omnivores += 1 \n",
    "    print(' ', herbivores, '초식 동물,', carnivores, '육식 동물,', \n",
    "          omnivores, '잡식 동물\\n') \n",
    "\n",
    "def test_teeth_diet(features_file, labels_file, num_clusters, \n",
    "                    num_trials, scale_method = None): \n",
    "    def print_clustering(clustering): \n",
    "        for c in clustering: \n",
    "            names = '' \n",
    "            for p in c.members(): \n",
    "                names += p.get_name() + ', ' \n",
    "            print(names[:-2]) \n",
    "            check_diet(c) \n",
    "    species_dict = read_mammal_data(features_file, scale_method) \n",
    "    examples = build_mammal_examples(species_dict) \n",
    "    add_labels(examples, labels_file) \n",
    "    print_clustering(try_k_means(examples, num_clusters, num_trials)) "
   ]
  },
  {
   "cell_type": "code",
   "execution_count": 25,
   "id": "ecc28798-270d-4cec-aa03-98e67cc633dd",
   "metadata": {
    "colab": {
     "base_uri": "https://localhost:8080/"
    },
    "id": "ecc28798-270d-4cec-aa03-98e67cc633dd",
    "outputId": "87e3f0a4-c4ad-46e7-a76f-d1878697f20f"
   },
   "outputs": [
    {
     "name": "stdout",
     "output_type": "stream",
     "text": [
      "오소리, 곰, 퓨마, 개, 여우, 물개, 회색물범, 사람, 재규어, 사자, 밍크, 두더지, 돼지, 너구리, 붉은나무박쥐, 바다사자, 스컹크, 늑대\n",
      "  0 초식 동물, 13 육식 동물, 5 잡식 동물\n",
      "\n",
      "기니피그, 캥커루, 생쥐, 호저, 토끼, 쥐, 다람쥐, 그라운드호그\n",
      "  3 초식 동물, 0 육식 동물, 5 잡식 동물\n",
      "\n",
      "소, 사슴, 엘크, 무스\n",
      "  4 초식 동물, 0 육식 동물, 0 잡식 동물\n",
      "\n"
     ]
    }
   ],
   "source": [
    "random.seed(0)\n",
    "test_teeth_diet('dentalFormulas.csv', 'diet.csv', 3, 40, z_scale)"
   ]
  }
 ],
 "metadata": {
  "colab": {
   "provenance": []
  },
  "environment": {
   "kernel": "python3",
   "name": "common-cpu.m102",
   "type": "gcloud",
   "uri": "gcr.io/deeplearning-platform-release/base-cpu:m102"
  },
  "kernelspec": {
   "display_name": "Python 3 (ipykernel)",
   "language": "python",
   "name": "python3"
  },
  "language_info": {
   "codemirror_mode": {
    "name": "ipython",
    "version": 3
   },
   "file_extension": ".py",
   "mimetype": "text/x-python",
   "name": "python",
   "nbconvert_exporter": "python",
   "pygments_lexer": "ipython3",
   "version": "3.8.2"
  }
 },
 "nbformat": 4,
 "nbformat_minor": 5
}
