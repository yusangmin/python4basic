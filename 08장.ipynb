{
 "cells": [
  {
   "cell_type": "markdown",
   "metadata": {
    "id": "g3tfDi-PFUv3"
   },
   "source": [
    "<table align=\"left\"><tr><td>\n",
    "<a href=\"https://colab.research.google.com/github/rickiepark/python4daml/blob/main/08장.ipynb\" target=\"_parent\"><img src=\"https://colab.research.google.com/assets/colab-badge.svg\" alt=\"코랩에서 실행하기\"/></a>\n",
    "</td></tr></table>"
   ]
  },
  {
   "cell_type": "markdown",
   "metadata": {
    "id": "l2u9Z2AOFOXR"
   },
   "source": [
    "# 8장 테스트와 디버깅"
   ]
  },
  {
   "cell_type": "markdown",
   "metadata": {
    "id": "81zhK0iJPKeq"
   },
   "source": [
    "## 8.1 테스트"
   ]
  },
  {
   "cell_type": "markdown",
   "metadata": {
    "id": "0_1bi-DQFMmu"
   },
   "source": [
    "### 8.1.1 블랙 박스 테스트"
   ]
  },
  {
   "cell_type": "code",
   "execution_count": 1,
   "metadata": {
    "id": "CmLXz_PHvx8G"
   },
   "outputs": [],
   "source": [
    "def copy(L1, L2): \n",
    "    \"\"\"L1, L2는 리스트라고 가정합니다.\n",
    "       L2를 L1의 복사본으로 만듭니다\"\"\" \n",
    "    while len(L2) > 0: #L2의 모든 원소를 삭제합니다\n",
    "        L2.pop() #L2의 마지막 원소를 삭제합니다\n",
    "    for e in L1: #L1의 원소를 L2에 추가합니다\n",
    "        L2.append(e) "
   ]
  },
  {
   "cell_type": "markdown",
   "metadata": {
    "id": "PnA4UR9cfqXy"
   },
   "source": [
    "### 8.1.2 글라스 박스 테스트"
   ]
  },
  {
   "cell_type": "code",
   "execution_count": 2,
   "metadata": {
    "id": "dPDUMenFZIX0"
   },
   "outputs": [],
   "source": [
    "def is_prime(x): \n",
    "    \"\"\"x는 음수가 아닌 정수로 가정합니다. \n",
    "       x가 소수이면 True, 그렇지 않으면 False를 반환합니다\"\"\" \n",
    "    if x <= 2: \n",
    "        return False \n",
    "    for i in range(2, x): \n",
    "        if x%i == 0: \n",
    "            return False \n",
    "    return True "
   ]
  },
  {
   "cell_type": "code",
   "execution_count": 3,
   "metadata": {
    "id": "YvpT3f7SfnXg"
   },
   "outputs": [],
   "source": [
    "def abs(x): \n",
    "    \"\"\"x는 int라고 가정합니다.\n",
    "       x>=0이면 x를, 그렇지 않으면 –x를 반환합니다\"\"\" \n",
    "    if x < -1: \n",
    "        return -x \n",
    "    else: \n",
    "        return x"
   ]
  },
  {
   "cell_type": "markdown",
   "metadata": {
    "id": "CSWVu-IsAP6R"
   },
   "source": [
    "### 8.1.3 테스트 수행하기"
   ]
  },
  {
   "cell_type": "markdown",
   "metadata": {
    "id": "nc5z5I0uw7Ok"
   },
   "source": [
    "## 8.2 디버깅"
   ]
  },
  {
   "cell_type": "markdown",
   "metadata": {
    "id": "VGuHpkxQw1lA"
   },
   "source": [
    "### 8.2.1 디버깅 배우기"
   ]
  },
  {
   "cell_type": "markdown",
   "metadata": {
    "id": "GA21gAaHJqCr"
   },
   "source": [
    "### 8.2.2 실험 설계하기"
   ]
  },
  {
   "cell_type": "markdown",
   "metadata": {
    "id": "L8Wb2Wk9Ju_F"
   },
   "source": [
    "예제 8-1 버그가 있는 프로그램"
   ]
  },
  {
   "cell_type": "code",
   "execution_count": 4,
   "metadata": {
    "id": "H0rRt0t1GR3E"
   },
   "outputs": [],
   "source": [
    "def is_pal(x):\n",
    "    \"\"\"x는 리스트로 가정합니다.\n",
    "       리스트가 팰린드롬이면 True, 그렇지 않으면 False를 반환합니다\"\"\"\n",
    "    temp = x\n",
    "    temp.reverse\n",
    "    return temp == x\n",
    "\n",
    "def silly(n):\n",
    "    \"\"\"n은 정수이고 n > 0이라고 가정합니다.\n",
    "       사용자에게 n 개의 입력을 받고, 입력 시퀀스가 팰린드롬이면 'Yes',\n",
    "       그렇지 않으면 'No'를 출력합니다.\"\"\"\n",
    "    for i in range(n):\n",
    "        result = []\n",
    "        elem = input('문자를 입력하세요: ')\n",
    "        result.append(elem)\n",
    "    if is_pal(result):\n",
    "        print('Yes')\n",
    "    else:\n",
    "        print('No')"
   ]
  },
  {
   "cell_type": "code",
   "execution_count": 5,
   "metadata": {
    "colab": {
     "base_uri": "https://localhost:8080/"
    },
    "id": "Cl10RM5PJx56",
    "outputId": "9b9450e4-abc4-4750-f493-04a028f8bf1e"
   },
   "outputs": [
    {
     "name": "stdout",
     "output_type": "stream",
     "text": [
      "문자를 입력하세요: a\n",
      "문자를 입력하세요: b\n",
      "Yes\n"
     ]
    }
   ],
   "source": [
    "silly(2)"
   ]
  },
  {
   "cell_type": "code",
   "execution_count": 6,
   "metadata": {
    "id": "MTo2c1aqN0f8"
   },
   "outputs": [],
   "source": [
    "def is_pal(x):\n",
    "    \"\"\"x는 리스트로 가정합니다.\n",
    "       리스트가 팰린드롬이면 True, 그렇지 않으면 False를 반환합니다\"\"\"\n",
    "    temp = x\n",
    "    temp.reverse\n",
    "    return temp == x\n",
    "\n",
    "def silly(n):\n",
    "    \"\"\"n은 정수이고 n > 0이라고 가정합니다.\n",
    "       사용자에게 n 개의 입력을 받고, 입력 시퀀스가 팰린드롬이면 'Yes',\n",
    "       그렇지 않으면 'No'를 출력합니다.\"\"\"\n",
    "    result = []\n",
    "    for i in range(n):\n",
    "        elem = input('문자를 입력하세요: ')\n",
    "        result.append(elem)\n",
    "    print(result)\n",
    "    if is_pal(result):\n",
    "        print('Yes')\n",
    "    else:\n",
    "        print('No')"
   ]
  },
  {
   "cell_type": "code",
   "execution_count": 7,
   "metadata": {
    "colab": {
     "base_uri": "https://localhost:8080/"
    },
    "id": "-TtwobaPUOzY",
    "outputId": "d74623cb-ae91-43a3-bc97-504cc9352936"
   },
   "outputs": [
    {
     "name": "stdout",
     "output_type": "stream",
     "text": [
      "문자를 입력하세요: a\n",
      "문자를 입력하세요: b\n",
      "['a', 'b']\n",
      "Yes\n"
     ]
    }
   ],
   "source": [
    "silly(2)"
   ]
  },
  {
   "cell_type": "code",
   "execution_count": 8,
   "metadata": {
    "id": "h8f7Ssk_Wrzs"
   },
   "outputs": [],
   "source": [
    "def is_pal(x):\n",
    "    \"\"\"x는 리스트로 가정합니다.\n",
    "       리스트가 팰린드롬이면 True, 그렇지 않으면 False를 반환합니다\"\"\"\n",
    "    temp = x\n",
    "    temp.reverse\n",
    "    print(temp, x) \n",
    "    return temp == x\n",
    "\n",
    "def silly(n):\n",
    "    \"\"\"n은 정수이고 n > 0이라고 가정합니다.\n",
    "       사용자에게 n 개의 입력을 받고, 입력 시퀀스가 팰린드롬이면 'Yes',\n",
    "       그렇지 않으면 'No'를 출력합니다.\"\"\"\n",
    "    result = []\n",
    "    for i in range(n):\n",
    "        elem = input('문자를 입력하세요: ')\n",
    "        result.append(elem)\n",
    "    if is_pal(result):\n",
    "        print('Yes')\n",
    "    else:\n",
    "        print('No')"
   ]
  },
  {
   "cell_type": "code",
   "execution_count": 9,
   "metadata": {
    "colab": {
     "base_uri": "https://localhost:8080/"
    },
    "id": "rS3HJj7QXAZG",
    "outputId": "6423c509-1be0-4e42-87df-bdbd62953f87"
   },
   "outputs": [
    {
     "name": "stdout",
     "output_type": "stream",
     "text": [
      "문자를 입력하세요: a\n",
      "문자를 입력하세요: b\n",
      "['a', 'b'] ['a', 'b']\n",
      "Yes\n"
     ]
    }
   ],
   "source": [
    "silly(2)"
   ]
  },
  {
   "cell_type": "code",
   "execution_count": 10,
   "metadata": {
    "id": "rBTxChgPXCGN"
   },
   "outputs": [],
   "source": [
    "def is_pal(x):\n",
    "    \"\"\"x는 리스트로 가정합니다.\n",
    "       리스트가 팰린드롬이면 True, 그렇지 않으면 False를 반환합니다\"\"\"\n",
    "    temp = x\n",
    "    temp.reverse()\n",
    "    print(temp, x)\n",
    "    return temp == x\n",
    "\n",
    "def silly(n):\n",
    "    \"\"\"n은 정수이고 n > 0이라고 가정합니다.\n",
    "       사용자에게 n 개의 입력을 받고, 입력 시퀀스가 팰린드롬이면 'Yes',\n",
    "       그렇지 않으면 'No'를 출력합니다.\"\"\"\n",
    "    result = []\n",
    "    for i in range(n):\n",
    "        elem = input('문자를 입력하세요: ')\n",
    "        result.append(elem)\n",
    "    if is_pal(result):\n",
    "        print('Yes')\n",
    "    else:\n",
    "        print('No')"
   ]
  },
  {
   "cell_type": "code",
   "execution_count": 11,
   "metadata": {
    "colab": {
     "base_uri": "https://localhost:8080/"
    },
    "id": "sqa7cGkukQ3b",
    "outputId": "56afd576-0f19-474e-badd-7cf6980075fa"
   },
   "outputs": [
    {
     "name": "stdout",
     "output_type": "stream",
     "text": [
      "문자를 입력하세요: a\n",
      "문자를 입력하세요: b\n",
      "['b', 'a'] ['b', 'a']\n",
      "Yes\n"
     ]
    }
   ],
   "source": [
    "silly(2)"
   ]
  },
  {
   "cell_type": "code",
   "execution_count": 12,
   "metadata": {
    "id": "THK9ZBZ2kmKc"
   },
   "outputs": [],
   "source": [
    "def is_pal(x):\n",
    "    \"\"\"x는 리스트로 가정합니다.\n",
    "       리스트가 팰린드롬이면 True, 그렇지 않으면 False를 반환합니다\"\"\"\n",
    "    temp = x[:]\n",
    "    temp.reverse()\n",
    "    print(temp, x)\n",
    "    return temp == x\n",
    "\n",
    "def silly(n):\n",
    "    \"\"\"n은 정수이고 n > 0이라고 가정합니다.\n",
    "       사용자에게 n 개의 입력을 받고, 입력 시퀀스가 팰린드롬이면 'Yes',\n",
    "       그렇지 않으면 'No'를 출력합니다.\"\"\"\n",
    "    result = []\n",
    "    for i in range(n):\n",
    "        elem = input('문자를 입력하세요: ')\n",
    "        result.append(elem)\n",
    "    if is_pal(result):\n",
    "        print('Yes')\n",
    "    else:\n",
    "        print('No')"
   ]
  },
  {
   "cell_type": "code",
   "execution_count": 13,
   "metadata": {
    "colab": {
     "base_uri": "https://localhost:8080/"
    },
    "id": "aBksbZrskn5W",
    "outputId": "3f6f9df2-c96a-4f4d-fc63-1f6f1573132c"
   },
   "outputs": [
    {
     "name": "stdout",
     "output_type": "stream",
     "text": [
      "문자를 입력하세요: a\n",
      "문자를 입력하세요: b\n",
      "['b', 'a'] ['a', 'b']\n",
      "No\n"
     ]
    }
   ],
   "source": [
    "silly(2)"
   ]
  }
 ],
 "metadata": {
  "colab": {
   "authorship_tag": "ABX9TyMg/+pT/PZyS8GsTrMlNEl5",
   "collapsed_sections": [],
   "provenance": []
  },
  "kernelspec": {
   "display_name": "Python 3 (ipykernel)",
   "language": "python",
   "name": "python3"
  },
  "language_info": {
   "codemirror_mode": {
    "name": "ipython",
    "version": 3
   },
   "file_extension": ".py",
   "mimetype": "text/x-python",
   "name": "python",
   "nbconvert_exporter": "python",
   "pygments_lexer": "ipython3",
   "version": "3.8.2"
  }
 },
 "nbformat": 4,
 "nbformat_minor": 1
}
