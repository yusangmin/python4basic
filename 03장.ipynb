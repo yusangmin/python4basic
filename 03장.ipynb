{
 "cells": [
  {
   "cell_type": "markdown",
   "metadata": {
    "id": "GBYWNrldlqeG"
   },
   "source": [
    "<table align=\"left\"><tr><td>\n",
    "<a href=\"https://colab.research.google.com/github/rickiepark/python4daml/blob/main/3장.ipynb\" target=\"_parent\"><img src=\"https://colab.research.google.com/assets/colab-badge.svg\" alt=\"코랩에서 실행하기\"/></a>\n",
    "</td></tr></table>"
   ]
  },
  {
   "cell_type": "markdown",
   "metadata": {
    "id": "gRbvYbZtlu47"
   },
   "source": [
    "# 3장 간단한 수치 프로그램"
   ]
  },
  {
   "cell_type": "markdown",
   "metadata": {
    "id": "sGsS514Sm94L"
   },
   "source": [
    "## 3.1 완전 열거"
   ]
  },
  {
   "cell_type": "markdown",
   "metadata": {
    "id": "TZc6RCl3U24D"
   },
   "source": [
    "예제 3-1 완전 열거 방식으로 세제곱근 구하기"
   ]
  },
  {
   "cell_type": "code",
   "execution_count": null,
   "metadata": {
    "colab": {
     "base_uri": "https://localhost:8080/"
    },
    "id": "rETHAcZWlj5t",
    "outputId": "def7d44b-fe29-4a8b-dcfb-3435e2846ae0"
   },
   "outputs": [
    {
     "name": "stdout",
     "output_type": "stream",
     "text": [
      "정수를 입력하세요: 7406961012236344616\n",
      "7406961012236344616 의 세제곱근은 1949306 입니다\n"
     ]
    }
   ],
   "source": [
    "#정수 세제곱근을 찾습니다\n",
    "x = int(input('정수를 입력하세요: '))\n",
    "ans = 0\n",
    "while ans**3 < abs(x):\n",
    "    ans = ans + 1\n",
    "if ans**3 != abs(x):\n",
    "    print(x, '는 완전한 세제곱수가 아닙니다')\n",
    "else:\n",
    "    if x < 0:\n",
    "        ans = -ans\n",
    "    print(x,'의 세제곱근은', ans, '입니다')"
   ]
  },
  {
   "cell_type": "code",
   "execution_count": null,
   "metadata": {
    "colab": {
     "base_uri": "https://localhost:8080/"
    },
    "id": "W1HOkNc4qz5p",
    "outputId": "9d81d4a8-8833-4931-ac59-8ac2e81af184"
   },
   "outputs": [
    {
     "name": "stdout",
     "output_type": "stream",
     "text": [
      "양의 정수를 입력하세요: 10000000\n",
      "10000000\n"
     ]
    }
   ],
   "source": [
    "max_val = int(input('양의 정수를 입력하세요: '))\n",
    "i = 0\n",
    "while i < max_val:\n",
    "    i = i + 1\n",
    "print(i)"
   ]
  },
  {
   "cell_type": "markdown",
   "metadata": {
    "id": "6jmLOYRpVFxd"
   },
   "source": [
    "예제 3-2 완전 열거 방식을 사용한 소수 테스트"
   ]
  },
  {
   "cell_type": "code",
   "execution_count": null,
   "metadata": {
    "colab": {
     "base_uri": "https://localhost:8080/"
    },
    "id": "Fi8_VgtB8J2r",
    "outputId": "37131042-64ac-4b98-f1c9-1dc0279e70dd"
   },
   "outputs": [
    {
     "name": "stdout",
     "output_type": "stream",
     "text": [
      "2보다 큰 정수를 입력하세요: 111119\n",
      "111119 는 소수입니다\n"
     ]
    }
   ],
   "source": [
    "# 2보다 큰 정수가 소수인지 테스트합니다. 소수가 아니면 가장 작은 제수를 출력합니다.\n",
    "x = int(input('2보다 큰 정수를 입력하세요: '))\n",
    "smallest_divisor = None\n",
    "for guess in range(2, x):\n",
    "    if x%guess == 0:\n",
    "        smallest_divisor = guess\n",
    "        break\n",
    "if smallest_divisor != None:\n",
    "    print(x, '의 가장 작은 제수는', smallest_divisor, '입니다')\n",
    "else:\n",
    "    print(x, '는 소수입니다')"
   ]
  },
  {
   "cell_type": "markdown",
   "metadata": {
    "id": "Qqa4Zs8PAVtT"
   },
   "source": [
    "**뇌풀기 문제**"
   ]
  },
  {
   "cell_type": "code",
   "execution_count": null,
   "metadata": {
    "colab": {
     "base_uri": "https://localhost:8080/"
    },
    "id": "VbRkQ72JA7-d",
    "outputId": "09fe7bfc-69de-4f89-b871-63a399bdd3c5"
   },
   "outputs": [
    {
     "name": "stdout",
     "output_type": "stream",
     "text": [
      "2보다 큰 정수를 입력하세요: 100\n",
      "100 의 가장 큰 제수는 50 입니다\n"
     ]
    }
   ],
   "source": [
    "# 2보다 큰 정수가 소수인지 테스트합니다. 소수가 아니면 가장 작은 제수를 출력합니다.\n",
    "x = int(input('2보다 큰 정수를 입력하세요: '))\n",
    "largest_divisor = None\n",
    "for guess in range(2, x):\n",
    "    if x%guess == 0:\n",
    "        largest_divisor = int(x/guess)\n",
    "        break\n",
    "if largest_divisor != None:\n",
    "    print(x, '의 가장 큰 제수는', largest_divisor, '입니다')\n",
    "else:\n",
    "    print(x, '는 소수입니다')"
   ]
  },
  {
   "cell_type": "markdown",
   "metadata": {
    "id": "hhUd0KE0VKoQ"
   },
   "source": [
    "예제 3-3 더 효율적인 소수 테스트"
   ]
  },
  {
   "cell_type": "code",
   "execution_count": null,
   "metadata": {
    "colab": {
     "base_uri": "https://localhost:8080/"
    },
    "id": "KpSQO-J2A2_o",
    "outputId": "6b197313-2d85-4c20-a281-42f0422a5b40"
   },
   "outputs": [
    {
     "name": "stdout",
     "output_type": "stream",
     "text": [
      "2보다 큰 정수를 입력하세요: 111119\n",
      "111119 는 소수입니다\n"
     ]
    }
   ],
   "source": [
    "# 2보다 큰 정수가 소수인지 테스트합니다. 소수가 아니면 가장 작은 제수를 출력합니다.\n",
    "x = int(input('2보다 큰 정수를 입력하세요: '))\n",
    "smallest_divisor = None\n",
    "if x%2 == 0:\n",
    "    smallest_divisor = 2\n",
    "else:\n",
    "    for guess in range(3, x, 2):\n",
    "        if x%guess == 0:\n",
    "            smallest_divisor = guess\n",
    "            break\n",
    "if smallest_divisor != None:\n",
    "    print(x, '의 가장 작은 제수는', smallest_divisor, '입니다')\n",
    "else:\n",
    "    print(x, '는 소수입니다')"
   ]
  },
  {
   "cell_type": "markdown",
   "metadata": {
    "id": "oPcI0MrMy4AD"
   },
   "source": [
    "**뇌풀기 문제**"
   ]
  },
  {
   "cell_type": "code",
   "execution_count": null,
   "metadata": {
    "colab": {
     "base_uri": "https://localhost:8080/"
    },
    "id": "MTvDd_pMy3Hd",
    "outputId": "b689d48b-5224-41f1-dc12-43f479bc13b2"
   },
   "outputs": [
    {
     "name": "stdout",
     "output_type": "stream",
     "text": [
      "정수를 입력하세요: 4\n",
      "1 < pwr < 6 사이에서  4 == root**pwr을 만족하는 정수 root와 pwr은\n",
      "root: -2 pwr: 2\n",
      "root: 2 pwr: 2\n",
      "입니다\n"
     ]
    }
   ],
   "source": [
    "x = int(input('정수를 입력하세요: '))\n",
    "print('1 < pwr < 6 사이에서 ', x, '== root**pwr을 만족하는 정수 root와 pwr은')\n",
    "ans_flag = 0\n",
    "for pwr in range(2, 6):\n",
    "    root = 2\n",
    "    while root**pwr < abs(x):\n",
    "        root = root + 1\n",
    "    if (-root)**pwr == x:\n",
    "        ans_flag = 1\n",
    "        print('root:', -root, 'pwr:', pwr)\n",
    "    if root**pwr == x:\n",
    "        ans_flag = 1\n",
    "        print('root:', root, 'pwr:', pwr)\n",
    "if ans_flag == 1:\n",
    "    print('입니다')\n",
    "else:\n",
    "    print('없습니다')"
   ]
  },
  {
   "cell_type": "markdown",
   "metadata": {
    "id": "WDYHJPkXzEDp"
   },
   "source": [
    "**뇌풀기 문제**"
   ]
  },
  {
   "cell_type": "code",
   "execution_count": null,
   "metadata": {
    "colab": {
     "base_uri": "https://localhost:8080/"
    },
    "id": "3sIUPcC7sr_x",
    "outputId": "efd86002-b415-46fb-933d-8f15f58de68b"
   },
   "outputs": [
    {
     "name": "stdout",
     "output_type": "stream",
     "text": [
      "76125\n"
     ]
    }
   ],
   "source": [
    "sum = 0\n",
    "# 3~1000 사이의 홀수를 반복합니다.\n",
    "for odd in range(3, 1000, 2):\n",
    "    sum = sum + odd\n",
    "    for n in range(3, odd, 2):\n",
    "        if odd%n == 0:  # 다른 홀수로 나누어 떨어지면 소수가 아닙니다.\n",
    "            sum = sum - odd\n",
    "            break\n",
    "print(sum)"
   ]
  },
  {
   "cell_type": "markdown",
   "metadata": {
    "id": "AUZwjLdmdQc9"
   },
   "source": [
    "## 2.2 근사 해법과 이분 검색"
   ]
  },
  {
   "cell_type": "markdown",
   "metadata": {
    "id": "Xi966CfHVO1k"
   },
   "source": [
    "예제 3-4 완전 열거를 사용한 제곱근의 근삿값 구하기"
   ]
  },
  {
   "cell_type": "code",
   "execution_count": null,
   "metadata": {
    "colab": {
     "base_uri": "https://localhost:8080/"
    },
    "id": "IZ1hnPWBdUqv",
    "outputId": "5befe030-c945-49de-cbf1-956e6035b1f3"
   },
   "outputs": [
    {
     "name": "stdout",
     "output_type": "stream",
     "text": [
      "추측 횟수 = 49990\n",
      "4.999000000001688 (은)는 25 의 제곱근에 가깝습니다\n"
     ]
    }
   ],
   "source": [
    "x = 25\n",
    "epsilon = 0.01\n",
    "step = epsilon**2\n",
    "num_guesses = 0\n",
    "ans = 0.0\n",
    "while abs(ans**2 - x) >= epsilon and ans <= x:\n",
    "    ans += step\n",
    "    num_guesses += 1\n",
    "print('추측 횟수 =', num_guesses)\n",
    "if abs(ans**2 - x) >= epsilon:\n",
    "    print(x, '의 제곱근을 찾지 못했습니다')\n",
    "else:\n",
    "    print(ans, '(은)는', x, '의 제곱근에 가깝습니다')"
   ]
  },
  {
   "cell_type": "code",
   "execution_count": null,
   "metadata": {
    "colab": {
     "base_uri": "https://localhost:8080/"
    },
    "id": "f7GDfmPUn9aZ",
    "outputId": "563d7574-7026-4f56-96de-b67fb2f644c9"
   },
   "outputs": [
    {
     "name": "stdout",
     "output_type": "stream",
     "text": [
      "추측 횟수 = 2501\n",
      "0.25 의 제곱근을 찾지 못했습니다\n"
     ]
    }
   ],
   "source": [
    "x = 0.25\n",
    "epsilon = 0.01\n",
    "step = epsilon**2\n",
    "num_guesses = 0\n",
    "ans = 0.0\n",
    "while abs(ans**2 - x) >= epsilon and ans <= x:\n",
    "    ans += step\n",
    "    num_guesses += 1\n",
    "print('추측 횟수 =', num_guesses)\n",
    "if abs(ans**2 - x) >= epsilon:\n",
    "    print(x, '의 제곱근을 찾지 못했습니다')\n",
    "else:\n",
    "    print(ans, '(은)는', x, '의 제곱근에 가깝습니다')"
   ]
  },
  {
   "cell_type": "code",
   "execution_count": null,
   "metadata": {
    "colab": {
     "base_uri": "https://localhost:8080/"
    },
    "id": "sVuRI6PHq9lX",
    "outputId": "787dbc7e-b35b-4dd9-c984-bc41b0704f7e"
   },
   "outputs": [
    {
     "name": "stdout",
     "output_type": "stream",
     "text": [
      "추측 횟수 = 4899\n",
      "0.48989999999996237 (은)는 0.25 의 제곱근에 가깝습니다\n"
     ]
    }
   ],
   "source": [
    "x = 0.25\n",
    "epsilon = 0.01\n",
    "step = epsilon**2\n",
    "num_guesses = 0\n",
    "ans = 0.0\n",
    "while abs(ans**2 - x) >= epsilon and ans*ans <= x:\n",
    "    ans += step\n",
    "    num_guesses += 1\n",
    "print('추측 횟수 =', num_guesses)\n",
    "if abs(ans**2 - x) >= epsilon:\n",
    "    print(x, '의 제곱근을 찾지 못했습니다')\n",
    "else:\n",
    "    print(ans, '(은)는', x, '의 제곱근에 가깝습니다')"
   ]
  },
  {
   "cell_type": "code",
   "execution_count": null,
   "metadata": {
    "colab": {
     "base_uri": "https://localhost:8080/"
    },
    "id": "iZ0PPr9jsYYS",
    "outputId": "12b103ed-6a8c-4554-cdd3-2170201fa863"
   },
   "outputs": [
    {
     "name": "stdout",
     "output_type": "stream",
     "text": [
      "추측 횟수 = 3513631\n",
      "123456 의 제곱근을 찾지 못했습니다\n"
     ]
    }
   ],
   "source": [
    "x = 123456\n",
    "epsilon = 0.01\n",
    "step = epsilon**2\n",
    "num_guesses = 0\n",
    "ans = 0.0\n",
    "while abs(ans**2 - x) >= epsilon and ans*ans <= x:\n",
    "    ans += step\n",
    "    num_guesses += 1\n",
    "print('추측 횟수 =', num_guesses)\n",
    "if abs(ans**2 - x) >= epsilon:\n",
    "    print(x, '의 제곱근을 찾지 못했습니다')\n",
    "else:\n",
    "    print(ans, '(은)는', x, '의 제곱근에 가깝습니다')"
   ]
  },
  {
   "cell_type": "code",
   "execution_count": null,
   "metadata": {
    "colab": {
     "base_uri": "https://localhost:8080/"
    },
    "id": "Dn4p-J-csZjh",
    "outputId": "956019f6-600c-4d78-f99b-9c6374992930"
   },
   "outputs": [
    {
     "name": "stdout",
     "output_type": "stream",
     "text": [
      "추측 횟수 = 351363047\n",
      "351.36304620491023 (은)는 123456 의 제곱근에 가깝습니다\n"
     ]
    }
   ],
   "source": [
    "x = 123456\n",
    "epsilon = 0.01\n",
    "step = epsilon**3\n",
    "num_guesses = 0\n",
    "ans = 0.0\n",
    "while abs(ans**2 - x) >= epsilon and ans*ans <= x:\n",
    "    ans += step\n",
    "    num_guesses += 1\n",
    "print('추측 횟수 =', num_guesses)\n",
    "if abs(ans**2 - x) >= epsilon:\n",
    "    print(x, '의 제곱근을 찾지 못했습니다')\n",
    "else:\n",
    "    print(ans, '(은)는', x, '의 제곱근에 가깝습니다')"
   ]
  },
  {
   "cell_type": "markdown",
   "metadata": {
    "id": "UXHJwIJ2UhRf"
   },
   "source": [
    "예제 3-5 이분 검색을 사용한 제곱근의 근삿값 찾기"
   ]
  },
  {
   "cell_type": "code",
   "execution_count": null,
   "metadata": {
    "colab": {
     "base_uri": "https://localhost:8080/"
    },
    "id": "R-UBZnE1uvz1",
    "outputId": "60bbffbb-2fc6-4d0d-c340-6dd3654d5230"
   },
   "outputs": [
    {
     "name": "stdout",
     "output_type": "stream",
     "text": [
      "low = 0 high = 25 ans = 12.5\n",
      "low = 0 high = 12.5 ans = 6.25\n",
      "low = 0 high = 6.25 ans = 3.125\n",
      "low = 3.125 high = 6.25 ans = 4.6875\n",
      "low = 4.6875 high = 6.25 ans = 5.46875\n",
      "low = 4.6875 high = 5.46875 ans = 5.078125\n",
      "low = 4.6875 high = 5.078125 ans = 4.8828125\n",
      "low = 4.8828125 high = 5.078125 ans = 4.98046875\n",
      "low = 4.98046875 high = 5.078125 ans = 5.029296875\n",
      "low = 4.98046875 high = 5.029296875 ans = 5.0048828125\n",
      "low = 4.98046875 high = 5.0048828125 ans = 4.99267578125\n",
      "low = 4.99267578125 high = 5.0048828125 ans = 4.998779296875\n",
      "low = 4.998779296875 high = 5.0048828125 ans = 5.0018310546875\n",
      "추측 횟수 = 13\n",
      "5.00030517578125 (은)는 25 의 제곱근에 가깝습니다\n"
     ]
    }
   ],
   "source": [
    "x = 25\n",
    "epsilon = 0.01\n",
    "num_guesses, low = 0, 0\n",
    "high = max(1, x)\n",
    "ans = (high + low)/2\n",
    "while abs(ans**2 - x) >= epsilon:\n",
    "    print('low =', low, 'high =', high, 'ans =', ans)\n",
    "    num_guesses += 1\n",
    "    if ans**2 < x:\n",
    "        low = ans\n",
    "    else:\n",
    "        high = ans\n",
    "    ans = (high + low)/2\n",
    "print('추측 횟수 =', num_guesses)\n",
    "print(ans, '(은)는', x, '의 제곱근에 가깝습니다')"
   ]
  },
  {
   "cell_type": "code",
   "execution_count": null,
   "metadata": {
    "colab": {
     "base_uri": "https://localhost:8080/"
    },
    "id": "0ft_68vnLHzz",
    "outputId": "1c08d5de-bba0-4933-cf87-507a4631c772"
   },
   "outputs": [
    {
     "name": "stdout",
     "output_type": "stream",
     "text": [
      "low = 0 high = 123456 ans = 61728.0\n",
      "low = 0 high = 61728.0 ans = 30864.0\n",
      "low = 0 high = 30864.0 ans = 15432.0\n",
      "low = 0 high = 15432.0 ans = 7716.0\n",
      "low = 0 high = 7716.0 ans = 3858.0\n",
      "low = 0 high = 3858.0 ans = 1929.0\n",
      "low = 0 high = 1929.0 ans = 964.5\n",
      "low = 0 high = 964.5 ans = 482.25\n",
      "low = 0 high = 482.25 ans = 241.125\n",
      "low = 241.125 high = 482.25 ans = 361.6875\n",
      "low = 241.125 high = 361.6875 ans = 301.40625\n",
      "low = 301.40625 high = 361.6875 ans = 331.546875\n",
      "low = 331.546875 high = 361.6875 ans = 346.6171875\n",
      "low = 346.6171875 high = 361.6875 ans = 354.15234375\n",
      "low = 346.6171875 high = 354.15234375 ans = 350.384765625\n",
      "low = 350.384765625 high = 354.15234375 ans = 352.2685546875\n",
      "low = 350.384765625 high = 352.2685546875 ans = 351.32666015625\n",
      "low = 351.32666015625 high = 352.2685546875 ans = 351.797607421875\n",
      "low = 351.32666015625 high = 351.797607421875 ans = 351.5621337890625\n",
      "low = 351.32666015625 high = 351.5621337890625 ans = 351.44439697265625\n",
      "low = 351.32666015625 high = 351.44439697265625 ans = 351.3855285644531\n",
      "low = 351.32666015625 high = 351.3855285644531 ans = 351.35609436035156\n",
      "low = 351.35609436035156 high = 351.3855285644531 ans = 351.37081146240234\n",
      "low = 351.35609436035156 high = 351.37081146240234 ans = 351.36345291137695\n",
      "low = 351.35609436035156 high = 351.36345291137695 ans = 351.35977363586426\n",
      "low = 351.35977363586426 high = 351.36345291137695 ans = 351.3616132736206\n",
      "low = 351.3616132736206 high = 351.36345291137695 ans = 351.3625330924988\n",
      "low = 351.3625330924988 high = 351.36345291137695 ans = 351.36299300193787\n",
      "low = 351.36299300193787 high = 351.36345291137695 ans = 351.3632229566574\n",
      "low = 351.36299300193787 high = 351.3632229566574 ans = 351.36310797929764\n",
      "추측 횟수 = 30\n",
      "351.36305049061775 (은)는 123456 의 제곱근에 가깝습니다\n"
     ]
    }
   ],
   "source": [
    "x = 123456\n",
    "epsilon = 0.01\n",
    "num_guesses, low = 0, 0\n",
    "high = max(1, x)\n",
    "ans = (high + low)/2\n",
    "while abs(ans**2 - x) >= epsilon:\n",
    "    print('low =', low, 'high =', high, 'ans =', ans)\n",
    "    num_guesses += 1\n",
    "    if ans**2 < x:\n",
    "        low = ans\n",
    "    else:\n",
    "        high = ans\n",
    "    ans = (high + low)/2\n",
    "print('추측 횟수 =', num_guesses)\n",
    "print(ans, '(은)는', x, '의 제곱근에 가깝습니다')"
   ]
  },
  {
   "cell_type": "code",
   "execution_count": null,
   "metadata": {
    "colab": {
     "base_uri": "https://localhost:8080/"
    },
    "id": "LHbTCxyhN23d",
    "outputId": "43a30fde-6e10-47f0-90a1-f21cfd532198"
   },
   "outputs": [
    {
     "name": "stdout",
     "output_type": "stream",
     "text": [
      "low = 0 high = 123456789 ans = 61728394.5\n",
      "low = 0 high = 61728394.5 ans = 30864197.25\n",
      "low = 0 high = 30864197.25 ans = 15432098.625\n",
      "low = 0 high = 15432098.625 ans = 7716049.3125\n",
      "low = 0 high = 7716049.3125 ans = 3858024.65625\n",
      "low = 0 high = 3858024.65625 ans = 1929012.328125\n",
      "low = 0 high = 1929012.328125 ans = 964506.1640625\n",
      "low = 0 high = 964506.1640625 ans = 482253.08203125\n",
      "low = 0 high = 482253.08203125 ans = 241126.541015625\n",
      "low = 0 high = 241126.541015625 ans = 120563.2705078125\n",
      "low = 0 high = 120563.2705078125 ans = 60281.63525390625\n",
      "low = 0 high = 60281.63525390625 ans = 30140.817626953125\n",
      "low = 0 high = 30140.817626953125 ans = 15070.408813476562\n",
      "low = 0 high = 15070.408813476562 ans = 7535.204406738281\n",
      "low = 7535.204406738281 high = 15070.408813476562 ans = 11302.806610107422\n",
      "low = 7535.204406738281 high = 11302.806610107422 ans = 9419.005508422852\n",
      "low = 9419.005508422852 high = 11302.806610107422 ans = 10360.906059265137\n",
      "low = 10360.906059265137 high = 11302.806610107422 ans = 10831.85633468628\n",
      "low = 10831.85633468628 high = 11302.806610107422 ans = 11067.33147239685\n",
      "low = 11067.33147239685 high = 11302.806610107422 ans = 11185.069041252136\n",
      "low = 11067.33147239685 high = 11185.069041252136 ans = 11126.200256824493\n",
      "low = 11067.33147239685 high = 11126.200256824493 ans = 11096.765864610672\n",
      "low = 11096.765864610672 high = 11126.200256824493 ans = 11111.483060717583\n",
      "low = 11096.765864610672 high = 11111.483060717583 ans = 11104.124462664127\n",
      "low = 11104.124462664127 high = 11111.483060717583 ans = 11107.803761690855\n",
      "low = 11107.803761690855 high = 11111.483060717583 ans = 11109.643411204219\n",
      "low = 11109.643411204219 high = 11111.483060717583 ans = 11110.5632359609\n",
      "low = 11110.5632359609 high = 11111.483060717583 ans = 11111.023148339242\n",
      "low = 11111.023148339242 high = 11111.483060717583 ans = 11111.253104528412\n",
      "low = 11111.023148339242 high = 11111.253104528412 ans = 11111.138126433827\n",
      "low = 11111.023148339242 high = 11111.138126433827 ans = 11111.080637386534\n",
      "low = 11111.080637386534 high = 11111.138126433827 ans = 11111.10938191018\n",
      "low = 11111.10938191018 high = 11111.138126433827 ans = 11111.123754172004\n",
      "low = 11111.10938191018 high = 11111.123754172004 ans = 11111.116568041092\n",
      "low = 11111.10938191018 high = 11111.116568041092 ans = 11111.112974975636\n",
      "low = 11111.10938191018 high = 11111.112974975636 ans = 11111.111178442909\n",
      "low = 11111.10938191018 high = 11111.111178442909 ans = 11111.110280176545\n",
      "low = 11111.110280176545 high = 11111.111178442909 ans = 11111.110729309727\n",
      "low = 11111.110729309727 high = 11111.111178442909 ans = 11111.110953876318\n",
      "low = 11111.110953876318 high = 11111.111178442909 ans = 11111.111066159614\n",
      "low = 11111.110953876318 high = 11111.111066159614 ans = 11111.111010017965\n",
      "low = 11111.111010017965 high = 11111.111066159614 ans = 11111.11103808879\n",
      "low = 11111.11103808879 high = 11111.111066159614 ans = 11111.1110521242\n",
      "low = 11111.1110521242 high = 11111.111066159614 ans = 11111.111059141907\n",
      "low = 11111.111059141907 high = 11111.111066159614 ans = 11111.111062650762\n",
      "추측 횟수 = 45\n",
      "11111.111060896335 (은)는 123456789 의 제곱근에 가깝습니다\n"
     ]
    }
   ],
   "source": [
    "x = 123456789\n",
    "epsilon = 0.01\n",
    "num_guesses, low = 0, 0\n",
    "high = max(1, x)\n",
    "ans = (high + low)/2\n",
    "while abs(ans**2 - x) >= epsilon:\n",
    "    print('low =', low, 'high =', high, 'ans =', ans)\n",
    "    num_guesses += 1\n",
    "    if ans**2 < x:\n",
    "        low = ans\n",
    "    else:\n",
    "        high = ans\n",
    "    ans = (high + low)/2\n",
    "print('추측 횟수 =', num_guesses)\n",
    "print(ans, '(은)는', x, '의 제곱근에 가깝습니다')"
   ]
  },
  {
   "cell_type": "markdown",
   "metadata": {
    "id": "rzlNJZKAUTFJ"
   },
   "source": [
    "이분 검색을 사용한 세제곱근의 근삿값 찾기"
   ]
  },
  {
   "cell_type": "code",
   "execution_count": null,
   "metadata": {
    "colab": {
     "base_uri": "https://localhost:8080/"
    },
    "id": "5xd10pkuUEuc",
    "outputId": "a0f823f3-e088-46da-90e4-611eeb91f00c"
   },
   "outputs": [
    {
     "name": "stdout",
     "output_type": "stream",
     "text": [
      "low = 0 high = 27 ans = 13.5\n",
      "low = 0 high = 13.5 ans = 6.75\n",
      "low = 0 high = 6.75 ans = 3.375\n",
      "low = 0 high = 3.375 ans = 1.6875\n",
      "low = 1.6875 high = 3.375 ans = 2.53125\n",
      "low = 2.53125 high = 3.375 ans = 2.953125\n",
      "low = 2.953125 high = 3.375 ans = 3.1640625\n",
      "low = 2.953125 high = 3.1640625 ans = 3.05859375\n",
      "low = 2.953125 high = 3.05859375 ans = 3.005859375\n",
      "low = 2.953125 high = 3.005859375 ans = 2.9794921875\n",
      "low = 2.9794921875 high = 3.005859375 ans = 2.99267578125\n",
      "low = 2.99267578125 high = 3.005859375 ans = 2.999267578125\n",
      "low = 2.999267578125 high = 3.005859375 ans = 3.0025634765625\n",
      "low = 2.999267578125 high = 3.0025634765625 ans = 3.00091552734375\n",
      "추측 횟수 = 14\n",
      "3.000091552734375 (은)는 27 의 세제곱근에 가깝습니다\n"
     ]
    }
   ],
   "source": [
    "x = 27\n",
    "epsilon = 0.01\n",
    "num_guesses, low = 0, 0\n",
    "high = max(1, x)\n",
    "ans = (high + low)/2\n",
    "while abs(ans**3 - x) >= epsilon:\n",
    "    print('low =', low, 'high =', high, 'ans =', ans)\n",
    "    num_guesses += 1\n",
    "    if ans**3 < x:\n",
    "        low = ans\n",
    "    else:\n",
    "        high = ans\n",
    "    ans = (high + low)/2\n",
    "print('추측 횟수 =', num_guesses)\n",
    "print(ans, '(은)는', x, '의 세제곱근에 가깝습니다')"
   ]
  },
  {
   "cell_type": "markdown",
   "metadata": {
    "id": "ihmdt9kHUPyG"
   },
   "source": [
    "예제 3-6 이분 검색을 사용하여 밑이 2인 로그의 근삿값 찾기"
   ]
  },
  {
   "cell_type": "code",
   "execution_count": null,
   "metadata": {
    "colab": {
     "base_uri": "https://localhost:8080/"
    },
    "id": "gx5C4WFbN5nO",
    "outputId": "dde13b66-3b58-4125-95c6-20d6cef71759"
   },
   "outputs": [
    {
     "name": "stdout",
     "output_type": "stream",
     "text": [
      "3.0 (은)는 8 의 밑이 2인 로그에 가깝습니다\n"
     ]
    }
   ],
   "source": [
    "x = 8\n",
    "# ans의 하한값을 찾습니다\n",
    "lower_bound = 0\n",
    "while 2**lower_bound < x:\n",
    "    lower_bound += 1\n",
    "low = lower_bound -1\n",
    "high = lower_bound + 1\n",
    "# 이분 검색을 수행합니다\n",
    "ans = (high + low)/2\n",
    "while abs(2**ans -x) >= epsilon:\n",
    "    if 2**ans < x:\n",
    "        low = ans\n",
    "    else:\n",
    "        high = ans\n",
    "    ans = (high + low)/2\n",
    "print(ans, '(은)는', x, '의 밑이 2인 로그에 가깝습니다')"
   ]
  },
  {
   "cell_type": "markdown",
   "metadata": {
    "id": "DclfAYxxTheU"
   },
   "source": [
    "**뇌풀기 문제**"
   ]
  },
  {
   "cell_type": "code",
   "execution_count": null,
   "metadata": {
    "colab": {
     "base_uri": "https://localhost:8080/"
    },
    "id": "mDHkJLIaTZzA",
    "outputId": "5df74114-8482-48fb-e773-1cdb7de67db6"
   },
   "outputs": [
    {
     "name": "stdout",
     "output_type": "stream",
     "text": [
      "low = -27 high = 1 ans = -13.0\n",
      "low = -13.0 high = 1 ans = -6.0\n",
      "low = -6.0 high = 1 ans = -2.5\n",
      "low = -6.0 high = -2.5 ans = -4.25\n",
      "low = -4.25 high = -2.5 ans = -3.375\n",
      "low = -3.375 high = -2.5 ans = -2.9375\n",
      "low = -3.375 high = -2.9375 ans = -3.15625\n",
      "low = -3.15625 high = -2.9375 ans = -3.046875\n",
      "low = -3.046875 high = -2.9375 ans = -2.9921875\n",
      "low = -3.046875 high = -2.9921875 ans = -3.01953125\n",
      "low = -3.01953125 high = -2.9921875 ans = -3.005859375\n",
      "low = -3.005859375 high = -2.9921875 ans = -2.9990234375\n",
      "low = -3.005859375 high = -2.9990234375 ans = -3.00244140625\n",
      "low = -3.00244140625 high = -2.9990234375 ans = -3.000732421875\n",
      "추측 횟수 = 14\n",
      "-2.9998779296875 (은)는 -27 의 세제곱근에 가깝습니다\n"
     ]
    }
   ],
   "source": [
    "x = -27\n",
    "epsilon = 0.01\n",
    "num_guesses = 0\n",
    "low = min(0, x)\n",
    "high = max(1, x)\n",
    "ans = (high + low)/2\n",
    "n_iter = 0\n",
    "while abs(ans**3 - x) >= epsilon:\n",
    "    print('low =', low, 'high =', high, 'ans =', ans)\n",
    "    num_guesses += 1\n",
    "    if ans**3 < x:\n",
    "        low = ans\n",
    "    else:\n",
    "        high = ans\n",
    "    ans = (high + low)/2\n",
    "    if n_iter > 100:\n",
    "        break\n",
    "    n_iter += 1\n",
    "print('추측 횟수 =', num_guesses)\n",
    "print(ans, '(은)는', x, '의 세제곱근에 가깝습니다')"
   ]
  },
  {
   "cell_type": "markdown",
   "metadata": {
    "id": "Py5cDunqYgs2"
   },
   "source": [
    "**뇌풀기 문제**"
   ]
  },
  {
   "cell_type": "code",
   "execution_count": null,
   "metadata": {
    "colab": {
     "base_uri": "https://localhost:8080/"
    },
    "id": "FEHW0S4vYc6P",
    "outputId": "0c610418-b5ad-4eec-cca8-f7c8fcbc04cd"
   },
   "outputs": [
    {
     "name": "stdout",
     "output_type": "stream",
     "text": [
      "사용한 달걀 갯수 = 7\n",
      "102 층은 달걀이 깨지지 않는 가장 높은 층입니다\n"
     ]
    }
   ],
   "source": [
    "max_floor = 102 #정답\n",
    "epsilon = 0.5\n",
    "num_eggs = 0\n",
    "low = 1\n",
    "high = 102\n",
    "ans = (high + low)/2\n",
    "while abs(ans - max_floor) >= epsilon:\n",
    "    num_eggs += 1\n",
    "    if ans < max_floor:\n",
    "        low = ans\n",
    "    else:\n",
    "        high = ans\n",
    "    ans = (high + low)/2\n",
    "ans = int(ans+0.5)\n",
    "print('사용한 달걀 갯수 =', num_eggs)\n",
    "print(ans, '층은 달걀이 깨지지 않는 가장 높은 층입니다')"
   ]
  },
  {
   "cell_type": "markdown",
   "metadata": {
    "id": "GnNNVp2e8xc5"
   },
   "source": [
    "## 3.3 부동소수점 사용에 대하여"
   ]
  },
  {
   "cell_type": "code",
   "execution_count": null,
   "metadata": {
    "colab": {
     "base_uri": "https://localhost:8080/"
    },
    "id": "nObKXUKMYirG",
    "outputId": "a7558161-fb6b-47e3-e8a9-ad2818764eb8"
   },
   "outputs": [
    {
     "name": "stdout",
     "output_type": "stream",
     "text": [
      "0.9999999999999999 는 1.0이 아닙니다\n"
     ]
    }
   ],
   "source": [
    "x = 0.0\n",
    "for i in range(10):\n",
    "    x = x + 0.1\n",
    "if x == 1.0:\n",
    "    print(x, '= 1.0')\n",
    "else:\n",
    "    print(x, '는 1.0이 아닙니다')"
   ]
  },
  {
   "cell_type": "markdown",
   "metadata": {
    "id": "21sxP1jzXq7S"
   },
   "source": [
    "**뇌풀기 문제**"
   ]
  },
  {
   "cell_type": "code",
   "execution_count": null,
   "metadata": {
    "colab": {
     "base_uri": "https://localhost:8080/"
    },
    "id": "yNYiZ5Uj97SM",
    "outputId": "eb8e6b88-afa7-47ac-dd46-3ece5b5751fe"
   },
   "outputs": [
    {
     "data": {
      "text/plain": [
       "19"
      ]
     },
     "execution_count": 21,
     "metadata": {},
     "output_type": "execute_result"
    }
   ],
   "source": [
    "1*16+0*8+0*4+1*2+1*1"
   ]
  },
  {
   "cell_type": "markdown",
   "metadata": {
    "id": "j_qy2IZm9Z76"
   },
   "source": [
    "## 3.4 뉴턴-랍슨 방법"
   ]
  },
  {
   "cell_type": "markdown",
   "metadata": {
    "id": "mj0oM8U8-e81"
   },
   "source": [
    "예제 3-7 뉴턴-랍슨 방법 구현"
   ]
  },
  {
   "cell_type": "code",
   "execution_count": null,
   "metadata": {
    "colab": {
     "base_uri": "https://localhost:8080/"
    },
    "id": "i-Ao2rqC9emu",
    "outputId": "c568b894-4171-4952-a38d-317c323f85f7"
   },
   "outputs": [
    {
     "name": "stdout",
     "output_type": "stream",
     "text": [
      "24 의 제곱근은 약 4.8989887432139305 입니다\n"
     ]
    }
   ],
   "source": [
    "k = 24\n",
    "# 제곱근을 위한 뉴턴-랍슨 방법\n",
    "# Find x such that x**2 - 24이 epsilon 이내에서 0이 되는 x를 찾습니다\n",
    "epsilon = 0.01\n",
    "guess = k/2\n",
    "while abs(guess**2 - k) >= epsilon:\n",
    "    guess = guess - (((guess**2) - k)/(2*guess))\n",
    "print(k, '의 제곱근은 약', guess, '입니다')"
   ]
  },
  {
   "cell_type": "markdown",
   "metadata": {
    "id": "4hd6WdDC9hd4"
   },
   "source": [
    "**뇌풀기 문제**"
   ]
  },
  {
   "cell_type": "code",
   "execution_count": null,
   "metadata": {
    "colab": {
     "base_uri": "https://localhost:8080/"
    },
    "id": "dnDVVRSn9uJR",
    "outputId": "0011bf74-0c76-43c1-c9c6-ed9adfbe8b24"
   },
   "outputs": [
    {
     "name": "stdout",
     "output_type": "stream",
     "text": [
      "추측 횟수 = 4\n",
      "25 의 제곱근은 약 5.000012953048684 입니다\n"
     ]
    }
   ],
   "source": [
    "k = 25\n",
    "# 제곱근을 위한 뉴턴-랍슨 방법\n",
    "epsilon = 0.01\n",
    "guess = k/2\n",
    "num_guesses = 0\n",
    "while abs(guess**2 - k) >= epsilon:\n",
    "    num_guesses += 1\n",
    "    guess = guess - (((guess**2) - k)/(2*guess))\n",
    "print('추측 횟수 =', num_guesses)\n",
    "print(k, '의 제곱근은 약', guess, '입니다')"
   ]
  }
 ],
 "metadata": {
  "colab": {
   "provenance": []
  },
  "kernelspec": {
   "display_name": "Python 3 (ipykernel)",
   "language": "python",
   "name": "python3"
  },
  "language_info": {
   "codemirror_mode": {
    "name": "ipython",
    "version": 3
   },
   "file_extension": ".py",
   "mimetype": "text/x-python",
   "name": "python",
   "nbconvert_exporter": "python",
   "pygments_lexer": "ipython3",
   "version": "3.8.2"
  }
 },
 "nbformat": 4,
 "nbformat_minor": 1
}
