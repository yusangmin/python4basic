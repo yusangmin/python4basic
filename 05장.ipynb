{
 "cells": [
  {
   "cell_type": "markdown",
   "metadata": {
    "id": "x7HbU0FpAT2t"
   },
   "source": [
    "<table align=\"left\"><tr><td>\n",
    "<a href=\"https://colab.research.google.com/github/rickiepark/python4daml/blob/main/05장.ipynb\" target=\"_parent\"><img src=\"https://colab.research.google.com/assets/colab-badge.svg\" alt=\"코랩에서 실행하기\"/></a>\n",
    "</td></tr></table>"
   ]
  },
  {
   "cell_type": "markdown",
   "metadata": {
    "id": "qeFKv_9yAX49"
   },
   "source": [
    "# 5장 구조적인 타입과 가변성"
   ]
  },
  {
   "cell_type": "markdown",
   "metadata": {
    "id": "iV0cH5jlAbUA"
   },
   "source": [
    "## 5.1 튜플"
   ]
  },
  {
   "cell_type": "code",
   "execution_count": null,
   "metadata": {
    "colab": {
     "base_uri": "https://localhost:8080/"
    },
    "id": "PwZuxiWrAPos",
    "outputId": "9254f62f-40c3-4ce6-8c65-845812f5eb9c"
   },
   "outputs": [
    {
     "name": "stdout",
     "output_type": "stream",
     "text": [
      "()\n",
      "(1, 'two', 3)\n"
     ]
    }
   ],
   "source": [
    "t1 = ()\n",
    "t2 = (1, 'two', 3)\n",
    "print(t1)\n",
    "print(t2)"
   ]
  },
  {
   "cell_type": "code",
   "execution_count": null,
   "metadata": {
    "colab": {
     "base_uri": "https://localhost:8080/"
    },
    "id": "Cu28tvdVFGkk",
    "outputId": "f3406e1a-93ed-4507-e619-5a807d986617"
   },
   "outputs": [
    {
     "name": "stdout",
     "output_type": "stream",
     "text": [
      "((1, 'two', 3), 3.25)\n",
      "(1, 'two', 3, (1, 'two', 3), 3.25)\n",
      "(1, 'two', 3)\n",
      "(3, (1, 'two', 3), 3.25)\n"
     ]
    }
   ],
   "source": [
    "t1 = (1, 'two', 3)\n",
    "t2 = (t1, 3.25)\n",
    "print(t2)\n",
    "print((t1 + t2))\n",
    "print((t1 + t2)[3])\n",
    "print((t1 + t2)[2:5])"
   ]
  },
  {
   "cell_type": "code",
   "execution_count": null,
   "metadata": {
    "colab": {
     "base_uri": "https://localhost:8080/"
    },
    "id": "myXy_zSOciNW",
    "outputId": "e55d5687-e0bb-48ae-f8b4-d1ce083629d2"
   },
   "outputs": [
    {
     "name": "stdout",
     "output_type": "stream",
     "text": [
      "('a', 2)\n"
     ]
    }
   ],
   "source": [
    "def intersect(t1, t2):\n",
    "    \"\"\"t1과 t2를 튜플이라 가정합니다.\n",
    "       t1과 t2에 모두 들어 있는 원소를 담은 튜플을 반환합니다\"\"\"\n",
    "    result = ()\n",
    "    for e in t1:\n",
    "        if e in t2:\n",
    "            result += (e,)\n",
    "    return result\n",
    "print(intersect((1, 'a', 2), ('b', 2, 'a')))"
   ]
  },
  {
   "cell_type": "markdown",
   "metadata": {
    "id": "lviTx-81fT4a"
   },
   "source": [
    "### 5.1.1 복수 할당"
   ]
  },
  {
   "cell_type": "code",
   "execution_count": null,
   "metadata": {
    "id": "VfBDDofiv92g"
   },
   "outputs": [],
   "source": [
    "def find_extreme_divisors(n1, n2):\n",
    "    \"\"\"n1과 n2가 양의 정수라 가정합니다.\n",
    "       n1과 n2에 대해 1보다 큰 가장 작은 공약수와 가장 큰 공약수를 담은 튜플을 반환합니다.\n",
    "       1보다 큰 공약수가 없으면 (None, None)을 반환합니다\"\"\"\n",
    "    min_val, max_val = None, None\n",
    "    for i in range(2, min(n1, n2) + 1):\n",
    "        if n1%i == 0 and n2%i == 0:\n",
    "            if min_val == None:\n",
    "                min_val = i\n",
    "            max_val = i\n",
    "    return min_val, max_val"
   ]
  },
  {
   "cell_type": "markdown",
   "metadata": {
    "id": "GzvrEzkA3HSt"
   },
   "source": [
    "**뇌풀기 문제**"
   ]
  },
  {
   "cell_type": "code",
   "execution_count": null,
   "metadata": {
    "colab": {
     "base_uri": "https://localhost:8080/"
    },
    "id": "7dv3H6jLv-ci",
    "outputId": "0cb54a26-9370-47c0-c3b3-e147ee22b6d0"
   },
   "outputs": [
    {
     "data": {
      "text/plain": [
       "4.5"
      ]
     },
     "execution_count": 5,
     "metadata": {},
     "output_type": "execute_result"
    }
   ],
   "source": [
    "t = range(0, 10)\n",
    "\n",
    "sum(t)/len(t)"
   ]
  },
  {
   "cell_type": "markdown",
   "metadata": {
    "id": "OdERGsp93FT1"
   },
   "source": [
    "## 5.3 리스트와 가변성"
   ]
  },
  {
   "cell_type": "code",
   "execution_count": null,
   "metadata": {
    "colab": {
     "base_uri": "https://localhost:8080/"
    },
    "id": "B_5kEJbK3GI9",
    "outputId": "da24f931-64ac-46d0-aef2-5ac7718d5d80"
   },
   "outputs": [
    {
     "name": "stdout",
     "output_type": "stream",
     "text": [
      "I did it all\n",
      "4\n",
      "love\n"
     ]
    }
   ],
   "source": [
    "L = ['I did it all', 4, 'love']\n",
    "for e in L:\n",
    "    print(e)"
   ]
  },
  {
   "cell_type": "code",
   "execution_count": null,
   "metadata": {
    "colab": {
     "base_uri": "https://localhost:8080/"
    },
    "id": "AaUYNYNX53X4",
    "outputId": "75d4c802-2c65-4b0f-ae73-37f3b8913a1d"
   },
   "outputs": [
    {
     "name": "stdout",
     "output_type": "stream",
     "text": [
      "3\n",
      "4\n",
      "3\n"
     ]
    }
   ],
   "source": [
    "L1 = [1, 2, 3]\n",
    "L2 = L1[-1::-1]\n",
    "for i in range(len(L1)):\n",
    "    print(L1[i]*L2[i])"
   ]
  },
  {
   "cell_type": "code",
   "execution_count": null,
   "metadata": {
    "id": "ghOo4wgx58Hc"
   },
   "outputs": [],
   "source": [
    "Techs = ['MIT', 'Caltech']\n",
    "Ivys = ['Harvard', 'Yale', 'Brown']"
   ]
  },
  {
   "cell_type": "code",
   "execution_count": null,
   "metadata": {
    "id": "DJWSi1xECWrE"
   },
   "outputs": [],
   "source": [
    "Univs = [Techs, Ivys]\n",
    "Univs1 = [['MIT', 'Caltech'], ['Harvard', 'Yale', 'Brown']]"
   ]
  },
  {
   "cell_type": "code",
   "execution_count": null,
   "metadata": {
    "colab": {
     "base_uri": "https://localhost:8080/"
    },
    "id": "o2Zg8bAxCXKa",
    "outputId": "95f1e5dd-f6a0-4f97-f15e-0a85bc621e43"
   },
   "outputs": [
    {
     "name": "stdout",
     "output_type": "stream",
     "text": [
      "Univs = [['MIT', 'Caltech'], ['Harvard', 'Yale', 'Brown']]\n",
      "Univs1 = [['MIT', 'Caltech'], ['Harvard', 'Yale', 'Brown']]\n",
      "True\n"
     ]
    }
   ],
   "source": [
    "print('Univs =', Univs)\n",
    "print('Univs1 =', Univs1)\n",
    "print(Univs == Univs1)"
   ]
  },
  {
   "cell_type": "code",
   "execution_count": null,
   "metadata": {
    "colab": {
     "base_uri": "https://localhost:8080/"
    },
    "id": "8UzSkNOlCjvJ",
    "outputId": "44cfeaf2-0e06-4245-faca-a130e69d1baa"
   },
   "outputs": [
    {
     "name": "stdout",
     "output_type": "stream",
     "text": [
      "True\n",
      "False\n",
      "False\n",
      "Univs의 id = 140294041139552\n",
      "Univs1의 id = 140294041140032\n"
     ]
    }
   ],
   "source": [
    "print(Univs == Univs1) #값 동일성 테스트\n",
    "print(id(Univs) == id(Univs1)) #객체 동일성 테스트\n",
    "print(Univs is Univs1) #객체 동일성 테스트\n",
    "print('Univs의 id =', id(Univs))\n",
    "print('Univs1의 id =', id(Univs1))"
   ]
  },
  {
   "cell_type": "code",
   "execution_count": null,
   "metadata": {
    "colab": {
     "base_uri": "https://localhost:8080/"
    },
    "id": "LdVXjiAnLR6J",
    "outputId": "1d15519f-4b7e-4494-a0d8-679185107aec"
   },
   "outputs": [
    {
     "name": "stdout",
     "output_type": "stream",
     "text": [
      "Univs[0]와 Univs[1]의 id 140294041106384 140294041106304\n",
      "Univs1[0]와 Univs1[1]의 id 140294041139472 140294041139872\n"
     ]
    }
   ],
   "source": [
    "print('Univs[0]와 Univs[1]의 id', id(Univs[0]), id(Univs[1]))\n",
    "print('Univs1[0]와 Univs1[1]의 id', id(Univs1[0]), id(Univs1[1]))"
   ]
  },
  {
   "cell_type": "code",
   "execution_count": null,
   "metadata": {
    "id": "O61cCQC2M-1U"
   },
   "outputs": [],
   "source": [
    "Techs.append('RPI')"
   ]
  },
  {
   "cell_type": "code",
   "execution_count": null,
   "metadata": {
    "colab": {
     "base_uri": "https://localhost:8080/"
    },
    "id": "SvFQiABDOIGy",
    "outputId": "9c04d133-c013-486c-d95f-788c22df6153"
   },
   "outputs": [
    {
     "name": "stdout",
     "output_type": "stream",
     "text": [
      "Univs = [['MIT', 'Caltech', 'RPI'], ['Harvard', 'Yale', 'Brown']]\n",
      "Univs1 = [['MIT', 'Caltech'], ['Harvard', 'Yale', 'Brown']]\n"
     ]
    }
   ],
   "source": [
    "print('Univs =', Univs)\n",
    "print('Univs1 =', Univs1)"
   ]
  },
  {
   "cell_type": "code",
   "execution_count": null,
   "metadata": {
    "colab": {
     "base_uri": "https://localhost:8080/"
    },
    "id": "o3tzzG4FSF1u",
    "outputId": "5e09cbc1-a6dc-49f4-aadf-2f4e403eaba9"
   },
   "outputs": [
    {
     "name": "stdout",
     "output_type": "stream",
     "text": [
      "L1 = [[0, 1], [0, 1]] 하지만 L2 = [[0], [1]]\n"
     ]
    }
   ],
   "source": [
    "L1 = [[]]*2\n",
    "L2 = [[], []]\n",
    "for i in range(len(L1)):\n",
    "    L1[i].append(i)\n",
    "    L2[i].append(i)\n",
    "print('L1 =', L1, '하지만', 'L2 =', L2)"
   ]
  },
  {
   "cell_type": "markdown",
   "metadata": {
    "id": "bfh8_gwfU1bZ"
   },
   "source": [
    "**뇌풀기 문제**"
   ]
  },
  {
   "cell_type": "code",
   "execution_count": null,
   "metadata": {
    "colab": {
     "base_uri": "https://localhost:8080/"
    },
    "id": "jXQ0_0G1TryG",
    "outputId": "ce939bc7-db2e-4ad9-ac34-8a7c5e3e2e50"
   },
   "outputs": [
    {
     "name": "stdout",
     "output_type": "stream",
     "text": [
      "True\n"
     ]
    }
   ],
   "source": [
    "L = [1, 2, 3]\n",
    "L.append(L)\n",
    "print(L is L[-1])"
   ]
  },
  {
   "cell_type": "code",
   "execution_count": null,
   "metadata": {
    "colab": {
     "base_uri": "https://localhost:8080/"
    },
    "id": "ZZL355imVYgy",
    "outputId": "ab1209dc-07fc-4633-e26e-f4a65fbd0993"
   },
   "outputs": [
    {
     "name": "stdout",
     "output_type": "stream",
     "text": [
      "[3]\n",
      "[3, 4]\n"
     ]
    }
   ],
   "source": [
    "def append_val(val, list_1 = []):\n",
    "    list_1.append(val)\n",
    "    print(list_1)\n",
    "\n",
    "append_val(3)\n",
    "append_val(4)"
   ]
  },
  {
   "cell_type": "code",
   "execution_count": null,
   "metadata": {
    "colab": {
     "base_uri": "https://localhost:8080/"
    },
    "id": "H6SjLUfCVY28",
    "outputId": "999c788a-b45b-4f7c-c1b3-b1d57c65ad7a"
   },
   "outputs": [
    {
     "name": "stdout",
     "output_type": "stream",
     "text": [
      "L3 = [1, 2, 3, 4, 5, 6]\n",
      "L1 = [1, 2, 3, 4, 5, 6]\n",
      "L1 = [1, 2, 3, 4, 5, 6, [4, 5, 6]]\n"
     ]
    }
   ],
   "source": [
    "L1 = [1,2,3]\n",
    "L2 = [4,5,6]\n",
    "L3 = L1 + L2\n",
    "print('L3 =', L3)\n",
    "L1.extend(L2)\n",
    "print('L1 =', L1)\n",
    "L1.append(L2)\n",
    "print('L1 =', L1)"
   ]
  },
  {
   "cell_type": "markdown",
   "metadata": {
    "id": "jO8KjTkA_ob4"
   },
   "source": [
    "### 5.3.1 복제"
   ]
  },
  {
   "cell_type": "code",
   "execution_count": null,
   "metadata": {
    "colab": {
     "base_uri": "https://localhost:8080/"
    },
    "id": "K9TC2M-AAtWJ",
    "outputId": "c185dc3c-e47b-4ac0-c2ac-8ff0cbfc8df2"
   },
   "outputs": [
    {
     "name": "stdout",
     "output_type": "stream",
     "text": [
      "L1 = [2, 3, 4]\n"
     ]
    }
   ],
   "source": [
    "def remove_dups(L1, L2):\n",
    "    \"\"\"L1과 L2를 리스트로 가정합니다.\n",
    "       L2에도 등장하는 L1의 원소를 삭제합니다\"\"\"\n",
    "    for e1 in L1:\n",
    "        if e1 in L2:\n",
    "            L1.remove(e1)\n",
    "L1 = [1,2,3,4]\n",
    "L2 = [1,2,5,6]\n",
    "remove_dups(L1, L2)\n",
    "print('L1 =', L1)"
   ]
  },
  {
   "cell_type": "code",
   "execution_count": null,
   "metadata": {
    "colab": {
     "base_uri": "https://localhost:8080/"
    },
    "id": "1Slux5sCGBPg",
    "outputId": "052e940e-7ca8-41e5-cb59-7267b84b1cde"
   },
   "outputs": [
    {
     "name": "stdout",
     "output_type": "stream",
     "text": [
      "L1 = [[2, 3]], L2 = [[2, 3]]\n"
     ]
    }
   ],
   "source": [
    "L = [2]\n",
    "L1 = [L]\n",
    "L2 = L1[:]\n",
    "L.append(3)\n",
    "print(f'L1 = {L1}, L2 = {L2}')"
   ]
  },
  {
   "cell_type": "code",
   "execution_count": null,
   "metadata": {
    "colab": {
     "base_uri": "https://localhost:8080/"
    },
    "id": "RgDEhnHIyG6j",
    "outputId": "f2d11d44-6ce7-4f85-d59a-cc44434b679c"
   },
   "outputs": [
    {
     "name": "stdout",
     "output_type": "stream",
     "text": [
      "L1 = [[2, 3]], L2 = [[2]]\n"
     ]
    }
   ],
   "source": [
    "import copy\n",
    "\n",
    "L = [2]\n",
    "L1 = [L]\n",
    "L2 = copy.deepcopy(L1)\n",
    "L.append(3)\n",
    "print(f'L1 = {L1}, L2 = {L2}')"
   ]
  },
  {
   "cell_type": "code",
   "execution_count": null,
   "metadata": {
    "colab": {
     "base_uri": "https://localhost:8080/"
    },
    "id": "zen39yJMKSPT",
    "outputId": "6a72ac8e-d917-4485-80a3-f638224c8900"
   },
   "outputs": [
    {
     "name": "stdout",
     "output_type": "stream",
     "text": [
      "L3 = [[[2]]]\n"
     ]
    }
   ],
   "source": [
    "L1 = [2]\n",
    "L2 = [[L1]]\n",
    "L3 = copy.deepcopy(L2)\n",
    "L1.append(3)\n",
    "print('L3 =', L3)"
   ]
  },
  {
   "cell_type": "code",
   "execution_count": null,
   "metadata": {
    "colab": {
     "base_uri": "https://localhost:8080/"
    },
    "id": "o_sDs2qVyFFj",
    "outputId": "31044f22-672f-427a-ead3-63872be3a645"
   },
   "outputs": [
    {
     "name": "stdout",
     "output_type": "stream",
     "text": [
      "L1 = [2, [...]]\n"
     ]
    }
   ],
   "source": [
    "L1 = [2]\n",
    "L1.append(L1)\n",
    "print('L1 =', L1)"
   ]
  },
  {
   "cell_type": "code",
   "execution_count": null,
   "metadata": {
    "colab": {
     "base_uri": "https://localhost:8080/"
    },
    "id": "w8JI-wpIWUml",
    "outputId": "6d363a9f-4d5a-470f-dd6c-263544b30cfa"
   },
   "outputs": [
    {
     "name": "stdout",
     "output_type": "stream",
     "text": [
      "[[2, 3], [2, 3]]\n"
     ]
    }
   ],
   "source": [
    "L1 = [2]\n",
    "L2 = [L1, L1]\n",
    "L3 = copy.deepcopy(L2)\n",
    "L3[0].append(3)\n",
    "print(L3)"
   ]
  },
  {
   "cell_type": "markdown",
   "metadata": {
    "id": "F_jMt76pcayK"
   },
   "source": [
    "### 5.3.2 리스트 내포"
   ]
  },
  {
   "cell_type": "code",
   "execution_count": null,
   "metadata": {
    "colab": {
     "base_uri": "https://localhost:8080/"
    },
    "id": "eh5vkGtKcb-F",
    "outputId": "a1bc15c5-c470-4a9f-dae0-9c88656de0c6"
   },
   "outputs": [
    {
     "data": {
      "text/plain": [
       "[0, 1, 4, 9, 16, 25]"
      ]
     },
     "execution_count": 25,
     "metadata": {},
     "output_type": "execute_result"
    }
   ],
   "source": [
    "[e**2 for e in range(6)]"
   ]
  },
  {
   "cell_type": "code",
   "execution_count": null,
   "metadata": {
    "colab": {
     "base_uri": "https://localhost:8080/"
    },
    "id": "w_yxR33PgRRG",
    "outputId": "8743103e-99f3-4e14-ba54-d67001732382"
   },
   "outputs": [
    {
     "data": {
      "text/plain": [
       "[0, 4, 16, 36]"
      ]
     },
     "execution_count": 26,
     "metadata": {},
     "output_type": "execute_result"
    }
   ],
   "source": [
    "[e**2 for e in range(8) if e%2 == 0]"
   ]
  },
  {
   "cell_type": "code",
   "execution_count": null,
   "metadata": {
    "colab": {
     "base_uri": "https://localhost:8080/"
    },
    "id": "aC1--MExgS-8",
    "outputId": "e790afce-487f-465a-c09c-f852957abb86"
   },
   "outputs": [
    {
     "data": {
      "text/plain": [
       "[4, 9]"
      ]
     },
     "execution_count": 27,
     "metadata": {},
     "output_type": "execute_result"
    }
   ],
   "source": [
    "[x**2 for x in [2, 'a', 3, 4.0] if type(x) == int]"
   ]
  },
  {
   "cell_type": "code",
   "execution_count": null,
   "metadata": {
    "colab": {
     "base_uri": "https://localhost:8080/"
    },
    "id": "B10En5fMgYPB",
    "outputId": "ad728792-2047-43ef-8463-b758d662945d"
   },
   "outputs": [
    {
     "name": "stdout",
     "output_type": "stream",
     "text": [
      "[(0, 0), (0, 3), (2, 0), (2, 3), (4, 0), (4, 3)]\n"
     ]
    }
   ],
   "source": [
    "L = [(x, y)\n",
    "     for x in range(6) if x%2 == 0\n",
    "     for y in range(6) if y%3 == 0]\n",
    "print(L)"
   ]
  },
  {
   "cell_type": "code",
   "execution_count": null,
   "metadata": {
    "colab": {
     "base_uri": "https://localhost:8080/"
    },
    "id": "KnaRUwzCgaUy",
    "outputId": "901edb6f-dc76-4085-9bb0-f2060163b57f"
   },
   "outputs": [
    {
     "name": "stdout",
     "output_type": "stream",
     "text": [
      "[(0, 0), (0, 3), (2, 0), (2, 3), (4, 0), (4, 3)]\n"
     ]
    }
   ],
   "source": [
    "L = []\n",
    "for x in range(6):\n",
    "    if x%2 == 0:\n",
    "        for y in range(6):\n",
    "            if y%3 == 0:\n",
    "                L.append((x, y))\n",
    "print(L)"
   ]
  },
  {
   "cell_type": "code",
   "execution_count": null,
   "metadata": {
    "colab": {
     "base_uri": "https://localhost:8080/"
    },
    "id": "UGIDcPQDipcQ",
    "outputId": "c3f8dc41-24b6-42da-f762-14db6f2bd677"
   },
   "outputs": [
    {
     "name": "stdout",
     "output_type": "stream",
     "text": [
      "[[(0, 0), (2, 0), (4, 0)], [(0, 3), (2, 3), (4, 3)]]\n"
     ]
    }
   ],
   "source": [
    "print([[(x,y) for x in range(6) if x%2 == 0]\n",
    "       for y in range(6) if y%3 == 0])"
   ]
  },
  {
   "cell_type": "code",
   "execution_count": null,
   "metadata": {
    "colab": {
     "base_uri": "https://localhost:8080/"
    },
    "id": "XHf4m4Fti8WI",
    "outputId": "0a0954fe-d0a2-40e6-e2e8-db5091c3814f"
   },
   "outputs": [
    {
     "data": {
      "text/plain": [
       "[2,\n",
       " 3,\n",
       " 5,\n",
       " 7,\n",
       " 11,\n",
       " 13,\n",
       " 17,\n",
       " 19,\n",
       " 23,\n",
       " 29,\n",
       " 31,\n",
       " 37,\n",
       " 41,\n",
       " 43,\n",
       " 47,\n",
       " 53,\n",
       " 59,\n",
       " 61,\n",
       " 67,\n",
       " 71,\n",
       " 73,\n",
       " 79,\n",
       " 83,\n",
       " 89,\n",
       " 97]"
      ]
     },
     "execution_count": 31,
     "metadata": {},
     "output_type": "execute_result"
    }
   ],
   "source": [
    "[x for x in range(2, 100) if all(x % y != 0 for y in range(2, x))]"
   ]
  },
  {
   "cell_type": "code",
   "execution_count": null,
   "metadata": {
    "colab": {
     "base_uri": "https://localhost:8080/"
    },
    "id": "gPmcLassOWAi",
    "outputId": "643ebb4f-7b5e-44f3-8c39-d8bc27efdfb5"
   },
   "outputs": [
    {
     "data": {
      "text/plain": [
       "[2,\n",
       " 3,\n",
       " 5,\n",
       " 7,\n",
       " 11,\n",
       " 13,\n",
       " 17,\n",
       " 19,\n",
       " 23,\n",
       " 29,\n",
       " 31,\n",
       " 37,\n",
       " 41,\n",
       " 43,\n",
       " 47,\n",
       " 53,\n",
       " 59,\n",
       " 61,\n",
       " 67,\n",
       " 71,\n",
       " 73,\n",
       " 79,\n",
       " 83,\n",
       " 89,\n",
       " 97]"
      ]
     },
     "execution_count": 32,
     "metadata": {},
     "output_type": "execute_result"
    }
   ],
   "source": [
    "def gen_primes():\n",
    "    primes = []\n",
    "    for x in range(2, 100):\n",
    "        is_prime = True\n",
    "        for y in range(2, x):\n",
    "            if x%y == 0:\n",
    "                is_prime = False\n",
    "        if is_prime:\n",
    "            primes.append(x)\n",
    "    return primes\n",
    "\n",
    "gen_primes()"
   ]
  },
  {
   "cell_type": "markdown",
   "metadata": {
    "id": "u8U25JqZOz79"
   },
   "source": [
    "**뇌풀기 문제**"
   ]
  },
  {
   "cell_type": "code",
   "execution_count": null,
   "metadata": {
    "colab": {
     "base_uri": "https://localhost:8080/"
    },
    "id": "NB4nY5PVPIoJ",
    "outputId": "cb0598c1-dad7-4816-faed-a9165f1f939b"
   },
   "outputs": [
    {
     "data": {
      "text/plain": [
       "[4,\n",
       " 6,\n",
       " 8,\n",
       " 9,\n",
       " 10,\n",
       " 12,\n",
       " 14,\n",
       " 15,\n",
       " 16,\n",
       " 18,\n",
       " 20,\n",
       " 21,\n",
       " 22,\n",
       " 24,\n",
       " 25,\n",
       " 26,\n",
       " 27,\n",
       " 28,\n",
       " 30,\n",
       " 32,\n",
       " 33,\n",
       " 34,\n",
       " 35,\n",
       " 36,\n",
       " 38,\n",
       " 39,\n",
       " 40,\n",
       " 42,\n",
       " 44,\n",
       " 45,\n",
       " 46,\n",
       " 48,\n",
       " 49,\n",
       " 50,\n",
       " 51,\n",
       " 52,\n",
       " 54,\n",
       " 55,\n",
       " 56,\n",
       " 57,\n",
       " 58,\n",
       " 60,\n",
       " 62,\n",
       " 63,\n",
       " 64,\n",
       " 65,\n",
       " 66,\n",
       " 68,\n",
       " 69,\n",
       " 70,\n",
       " 72,\n",
       " 74,\n",
       " 75,\n",
       " 76,\n",
       " 77,\n",
       " 78,\n",
       " 80,\n",
       " 81,\n",
       " 82,\n",
       " 84,\n",
       " 85,\n",
       " 86,\n",
       " 87,\n",
       " 88,\n",
       " 90,\n",
       " 91,\n",
       " 92,\n",
       " 93,\n",
       " 94,\n",
       " 95,\n",
       " 96,\n",
       " 98,\n",
       " 99]"
      ]
     },
     "execution_count": 33,
     "metadata": {},
     "output_type": "execute_result"
    }
   ],
   "source": [
    "[x for x in range(2, 100) if any(x % y == 0 for y in range(2, x))]"
   ]
  },
  {
   "cell_type": "markdown",
   "metadata": {
    "id": "FYf1t-BkQQ2I"
   },
   "source": [
    "## 5.4 리스트의 고차 연산"
   ]
  },
  {
   "cell_type": "markdown",
   "metadata": {
    "id": "D0g6uTv5sfnM"
   },
   "source": [
    "예제 5-1 리스트의 원소에 함수 적용하기"
   ]
  },
  {
   "cell_type": "code",
   "execution_count": null,
   "metadata": {
    "colab": {
     "base_uri": "https://localhost:8080/"
    },
    "id": "ev0uc1lxRbrm",
    "outputId": "0d817115-11d4-40bd-af73-9c029e2d7a0d"
   },
   "outputs": [
    {
     "name": "stdout",
     "output_type": "stream",
     "text": [
      "L = [1, -2, 3.33]\n",
      "L의 각 원소에 abs를 적용합니다\n",
      "L = [1, 2, 3.33]\n",
      "[1, 2, 3.33] 의 각 원소에 int를 적용합니다\n",
      "L = [1, 2, 3]\n",
      "[1, 2, 3] 의 각 원소를 제곱합니다\n",
      "L = [1, 4, 9]\n"
     ]
    }
   ],
   "source": [
    "def apply_to_each(L, f):\n",
    "    \"\"\"L은 리스트이고 f는 함수로 가정합니다.\n",
    "       L의 각 원소 e를 f(e)로 변경합니다\"\"\"\n",
    "    for i in range(len(L)):\n",
    "        L[i] = f(L[i])\n",
    "\n",
    "L = [1, -2, 3.33]\n",
    "print('L =', L)\n",
    "print('L의 각 원소에 abs를 적용합니다')\n",
    "apply_to_each(L, abs)\n",
    "print('L =', L)\n",
    "print(L, '의 각 원소에 int를 적용합니다')\n",
    "apply_to_each(L, int)\n",
    "print('L =', L)\n",
    "print(L, '의 각 원소를 제곱합니다')\n",
    "apply_to_each(L, lambda x: x**2)\n",
    "print('L =', L)"
   ]
  },
  {
   "cell_type": "code",
   "execution_count": null,
   "metadata": {
    "colab": {
     "base_uri": "https://localhost:8080/"
    },
    "id": "N2xs43ZuSQWL",
    "outputId": "d4e7395f-ac23-4f19-df0b-0c515ed74b03"
   },
   "outputs": [
    {
     "name": "stdout",
     "output_type": "stream",
     "text": [
      "4\n",
      "36\n",
      "16\n"
     ]
    }
   ],
   "source": [
    "for i in map(lambda x: x**2, [2, 6, 4]):\n",
    "    print(i)"
   ]
  },
  {
   "cell_type": "code",
   "execution_count": null,
   "metadata": {
    "colab": {
     "base_uri": "https://localhost:8080/"
    },
    "id": "tDJ5JB9rXNjL",
    "outputId": "2940ac4b-7100-481b-f89d-963e96df87b0"
   },
   "outputs": [
    {
     "name": "stdout",
     "output_type": "stream",
     "text": [
      "1\n",
      "28\n",
      "9\n"
     ]
    }
   ],
   "source": [
    "L1 = [1, 28, 36]\n",
    "L2 = [2, 57, 9]\n",
    "for i in map(min, L1, L2):\n",
    "    print(i)"
   ]
  },
  {
   "cell_type": "markdown",
   "metadata": {
    "id": "4R5RHl3nXYAY"
   },
   "source": [
    "**뇌풀기 문제**"
   ]
  },
  {
   "cell_type": "code",
   "execution_count": null,
   "metadata": {
    "colab": {
     "base_uri": "https://localhost:8080/"
    },
    "id": "TFV5ahInYaH6",
    "outputId": "af7c65ff-b511-4618-9a7e-7fa0d82b6309"
   },
   "outputs": [
    {
     "data": {
      "text/plain": [
       "9"
      ]
     },
     "execution_count": 37,
     "metadata": {},
     "output_type": "execute_result"
    }
   ],
   "source": [
    "def f(L1, L2):\n",
    "    \"\"\"L1, L2은 길이가 같은 리스트입니다.\n",
    "       L1의 각 원소를 같은 인덱스 위치에 있는 L2 원소만큼 제곱한 합을 반환합니다.\n",
    "       예를 들어, f([1,2], [2,3])는 9를 반환합니다\"\"\"\n",
    "    return sum(map(lambda x, y: x**y, L1, L2))\n",
    "\n",
    "f([1,2], [2,3])"
   ]
  },
  {
   "cell_type": "markdown",
   "metadata": {
    "id": "WVmNO55YnNA2"
   },
   "source": [
    "## 5.5 문자열, 튜플, 레인지, 리스트"
   ]
  },
  {
   "cell_type": "code",
   "execution_count": null,
   "metadata": {
    "id": "Lo8wquKgs8YQ"
   },
   "outputs": [],
   "source": [
    "even_elems = []\n",
    "for e in L:\n",
    "    if e%2 == 0:\n",
    "        even_elems.append(e)"
   ]
  },
  {
   "cell_type": "code",
   "execution_count": null,
   "metadata": {
    "colab": {
     "base_uri": "https://localhost:8080/"
    },
    "id": "ofhLHaV0tBA-",
    "outputId": "aa0892a5-1b98-4a82-852f-b7d21105eacd"
   },
   "outputs": [
    {
     "name": "stdout",
     "output_type": "stream",
     "text": [
      "['My', 'favorite', 'professor--John', 'G.--rocks']\n",
      "['My favorite professor', '', 'John G.', '', 'rocks']\n",
      "['My favorite professor', 'John G.', 'rocks']\n"
     ]
    }
   ],
   "source": [
    "print('My favorite professor--John G.--rocks'.split(' '))\n",
    "print('My favorite professor--John G.--rocks'.split('-'))\n",
    "print('My favorite professor--John G.--rocks'.split('--'))"
   ]
  },
  {
   "cell_type": "markdown",
   "metadata": {
    "id": "NXbfmpJa0QBP"
   },
   "source": [
    "## 5.6 집합"
   ]
  },
  {
   "cell_type": "code",
   "execution_count": null,
   "metadata": {
    "id": "UZPqk1TD6wA-"
   },
   "outputs": [],
   "source": [
    "baseball_teams = {'Dodgers', 'Giants', 'Padres', 'Rockies'}\n",
    "football_teams = {'Giants', 'Eagles', 'Cardinals', 'Cowboys'}"
   ]
  },
  {
   "cell_type": "code",
   "execution_count": null,
   "metadata": {
    "colab": {
     "base_uri": "https://localhost:8080/"
    },
    "id": "jDiz_2Qv6waS",
    "outputId": "fb56b447-80a5-45c9-bec7-0cf4e4a99933"
   },
   "outputs": [
    {
     "name": "stdout",
     "output_type": "stream",
     "text": [
      "{'Rockies', 'Yankees', 'Dodgers', 'Padres', 'Giants'}\n",
      "{'Cardinals', 'Cowboys', 'Patriots', 'Jets', 'Eagles', 'Giants'}\n"
     ]
    }
   ],
   "source": [
    "baseball_teams.add('Yankees')\n",
    "football_teams.update(['Patriots', 'Jets'])\n",
    "print(baseball_teams)\n",
    "print(football_teams)"
   ]
  },
  {
   "cell_type": "code",
   "execution_count": null,
   "metadata": {
    "colab": {
     "base_uri": "https://localhost:8080/"
    },
    "id": "l-cUMsK3HLxv",
    "outputId": "aac71f6a-e783-4b10-e385-08168f553745"
   },
   "outputs": [
    {
     "name": "stdout",
     "output_type": "stream",
     "text": [
      "{1, 'Padres', 'Rockies', 2, 'Giants', 'Yankees', 'Dodgers'}\n",
      "{'Giants'}\n",
      "{'Yankees', 'Rockies', 'Dodgers', 'Padres'}\n",
      "True\n"
     ]
    }
   ],
   "source": [
    "print(baseball_teams.union({1, 2}))\n",
    "print(baseball_teams.intersection(football_teams))\n",
    "print(baseball_teams.difference(football_teams))\n",
    "print({'Padres', 'Yankees'}.issubset(baseball_teams))"
   ]
  },
  {
   "cell_type": "markdown",
   "metadata": {
    "id": "7d8cxn5hIZLR"
   },
   "source": [
    "## 5.7 딕셔너리"
   ]
  },
  {
   "cell_type": "code",
   "execution_count": null,
   "metadata": {
    "colab": {
     "base_uri": "https://localhost:8080/"
    },
    "id": "ImVy-C-NMkk5",
    "outputId": "9134130c-bdab-490f-e752-160c52bfa3b0"
   },
   "outputs": [
    {
     "name": "stdout",
     "output_type": "stream",
     "text": [
      "{'Jan': 1, 'Feb': 2, 'Mar': 3, 'Apr': 4, 'May': 5, 1: 'Jan', 2: 'Feb', 3: 'Mar', 4: 'Apr', 5: 'May'}\n",
      "세 번째 달: Mar\n",
      "Apr과 Jan은 3 달만큼 떨어져 있습니다\n"
     ]
    }
   ],
   "source": [
    "month_numbers = {'Jan':1, 'Feb':2, 'Mar':3, 'Apr':4, 'May':5,\n",
    "                 1:'Jan', 2:'Feb', 3:'Mar', 4:'Apr', 5:'May'}\n",
    "print(month_numbers)\n",
    "print('세 번째 달: ' + month_numbers[3])\n",
    "dist = month_numbers['Apr'] - month_numbers['Jan']\n",
    "print('Apr과 Jan은', dist, '달만큼 떨어져 있습니다')"
   ]
  },
  {
   "cell_type": "markdown",
   "metadata": {
    "id": "CBe2A8hTsohy"
   },
   "source": [
    "예제 5-2 (단순하게) 텍스트 번역하기"
   ]
  },
  {
   "cell_type": "code",
   "execution_count": null,
   "metadata": {
    "colab": {
     "base_uri": "https://localhost:8080/"
    },
    "id": "upzpV_MUM2D6",
    "outputId": "f317b3e4-f1ab-45d1-d9fb-ae993be63d08"
   },
   "outputs": [
    {
     "name": "stdout",
     "output_type": "stream",
     "text": [
      "Je bois \"good\" rouge vin, et mange pain.  \n",
      "I drink of wine red.  \n"
     ]
    }
   ],
   "source": [
    "EtoF = {'bread':'pain', 'wine':'vin', 'with':'avec', 'I':'Je',\n",
    "        'eat':'mange', 'drink':'bois', 'John':'Jean',\n",
    "        'friends':'amis', 'and': 'et', 'of':'du','red':'rouge'}\n",
    "FtoE = {'pain':'bread', 'vin':'wine', 'avec':'with', 'Je':'I',\n",
    "        'mange':'eat', 'bois':'drink', 'Jean':'John',\n",
    "        'amis':'friends', 'et':'and', 'du':'of', 'rouge':'red'}\n",
    "dicts = {'English to French':EtoF, 'French to English':FtoE}\n",
    "\n",
    "def translate_word(word, dictionary):\n",
    "    if word in dictionary:\n",
    "        return dictionary[word]\n",
    "    elif word != '':\n",
    "        return '\"' + word + '\"'\n",
    "    return word\n",
    "\n",
    "def translate(phrase, dicts, direction):\n",
    "    UC_letters = 'ABCDEFGHIJKLMNOPQRSTUVWXYZ'\n",
    "    LC_letters = 'abcdefghijklmnopqrstuvwxyz'\n",
    "    punctuation = '.,;:?'\n",
    "    letters = UC_letters + LC_letters\n",
    "    dictionary = dicts[direction]\n",
    "    translation = ''\n",
    "    word = ''\n",
    "    for c in phrase:\n",
    "        if c in letters:\n",
    "            word = word + c\n",
    "        elif word != '':\n",
    "            if c in punctuation:\n",
    "                c = c +' '\n",
    "            translation = (translation +\n",
    "                           translate_word(word, dictionary) + c)\n",
    "            word = ''\n",
    "    return f'{translation} {translate_word(word, dictionary)}'\n",
    "\n",
    "print(translate('I drink good red wine, and eat bread.',\n",
    "                dicts,'English to French'))\n",
    "print(translate('Je bois du vin rouge.',\n",
    "                dicts, 'French to English'))"
   ]
  },
  {
   "cell_type": "code",
   "execution_count": null,
   "metadata": {
    "id": "TL9u-AqSWL-N"
   },
   "outputs": [],
   "source": [
    "def key_search(L, k):\n",
    "    for elem in L:\n",
    "        if elem[0] == k:\n",
    "            return elem[1]\n",
    "    return None"
   ]
  },
  {
   "cell_type": "code",
   "execution_count": null,
   "metadata": {
    "colab": {
     "base_uri": "https://localhost:8080/"
    },
    "id": "Clf-KUXVXDgd",
    "outputId": "dfd34a78-9fdc-4d47-d3f8-e348104e3b1d"
   },
   "outputs": [
    {
     "name": "stdout",
     "output_type": "stream",
     "text": [
      "France 의 도시는 Paris 입니다\n",
      "Italy 의 도시는 Rome 입니다\n",
      "Japan 의 도시는 Kyoto 입니다\n"
     ]
    }
   ],
   "source": [
    "capitals = {'France': 'Paris', 'Italy': 'Rome', 'Japan': 'Kyoto'}\n",
    "for key in capitals:\n",
    "    print(key, '의 도시는', capitals[key], '입니다')"
   ]
  },
  {
   "cell_type": "code",
   "execution_count": null,
   "metadata": {
    "colab": {
     "base_uri": "https://localhost:8080/"
    },
    "id": "d3SPEdpcZ36U",
    "outputId": "0ab8538c-8c3a-4435-baee-257dd8ec786c"
   },
   "outputs": [
    {
     "name": "stdout",
     "output_type": "stream",
     "text": [
      "['Paris', 'Rome', 'Kyoto'] 는 수도 리스트입니다\n"
     ]
    }
   ],
   "source": [
    "cities = []\n",
    "for val in capitals.values():\n",
    "    cities.append(val)\n",
    "print(cities, '는 수도 리스트입니다')"
   ]
  },
  {
   "cell_type": "code",
   "execution_count": null,
   "metadata": {
    "colab": {
     "base_uri": "https://localhost:8080/"
    },
    "id": "2LO5GX6ba4Be",
    "outputId": "dbc42d64-1bef-4625-a650-e5dcfc7704d3"
   },
   "outputs": [
    {
     "name": "stdout",
     "output_type": "stream",
     "text": [
      "dict_values(['Paris', 'Rome', 'Kyoto'])\n",
      "dict_values(['Paris', 'Rome', 'Tokyo'])\n"
     ]
    }
   ],
   "source": [
    "cap_vals = capitals.values()\n",
    "print(cap_vals)\n",
    "capitals['Japan'] = 'Tokyo'\n",
    "print(cap_vals)"
   ]
  },
  {
   "cell_type": "code",
   "execution_count": null,
   "metadata": {
    "colab": {
     "base_uri": "https://localhost:8080/"
    },
    "id": "v6CR-JBRbv7A",
    "outputId": "6e68e5f0-82c2-410b-f496-cb69fbb3fcc4"
   },
   "outputs": [
    {
     "data": {
      "text/plain": [
       "['Paris', 'Rome', 'Tokyo']"
      ]
     },
     "execution_count": 49,
     "metadata": {},
     "output_type": "execute_result"
    }
   ],
   "source": [
    "list(capitals.values())"
   ]
  },
  {
   "cell_type": "code",
   "execution_count": null,
   "metadata": {
    "colab": {
     "base_uri": "https://localhost:8080/"
    },
    "id": "m3ckxJDPcNPG",
    "outputId": "d654a53b-4437-49dc-c361-932a7ccf871d"
   },
   "outputs": [
    {
     "name": "stdout",
     "output_type": "stream",
     "text": [
      "Paris 은(는) France 의 수도입니다\n",
      "Rome 은(는) Italy 의 수도입니다\n",
      "Tokyo 은(는) Japan 의 수도입니다\n"
     ]
    }
   ],
   "source": [
    "for key, val in capitals.items():\n",
    "    print(val, '은(는)', key, '의 수도입니다')"
   ]
  },
  {
   "cell_type": "markdown",
   "metadata": {
    "id": "k9Ma_CO-cvzw"
   },
   "source": [
    "**뇌풀기 문제**"
   ]
  },
  {
   "cell_type": "code",
   "execution_count": null,
   "metadata": {
    "colab": {
     "base_uri": "https://localhost:8080/"
    },
    "id": "lXSbh5dwdtCy",
    "outputId": "b65c6552-c409-49ae-ff07-3fc505b9c67a"
   },
   "outputs": [
    {
     "data": {
      "text/plain": [
       "12"
      ]
     },
     "execution_count": 51,
     "metadata": {},
     "output_type": "execute_result"
    }
   ],
   "source": [
    "def get_min(d):\n",
    "    \"\"\"d는 문자와 정수를 매핑하는 dict입니다.\n",
    "       알파벳에 먼저 등장하는 키에 연관된 값을 반환합니다.\n",
    "       예를 들어 d = {'x': 11, 'b': 12}이면 get_min은 12를 반환합니다\"\"\"\n",
    "    min_key = None\n",
    "    min_val = None\n",
    "    for key, val in d.items():\n",
    "        if min_key == None or min_key > key:\n",
    "            min_key = key\n",
    "            min_val = val\n",
    "    return min_val\n",
    "\n",
    "get_min({'x': 11, 'b': 12})"
   ]
  },
  {
   "cell_type": "markdown",
   "metadata": {
    "id": "wYXjBnOmenZh"
   },
   "source": [
    "## 5.8 딕셔너리 내포"
   ]
  },
  {
   "cell_type": "code",
   "execution_count": null,
   "metadata": {
    "id": "tXfsxc6YjqXy"
   },
   "outputs": [],
   "source": [
    "number_to_word = {1: 'one', 2: 'two', 3: 'three', 4: 'four', 10: 'ten'}"
   ]
  },
  {
   "cell_type": "code",
   "execution_count": null,
   "metadata": {
    "id": "9ons39hkk_4P"
   },
   "outputs": [],
   "source": [
    "word_to_number = {w: d for d, w in number_to_word.items()}"
   ]
  },
  {
   "cell_type": "code",
   "execution_count": null,
   "metadata": {
    "id": "v9PVjBtTlBWI"
   },
   "outputs": [],
   "source": [
    "word_to_number = {w: d for d, w in number_to_word.items() if d < 10}"
   ]
  },
  {
   "cell_type": "code",
   "execution_count": null,
   "metadata": {
    "id": "R07R1j-5lPdb"
   },
   "outputs": [],
   "source": [
    "gen_code_keys = (lambda book, plain_text:(\n",
    "    {c: str(book.find(c)) for c in plain_text}))"
   ]
  },
  {
   "cell_type": "code",
   "execution_count": null,
   "metadata": {
    "colab": {
     "base_uri": "https://localhost:8080/"
    },
    "id": "HHyFBzQvphmJ",
    "outputId": "81c990d6-1678-4e53-e2ab-a680772cae30"
   },
   "outputs": [
    {
     "data": {
      "text/plain": [
       "{'n': '1', 'o': '7', ' ': '4', 'i': '13', 's': '26'}"
      ]
     },
     "execution_count": 56,
     "metadata": {},
     "output_type": "execute_result"
    }
   ],
   "source": [
    "book = \"Once upon a time, in a house in a land far away\"\n",
    "plain_text = \"no is no\"\n",
    "gen_code_keys(book, plain_text)"
   ]
  },
  {
   "cell_type": "code",
   "execution_count": null,
   "metadata": {
    "colab": {
     "base_uri": "https://localhost:8080/"
    },
    "id": "IwJZE6ScqLeV",
    "outputId": "6bdd33e5-3929-4d80-ba13-86e2baa658f2"
   },
   "outputs": [
    {
     "data": {
      "text/plain": [
       "{'n': '1', 'o': '13', ' ': '2', 'i': '6', 's': '57'}"
      ]
     },
     "execution_count": 57,
     "metadata": {},
     "output_type": "execute_result"
    }
   ],
   "source": [
    "book = \"In a village of La Mancha, the name of which I have no desire to call \\\n",
    "to mind, there lived not long since one of those gentlemen that keep a lance \\\n",
    "in the lance-rack, an old buckler, a lean hack, and a greyhound for coursing.\"\n",
    "gen_code_keys(book, plain_text)"
   ]
  },
  {
   "cell_type": "code",
   "execution_count": null,
   "metadata": {
    "id": "Wxaq_xGorAk0"
   },
   "outputs": [],
   "source": [
    "encoder = (lambda code_keys, plain_text:\n",
    "           ''.join(['*' + code_keys[c] for c in plain_text])[1:])"
   ]
  },
  {
   "cell_type": "code",
   "execution_count": null,
   "metadata": {
    "id": "I6Q6s8M0reIo"
   },
   "outputs": [],
   "source": [
    "encrypt = (lambda book, plain_text:\n",
    "           encoder(gen_code_keys(book, plain_text), plain_text))"
   ]
  },
  {
   "cell_type": "code",
   "execution_count": null,
   "metadata": {
    "colab": {
     "base_uri": "https://localhost:8080/",
     "height": 36
    },
    "id": "_u4dWBbYslUA",
    "outputId": "257708f1-2f8e-4db4-fefa-037be576206b"
   },
   "outputs": [
    {
     "data": {
      "application/vnd.google.colaboratory.intrinsic+json": {
       "type": "string"
      },
      "text/plain": [
       "'1*13*2*6*57*2*1*13'"
      ]
     },
     "execution_count": 60,
     "metadata": {},
     "output_type": "execute_result"
    }
   ],
   "source": [
    "Don_Quixote = book\n",
    "encrypt(Don_Quixote, 'no is no')"
   ]
  },
  {
   "cell_type": "code",
   "execution_count": null,
   "metadata": {
    "id": "lbAgrinnstJe"
   },
   "outputs": [],
   "source": [
    "gen_decode_keys = (lambda book, cipher_text:(\n",
    "    {s: book[int(s)] for s in cipher_text.split('*')}))"
   ]
  },
  {
   "cell_type": "code",
   "execution_count": null,
   "metadata": {
    "colab": {
     "base_uri": "https://localhost:8080/"
    },
    "id": "2ZS-sVSts15T",
    "outputId": "dc5ff35c-0434-4e07-d9d0-9c61029d1ef8"
   },
   "outputs": [
    {
     "data": {
      "text/plain": [
       "{'1': 'n', '13': 'o', '2': ' ', '6': 'i', '57': 's'}"
      ]
     },
     "execution_count": 62,
     "metadata": {},
     "output_type": "execute_result"
    }
   ],
   "source": [
    "gen_decode_keys(Don_Quixote, '1*13*2*6*57*2*1*13')"
   ]
  },
  {
   "cell_type": "markdown",
   "metadata": {
    "id": "tVGokHQIzHDm"
   },
   "source": [
    "**뇌풀기 문제**"
   ]
  },
  {
   "cell_type": "code",
   "execution_count": null,
   "metadata": {
    "colab": {
     "base_uri": "https://localhost:8080/"
    },
    "id": "sbHITJaK1xUM",
    "outputId": "325e6d02-de2c-41ec-eb64-c4c11ea4744c"
   },
   "outputs": [
    {
     "data": {
      "text/plain": [
       "{'-1': '?',\n",
       " '2': ' ',\n",
       " '6': 'i',\n",
       " '57': 's',\n",
       " '1': 'n',\n",
       " '13': 'o',\n",
       " '27': 't',\n",
       " '23': 'h',\n",
       " '11': 'e',\n",
       " '173': 'b',\n",
       " '134': 'k'}"
      ]
     },
     "execution_count": 63,
     "metadata": {},
     "output_type": "execute_result"
    }
   ],
   "source": [
    "code_message = encrypt(Don_Quixote, 'z is not in the book')\n",
    "# 암호화된 메시지에 ?가 포함되지 않는다고 가정합니다\n",
    "new_Don_Quixote = Don_Quixote + '?'\n",
    "gen_decode_keys(new_Don_Quixote, code_message)"
   ]
  },
  {
   "cell_type": "markdown",
   "metadata": {
    "id": "T6fWmqts1xrZ"
   },
   "source": [
    "**뇌풀기 문제**"
   ]
  },
  {
   "cell_type": "code",
   "execution_count": null,
   "metadata": {
    "colab": {
     "base_uri": "https://localhost:8080/",
     "height": 36
    },
    "id": "Fhbm8KW_1zt1",
    "outputId": "76c8da77-428a-4b78-d405-9c9c5e714bba"
   },
   "outputs": [
    {
     "data": {
      "application/vnd.google.colaboratory.intrinsic+json": {
       "type": "string"
      },
      "text/plain": [
       "'comprehension is incomprehensible'"
      ]
     },
     "execution_count": 64,
     "metadata": {},
     "output_type": "execute_result"
    }
   ],
   "source": [
    "decoder = (lambda decode_keys, encrypted_text: (\n",
    "           ''.join([decode_keys[i] for i in encrypted_text.split('*')])))\n",
    "decrypt = (lambda book, encrypted_text:\n",
    "           decoder(gen_decode_keys(book, encrypted_text), encrypted_text))\n",
    "encrypted_text = '22*13*33*137*59*11*23*11*1*57*6*13*1*2*6*57*2*6*1*22*13*33*\\\n",
    "137*59*11*23*11*1*57*6*173*7*11'\n",
    "decrypt(Don_Quixote, encrypted_text)"
   ]
  }
 ],
 "metadata": {
  "colab": {
   "provenance": []
  },
  "kernelspec": {
   "display_name": "Python 3 (ipykernel)",
   "language": "python",
   "name": "python3"
  },
  "language_info": {
   "codemirror_mode": {
    "name": "ipython",
    "version": 3
   },
   "file_extension": ".py",
   "mimetype": "text/x-python",
   "name": "python",
   "nbconvert_exporter": "python",
   "pygments_lexer": "ipython3",
   "version": "3.8.2"
  }
 },
 "nbformat": 4,
 "nbformat_minor": 1
}
