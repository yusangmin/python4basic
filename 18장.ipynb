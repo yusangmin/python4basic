{
 "cells": [
  {
   "cell_type": "markdown",
   "metadata": {
    "id": "LZ9iezv3C7zV"
   },
   "source": [
    "# 18장 몬테 카를로 시뮬레이션"
   ]
  },
  {
   "cell_type": "markdown",
   "metadata": {
    "id": "KPGY-MC0CsoF"
   },
   "source": [
    "<table align=\"left\"><tr><td>\n",
    "<a href=\"https://colab.research.google.com/github/rickiepark/python4daml/blob/main/18장.ipynb\" target=\"_parent\"><img src=\"https://colab.research.google.com/assets/colab-badge.svg\" alt=\"코랩에서 실행하기\"/></a>\n",
    "</td></tr></table>"
   ]
  },
  {
   "cell_type": "markdown",
   "metadata": {
    "id": "pmScby1UHfZZ"
   },
   "source": [
    "## 18.1 파스칼의 문제"
   ]
  },
  {
   "cell_type": "code",
   "execution_count": 1,
   "metadata": {
    "id": "rJkLQZZPbpXp"
   },
   "outputs": [],
   "source": [
    "import random \n",
    "import numpy as np "
   ]
  },
  {
   "cell_type": "markdown",
   "metadata": {},
   "source": [
    "예제 18-1 파스칼의 답 확인하기"
   ]
  },
  {
   "cell_type": "code",
   "execution_count": 2,
   "metadata": {
    "id": "VgLdm648WreF"
   },
   "outputs": [],
   "source": [
    "def roll_die(): \n",
    "    return random.choice([1,2,3,4,5,6]) \n",
    "\n",
    "def check_pascal(num_trials): \n",
    "    \"\"\"num_trials은 int > 0라고 가정합니다.\n",
    "       이길 확률을 출력합니다\"\"\" \n",
    "    num_wins = 0 \n",
    "    for i in range(num_trials): \n",
    "        for j in range(24): \n",
    "            d1 = roll_die() \n",
    "            d2 = roll_die() \n",
    "            if d1 == 6 and d2 == 6: \n",
    "                num_wins += 1 \n",
    "                break \n",
    "    print('이길 확률 =', num_wins/num_trials) "
   ]
  },
  {
   "cell_type": "code",
   "execution_count": 3,
   "metadata": {
    "colab": {
     "base_uri": "https://localhost:8080/"
    },
    "id": "TWnerjeebodu",
    "outputId": "fb0cf5ab-6800-48c6-aa5d-52832bf32d2a"
   },
   "outputs": [
    {
     "name": "stdout",
     "output_type": "stream",
     "text": [
      "이길 확률 = 0.491858\n"
     ]
    }
   ],
   "source": [
    "check_pascal(1000000)"
   ]
  },
  {
   "cell_type": "markdown",
   "metadata": {
    "id": "orqaE-UdbuGO"
   },
   "source": [
    "## 18.2 Pass 또는 Don’t pass?"
   ]
  },
  {
   "cell_type": "markdown",
   "metadata": {
    "id": "oi9PPoUnQ6SJ"
   },
   "source": [
    "예제 18-2 `Craps_game` 클래스"
   ]
  },
  {
   "cell_type": "code",
   "execution_count": 4,
   "metadata": {
    "id": "0LIM0DijQ5c5"
   },
   "outputs": [],
   "source": [
    "class Craps_game(object): \n",
    "    def __init__(self): \n",
    "        self.pass_wins, self.pass_losses = 0, 0 \n",
    "        self.dp_wins, self.dp_losses, self.dp_pushes = 0, 0, 0 \n",
    "\n",
    "    def play_hand(self): \n",
    "        throw = roll_die() + roll_die() \n",
    "        if throw == 7 or throw == 11: \n",
    "            self.pass_wins += 1 \n",
    "            self.dp_losses += 1 \n",
    "        elif throw == 2 or throw == 3 or throw == 12: \n",
    "            self.pass_losses += 1 \n",
    "            if throw == 12: \n",
    "                self.dp_pushes += 1 \n",
    "            else: \n",
    "                self.dp_wins += 1 \n",
    "        else: \n",
    "            point = throw \n",
    "            while True: \n",
    "                throw = roll_die() + roll_die() \n",
    "                if throw == point: \n",
    "                    self.pass_wins += 1 \n",
    "                    self.dp_losses += 1 \n",
    "                    break \n",
    "                elif throw == 7: \n",
    "                    self.pass_losses += 1 \n",
    "                    self.dp_wins += 1 \n",
    "                    break \n",
    "\n",
    "    def pass_results(self): \n",
    "        return (self.pass_wins, self.pass_losses) \n",
    "\n",
    "    def dp_results(self): \n",
    "        return (self.dp_wins, self.dp_losses, self.dp_pushes) "
   ]
  },
  {
   "cell_type": "markdown",
   "metadata": {
    "id": "FQIhZL-2WGB_"
   },
   "source": [
    "예제 18-3 크랩스 게임 시뮬레이션하기"
   ]
  },
  {
   "cell_type": "code",
   "execution_count": 5,
   "metadata": {
    "id": "7HVwJ3bRWGsu"
   },
   "outputs": [],
   "source": [
    "def craps_sim(hands_per_game, num_games): \n",
    "    \"\"\"hands_per_game과 num_games는 ints > 0이라고 가정합니다.\n",
    "       hands_per_game번 핸드를 반복하는 num_games번 게임을 플레이하고 결과를 출력합니다\"\"\"\n",
    "    games = [] \n",
    "\n",
    "    #num_games번 게임을 플레이합니다\n",
    "    for t in range(num_games): \n",
    "        c = Craps_game() \n",
    "        for i in range(hands_per_game): \n",
    "            c.play_hand() \n",
    "        games.append(c) \n",
    "\n",
    "    #각 게임에 대한 통계를 생성합니다\n",
    "    p_ROI_per_game, dp_ROI_per_game = [], [] \n",
    "    for g in games: \n",
    "        wins, losses = g.pass_results() \n",
    "        p_ROI_per_game.append((wins - losses)/float(hands_per_game)) \n",
    "        wins, losses, pushes = g.dp_results() \n",
    "        dp_ROI_per_game.append((wins - losses)/float(hands_per_game)) \n",
    "\n",
    "    #요약 통계를 만들어 출력합니다\n",
    "    mean_ROI = str(round((100*sum(p_ROI_per_game)/num_games), 4)) + '%' \n",
    "    sigma = str(round(100*np.std(p_ROI_per_game), 4)) + '%' \n",
    "    print('패스:', '평균 ROI =', mean_ROI, '표준 편차 =', sigma) \n",
    "    mean_ROI = str(round((100*sum(dp_ROI_per_game)/num_games), 4)) +'%' \n",
    "    sigma = str(round(100*np.std(dp_ROI_per_game), 4)) + '%' \n",
    "    print('돈 패스:','평균 ROI =', mean_ROI, '표준 편차 =', sigma) "
   ]
  },
  {
   "cell_type": "code",
   "execution_count": 6,
   "metadata": {
    "colab": {
     "base_uri": "https://localhost:8080/"
    },
    "id": "RE-paU7-XDkx",
    "outputId": "722cde5b-7978-4d77-fa58-8b86a03a42df"
   },
   "outputs": [
    {
     "name": "stdout",
     "output_type": "stream",
     "text": [
      "패스: 평균 ROI = -1.0% 표준 편차 = 18.1384%\n",
      "돈 패스: 평균 ROI = -1.5% 표준 편차 = 17.7553%\n"
     ]
    }
   ],
   "source": [
    "craps_sim(20, 10)"
   ]
  },
  {
   "cell_type": "code",
   "execution_count": 7,
   "metadata": {
    "id": "v_NGzXwWc2O0"
   },
   "outputs": [
    {
     "name": "stdout",
     "output_type": "stream",
     "text": [
      "패스: 평균 ROI = -1.3754% 표준 편차 = 0.0769%\n",
      "돈 패스: 평균 ROI = -1.3994% 표준 편차 = 0.0667%\n"
     ]
    }
   ],
   "source": [
    "craps_sim(1000000, 10)"
   ]
  },
  {
   "cell_type": "code",
   "execution_count": 8,
   "metadata": {},
   "outputs": [
    {
     "name": "stdout",
     "output_type": "stream",
     "text": [
      "패스: 평균 ROI = -1.4054% 표준 편차 = 22.3624%\n",
      "돈 패스: 평균 ROI = -1.3775% 표준 편차 = 22.0482%\n"
     ]
    }
   ],
   "source": [
    "craps_sim(20, 1000000)"
   ]
  },
  {
   "cell_type": "code",
   "execution_count": 9,
   "metadata": {},
   "outputs": [],
   "source": [
    "def roll_die(): \n",
    "    return random.choice([1,1,2,3,3,4,4,5,5,5,6,6]) "
   ]
  },
  {
   "cell_type": "code",
   "execution_count": 10,
   "metadata": {},
   "outputs": [
    {
     "name": "stdout",
     "output_type": "stream",
     "text": [
      "패스: 평균 ROI = 6.664% 표준 편차 = 0.0772%\n",
      "돈 패스: 평균 ROI = -9.4545% 표준 편차 = 0.0713%\n"
     ]
    }
   ],
   "source": [
    "craps_sim(1000000, 10)"
   ]
  },
  {
   "cell_type": "markdown",
   "metadata": {},
   "source": [
    "**뇌풀기 문제**"
   ]
  },
  {
   "cell_type": "code",
   "execution_count": 11,
   "metadata": {},
   "outputs": [
    {
     "name": "stdout",
     "output_type": "stream",
     "text": [
      "빅 6: 시간당 평균 비용 = -15.3525달러 표준 편차 = 0.0901달러\n"
     ]
    }
   ],
   "source": [
    "def roll_die(): \n",
    "    return random.choice([1,2,3,4,5,6]) \n",
    "\n",
    "class Craps_game_big6(object): \n",
    "    def __init__(self): \n",
    "        self.b6_wins, self.b6_losses = 0, 0\n",
    "\n",
    "    def play_hand(self): \n",
    "        throw = roll_die() + roll_die() \n",
    "        if throw == 6:\n",
    "            self.b6_wins += 1\n",
    "        elif throw == 7:\n",
    "            self.b6_losses += 1\n",
    "        else: \n",
    "            point = throw \n",
    "            while True: \n",
    "                throw = roll_die() + roll_die() \n",
    "                if throw == 6:\n",
    "                    self.b6_wins += 1\n",
    "                elif throw == point: \n",
    "                    break \n",
    "                elif throw == 7: \n",
    "                    self.b6_losses += 1\n",
    "                    break \n",
    "\n",
    "    def b6_results(self):\n",
    "        return (self.b6_wins, self.b6_losses)\n",
    "\n",
    "def craps_sim_b6(hands_per_game, num_games): \n",
    "    \"\"\"hands_per_game과 num_games는 ints > 0이라고 가정합니다.\n",
    "       hands_per_game번 핸드를 반복하는 num_games번 게임을 플레이하고 결과를 출력합니다\"\"\"\n",
    "    games = [] \n",
    "\n",
    "    #num_games번 게임을 플레이합니다\n",
    "    for t in range(num_games): \n",
    "        c = Craps_game_big6() \n",
    "        for i in range(hands_per_game): \n",
    "            c.play_hand() \n",
    "        games.append(c) \n",
    "\n",
    "    #각 게임에 대한 통계를 생성합니다\n",
    "    b6_cost_per_hour = [] \n",
    "    for g in games: \n",
    "        wins, losses = g.b6_results() \n",
    "        b6_cost_per_hour.append((wins - losses)*5/(float(hands_per_game)/30)) \n",
    "\n",
    "    #요약 통계를 만들어 출력합니다\n",
    "    mean_cost = str(round(sum(b6_cost_per_hour)/num_games, 4)) + '달러' \n",
    "    sigma = str(round(np.std(b6_cost_per_hour), 4)) + '달러' \n",
    "    print('빅 6:', '시간당 평균 비용 =', mean_cost, '표준 편차 =', sigma)  \n",
    "\n",
    "craps_sim_b6(1000000, 10)"
   ]
  },
  {
   "cell_type": "markdown",
   "metadata": {},
   "source": [
    "예제 18-4 테이블 룩업을 사용해 성능 향상하기"
   ]
  },
  {
   "cell_type": "code",
   "execution_count": 12,
   "metadata": {},
   "outputs": [],
   "source": [
    "def play_hand(self): \n",
    "    #빠른 버전의 play_hand 구현\n",
    "    points_dict = {4:1/3, 5:2/5, 6:5/11, 8:5/11, 9:2/5, 10:1/3} \n",
    "    throw = roll_die() + roll_die() \n",
    "    if throw == 7 or throw == 11: \n",
    "        self.pass_wins += 1 \n",
    "        self.dp_losses += 1 \n",
    "    elif throw == 2 or throw == 3 or throw == 12: \n",
    "        self.pass_losses += 1 \n",
    "        if throw == 12: \n",
    "            self.dp_pushes += 1 \n",
    "        else: \n",
    "            self.dp_wins += 1 \n",
    "    else: \n",
    "        if random.random() <= points_dict[throw]: # 7전에 포인트가 나옴\n",
    "            self.pass_wins += 1 \n",
    "            self.dp_losses += 1 \n",
    "        else: # 포인트 전에 7이 나옴\n",
    "            self.pass_losses += 1 \n",
    "            self.dp_wins += 1 "
   ]
  },
  {
   "cell_type": "markdown",
   "metadata": {},
   "source": [
    "## 18.4 𝜋 찾기"
   ]
  },
  {
   "cell_type": "markdown",
   "metadata": {},
   "source": [
    "예제 18-5 𝜋 추정하기"
   ]
  },
  {
   "cell_type": "code",
   "execution_count": 13,
   "metadata": {},
   "outputs": [],
   "source": [
    "def throw_needles(num_needles): \n",
    "    in_circle = 0 \n",
    "    for Needles in range(1, num_needles + 1): \n",
    "        x = random.random() \n",
    "        y = random.random() \n",
    "        if (x*x + y*y)**0.5 <= 1: \n",
    "            in_circle += 1 \n",
    "    #1사분면 안에 있는 바늘만 세므로 4를 곱합니다\n",
    "    return 4*(in_circle/num_needles) \n",
    "\n",
    "def get_est(num_needles, num_trials): \n",
    "    estimates = [] \n",
    "    for t in range(num_trials): \n",
    "        pi_guess = throw_needles(num_needles) \n",
    "        estimates.append(pi_guess) \n",
    "    std_dev = np.std(estimates) \n",
    "    cur_est = sum(estimates)/len(estimates) \n",
    "    print('𝜋 =', str(round(cur_est, 5)) + ',', \n",
    "          '표준 편차 =', str(round(std_dev, 5)) + ',', \n",
    "          '바늘 개수 =', num_needles) \n",
    "    return (cur_est, std_dev) \n",
    "\n",
    "def est_pi(precision, num_trials): \n",
    "    num_needles = 1000 \n",
    "    std_dev = precision \n",
    "    while std_dev > precision/1.96: \n",
    "        cur_est, std_dev = get_est(num_needles, num_trials) \n",
    "        num_needles *= 2 \n",
    "    return cur_est "
   ]
  },
  {
   "cell_type": "code",
   "execution_count": 14,
   "metadata": {},
   "outputs": [
    {
     "name": "stdout",
     "output_type": "stream",
     "text": [
      "𝜋 = 3.13596, 표준 편차 = 0.05301, 바늘 개수 = 1000\n",
      "𝜋 = 3.14062, 표준 편차 = 0.03621, 바늘 개수 = 2000\n",
      "𝜋 = 3.14338, 표준 편차 = 0.02382, 바늘 개수 = 4000\n",
      "𝜋 = 3.14186, 표준 편차 = 0.01979, 바늘 개수 = 8000\n",
      "𝜋 = 3.1404, 표준 편차 = 0.01274, 바늘 개수 = 16000\n",
      "𝜋 = 3.14246, 표준 편차 = 0.00977, 바늘 개수 = 32000\n",
      "𝜋 = 3.14203, 표준 편차 = 0.00601, 바늘 개수 = 64000\n",
      "𝜋 = 3.14213, 표준 편차 = 0.0037, 바늘 개수 = 128000\n"
     ]
    },
    {
     "data": {
      "text/plain": [
       "3.1421275000000013"
      ]
     },
     "execution_count": 14,
     "metadata": {},
     "output_type": "execute_result"
    }
   ],
   "source": [
    "est_pi(0.01, 100)"
   ]
  },
  {
   "cell_type": "code",
   "execution_count": 15,
   "metadata": {},
   "outputs": [
    {
     "name": "stdout",
     "output_type": "stream",
     "text": [
      "𝜋 = 1.57422, 표준 편차 = 0.02394, 바늘 개수 = 1000\n",
      "𝜋 = 1.56959, 표준 편차 = 0.01775, 바늘 개수 = 2000\n",
      "𝜋 = 1.57054, 표준 편차 = 0.01356, 바늘 개수 = 4000\n",
      "𝜋 = 1.57072, 표준 편차 = 0.0084, 바늘 개수 = 8000\n",
      "𝜋 = 1.57068, 표준 편차 = 0.00685, 바늘 개수 = 16000\n",
      "𝜋 = 1.57066, 표준 편차 = 0.00424, 바늘 개수 = 32000\n"
     ]
    },
    {
     "data": {
      "text/plain": [
       "1.5706568750000003"
      ]
     },
     "execution_count": 15,
     "metadata": {},
     "output_type": "execute_result"
    }
   ],
   "source": [
    "def throw_needles(num_needles): \n",
    "    in_circle = 0 \n",
    "    for Needles in range(1, num_needles + 1): \n",
    "        x = random.random() \n",
    "        y = random.random() \n",
    "        if (x*x + y*y)**0.5 <= 1: \n",
    "            in_circle += 1 \n",
    "    #1사분면 안에 있는 바늘만 세므로 4를 곱합니다\n",
    "    return 2*(in_circle/num_needles) \n",
    "\n",
    "random.seed(0)\n",
    "est_pi(0.01, 100)"
   ]
  }
 ],
 "metadata": {
  "colab": {
   "authorship_tag": "ABX9TyNWhSsZ1N10qve8sOsSoLIt",
   "provenance": []
  },
  "environment": {
   "kernel": "python3",
   "name": "common-cpu.m102",
   "type": "gcloud",
   "uri": "gcr.io/deeplearning-platform-release/base-cpu:m102"
  },
  "kernelspec": {
   "display_name": "Python 3 (ipykernel)",
   "language": "python",
   "name": "python3"
  },
  "language_info": {
   "codemirror_mode": {
    "name": "ipython",
    "version": 3
   },
   "file_extension": ".py",
   "mimetype": "text/x-python",
   "name": "python",
   "nbconvert_exporter": "python",
   "pygments_lexer": "ipython3",
   "version": "3.8.2"
  }
 },
 "nbformat": 4,
 "nbformat_minor": 4
}
