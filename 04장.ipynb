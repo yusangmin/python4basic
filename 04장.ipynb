{
 "cells": [
  {
   "cell_type": "markdown",
   "metadata": {
    "id": "USsQzQUpwch-"
   },
   "source": [
    "<table align=\"left\"><tr><td>\n",
    "<a href=\"https://colab.research.google.com/github/rickiepark/python4daml/blob/main/04장.ipynb\" target=\"_parent\"><img src=\"https://colab.research.google.com/assets/colab-badge.svg\" alt=\"코랩에서 실행하기\"/></a>\n",
    "</td></tr></table>"
   ]
  },
  {
   "cell_type": "markdown",
   "metadata": {
    "id": "RRDDAOnjwcey"
   },
   "source": [
    "# 4장 함수, 유효범위, 추상화"
   ]
  },
  {
   "cell_type": "markdown",
   "metadata": {
    "id": "Gmzr_AZfwcSV"
   },
   "source": [
    "예제 4-1 이분 검색을 사용한 x의 제곱근에 대한 근삿값 찾기"
   ]
  },
  {
   "cell_type": "code",
   "execution_count": 1,
   "metadata": {
    "colab": {
     "base_uri": "https://localhost:8080/"
    },
    "id": "lrbgtp87j_f3",
    "outputId": "c1707176-ce9b-4e82-e607-bd5cefd1f7d4"
   },
   "outputs": [
    {
     "name": "stdout",
     "output_type": "stream",
     "text": [
      "5.00030517578125 는 25 의 제곱근에 가깝습니다\n"
     ]
    }
   ],
   "source": [
    "x = 25\n",
    "epsilon = 0.01\n",
    "\n",
    "# x 제곱근의 근삿값 찾기\n",
    "if x < 0:\n",
    "    print('제곱근이 존재하지 않습니다')\n",
    "else:\n",
    "    low = 0\n",
    "    high = max(1, x)\n",
    "    ans = (high + low)/2\n",
    "    while abs(ans**2 - x) >= epsilon:\n",
    "        if ans**2 < x:\n",
    "            low = ans\n",
    "        else:\n",
    "            high = ans\n",
    "        ans = (high + low)/2\n",
    "    print(ans, '는', x, '의 제곱근에 가깝습니다')"
   ]
  },
  {
   "cell_type": "markdown",
   "metadata": {
    "id": "dWd9WEQT6vcR"
   },
   "source": [
    "예제 4-2 제곱근과 세제곱근 더하기"
   ]
  },
  {
   "cell_type": "code",
   "execution_count": 2,
   "metadata": {
    "colab": {
     "base_uri": "https://localhost:8080/"
    },
    "id": "ZljtLPXP6wKJ",
    "outputId": "6175ac7a-56af-4092-d99a-a2449307371e"
   },
   "outputs": [
    {
     "name": "stdout",
     "output_type": "stream",
     "text": [
      "25 의 제곱근과 -8 의 세제곱근의 합은 3.00030517578125 입니다\n"
     ]
    }
   ],
   "source": [
    "x1 = 25\n",
    "epsilon = 0.01\n",
    "\n",
    "# x1의 제곱근을 찾습니다\n",
    "if x1 < 0:\n",
    "    print('Does not exist')\n",
    "else:\n",
    "    low = 0\n",
    "    high = max(1, x1)\n",
    "    ans = (high + low)/2\n",
    "    while abs(ans**2 - x1) >= epsilon:\n",
    "        if ans**2 < x1:\n",
    "            low = ans\n",
    "        else:\n",
    "            high = ans\n",
    "        ans = (high + low)/2\n",
    "x1_root = ans\n",
    "x2 = -8\n",
    "# x2의 세제곱근을 찾습니다\n",
    "if x2 < 0:\n",
    "    is_pos = False\n",
    "    x2 = -x2\n",
    "else:\n",
    "    is_pos = True\n",
    "low = 0\n",
    "high = max(1, x2)\n",
    "ans = (high + low)/2\n",
    "while abs(ans**3 - x2) >= epsilon:\n",
    "    if ans**3 < x2:\n",
    "        low = ans\n",
    "    else:\n",
    "        high = ans\n",
    "    ans = (high + low)/2\n",
    "if is_pos:\n",
    "    x2_root = ans\n",
    "else:\n",
    "    x2_root = -ans\n",
    "    x2 = -x2\n",
    "print(x1, '의 제곱근과', x2, '의 세제곱근의 합은',\n",
    "      x1_root + x2_root, '입니다')"
   ]
  },
  {
   "cell_type": "markdown",
   "metadata": {
    "id": "maDoRdZ_Et5d"
   },
   "source": [
    "## 4.1 함수와 유효범위"
   ]
  },
  {
   "cell_type": "markdown",
   "metadata": {
    "id": "kt9-sNPTO-lo"
   },
   "source": [
    "### 4.1.1 함수 정의"
   ]
  },
  {
   "cell_type": "code",
   "execution_count": 3,
   "metadata": {
    "id": "X17Zu_yv7B8f"
   },
   "outputs": [],
   "source": [
    "def max_val(x, y):\n",
    "    if x > y:\n",
    "        return x\n",
    "    else:\n",
    "        return y"
   ]
  },
  {
   "cell_type": "code",
   "execution_count": 4,
   "metadata": {
    "colab": {
     "base_uri": "https://localhost:8080/"
    },
    "id": "iq-vOTLrE_cE",
    "outputId": "5d4faf39-ccf9-490a-aa3d-66e47ee014d9"
   },
   "outputs": [
    {
     "data": {
      "text/plain": [
       "4"
      ]
     },
     "execution_count": 4,
     "metadata": {},
     "output_type": "execute_result"
    }
   ],
   "source": [
    "max_val(3, 4)"
   ]
  },
  {
   "cell_type": "markdown",
   "metadata": {
    "id": "Fg2wlunkXgd2"
   },
   "source": [
    "예제 4-3 근 찾기 함수"
   ]
  },
  {
   "cell_type": "code",
   "execution_count": 5,
   "metadata": {
    "id": "10KqWPF1FCMj"
   },
   "outputs": [],
   "source": [
    "def find_root(x, power, epsilon):\n",
    "    # 답이 포함된 범위를 찾습니다\n",
    "    if x < 0 and power%2 == 0:\n",
    "        return None #음수는 짝수 제곱근이 없습니다.\n",
    "    low = min(-1, x)\n",
    "    high = max(1, x)\n",
    "    # 이분 검색을 사용합니다\n",
    "    ans = (high + low)/2\n",
    "    while abs(ans**power - x) >= epsilon:\n",
    "        if ans**power < x:\n",
    "            low = ans\n",
    "        else:\n",
    "            high = ans\n",
    "        ans = (high + low)/2\n",
    "    return ans"
   ]
  },
  {
   "cell_type": "markdown",
   "metadata": {
    "id": "IXnEIjRqXqoB"
   },
   "source": [
    "예제 4-4 `find_root` 테스트 코드"
   ]
  },
  {
   "cell_type": "code",
   "execution_count": 6,
   "metadata": {
    "colab": {
     "base_uri": "https://localhost:8080/"
    },
    "id": "OE42ktirUdkT",
    "outputId": "73a66086-e3c2-4f94-ad51-19415273a093"
   },
   "outputs": [
    {
     "name": "stdout",
     "output_type": "stream",
     "text": [
      "x = 0.25, power = 1, epsilon = 0.1: 통과\n",
      "x = 0.25, power = 1, epsilon = 0.001: 통과\n",
      "x = 0.25, power = 1, epsilon = 1: 통과\n",
      "x = 0.25, power = 2, epsilon = 0.1: 통과\n",
      "x = 0.25, power = 2, epsilon = 0.001: 통과\n",
      "x = 0.25, power = 2, epsilon = 1: 통과\n",
      "x = 0.25, power = 3, epsilon = 0.1: 통과\n",
      "x = 0.25, power = 3, epsilon = 0.001: 통과\n",
      "x = 0.25, power = 3, epsilon = 1: 통과\n",
      "x = 8, power = 1, epsilon = 0.1: 통과\n",
      "x = 8, power = 1, epsilon = 0.001: 통과\n",
      "x = 8, power = 1, epsilon = 1: 통과\n",
      "x = 8, power = 2, epsilon = 0.1: 통과\n",
      "x = 8, power = 2, epsilon = 0.001: 통과\n",
      "x = 8, power = 2, epsilon = 1: 통과\n",
      "x = 8, power = 3, epsilon = 0.1: 통과\n",
      "x = 8, power = 3, epsilon = 0.001: 통과\n",
      "x = 8, power = 3, epsilon = 1: 통과\n",
      "x = -8, power = 1, epsilon = 0.1: 통과\n",
      "x = -8, power = 1, epsilon = 0.001: 통과\n",
      "x = -8, power = 1, epsilon = 1: 통과\n",
      "x = -8, power = 2, epsilon = 0.1: 근이 존재하지 않습니다\n",
      "x = -8, power = 2, epsilon = 0.001: 근이 존재하지 않습니다\n",
      "x = -8, power = 2, epsilon = 1: 근이 존재하지 않습니다\n",
      "x = -8, power = 3, epsilon = 0.1: 통과\n",
      "x = -8, power = 3, epsilon = 0.001: 통과\n",
      "x = -8, power = 3, epsilon = 1: 통과\n"
     ]
    }
   ],
   "source": [
    "def test_find_root(x_vals, powers, epsilons):\n",
    "    for x in x_vals:\n",
    "        for p in powers:\n",
    "            for e in epsilons:\n",
    "                result = find_root(x, p, e)\n",
    "                if result == None:\n",
    "                    val = '근이 존재하지 않습니다'\n",
    "                else:\n",
    "                    val = '통과'\n",
    "                    if abs(result**p - x) > e:\n",
    "                        val = '실패'\n",
    "                print(f'x = {x}, power = {p}, epsilon = {e}: {val}')\n",
    "\n",
    "x_vals = (0.25, 8, -8)\n",
    "powers = (1, 2, 3)\n",
    "epsilons = (0.1, 0.001, 1)\n",
    "test_find_root(x_vals, powers, epsilons)"
   ]
  },
  {
   "cell_type": "markdown",
   "metadata": {
    "id": "ZurBuaVvYwiZ"
   },
   "source": [
    "**뇌풀기 문제**"
   ]
  },
  {
   "cell_type": "code",
   "execution_count": 7,
   "metadata": {
    "colab": {
     "base_uri": "https://localhost:8080/"
    },
    "id": "UfKyDTHOYydE",
    "outputId": "a4dcab8e-c64b-4c1c-cf42-ffe0af8c630a"
   },
   "outputs": [
    {
     "name": "stdout",
     "output_type": "stream",
     "text": [
      "4.999988555908203\n"
     ]
    }
   ],
   "source": [
    "sum = 0.\n",
    "epsilon = 0.001\n",
    "sum += find_root(25, 2, epsilon)\n",
    "sum += find_root(-8, 3, epsilon)\n",
    "sum += find_root(16, 4, epsilon)\n",
    "print(sum)"
   ]
  },
  {
   "cell_type": "markdown",
   "metadata": {
    "id": "AGFJzoYpIDIE"
   },
   "source": [
    "**뇌풀기 문제**"
   ]
  },
  {
   "cell_type": "code",
   "execution_count": 8,
   "metadata": {
    "colab": {
     "base_uri": "https://localhost:8080/"
    },
    "id": "AgrdWl4HIEVy",
    "outputId": "3255a17f-5a21-48a5-f9bf-9cde11dd8062"
   },
   "outputs": [
    {
     "data": {
      "text/plain": [
       "True"
      ]
     },
     "execution_count": 8,
     "metadata": {},
     "output_type": "execute_result"
    }
   ],
   "source": [
    "def is_in(s1, s2):\n",
    "    if s1 in s2 or s2 in s1:\n",
    "        return True\n",
    "    else:\n",
    "        return False\n",
    "\n",
    "is_in('abcde', 'abc')"
   ]
  },
  {
   "cell_type": "markdown",
   "metadata": {
    "id": "RciWQeB3Ilci"
   },
   "source": [
    "**뇌풀기 문제**"
   ]
  },
  {
   "cell_type": "code",
   "execution_count": 9,
   "metadata": {
    "colab": {
     "base_uri": "https://localhost:8080/"
    },
    "id": "yJwNidZIIjtW",
    "outputId": "d8e5cdd8-f69b-4230-ea6b-5778a810edb3"
   },
   "outputs": [
    {
     "name": "stdout",
     "output_type": "stream",
     "text": [
      "s1 = abcde, s2 = bcd: 통과\n",
      "s1 = abcde, s2 = bd: 통과\n",
      "s1 = python, s2 = ytho: 통과\n",
      "s1 = python, s2 = yh: 통과\n"
     ]
    }
   ],
   "source": [
    "def test_is_in(ss):\n",
    "    for s in ss:\n",
    "        s1 = s\n",
    "        s2 = s[1:len(s)-1]\n",
    "        if is_in(s1, s2) == True and is_in(s2, s1) == True:\n",
    "            val = '통과'\n",
    "        else:\n",
    "            val = '실패'\n",
    "        print(f's1 = {s1}, s2 = {s2}: {val}')\n",
    "        s2 = s[1:len(s)-1:2]\n",
    "        if is_in(s1, s2) == False and is_in(s2, s1) == False:\n",
    "            val = '통과'\n",
    "        else:\n",
    "            val = '실패'\n",
    "        print(f's1 = {s1}, s2 = {s2}: {val}')\n",
    "\n",
    "test_is_in(('abcde', 'python'))"
   ]
  },
  {
   "cell_type": "markdown",
   "metadata": {
    "id": "4zzJdj74OxPI"
   },
   "source": [
    "### 4.1.2 키워드 인수와 기본값"
   ]
  },
  {
   "cell_type": "code",
   "execution_count": 10,
   "metadata": {
    "id": "A82wdvLXYJew"
   },
   "outputs": [],
   "source": [
    "def print_name(first_name, last_name, reverse):\n",
    "    if reverse:\n",
    "        print(last_name + ', ' + first_name)\n",
    "    else:\n",
    "        print(first_name, last_name)"
   ]
  },
  {
   "cell_type": "code",
   "execution_count": 12,
   "metadata": {
    "colab": {
     "base_uri": "https://localhost:8080/"
    },
    "id": "9yQqGPfzOyj1",
    "outputId": "bb6f238d-6b83-4785-aa0c-16540bd396e7"
   },
   "outputs": [
    {
     "name": "stdout",
     "output_type": "stream",
     "text": [
      "길동 홍\n",
      "길동 홍\n",
      "길동 홍\n",
      "길동 홍\n"
     ]
    }
   ],
   "source": [
    "print_name('길동', '홍', False)\n",
    "print_name('길동', '홍', reverse = False)\n",
    "print_name('길동', last_name = '홍', reverse = False)\n",
    "print_name(last_name = '홍', first_name = '길동', reverse = False)"
   ]
  },
  {
   "cell_type": "code",
   "execution_count": 13,
   "metadata": {
    "colab": {
     "base_uri": "https://localhost:8080/",
     "height": 147
    },
    "id": "aB_saDb4Q-wv",
    "outputId": "ab0c33f5-1729-4eb0-b445-152ebd26056b"
   },
   "outputs": [
    {
     "ename": "SyntaxError",
     "evalue": "ignored",
     "output_type": "error",
     "traceback": [
      "\u001b[0;36m  File \u001b[0;32m\"<ipython-input-13-182c2813b10a>\"\u001b[0;36m, line \u001b[0;32m1\u001b[0m\n\u001b[0;31m    print_name('길동', last_name = '홍', False)\u001b[0m\n\u001b[0m                                           ^\u001b[0m\n\u001b[0;31mSyntaxError\u001b[0m\u001b[0;31m:\u001b[0m positional argument follows keyword argument\n"
     ]
    }
   ],
   "source": [
    "print_name('길동', last_name = '홍', False)"
   ]
  },
  {
   "cell_type": "code",
   "execution_count": 14,
   "metadata": {
    "id": "WFQaBC94Scqc"
   },
   "outputs": [],
   "source": [
    "def print_name(first_name, last_name, reverse = False):\n",
    "    if reverse:\n",
    "        print(last_name + ', ' + first_name)\n",
    "    else:\n",
    "        print(first_name, last_name)"
   ]
  },
  {
   "cell_type": "code",
   "execution_count": 15,
   "metadata": {
    "colab": {
     "base_uri": "https://localhost:8080/"
    },
    "id": "rtwXf_SxS1E3",
    "outputId": "d0d4c08e-988c-4f1c-c510-44a7c679f5fe"
   },
   "outputs": [
    {
     "name": "stdout",
     "output_type": "stream",
     "text": [
      "길동 홍\n",
      "홍, 길동\n",
      "홍, 길동\n"
     ]
    }
   ],
   "source": [
    "print_name('길동', '홍')\n",
    "print_name('길동', '홍', True)\n",
    "print_name('길동', '홍', reverse = True)"
   ]
  },
  {
   "cell_type": "code",
   "execution_count": 16,
   "metadata": {
    "colab": {
     "base_uri": "https://localhost:8080/"
    },
    "id": "0D4WJEVJTHXs",
    "outputId": "18fec304-357d-4ba3-eb2e-82afa6e31b19"
   },
   "outputs": [
    {
     "name": "stdout",
     "output_type": "stream",
     "text": [
      "길동 홍\n"
     ]
    }
   ],
   "source": [
    "print_name(last_name = '홍', first_name = '길동')"
   ]
  },
  {
   "cell_type": "markdown",
   "metadata": {
    "id": "mXfbQftyVHLC"
   },
   "source": [
    "**뇌풀기 문제**"
   ]
  },
  {
   "cell_type": "code",
   "execution_count": 17,
   "metadata": {
    "colab": {
     "base_uri": "https://localhost:8080/"
    },
    "id": "PaxEr1LcT7-Q",
    "outputId": "bb662d25-ca4d-4f38-825d-b47aa8158566"
   },
   "outputs": [
    {
     "name": "stdout",
     "output_type": "stream",
     "text": [
      "6\n",
      "2\n",
      "3\n"
     ]
    }
   ],
   "source": [
    "def mult(i1=None, i2=None):\n",
    "    if i1 != None and i2 != None:\n",
    "        print(i1 * i2)\n",
    "    elif i1 != None:\n",
    "        print(i1)\n",
    "    elif i2 != None:\n",
    "        print(i2)\n",
    "\n",
    "mult(2, 3)\n",
    "mult(2)\n",
    "mult(i2=3)"
   ]
  },
  {
   "cell_type": "markdown",
   "metadata": {
    "id": "_MppuwQ3VJPD"
   },
   "source": [
    "### 4.1.3 가변 길이 인수"
   ]
  },
  {
   "cell_type": "code",
   "execution_count": 18,
   "metadata": {
    "colab": {
     "base_uri": "https://localhost:8080/"
    },
    "id": "nhePJq39VR6g",
    "outputId": "592ba02e-de99-487b-ffed-020dedb0c5c8"
   },
   "outputs": [
    {
     "data": {
      "text/plain": [
       "1"
      ]
     },
     "execution_count": 18,
     "metadata": {},
     "output_type": "execute_result"
    }
   ],
   "source": [
    "min(6,4)\n",
    "min(3,4,1,6)"
   ]
  },
  {
   "cell_type": "code",
   "execution_count": 19,
   "metadata": {
    "colab": {
     "base_uri": "https://localhost:8080/"
    },
    "id": "61EL6EPUmVyy",
    "outputId": "7d58773f-a56d-4f9c-b584-8a31b892eecf"
   },
   "outputs": [
    {
     "name": "stdout",
     "output_type": "stream",
     "text": [
      "1.5\n",
      "-1.0\n"
     ]
    }
   ],
   "source": [
    "def mean(*args):\n",
    "    # 적어도 한 개의 인수가 있고 모든 인수를 숫자로 가정합니다\n",
    "    # 인수의 평균을 반환합니다\n",
    "    tot = 0\n",
    "    for a in args:\n",
    "        tot += a\n",
    "    return tot/len(args)\n",
    "\n",
    "print(mean(1, 2))\n",
    "print(mean(-4, 0, 1))"
   ]
  },
  {
   "cell_type": "markdown",
   "metadata": {
    "id": "MLvEe-jIqCIS"
   },
   "source": [
    "### 4.1.4 유효범위"
   ]
  },
  {
   "cell_type": "code",
   "execution_count": 20,
   "metadata": {
    "colab": {
     "base_uri": "https://localhost:8080/"
    },
    "id": "isqBwGvypI-C",
    "outputId": "2484d547-c428-4770-aced-da5add049771"
   },
   "outputs": [
    {
     "name": "stdout",
     "output_type": "stream",
     "text": [
      "x = 4\n",
      "z = 4\n",
      "x = 3\n",
      "y = 2\n"
     ]
    }
   ],
   "source": [
    "def f(x): #이름 x를 형식 매개변수로 사용합니다\n",
    "    y = 1\n",
    "    x = x + y\n",
    "    print('x =', x)\n",
    "    return x\n",
    "\n",
    "x = 3\n",
    "y = 2\n",
    "z = f(x) #x의 값을 실 매개변수로 사용합니다\n",
    "print('z =', z)\n",
    "print('x =', x)\n",
    "print('y =', y)"
   ]
  },
  {
   "cell_type": "markdown",
   "metadata": {
    "id": "YX_vzeoNVqrQ"
   },
   "source": [
    "예제 4-5 중첩된 유효범위"
   ]
  },
  {
   "cell_type": "code",
   "execution_count": 21,
   "metadata": {
    "colab": {
     "base_uri": "https://localhost:8080/"
    },
    "id": "4XZq_Jf4qdgq",
    "outputId": "9bf4890e-e032-4055-f905-613064372784"
   },
   "outputs": [
    {
     "name": "stdout",
     "output_type": "stream",
     "text": [
      "x = 4\n",
      "z = 4\n",
      "x = abc\n",
      "x = 4\n",
      "x = 3\n",
      "z = <function f.<locals>.g at 0x7e9df90dd2d0>\n",
      "x = abc\n"
     ]
    }
   ],
   "source": [
    "def f(x):\n",
    "    def g():\n",
    "        x = 'abc'\n",
    "        print('x =', x)\n",
    "    def h():\n",
    "        z = x\n",
    "        print('z =', z)\n",
    "    x = x + 1\n",
    "    print('x =', x)\n",
    "    h()\n",
    "    g()\n",
    "    print('x =', x)\n",
    "    return g\n",
    "\n",
    "x = 3\n",
    "z = f(x)\n",
    "print('x =', x)\n",
    "print('z =', z)\n",
    "z()"
   ]
  },
  {
   "cell_type": "code",
   "execution_count": 22,
   "metadata": {
    "colab": {
     "base_uri": "https://localhost:8080/",
     "height": 361
    },
    "id": "oWP5-ncRtLvn",
    "outputId": "4f059c50-54e3-4edc-ddc0-4180f0f4f822"
   },
   "outputs": [
    {
     "name": "stdout",
     "output_type": "stream",
     "text": [
      "3\n"
     ]
    },
    {
     "ename": "UnboundLocalError",
     "evalue": "ignored",
     "output_type": "error",
     "traceback": [
      "\u001b[0;31m---------------------------------------------------------------------------\u001b[0m",
      "\u001b[0;31mUnboundLocalError\u001b[0m                         Traceback (most recent call last)",
      "\u001b[0;32m<ipython-input-22-06934e6b9d6e>\u001b[0m in \u001b[0;36m<cell line: 11>\u001b[0;34m()\u001b[0m\n\u001b[1;32m      9\u001b[0m \u001b[0mf\u001b[0m\u001b[0;34m(\u001b[0m\u001b[0;34m)\u001b[0m\u001b[0;34m\u001b[0m\u001b[0;34m\u001b[0m\u001b[0m\n\u001b[1;32m     10\u001b[0m \u001b[0mx\u001b[0m \u001b[0;34m=\u001b[0m \u001b[0;36m3\u001b[0m\u001b[0;34m\u001b[0m\u001b[0;34m\u001b[0m\u001b[0m\n\u001b[0;32m---> 11\u001b[0;31m \u001b[0mg\u001b[0m\u001b[0;34m(\u001b[0m\u001b[0;34m)\u001b[0m\u001b[0;34m\u001b[0m\u001b[0;34m\u001b[0m\u001b[0m\n\u001b[0m",
      "\u001b[0;32m<ipython-input-22-06934e6b9d6e>\u001b[0m in \u001b[0;36mg\u001b[0;34m()\u001b[0m\n\u001b[1;32m      3\u001b[0m \u001b[0;34m\u001b[0m\u001b[0m\n\u001b[1;32m      4\u001b[0m \u001b[0;32mdef\u001b[0m \u001b[0mg\u001b[0m\u001b[0;34m(\u001b[0m\u001b[0;34m)\u001b[0m\u001b[0;34m:\u001b[0m\u001b[0;34m\u001b[0m\u001b[0;34m\u001b[0m\u001b[0m\n\u001b[0;32m----> 5\u001b[0;31m     \u001b[0mprint\u001b[0m\u001b[0;34m(\u001b[0m\u001b[0mx\u001b[0m\u001b[0;34m)\u001b[0m\u001b[0;34m\u001b[0m\u001b[0;34m\u001b[0m\u001b[0m\n\u001b[0m\u001b[1;32m      6\u001b[0m     \u001b[0mx\u001b[0m \u001b[0;34m=\u001b[0m \u001b[0;36m1\u001b[0m\u001b[0;34m\u001b[0m\u001b[0;34m\u001b[0m\u001b[0m\n\u001b[1;32m      7\u001b[0m \u001b[0;34m\u001b[0m\u001b[0m\n",
      "\u001b[0;31mUnboundLocalError\u001b[0m: local variable 'x' referenced before assignment"
     ]
    }
   ],
   "source": [
    "def f():\n",
    "    print(x)\n",
    "\n",
    "def g():\n",
    "    print(x)\n",
    "    x = 1\n",
    "\n",
    "x = 3\n",
    "f()\n",
    "x = 3\n",
    "g()"
   ]
  },
  {
   "cell_type": "markdown",
   "metadata": {
    "id": "HhjkSxyKvq5B"
   },
   "source": [
    "## 4.2 사양"
   ]
  },
  {
   "cell_type": "markdown",
   "metadata": {
    "id": "g9S6EKLXbidr"
   },
   "source": [
    "예제 4-6 사양을 포함한 함수 정의"
   ]
  },
  {
   "cell_type": "code",
   "execution_count": 23,
   "metadata": {
    "id": "I-FOTEDOr3qS"
   },
   "outputs": [],
   "source": [
    "def find_root(x, power, epsilon):\n",
    "    \"\"\"x와 epsilon은 int 또는 float이고, power는 정수이며,\n",
    "           epsilon > 0 & power >= 1 라고 가정합니다\n",
    "       x에서 epsilon 이내에 y**power가 있다면 y를 반환합니다.\n",
    "           이런 float가 없다면 None을 반환합니다\"\"\"\n",
    "    # 답이 포함된 범위를 찾습니다\n",
    "    if x < 0 and power%2 == 0:\n",
    "        return None\n",
    "    low = min(-1, x)\n",
    "    high = max(1, x)\n",
    "    # 이분 검색을 사용합니다\n",
    "    ans = (high + low)/2\n",
    "    while abs(ans**power - x) >= epsilon:\n",
    "        if ans**power < x:\n",
    "            low = ans\n",
    "        else:\n",
    "            high = ans\n",
    "        ans = (high + low)/2\n",
    "    return ans"
   ]
  },
  {
   "cell_type": "code",
   "execution_count": 24,
   "metadata": {
    "colab": {
     "base_uri": "https://localhost:8080/"
    },
    "id": "gPYbD_E2CmEz",
    "outputId": "3db98088-984a-4db6-8ec6-6fa6c300ebc4"
   },
   "outputs": [
    {
     "name": "stdout",
     "output_type": "stream",
     "text": [
      "Help on built-in function abs in module builtins:\n",
      "\n",
      "abs(x, /)\n",
      "    Return the absolute value of the argument.\n",
      "\n"
     ]
    }
   ],
   "source": [
    "help(abs)"
   ]
  },
  {
   "cell_type": "code",
   "execution_count": 34,
   "metadata": {
    "colab": {
     "base_uri": "https://localhost:8080/"
    },
    "id": "GquRS88WCnQD",
    "outputId": "0eb253b6-6270-40ce-b151-b730a5644e4b"
   },
   "outputs": [
    {
     "name": "stdout",
     "output_type": "stream",
     "text": [
      "\n",
      "Welcome to Python 3.10's help utility!\n",
      "\n",
      "If this is your first time using Python, you should definitely check out\n",
      "the tutorial on the internet at https://docs.python.org/3.10/tutorial/.\n",
      "\n",
      "Enter the name of any module, keyword, or topic to get help on writing\n",
      "Python programs and using Python modules.  To quit this help utility and\n",
      "return to the interpreter, just type \"quit\".\n",
      "\n",
      "To get a list of available modules, keywords, symbols, or topics, type\n",
      "\"modules\", \"keywords\", \"symbols\", or \"topics\".  Each module also comes\n",
      "with a one-line summary of what it does; to list the modules whose name\n",
      "or summary contain a given string such as \"spam\", type \"modules spam\".\n",
      "\n",
      "help> quit\n",
      "\n",
      "You are now leaving help and returning to the Python interpreter.\n",
      "If you want to ask for help on a particular object directly from the\n",
      "interpreter, you can type \"help(object)\".  Executing \"help('string')\"\n",
      "has the same effect as typing a particular string at the help> prompt.\n"
     ]
    }
   ],
   "source": [
    "help()"
   ]
  },
  {
   "cell_type": "code",
   "execution_count": 35,
   "metadata": {
    "colab": {
     "base_uri": "https://localhost:8080/"
    },
    "id": "BniDjKwxCzGD",
    "outputId": "9c6831ee-4a48-4769-a1b6-50f25a9ca290"
   },
   "outputs": [
    {
     "name": "stdout",
     "output_type": "stream",
     "text": [
      "Help on function find_root in module __main__:\n",
      "\n",
      "find_root(x, power, epsilon)\n",
      "    x와 epsilon은 int 또는 float, power는 int, \n",
      "        epsilon > 0 & power >= 1라고 가정합니다.\n",
      "    x에서 epsilon 이내에 y**power가 있다면 y를 반환합니다.\n",
      "        이런 float 값이 존재하지 않으면 None을 반환합니다\n",
      "\n"
     ]
    }
   ],
   "source": [
    "help(find_root)"
   ]
  },
  {
   "cell_type": "markdown",
   "metadata": {
    "id": "c6niUT3yN10Q"
   },
   "source": [
    "**뇌풀기 문제**"
   ]
  },
  {
   "cell_type": "code",
   "execution_count": 36,
   "metadata": {
    "colab": {
     "base_uri": "https://localhost:8080/"
    },
    "id": "ZK1AX8RaDJ7S",
    "outputId": "f213648a-c994-43b1-ede9-3e9ea3dbbb34"
   },
   "outputs": [
    {
     "data": {
      "text/plain": [
       "3.0"
      ]
     },
     "execution_count": 36,
     "metadata": {},
     "output_type": "execute_result"
    }
   ],
   "source": [
    "def log(x, base, epsilon):\n",
    "    \"\"\"x와 epsilon은 int 또는 float, base는 int,\n",
    "           x > 1, epsilon > 0 & power >= 1라고 가정합니다.\n",
    "       x에서 epsilon 이내에 base**y를 만족시키는 y를 반환합니다.\"\"\"\n",
    "    # y의 하한값을 찾습니다\n",
    "    lower_bound = 0\n",
    "    while base**lower_bound < x:\n",
    "        lower_bound += 1\n",
    "    low = lower_bound -1\n",
    "    high = lower_bound + 1\n",
    "    # 이분 검색을 수행합니다\n",
    "    y = (high + low)/2\n",
    "    while abs(base**y -x) >= epsilon:\n",
    "        if base**y < x:\n",
    "            low = ans\n",
    "        else:\n",
    "            high = ans\n",
    "        y = (high + low)/2\n",
    "    return y\n",
    "\n",
    "log(8, 2, 0.01)"
   ]
  },
  {
   "cell_type": "markdown",
   "metadata": {
    "id": "IHgDO3ITPXby"
   },
   "source": [
    "## 4.3 함수를 사용해 코드를 모듈화하기"
   ]
  },
  {
   "cell_type": "markdown",
   "metadata": {
    "id": "axwU5t67dDIK"
   },
   "source": [
    "예제 4-7 `find_root`를 여러 개의 함수로 분할하기"
   ]
  },
  {
   "cell_type": "code",
   "execution_count": 37,
   "metadata": {
    "id": "E_qBabyOOcVI"
   },
   "outputs": [],
   "source": [
    "def find_root_bounds(x, power):\n",
    "    \"\"\"x는 float, power는 양의 정수입니다.\n",
    "       low**power <=x 이고 high**power >= x인 low, high를 반환합니다.\n",
    "    \"\"\"\n",
    "    low = min(-1, x)\n",
    "    high = max(1, x)\n",
    "    return low, high\n",
    "\n",
    "def bisection_solve(x, power, epsilon, low, high):\n",
    "    \"\"\"x, epsilon, low, high는 float, epsilon > 0, low <= high이고\n",
    "           x에서 epsilon 이내에 ans**power를 만족시키는\n",
    "           low와 high 사이의 값 ans가 있습니다.\n",
    "       x에서 epsilon 이내에 ans**power를 만족시키는 ans를 반환합니다\"\"\"\n",
    "    ans = (high + low)/2\n",
    "    while abs(ans**power - x) >= epsilon:\n",
    "        if ans**power < x:\n",
    "            low = ans\n",
    "        else:\n",
    "            high = ans\n",
    "        ans = (high + low)/2\n",
    "    return ans\n",
    "\n",
    "def find_root(x, power, epsilon):\n",
    "    \"\"\"x와 epsilon은 int 또는 float, power는 int,\n",
    "           epsilon > 0 & power >= 1라고 가정합니다.\n",
    "       x에서 epsilon 이내에 y**power가 있다면 y를 반환합니다.\n",
    "           이런 float 값이 존재하지 않으면 None을 반환합니다\"\"\"\n",
    "    if x < 0 and power%2 == 0:\n",
    "        return None #음수는 짝수 제곱근이 없습니다.\n",
    "    low, high = find_root_bounds(x, power)\n",
    "    return bisection_solve(x, power, epsilon, low, high)"
   ]
  },
  {
   "cell_type": "markdown",
   "metadata": {
    "id": "unkWKcT9dGCe"
   },
   "source": [
    "## 4.4 객체로서의 함수"
   ]
  },
  {
   "cell_type": "markdown",
   "metadata": {
    "id": "GIvlouCQfy2-"
   },
   "source": [
    "예제 4-8 `bisection_solve` 일반화하기"
   ]
  },
  {
   "cell_type": "code",
   "execution_count": 38,
   "metadata": {
    "id": "1_16xw61hN99"
   },
   "outputs": [],
   "source": [
    "def bisection_solve(x, eval_ans, epsilon, low, high):\n",
    "    \"\"\"x, epsilon, low, high는 float, epsilon > 0,\n",
    "       eval_ans는 float를 float로 매핑하는 함수, low <= high이고,\n",
    "       x에서 epsilon 이내에 eval(ans)를 만족시키는\n",
    "           low와 high 사이의 값 ans가 있습니다.\n",
    "       x에서 epsilon 이내에 eval(ans)를 만족시키는 ans를 반환합니다\"\"\"\n",
    "    ans = (high + low)/2\n",
    "    while abs(eval_ans(ans) - x) >= epsilon:\n",
    "        if eval_ans(ans) < x:\n",
    "            low = ans\n",
    "        else:\n",
    "            high = ans\n",
    "        ans = (high + low)/2\n",
    "    return ans"
   ]
  },
  {
   "cell_type": "code",
   "execution_count": 39,
   "metadata": {
    "colab": {
     "base_uri": "https://localhost:8080/"
    },
    "id": "k40bDCyChOcN",
    "outputId": "db34067b-a292-416f-c1a2-0e84e35f7715"
   },
   "outputs": [
    {
     "name": "stdout",
     "output_type": "stream",
     "text": [
      "9.94970703125\n"
     ]
    }
   ],
   "source": [
    "def square(ans):\n",
    "    return ans**2\n",
    "\n",
    "low, high = find_root_bounds(99, 2)\n",
    "print(bisection_solve(99, square, 0.01, low, high))"
   ]
  },
  {
   "cell_type": "markdown",
   "metadata": {
    "id": "j7gdc3knrVUT"
   },
   "source": [
    "**뇌풀기 문제**"
   ]
  },
  {
   "cell_type": "code",
   "execution_count": 40,
   "metadata": {
    "colab": {
     "base_uri": "https://localhost:8080/"
    },
    "id": "TKEdvo03mQsw",
    "outputId": "6ab8fdc1-df35-4abc-de2f-94bded4abefe"
   },
   "outputs": [
    {
     "data": {
      "text/plain": [
       "(None, 2.0)"
      ]
     },
     "execution_count": 40,
     "metadata": {},
     "output_type": "execute_result"
    }
   ],
   "source": [
    "f = lambda i, j: None if j == 0 else i/j\n",
    "\n",
    "f(4, 0), f(4, 2)"
   ]
  },
  {
   "cell_type": "code",
   "execution_count": 41,
   "metadata": {
    "id": "09OSxAgMrmDr"
   },
   "outputs": [],
   "source": [
    "def create_eval_ans():\n",
    "    power = input('양의 정수를 입력하세요: ')\n",
    "    return lambda ans: ans**int(power)"
   ]
  },
  {
   "cell_type": "code",
   "execution_count": 42,
   "metadata": {
    "colab": {
     "base_uri": "https://localhost:8080/"
    },
    "id": "UaczoX3hsNdv",
    "outputId": "6f847c38-437a-4966-f7d8-a05882b225fb"
   },
   "outputs": [
    {
     "name": "stdout",
     "output_type": "stream",
     "text": [
      "양의 정수를 입력하세요: 2\n",
      "9.94970703125\n"
     ]
    }
   ],
   "source": [
    "eval_ans = create_eval_ans()\n",
    "print(bisection_solve(99, eval_ans, 0.01, low, high))"
   ]
  },
  {
   "cell_type": "markdown",
   "metadata": {
    "id": "YFkBTFeptgXP"
   },
   "source": [
    "예제 4-9 `bisection_solve`를 사용하여 로그의 근삿값 구하기"
   ]
  },
  {
   "cell_type": "code",
   "execution_count": 43,
   "metadata": {
    "id": "deOLaadJsSkI"
   },
   "outputs": [],
   "source": [
    "def log(x, base, epsilon):\n",
    "    \"\"\"x와 epsilon은 int 또는 float, base는 int,\n",
    "           x > 1, epsilon > 0 & power >= 1이라 가정합니다.\n",
    "       x에서 epsilon 이내에 base**y를 만족시키는 float y를 반환합니다.\"\"\"\n",
    "    def find_log_bounds(x, base):\n",
    "        upper_bound = 0\n",
    "        while base**upper_bound < x:\n",
    "            upper_bound += 1\n",
    "        return upper_bound -1, upper_bound\n",
    "    low, high = find_log_bounds(x, base)\n",
    "    return bisection_solve(x, lambda ans: base**ans, epsilon, low, high)"
   ]
  },
  {
   "cell_type": "markdown",
   "metadata": {
    "id": "WGBvd74rvk-u"
   },
   "source": [
    "## 4.5 메서드"
   ]
  },
  {
   "cell_type": "code",
   "execution_count": 44,
   "metadata": {
    "colab": {
     "base_uri": "https://localhost:8080/"
    },
    "id": "jPZRaYixtX0r",
    "outputId": "3b90181b-d126-4241-c01a-15a61e266816"
   },
   "outputs": [
    {
     "data": {
      "text/plain": [
       "1"
      ]
     },
     "execution_count": 44,
     "metadata": {},
     "output_type": "execute_result"
    }
   ],
   "source": [
    "s = 'abcbc'\n",
    "s.find('bc')"
   ]
  },
  {
   "cell_type": "code",
   "execution_count": 45,
   "metadata": {
    "colab": {
     "base_uri": "https://localhost:8080/",
     "height": 183
    },
    "id": "tigy0joH1rw9",
    "outputId": "b59e1a19-a777-46ff-8f8f-2b57618d5cc2"
   },
   "outputs": [
    {
     "ename": "NameError",
     "evalue": "ignored",
     "output_type": "error",
     "traceback": [
      "\u001b[0;31m---------------------------------------------------------------------------\u001b[0m",
      "\u001b[0;31mNameError\u001b[0m                                 Traceback (most recent call last)",
      "\u001b[0;32m<ipython-input-45-3a91127c88ff>\u001b[0m in \u001b[0;36m<cell line: 1>\u001b[0;34m()\u001b[0m\n\u001b[0;32m----> 1\u001b[0;31m \u001b[0mfind\u001b[0m\u001b[0;34m(\u001b[0m\u001b[0ms\u001b[0m\u001b[0;34m,\u001b[0m \u001b[0;34m'bc'\u001b[0m\u001b[0;34m)\u001b[0m\u001b[0;34m\u001b[0m\u001b[0;34m\u001b[0m\u001b[0m\n\u001b[0m",
      "\u001b[0;31mNameError\u001b[0m: name 'find' is not defined"
     ]
    }
   ],
   "source": [
    "find(s, 'bc')"
   ]
  },
  {
   "cell_type": "markdown",
   "metadata": {
    "id": "7Z6ggwz41sw8"
   },
   "source": [
    "**뇌풀기 문제**"
   ]
  },
  {
   "cell_type": "code",
   "execution_count": 46,
   "metadata": {
    "colab": {
     "base_uri": "https://localhost:8080/"
    },
    "id": "-WHBZe541x6i",
    "outputId": "054e8f84-3beb-4750-b9de-ab914f16d157"
   },
   "outputs": [
    {
     "data": {
      "text/plain": [
       "-1"
      ]
     },
     "execution_count": 46,
     "metadata": {},
     "output_type": "execute_result"
    }
   ],
   "source": [
    "s.find('cd')"
   ]
  },
  {
   "cell_type": "markdown",
   "metadata": {
    "id": "jFnDg7pW2DIJ"
   },
   "source": [
    "**뇌풀기 문제**"
   ]
  },
  {
   "cell_type": "code",
   "execution_count": 47,
   "metadata": {
    "colab": {
     "base_uri": "https://localhost:8080/"
    },
    "id": "IS8DJe3u2caP",
    "outputId": "585279c8-200c-4702-df67-61b68d9e188d"
   },
   "outputs": [
    {
     "data": {
      "text/plain": [
       "3"
      ]
     },
     "execution_count": 47,
     "metadata": {},
     "output_type": "execute_result"
    }
   ],
   "source": [
    "def find_last(s, sub):\n",
    "    \"\"\"s와 sub는 빈 문자열이 아닙니다.\n",
    "       s에서 sub이 마지막으로 등장하는 인덱스를 반환하세요.\n",
    "       s에 sub이 등장하지 않으면 None을 반환합니다\"\"\"\n",
    "    if s.find(sub) < 0:\n",
    "        return None\n",
    "    return len(s) - (s[::-1].find(sub[::-1]) + len(sub))\n",
    "\n",
    "find_last('abcbc', 'bc')"
   ]
  }
 ],
 "metadata": {
  "colab": {
   "provenance": []
  },
  "kernelspec": {
   "display_name": "Python 3 (ipykernel)",
   "language": "python",
   "name": "python3"
  },
  "language_info": {
   "codemirror_mode": {
    "name": "ipython",
    "version": 3
   },
   "file_extension": ".py",
   "mimetype": "text/x-python",
   "name": "python",
   "nbconvert_exporter": "python",
   "pygments_lexer": "ipython3",
   "version": "3.8.2"
  }
 },
 "nbformat": 4,
 "nbformat_minor": 1
}
